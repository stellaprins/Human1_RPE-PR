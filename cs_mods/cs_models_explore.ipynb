{
 "cells": [
  {
   "cell_type": "code",
   "execution_count": null,
   "id": "8871b969-413b-49c3-8dfa-4b2b0d6e6b6e",
   "metadata": {},
   "outputs": [],
   "source": [
    "from cobra.io import read_sbml_model\n",
    "mod = read_sbml_model('C:/Users/prins/git/Human-GEM/model/Human-GEM.xml') \n",
    "import os\n",
    "folder = \"C:/Users/prins/git/Human1_RPE-PR/cs_mods\"\n",
    "files = [f for f in os.listdir(folder) if '.xml'in f if os.path.isfile(os.path.join(folder, f))]\n",
    "models = {f:read_sbml_model(folder + '/' + f ) for f in files}\n",
    "model_n = [f.split('_')[0] + f.split('_')[1] for f in files] "
   ]
  },
  {
   "cell_type": "code",
   "execution_count": null,
   "id": "0a55b502-a86b-4a49-86e9-4eb3602132c7",
   "metadata": {},
   "outputs": [],
   "source": [
    "model_n2 = ['Schwan (1)', 'Schwan (2)', 'Melanocytes', 'Endothelial','Muscle','Fibroblasts','RPE','B cells','T + NK cells',\\\n",
    "            'Monocytes + Macrophages','Mast','Retina','RPE + Choroid','PR rod','Amacrine','Bipolar',\\\n",
    "           'PR cone', 'Horizontal', 'Müller','Ganglion']\n",
    "model_n2\n",
    "model_n3 = list(range(1,21))"
   ]
  },
  {
   "cell_type": "code",
   "execution_count": null,
   "id": "63348458-76f5-4ba3-9bf5-e0b65a2ca22d",
   "metadata": {},
   "outputs": [],
   "source": [
    "mod = read_sbml_model('C:/Users/prins/git/Human-GEM/model/Human-GEM.xml') \n",
    "mod"
   ]
  },
  {
   "cell_type": "code",
   "execution_count": null,
   "id": "47796962-5604-42ad-8986-28e647c44a26",
   "metadata": {},
   "outputs": [],
   "source": [
    "mod_RPE = models['model_06_MeanExpression_RPE__VoigtEtAl2019_.xml'].copy()\n",
    "mod_PR = models['model_13_MeanExpression_RodPhotoreceptors__LiangEtAl_2019_.xml'].copy()"
   ]
  },
  {
   "cell_type": "code",
   "execution_count": null,
   "id": "add58e99-ac89-406c-8be3-293daf90bf9d",
   "metadata": {},
   "outputs": [],
   "source": [
    "def remove_compartment(model, compartment):\n",
    "# remove compartment from model\n",
    "    rxns_n = [r.id for r in model.reactions if compartment in r.compartments]\n",
    "    mets_n = [m for m in model.metabolites if compartment in m.compartment]\n",
    "    model.remove_reactions(rxns_n)\n",
    "    model.remove_metabolites(mets_n)\n",
    "    return model\n",
    "\n",
    "# remove nucleus from PR model\n",
    "mod_PR = remove_compartment(mod_PR, 'n')"
   ]
  },
  {
   "cell_type": "code",
   "execution_count": null,
   "id": "dd0c6c00-9484-4c3d-b07f-51be7e5b770c",
   "metadata": {},
   "outputs": [],
   "source": [
    "def add_id_suffix(model, suffix):\n",
    "    for r in model.reactions:\n",
    "        r.id = r.id + suffix\n",
    "    for m in model.metabolites:\n",
    "        m.id = m.id + suffix\n",
    "        m.compartment = m.compartment + suffix\n",
    "    return model\n",
    "\n",
    "# add '_PR' to PR model IDs and '_RPE' to RPE model IDs\n",
    "mod_PR = add_id_suffix(mod_PR, '_PR')\n",
    "mod_RPE = add_id_suffix(mod_RPE, '_RPE')"
   ]
  },
  {
   "cell_type": "code",
   "execution_count": null,
   "id": "39a4fb7c-b293-498a-ab24-979952df070c",
   "metadata": {},
   "outputs": [],
   "source": [
    "# add RPE-PR interface reactions (rxn_RPE-PR = RPE <--> RPE-PR interface)\n",
    "for rxns in  [r for r in mod_RPE.reactions if 'e_RPE' in r.reaction]:     \n",
    "    rxn = rxns.copy()\n",
    "    rxn.id = rxn.id.replace('_RPE','_RPE-PR')\n",
    "    for p in rxn.products:\n",
    "        if 'e_RPE' in p.id:\n",
    "            p.id = p.id.replace('e_RPE','e_RPE-PR')\n",
    "    for r in rxn.reactants:\n",
    "        if 'e_RPE' in r.id:\n",
    "            r.id = r.id.replace('e_RPE','e_RPE-PR')\n",
    "    mod_RPE.add_reactions([rxn])\n",
    "    \n",
    "# add RPE-PR interface reactions (rxn_PR-RPE = PR <--> RPE-PR interface)\n",
    "for rxns in  [r for r in mod_PR.reactions if 'e_PR' in r.reaction]:     \n",
    "    rxn.id = rxn.id.replace('_PR','_PR-RPE')\n",
    "    for p in rxn.products:\n",
    "        if 'e_PR' in p.id:\n",
    "            p.id = p.id.replace('e_PR','e_RPE-PR')\n",
    "    for r in rxn.reactants:\n",
    "        if 'e_PR' in r.id:\n",
    "            r.id = r.id.replace('e_PR','e_RPE-PR')\n",
    "    mod_PR.add_reactions([rxn])"
   ]
  },
  {
   "cell_type": "code",
   "execution_count": null,
   "id": "30fb7c0c-3a5b-44f8-9339-25234fd017f7",
   "metadata": {},
   "outputs": [],
   "source": [
    " [r.build_reaction_string(use_metabolite_names = False) for r in mod_RPE.reactions if '_RPE-PR' in r.reaction]"
   ]
  },
  {
   "cell_type": "code",
   "execution_count": null,
   "id": "faf2e4aa-1032-4930-8f90-daf9a02dab1d",
   "metadata": {},
   "outputs": [],
   "source": [
    "\n",
    "for m in [m for m in mod_PR.metabolites if m.compartment=='e_PR']:\n",
    "    m.compartment = 'e_RPE-PR'"
   ]
  },
  {
   "cell_type": "code",
   "execution_count": null,
   "id": "46a687de-909d-430e-94b3-775195f81b93",
   "metadata": {},
   "outputs": [],
   "source": [
    "# make RPE-PR interface\n",
    "for m in [m for m in mod_PR.metabolites if m.compartment=='e_PR']:\n",
    "    m.compartment = 'e_RPE-PR'\n",
    "    \n",
    "# for r in [r for r in mod_RPE.reactions if 'e_RPE' in r.reaction]:\n",
    "#    r_RPE_PE = r.copy()\n",
    "#    for p in r.products:\n",
    "#        p.id = p.id + '-PR'\n",
    "#    for p in r.reactants:\n",
    "#        p.id = p.id + '-PR'"
   ]
  },
  {
   "cell_type": "code",
   "execution_count": null,
   "id": "348f9346-b190-4b80-80b7-d4a21034074c",
   "metadata": {},
   "outputs": [],
   "source": [
    "r = [r for r in mod_RPE.reactions if 'e_RPE' in r.reaction][0].copy()\n",
    "for p in r.products:\n",
    "    p.id = p.id + '-PR'\n",
    "    print(p.id)"
   ]
  },
  {
   "cell_type": "code",
   "execution_count": null,
   "id": "e5844817-4ab6-4bf8-8eb9-48969945149c",
   "metadata": {},
   "outputs": [],
   "source": [
    "mod.reactions.get_by_id('MAR01862')"
   ]
  },
  {
   "cell_type": "code",
   "execution_count": null,
   "id": "be93587c-2692-4442-ae36-4f4576b1863f",
   "metadata": {},
   "outputs": [],
   "source": [
    "if 'vmhreaction' in mod.reactions[0].annotation.keys(): \n",
    "    print(mod.reactions[0].annotation['vmhreaction'])"
   ]
  },
  {
   "cell_type": "code",
   "execution_count": null,
   "id": "57117425-75ac-49df-aa49-82fcbe3cb4f4",
   "metadata": {},
   "outputs": [],
   "source": [
    "len(([m for m in mod.metabolites]))"
   ]
  },
  {
   "cell_type": "code",
   "execution_count": null,
   "id": "f44b782c-d18f-4657-93e3-39a23f7b848c",
   "metadata": {},
   "outputs": [],
   "source": [
    "vmh_met = [str(m.annotation['vmhmetabolite']) + '_' + m.compartment if 'vmhmetabolite' in m.annotation.keys() else '' for m in mod.metabolites]"
   ]
  },
  {
   "cell_type": "code",
   "execution_count": null,
   "id": "a9e9339c-e3dc-4f45-b120-21dc018260d4",
   "metadata": {},
   "outputs": [],
   "source": [
    "mod.metabolites[0].name"
   ]
  },
  {
   "cell_type": "code",
   "execution_count": null,
   "id": "2544bc81-a422-4b18-9649-13cfa107f693",
   "metadata": {},
   "outputs": [],
   "source": [
    "mod.metabolites[0].annotation"
   ]
  },
  {
   "cell_type": "code",
   "execution_count": null,
   "id": "ef974940-c809-4fa9-bc52-69927db50a72",
   "metadata": {},
   "outputs": [],
   "source": [
    "import pandas as pd\n",
    "subsystems = list(set([r.subsystem for r in mod.reactions]))\n",
    "df = pd.DataFrame(index=subsystems)\n",
    "for i in range(len(files)):\n",
    "    count = [[rxn.subsystem for rxn in models[files[i]].reactions].count(s) for s in subsystems]\n",
    "    df[model_n2[i]] = count \n",
    "df"
   ]
  },
  {
   "cell_type": "code",
   "execution_count": null,
   "id": "88c95f8b-6b5f-4d8a-a9ed-7950eb6abfee",
   "metadata": {},
   "outputs": [],
   "source": [
    "len(atp_rxns)"
   ]
  },
  {
   "cell_type": "code",
   "execution_count": null,
   "id": "ffaba148-c9f7-4c77-9b6e-70fed41df3d9",
   "metadata": {},
   "outputs": [],
   "source": [
    "atp_rxns = [list(m.reactions) for m in mod.metabolites if 'ATP' == m.name] \n",
    "atp_rxns = list(set([i for atp_rxns_i in atp_rxns for i in atp_rxns_i])) # unique \n",
    "df_atp_rxns = pd.DataFrame([[r.id,\\\n",
    "              r.annotation['vmhreaction'] if 'vmhreaction' in r.annotation.keys() else '', \\\n",
    "              r.name, \\\n",
    "              r.build_reaction_string(use_metabolite_names = True)]\\\n",
    "              for r in atp_rxns])\n",
    "df_atp_rxns"
   ]
  },
  {
   "cell_type": "code",
   "execution_count": null,
   "id": "4e4c6a1c-7479-46da-8421-4b192ddeb3d9",
   "metadata": {},
   "outputs": [],
   "source": [
    "import pandas as pd\n",
    "subsystems = list(set([r.subsystem for r in mod.reactions]))\n",
    "df_h1 = pd.DataFrame(index=subsystems)\n",
    "count = [[rxn.subsystem for rxn in mod.reactions].count(s) for s in subsystems]\n",
    "df_h1['Human1'] = count \n",
    "df['Human1']=df_h1\n",
    "df"
   ]
  },
  {
   "cell_type": "code",
   "execution_count": null,
   "id": "16f31a46-9ca2-45ec-a915-d37de1290f50",
   "metadata": {},
   "outputs": [],
   "source": [
    "df['Human1']=df_h1\n",
    "\n",
    "df2=df[(df == 0).any(axis=1)] # select rows and columns containing zeros\n",
    "idx_row = df2[df2==0].count(axis=1).sort_values(ascending=False).index.to_list()\n",
    "idx_col = df2[df2==0].count(axis=0).sort_values(ascending=False).index.to_list()\n",
    "df2 = df2.reindex(idx_col, axis=1).reindex(idx_row,axis=0)\n",
    "\n",
    "def style_negative(v, props=''):\n",
    "    return props if v == 0 else None\n",
    "df2 = df2[(df == 0).any(axis=1)].style.applymap(style_negative, props='background-color:gray;').\\\n",
    "set_table_styles([dict(selector=\"th\", props=[('width', '10px')]),\n",
    "              dict(selector=\"th.col_heading\",\n",
    "                   props=[(\"writing-mode\", \"vertical-rl\"),\n",
    "                          ('transform', 'rotateZ(180deg)'), \n",
    "                          ('height', '170px'),\n",
    "                          ('vertical-align', 'top')]),\n",
    "              dict(selector=\"th.row_heading\",\n",
    "                   props=[('width', '450px'),])])\n",
    "df2"
   ]
  },
  {
   "cell_type": "code",
   "execution_count": null,
   "id": "f0aefc24-6f6a-49f1-8083-d0b8d83da9cd",
   "metadata": {},
   "outputs": [],
   "source": [
    "df_norm = df.drop(['Human1'], axis=1).divide(df['Human1'].values, axis='rows')\n",
    "idx = df_norm.mean(axis=1).sort_values(ascending=False).index.to_list()\n",
    "df_norm['Human1 (number of reactions)']=df['Human1']\n",
    "df_norm=df_norm.reindex(idx,axis=0)\n",
    "df_norm.to_clipboard(excel=True, sep=None)\n",
    "df_norm"
   ]
  },
  {
   "cell_type": "code",
   "execution_count": null,
   "id": "0135266b-37df-44d6-bc39-8f112dec3977",
   "metadata": {},
   "outputs": [],
   "source": [
    "[r.id for r in mod.reactions if r.subsystem == 'Glycolysis / Gluconeogenesis']\n",
    "pd.DataFrame([[r.id,r.name,r.build_reaction_string(use_metabolite_names = True)] for r in mod.reactions if r.subsystem == 'Glycolysis / Gluconeogenesis'], columns=['id','name','reaction']).to_clipboard(excel=True, sep=None)"
   ]
  },
  {
   "cell_type": "code",
   "execution_count": null,
   "id": "f6ade162-ec81-49ad-a868-53c417bc5f79",
   "metadata": {},
   "outputs": [],
   "source": [
    "rxns_mod = [r.id for r in mod.reactions if r.subsystem == 'Glycolysis / Gluconeogenesis']\n",
    "l_bin_gly_rxns = [[1 if r in rxns_i else 0 for r in rxns_mod] for rxns_i in [[r.id for r in models[f].reactions if r.subsystem == 'Glycolysis / Gluconeogenesis'] for f in files]]\n",
    "df_gly_rxns = pd.DataFrame([[r.id,r.name] for r in mod.reactions if r.subsystem == 'Glycolysis / Gluconeogenesis'], columns=['id','name'])\n",
    "for i in range(len(model_n2)):\n",
    "    df_gly_rxns[model_n2[i]]=l_bin_gly_rxns[i]\n",
    "\n",
    "idx_row = df_gly_rxns[df_gly_rxns==0].count(axis=1).sort_values(ascending=True).index.to_list()\n",
    "idx_col = df_gly_rxns[df_gly_rxns==0].count(axis=0).sort_values(ascending=True).index.to_list()\n",
    "df_gly_rxns = df_gly_rxns.reindex(idx_col, axis=1).reindex(idx_row,axis=0)\n",
    "df_gly_rxns.to_clipboard(excel=True, sep=None)\n",
    "df_gly_rxns"
   ]
  }
 ],
 "metadata": {
  "kernelspec": {
   "display_name": "Python 3 (ipykernel)",
   "language": "python",
   "name": "python3"
  },
  "language_info": {
   "codemirror_mode": {
    "name": "ipython",
    "version": 3
   },
   "file_extension": ".py",
   "mimetype": "text/x-python",
   "name": "python",
   "nbconvert_exporter": "python",
   "pygments_lexer": "ipython3",
   "version": "3.10.8"
  }
 },
 "nbformat": 4,
 "nbformat_minor": 5
}
