{
 "cells": [
  {
   "cell_type": "code",
   "execution_count": 13,
   "id": "3badd5a4-2d25-4325-aac6-d0e1ed815152",
   "metadata": {},
   "outputs": [
    {
     "name": "stdout",
     "output_type": "stream",
     "text": [
      "C:\\Users\\prins\\git\\Human1_RPE-PR\\cs_mods\\__file__\n"
     ]
    },
    {
     "data": {
      "text/plain": [
       "'C:\\\\Users\\\\prins\\\\git\\\\other-dir'"
      ]
     },
     "execution_count": 13,
     "metadata": {},
     "output_type": "execute_result"
    }
   ],
   "source": [
    "from pathlib import Path\n",
    "import os\n",
    "p = Path('.')\n",
    "[x for x in p.iterdir() if x.is_dir()]\n",
    "\n",
    "print(Path('__file__').absolute())\n",
    "abs_path = os.path.abspath(\"../../other-dir\")\n",
    "\n",
    "abs_path"
   ]
  },
  {
   "cell_type": "code",
   "execution_count": null,
   "id": "8448b2cb-0752-4850-8ac8-4532fb22447d",
   "metadata": {},
   "outputs": [],
   "source": [
    "from cobra.io import read_sbml_model\n",
    "from pathlib import Path\n",
    "import os\n",
    "\n",
    "mod = read_sbml_model('C:/Users/prins/git/Human-GEM/model/Human-GEM.xml') \n",
    "\n",
    "folder = \"C:/Users/prins/git/Human1_RPE-PR/cs_mods\"\n",
    "files = [f for f in os.listdir(folder) if '.xml'in f if os.path.isfile(os.path.join(folder, f))]\n",
    "models = {f:read_sbml_model(folder + '/' + f ) for f in files}\n",
    "model_n = [f.split('_')[0] + f.split('_')[1] for f in files] "
   ]
  }
 ],
 "metadata": {
  "kernelspec": {
   "display_name": "Python 3 (ipykernel)",
   "language": "python",
   "name": "python3"
  },
  "language_info": {
   "codemirror_mode": {
    "name": "ipython",
    "version": 3
   },
   "file_extension": ".py",
   "mimetype": "text/x-python",
   "name": "python",
   "nbconvert_exporter": "python",
   "pygments_lexer": "ipython3",
   "version": "3.10.8"
  }
 },
 "nbformat": 4,
 "nbformat_minor": 5
}
