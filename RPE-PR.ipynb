{
 "cells": [
  {
   "cell_type": "code",
   "execution_count": 1,
   "id": "204deaba-3164-490b-b6f5-dc70546cdce9",
   "metadata": {},
   "outputs": [],
   "source": [
    "from cobra.io import read_sbml_model\n",
    "from pathlib import Path\n",
    "import os\n",
    "\n",
    "# change working directory to context_specific_models folder\n",
    "os.chdir('C:/Users/prins/git/Human1_RPE-PR') \n",
    "\n",
    "# create a dictionary with the filenames (keys) and models (values)\n",
    "folder = Path().cwd()\n",
    "files = [f for f in os.listdir(folder / 'cs_mods') if '.xml'in f]\n",
    "models = {f:read_sbml_model(folder / 'cs_mods' / f ) for f in files}\n",
    "k = list(models.keys())\n",
    "\n",
    "# add model names as IDs\n",
    "models_names = ['Human1', 'Schwan (1)', 'Schwan (2)', 'Melanocytes', 'Endothelial','Muscle','Fibroblasts',\\\n",
    "                'RPE','B cells','T + NK cells', 'Monocytes + Macrophages','Mast','Retina','RPE + Choroid',\\\n",
    "                'PR rod','Amacrine','Bipolar','PR cone', 'Horizontal', 'Müller','Ganglion']\n",
    "\n",
    "for i in range(len(models)):\n",
    "    models[k[i]].id = models_names[i]"
   ]
  },
  {
   "cell_type": "code",
   "execution_count": 2,
   "id": "d42ff335-9c43-4b91-9537-970d9fe6d391",
   "metadata": {},
   "outputs": [
    {
     "name": "stderr",
     "output_type": "stream",
     "text": [
      "C:\\Users\\prins\\AppData\\Roaming\\Python\\Python310\\site-packages\\cobra\\core\\group.py:147: UserWarning: need to pass in a list\n",
      "  warn(\"need to pass in a list\")\n"
     ]
    }
   ],
   "source": [
    "# make RPE-PR model\n",
    "# copy RPE, PR, and Human1 models\n",
    "mod = models['Human-GEM.xml'].copy()\n",
    "mod_RPE = models['model_06_MeanExpression_RPE__VoigtEtAl2019_.xml'].copy()\n",
    "mod_PR = models['model_13_MeanExpression_RodPhotoreceptors__LiangEtAl_2019_.xml'].copy()\n",
    "\n",
    "# add back any lost exchange reactions\n",
    "def add_all_EX_rxns(basis_model,model):\n",
    "    EX_rxns = [r for r in basis_model.reactions if len(r.products)==0]\n",
    "    EX_rxns_model = [r.id for r in model.reactions if len(r.products)==0]\n",
    "    missing_rxns = [r.copy() for r in EX_rxns if r.id not in EX_rxns_model]\n",
    "    model.add_reactions(missing_rxns)\n",
    "    return model\n",
    "mod_RPE = add_all_EX_rxns(mod,mod_RPE)\n",
    "mod_PR = add_all_EX_rxns(mod,mod_PR)\n",
    "\n",
    "def remove_compartment(model, compartment):\n",
    "# remove compartment from model\n",
    "    rxns_n = [r.id for r in model.reactions if compartment in r.compartments]\n",
    "    mets_n = [m for m in model.metabolites if compartment in m.compartment]\n",
    "    model.remove_reactions(rxns_n)\n",
    "    model.remove_metabolites(mets_n)\n",
    "    return model\n",
    "\n",
    "# remove nucleus from PR model\n",
    "mod_PR = remove_compartment(mod_PR, 'n')\n",
    "\n",
    "def add_id_suffix(model, suffix):\n",
    "    for r in model.reactions:\n",
    "        r.id = r.id + suffix\n",
    "    for m in model.metabolites:\n",
    "        m.id = m.id + suffix\n",
    "        m.compartment = m.compartment + suffix\n",
    "    return model\n",
    "# add '_PR' to PR model IDs and '_RPE' to RPE model IDs\n",
    "mod_PR = add_id_suffix(mod_PR, '_PR')\n",
    "mod_RPE = add_id_suffix(mod_RPE, '_RPE')"
   ]
  },
  {
   "cell_type": "code",
   "execution_count": 3,
   "id": "0124ed39-e043-4428-8b3e-f6fe21da353b",
   "metadata": {},
   "outputs": [],
   "source": [
    "# add RPE-PR interface reactions to RPE model (rxn_RPE-PR = RPE <--> RPE-PR interface)\n",
    "for rxns in  [r for r in mod_RPE.reactions if 'e_RPE' in r.reaction]:     \n",
    "    rxn = rxns.copy()\n",
    "    rxn.id = rxn.id.replace('_RPE','_RPE-PR')\n",
    "    for p in rxn.products:\n",
    "        if 'e_RPE' in p.id:\n",
    "            p.id = p.id.replace('e_RPE','e_RPE-PR')\n",
    "            p.compartment = 'e_RPE-PR'\n",
    "    for r in rxn.reactants:\n",
    "        if 'e_RPE' in r.id:\n",
    "            r.id = r.id.replace('e_RPE','e_RPE-PR')\n",
    "            r.compartment = 'e_RPE-PR'\n",
    "    mod_RPE.add_reactions([rxn])"
   ]
  },
  {
   "cell_type": "code",
   "execution_count": 4,
   "id": "ddc97d34-615a-4f10-9b68-f4167b200cc3",
   "metadata": {},
   "outputs": [],
   "source": [
    "# add RPE-PR interface reactions to PR model (rxn_PR-RPE = PR <--> RPE-PR interface)\n",
    "for rxn in [r for r in mod_PR.reactions if 'e_PR' in r.reaction]:\n",
    "    rxn.id = rxn.id.replace('_PR','_PR-RPE')\n",
    "    for p in rxn.products:\n",
    "        if 'e_PR' in p.id:\n",
    "            p.id = p.id.replace('e_PR','e_RPE-PR')\n",
    "            p.compartment = 'e_RPE-PR'\n",
    "    for r in rxn.reactants:\n",
    "        if 'e_PR' in r.id:\n",
    "            r.id = r.id.replace('e_PR','e_RPE-PR')\n",
    "            r.compartment = 'e_RPE-PR'"
   ]
  },
  {
   "cell_type": "code",
   "execution_count": 5,
   "id": "0c5fe8ce-8004-4ff6-8122-1c83b091b4db",
   "metadata": {},
   "outputs": [],
   "source": [
    "# fuse RPE and PR model\n",
    "from cobra import Model\n",
    "mod_RPE_PR = Model('RPE-PR model')\n",
    "mod_RPE_PR.add_reactions(mod_RPE.reactions)\n",
    "mod_RPE_PR.add_reactions(mod_PR.reactions)"
   ]
  },
  {
   "cell_type": "code",
   "execution_count": 6,
   "id": "94ef5f5e-3f68-462c-aa43-d6599716b12c",
   "metadata": {},
   "outputs": [
    {
     "name": "stderr",
     "output_type": "stream",
     "text": [
      "C:\\Users\\prins\\AppData\\Roaming\\Python\\Python310\\site-packages\\cobra\\core\\model.py:778: UserWarning: need to pass in a list\n",
      "  warn(\"need to pass in a list\")\n"
     ]
    }
   ],
   "source": [
    "# list reaction IDs to be deleted (because their reactions are duplicated)\n",
    "import pandas as pd\n",
    "df = pd.DataFrame([[r.id, r.reaction] for r in mod_RPE_PR.reactions \\\n",
    "                   if r.compartments == {'e_RPE-PR'}], columns=['id','reaction'])\n",
    "l  = list(df['id'][df['reaction'].duplicated()])\n",
    "\n",
    "# delete duplicated reactions and change reaction IDs (suffix: _eRPE-PR) \n",
    "# of the reactions that only involve the e_RPE-PR compartment (interface)\n",
    "for r in [r for r in mod_RPE_PR.reactions if r.compartments=={'e_RPE-PR'}]: \n",
    "    if r.id in l:\n",
    "        mod_RPE_PR.remove_reactions(r.id)\n",
    "    elif '_RPE-PR' in r.id:\n",
    "        r.id = r.id.replace('_RPE-PR','_eRPE-PR')\n",
    "    elif '_PR-RPE' in r.id:\n",
    "        r.id = r.id.replace('_PR-RPE','_eRPE-PR')\n",
    "        \n",
    "def fix_compartment_dict(model):\n",
    "    new_compartment_dict = model.compartments.copy()\n",
    "    for k in list(new_compartment_dict.keys()):\n",
    "        new_compartment_dict[k] = k \n",
    "    model.compartments = new_compartment_dict\n",
    "    return model\n",
    "fix_compartment_dict(mod_RPE_PR)"
   ]
  },
  {
   "cell_type": "code",
   "execution_count": 77,
   "id": "9c387028-04fd-4fd8-8bc8-295b568f71ed",
   "metadata": {},
   "outputs": [
    {
     "name": "stderr",
     "output_type": "stream",
     "text": [
      "Ignoring reaction 'DM_atp_c_RPE' since it already exists.\n",
      "Ignoring reaction 'DM_atp_c_PR' since it already exists.\n"
     ]
    }
   ],
   "source": [
    "# add ATP demand reaction (atp[c] -> )\n",
    "# met IDs are MAM01371c_PR and MAM01371c_RPE\n",
    "\n",
    "def make_reaction(r_id,r_name,r_subsystem,r_lowerbound,r_upperbound):\n",
    "    from cobra import Reaction\n",
    "    r = Reaction(r_id)\n",
    "    r.name = r_name\n",
    "    r.subsystem = r_subsystem\n",
    "    r.lower_bound = r_lowerbound  \n",
    "    r.upper_bound = r_upperbound  \n",
    "    return r\n",
    "\n",
    "# add ATP demand reactions\n",
    "DM_atp_c_RPE = make_reaction('DM_atp_c_RPE', 'ATP demand', 'Demand', -1000,1000)\n",
    "DM_atp_c_PR = make_reaction('DM_atp_c_PR', 'ATP demand', 'Demand', -1000,1000)\n",
    "DM_atp_c_RPE.add_metabolites({mod_RPE_PR.metabolites.get_by_id('MAM01371c_RPE'): -1.0,})\n",
    "DM_atp_c_PR.add_metabolites({mod_RPE_PR.metabolites.get_by_id('MAM01371c_PR'): -1.0,})\n",
    "mod_RPE_PR.add_reactions([DM_atp_c_RPE, DM_atp_c_PR])\n",
    "\n",
    "# save RPE-PR model\n",
    "from cobra.io import write_sbml_model\n",
    "write_sbml_model(mod_RPE_PR, \"mod_RPE_PR.xml\")"
   ]
  },
  {
   "cell_type": "code",
   "execution_count": 19,
   "id": "5612ab73-d7c8-49f8-bb52-757997f078b6",
   "metadata": {},
   "outputs": [],
   "source": [
    "# close all exchange reactions\n",
    "for r in [r for r in mod_RPE_PR.reactions if len(r.products)==0]: r.bounds = (0,0)\n",
    "    \n",
    "# open ATP demand reactions\n",
    "mod_RPE_PR.reactions.get_by_id('DM_atp_c_RPE').bounds=(0,1000)\n",
    "mod_RPE_PR.reactions.get_by_id('DM_atp_c_PR').bounds=(0,1000)"
   ]
  },
  {
   "cell_type": "code",
   "execution_count": 9,
   "id": "728d0f73-410a-4f5b-967d-32765364d982",
   "metadata": {},
   "outputs": [
    {
     "data": {
      "text/html": [
       "\n",
       "        <table>\n",
       "            <tr>\n",
       "                <td><strong>Reaction identifier</strong></td><td>MAR09034_eRPE-PR</td>\n",
       "            </tr><tr>\n",
       "                <td><strong>Name</strong></td><td></td>\n",
       "            </tr><tr>\n",
       "                <td><strong>Memory address</strong></td>\n",
       "                <td>0x22ab640c9a0</td>\n",
       "            </tr><tr>\n",
       "                <td><strong>Stoichiometry</strong></td>\n",
       "                <td>\n",
       "                    <p style='text-align:right'>MAM01965e_RPE-PR --></p>\n",
       "                    <p style='text-align:right'>glucose --></p>\n",
       "                </td>\n",
       "            </tr><tr>\n",
       "                <td><strong>GPR</strong></td><td></td>\n",
       "            </tr><tr>\n",
       "                <td><strong>Lower bound</strong></td><td>0</td>\n",
       "            </tr><tr>\n",
       "                <td><strong>Upper bound</strong></td><td>0</td>\n",
       "            </tr>\n",
       "        </table>\n",
       "        "
      ],
      "text/plain": [
       "<Reaction MAR09034_eRPE-PR at 0x22ab640c9a0>"
      ]
     },
     "execution_count": 9,
     "metadata": {},
     "output_type": "execute_result"
    }
   ],
   "source": [
    "mod_RPE_PR.reactions.get_by_id('MAR09034_eRPE-PR')"
   ]
  },
  {
   "cell_type": "code",
   "execution_count": 15,
   "id": "6a7980fd-b533-40ed-a9e3-a7b1dda1eb98",
   "metadata": {},
   "outputs": [],
   "source": [
    "# import excel file with info on exchange upper bounds \n",
    "# file contains 'id' col with IDs and an 'upper_bound' col with upper bounds to modify\n",
    "bounds = pd.read_excel(folder / 'rxn_bounds' / 'R3D301_EX_rxns_RPE-PR.xlsx')\n",
    "# select entries with non-zero upper bounds\n",
    "bounds = bounds[bounds['upper_bound']>0]\n",
    "# set bounds Exchange reactions (lower bounds -1000, upper bounds based on file info)\n",
    "for i in range(len(bounds)):\n",
    "    mod_RPE_PR.reactions.get_by_id(bounds['id'][i]).bounds = (-bounds['upper_bound'][i],1000)"
   ]
  },
  {
   "cell_type": "code",
   "execution_count": 17,
   "id": "44473869-5c12-4868-8950-061d5c6ec948",
   "metadata": {},
   "outputs": [
    {
     "data": {
      "text/html": [
       "\n",
       "        <table>\n",
       "            <tr>\n",
       "                <td><strong>Reaction identifier</strong></td><td>MAR09034_RPE</td>\n",
       "            </tr><tr>\n",
       "                <td><strong>Name</strong></td><td></td>\n",
       "            </tr><tr>\n",
       "                <td><strong>Memory address</strong></td>\n",
       "                <td>0x22ab1a92fe0</td>\n",
       "            </tr><tr>\n",
       "                <td><strong>Stoichiometry</strong></td>\n",
       "                <td>\n",
       "                    <p style='text-align:right'>MAM01965e_RPE <=></p>\n",
       "                    <p style='text-align:right'>glucose <=></p>\n",
       "                </td>\n",
       "            </tr><tr>\n",
       "                <td><strong>GPR</strong></td><td></td>\n",
       "            </tr><tr>\n",
       "                <td><strong>Lower bound</strong></td><td>-40.0</td>\n",
       "            </tr><tr>\n",
       "                <td><strong>Upper bound</strong></td><td>1000</td>\n",
       "            </tr>\n",
       "        </table>\n",
       "        "
      ],
      "text/plain": [
       "<Reaction MAR09034_RPE at 0x22ab1a92fe0>"
      ]
     },
     "execution_count": 17,
     "metadata": {},
     "output_type": "execute_result"
    }
   ],
   "source": [
    "mod_RPE_PR.reactions.get_by_id('MAR09034_RPE')"
   ]
  },
  {
   "cell_type": "code",
   "execution_count": 16,
   "id": "ca7ae099-eb6f-4d08-9db9-26d8247a6698",
   "metadata": {},
   "outputs": [
    {
     "data": {
      "text/html": [
       "\n",
       "        <table>\n",
       "            <tr>\n",
       "                <td><strong>Reaction identifier</strong></td><td>MAR09034_eRPE-PR</td>\n",
       "            </tr><tr>\n",
       "                <td><strong>Name</strong></td><td></td>\n",
       "            </tr><tr>\n",
       "                <td><strong>Memory address</strong></td>\n",
       "                <td>0x22ab640c9a0</td>\n",
       "            </tr><tr>\n",
       "                <td><strong>Stoichiometry</strong></td>\n",
       "                <td>\n",
       "                    <p style='text-align:right'>MAM01965e_RPE-PR <=></p>\n",
       "                    <p style='text-align:right'>glucose <=></p>\n",
       "                </td>\n",
       "            </tr><tr>\n",
       "                <td><strong>GPR</strong></td><td></td>\n",
       "            </tr><tr>\n",
       "                <td><strong>Lower bound</strong></td><td>-0.0004</td>\n",
       "            </tr><tr>\n",
       "                <td><strong>Upper bound</strong></td><td>1000</td>\n",
       "            </tr>\n",
       "        </table>\n",
       "        "
      ],
      "text/plain": [
       "<Reaction MAR09034_eRPE-PR at 0x22ab640c9a0>"
      ]
     },
     "execution_count": 16,
     "metadata": {},
     "output_type": "execute_result"
    }
   ],
   "source": [
    "mod_RPE_PR.reactions.get_by_id('MAR09034_eRPE-PR')"
   ]
  },
  {
   "cell_type": "code",
   "execution_count": 20,
   "id": "da2b1303-ff88-41d6-994e-fb31967c4e41",
   "metadata": {},
   "outputs": [
    {
     "data": {
      "text/html": [
       "\n",
       "        <table>\n",
       "            <tr>\n",
       "                <td><strong>Reaction identifier</strong></td><td>DM_atp_c_PR</td>\n",
       "            </tr><tr>\n",
       "                <td><strong>Name</strong></td><td>ATP demand</td>\n",
       "            </tr><tr>\n",
       "                <td><strong>Memory address</strong></td>\n",
       "                <td>0x22ab93e46a0</td>\n",
       "            </tr><tr>\n",
       "                <td><strong>Stoichiometry</strong></td>\n",
       "                <td>\n",
       "                    <p style='text-align:right'>MAM01371c_PR --></p>\n",
       "                    <p style='text-align:right'>ATP --></p>\n",
       "                </td>\n",
       "            </tr><tr>\n",
       "                <td><strong>GPR</strong></td><td></td>\n",
       "            </tr><tr>\n",
       "                <td><strong>Lower bound</strong></td><td>0</td>\n",
       "            </tr><tr>\n",
       "                <td><strong>Upper bound</strong></td><td>1000</td>\n",
       "            </tr>\n",
       "        </table>\n",
       "        "
      ],
      "text/plain": [
       "<Reaction DM_atp_c_PR at 0x22ab93e46a0>"
      ]
     },
     "execution_count": 20,
     "metadata": {},
     "output_type": "execute_result"
    }
   ],
   "source": [
    "mod_RPE_PR.reactions.get_by_id('DM_atp_c_PR')\n"
   ]
  },
  {
   "cell_type": "code",
   "execution_count": 27,
   "id": "78ee811c-3951-40d6-aa29-03841f5191ef",
   "metadata": {},
   "outputs": [
    {
     "data": {
      "text/latex": [
       "$\\displaystyle 1.0 \\cdot DM_{atp c RPE} - 1.0 \\cdot DM_{atp c RPE reverse 457d3}$"
      ],
      "text/plain": [
       "1.0*DM_atp_c_RPE - 1.0*DM_atp_c_RPE_reverse_457d3"
      ]
     },
     "execution_count": 27,
     "metadata": {},
     "output_type": "execute_result"
    }
   ],
   "source": [
    "# OBJECTIVE \n",
    "# set maximizing the ATP demand in PR as objective\n",
    "# while constraining it to be twice the ATP demand in the RPE\n",
    "\n",
    "mod_RPE_PR.objective = mod_RPE_PR.reactions.get_by_id('DM_atp_c_RPE').flux_expression\n",
    "mod_RPE_PR.objective.expression"
   ]
  },
  {
   "cell_type": "code",
   "execution_count": 28,
   "id": "eaba0f8e-ae05-4d2c-938c-1b9991e61546",
   "metadata": {},
   "outputs": [
    {
     "name": "stdout",
     "output_type": "stream",
     "text": [
      "<Solution 0.000 at 0x22ac0ad5de0>\n"
     ]
    },
    {
     "data": {
      "text/html": [
       "<h3>Objective</h3><p>1.0 DM_atp_c_RPE = 0.0</p><h4>Uptake</h4><table border=\"1\" class=\"dataframe\">\n",
       "  <thead>\n",
       "    <tr style=\"text-align: right;\">\n",
       "      <th>Metabolite</th>\n",
       "      <th>Reaction</th>\n",
       "      <th>Flux</th>\n",
       "      <th>C-Number</th>\n",
       "      <th>C-Flux</th>\n",
       "    </tr>\n",
       "  </thead>\n",
       "  <tbody>\n",
       "  </tbody>\n",
       "</table><h4>Secretion</h4><table border=\"1\" class=\"dataframe\">\n",
       "  <thead>\n",
       "    <tr style=\"text-align: right;\">\n",
       "      <th>Metabolite</th>\n",
       "      <th>Reaction</th>\n",
       "      <th>Flux</th>\n",
       "      <th>C-Number</th>\n",
       "      <th>C-Flux</th>\n",
       "    </tr>\n",
       "  </thead>\n",
       "  <tbody>\n",
       "  </tbody>\n",
       "</table>"
      ],
      "text/plain": [
       "<cobra.summary.model_summary.ModelSummary at 0x22ac09a4eb0>"
      ]
     },
     "execution_count": 28,
     "metadata": {},
     "output_type": "execute_result"
    }
   ],
   "source": [
    "from cobra.flux_analysis.loopless import add_loopless, loopless_solution\n",
    "from cobra.flux_analysis import pfba\n",
    "solution = mod_RPE_PR.optimize()\n",
    "print(solution)\n",
    "mod_RPE_PR.summary()"
   ]
  },
  {
   "cell_type": "code",
   "execution_count": null,
   "id": "2babb7d0-f927-4b44-b605-3ae69b3b2f96",
   "metadata": {},
   "outputs": [],
   "source": [
    "# with mod_RPE_PR:\n",
    "#    add_loopless(mod_RPE_PR)\n",
    "#    try: solution = mod_RPE_PR.optimize()\n",
    "#    except: print('model is infeasible')\n",
    "mod_RPE_PR.summary()"
   ]
  },
  {
   "cell_type": "code",
   "execution_count": null,
   "id": "c2d096d9-a085-4864-b08d-8278d4033756",
   "metadata": {},
   "outputs": [],
   "source": [
    "# FVA\n",
    "#from cobra.flux_analysis import flux_variability_analysis\n",
    "#flux_variability_analysis(mod_RPE_PR,loopless=True)"
   ]
  },
  {
   "cell_type": "code",
   "execution_count": null,
   "id": "54d00424-6ea8-4313-ac8b-6df0f1b79280",
   "metadata": {},
   "outputs": [],
   "source": [
    "# list all exchange and demand reactions matching Human1 and VMH IDs\n",
    "def get_vmh_id(reaction):\n",
    "    if 'vmhreaction' in reaction.annotation.keys(): vmh_id = reaction.annotation['vmhreaction']\n",
    "    else: vmh_id = ''\n",
    "    return vmh_id\n",
    "df_EX_rxns = pd.DataFrame([[r.id,get_vmh_id(r),r.name,r.reaction,r.build_reaction_string(use_metabolite_names = True)] \\\n",
    "              for r in mod.reactions if len(r.products) == 0],columns=['id','vmh id','name','reaction','reaction (names)'])\n",
    "df_EX_rxns"
   ]
  },
  {
   "cell_type": "code",
   "execution_count": null,
   "id": "2d7ad835-e518-420a-8ee9-3eabbc30bf3f",
   "metadata": {},
   "outputs": [],
   "source": [
    "# ATP metabolites\n",
    "ATP_mets = [[met.id,met.name] for met in mod_RPE_PR.metabolites if met.name=='ATP']\n",
    "pd.DataFrame(ATP_mets,columns=['ID','name'])\n",
    "\n",
    "# ATP reactions\n",
    "ATP_rxns = [[r.id,get_vmh_id(r),r.name,r.subsystem,r.reaction,r.build_reaction_string(use_metabolite_names = True)] \\\n",
    "            for r in mod_RPE_PR.reactions if 'MAM01371' in r.reaction]\n",
    "\n",
    "pd.DataFrame(ATP_rxns,columns=['id','vmh id', 'name', 'subsystem', 'reaction (id)', 'reaction (name)'])"
   ]
  },
  {
   "cell_type": "code",
   "execution_count": null,
   "id": "1baf6e4c-a8ef-471e-8e03-b7cc80794ab5",
   "metadata": {},
   "outputs": [],
   "source": [
    "# list all exchange and demand reactions\n",
    "df_EX_rxns_human1 = pd.DataFrame([[r.id,get_vmh_id(r),r.name,r.reaction,r.build_reaction_string(use_metabolite_names = True)] \\\n",
    "              for r in mod.reactions if len(r.products)==0],columns=['id','vmh id','name','reaction','reaction (names)'])\n",
    "df_EX_rxns.to_clipboard(excel=True, sep=None)\n",
    "df_EX_rxns"
   ]
  },
  {
   "cell_type": "code",
   "execution_count": null,
   "id": "c9d2f846-4f69-42bb-9c5c-4d1cd9333af5",
   "metadata": {},
   "outputs": [],
   "source": [
    "# match VMH_IDs from bounds file to Human1 IDs to create 'R3D301_EX_rxns_RPE-PR.xlsx'\n",
    "\n",
    "# import excel file with info on bounds\n",
    "bounds = pd.read_excel(folder / 'rxn_bounds' / 'files PL' / 'R3D301_EX_rxns.xlsx')\n",
    "\n",
    "# vmh_id lookup table + look up RPE rxn\n",
    "df_vmh_id = pd.DataFrame([[get_vmh_id(r),r.id,r.id+'_RPE'] for r in mod.reactions if 'EX_' in get_vmh_id(r)],columns=['vmh_id','human1_id','id'])\n",
    "merged_df = df_vmh_id.merge(bounds, how = 'right', on = ['vmh_id'])\n",
    "merged_df.to_clipboard(excel=True, sep=None)\n",
    "merged_df"
   ]
  },
  {
   "cell_type": "code",
   "execution_count": null,
   "id": "7e42afc3-f9b1-4f5e-a0d7-f18087903fa9",
   "metadata": {},
   "outputs": [],
   "source": [
    "# biomass reaction\n",
    "mod.reactions.get_by_id('MAR04413') \n",
    "\n",
    "pd.DataFrame([[r.id,r.name,r.reaction,r.reaction,r.build_reaction_string(use_metabolite_names = True)]\\\n",
    "              for r in mod_RPE_PR.reactions if 'biomass' in r.name])"
   ]
  },
  {
   "cell_type": "code",
   "execution_count": null,
   "id": "71fc53e0-f9e7-4956-94ef-0c8b4cbc8c0f",
   "metadata": {},
   "outputs": [],
   "source": [
    "mod.reactions.get_by_id('MAR13082') "
   ]
  }
 ],
 "metadata": {
  "kernelspec": {
   "display_name": "Python 3 (ipykernel)",
   "language": "python",
   "name": "python3"
  },
  "language_info": {
   "codemirror_mode": {
    "name": "ipython",
    "version": 3
   },
   "file_extension": ".py",
   "mimetype": "text/x-python",
   "name": "python",
   "nbconvert_exporter": "python",
   "pygments_lexer": "ipython3",
   "version": "3.10.8"
  }
 },
 "nbformat": 4,
 "nbformat_minor": 5
}
