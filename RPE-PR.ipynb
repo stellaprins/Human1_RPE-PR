{
 "cells": [
  {
   "cell_type": "code",
   "execution_count": 1,
   "id": "204deaba-3164-490b-b6f5-dc70546cdce9",
   "metadata": {
    "tags": []
   },
   "outputs": [
    {
     "name": "stdout",
     "output_type": "stream",
     "text": [
      "Set parameter Username\n",
      "Academic license - for non-commercial use only - expires 2024-02-03\n"
     ]
    }
   ],
   "source": [
    "from cobra.io import read_sbml_model\n",
    "from pathlib import Path\n",
    "import os\n",
    "import cobra\n",
    "\n",
    "cobra.Configuration().solver = \"gurobi\"\n",
    "\n",
    "# change working directory to context_specific_models folder\n",
    "os.chdir('C:/Users/prins/GitHub/Human1_RPE-PR') \n",
    "\n",
    "# create a dictionary with the filenames (keys) and models (values)\n",
    "folder = Path().cwd()\n",
    "files = [f for f in os.listdir(folder / 'cs_mods') if '.xml'in f]\n",
    "models = {f:read_sbml_model(folder / 'cs_mods' / f ) for f in files}\n",
    "k = list(models.keys())\n",
    "\n",
    "# add model names as IDs\n",
    "models_names = ['Human1', 'Schwan (1)', 'Schwan (2)', 'Melanocytes', 'Endothelial','Muscle','Fibroblasts',\\\n",
    "                'RPE','B cells','T + NK cells', 'Monocytes + Macrophages','Mast','Retina','RPE + Choroid',\\\n",
    "                'PR rod','Amacrine','Bipolar','PR cone', 'Horizontal', 'Müller','Ganglion']\n",
    "\n",
    "for i in range(len(models)):\n",
    "    models[k[i]].id = models_names[i]"
   ]
  },
  {
   "cell_type": "code",
   "execution_count": 2,
   "id": "522ab347-37d6-4017-8fe5-42a7c0736e58",
   "metadata": {},
   "outputs": [
    {
     "name": "stdout",
     "output_type": "stream",
     "text": [
      "Read LP format model from file C:\\Users\\prins\\AppData\\Local\\Temp\\tmpol7r9bpv.lp\n",
      "Reading time = 0.05 seconds\n",
      ": 8369 rows, 26140 columns, 111668 nonzeros\n"
     ]
    },
    {
     "name": "stderr",
     "output_type": "stream",
     "text": [
      "Ignoring reaction 'MAR03964' since it already exists.\n"
     ]
    }
   ],
   "source": [
    "import pandas as pd\n",
    "\n",
    "mod = models[k[0]].copy()\n",
    "\n",
    "# add back any lost exchange reactions\n",
    "def add_all_EX_rxns(basis_model,model):\n",
    "    EX_rxns = [r for r in basis_model.reactions if len(r.products)==0]\n",
    "    EX_rxns_model = [r.id for r in model.reactions if len(r.products)==0]\n",
    "    missing_rxns = [r.copy() for r in EX_rxns if r.id not in EX_rxns_model]\n",
    "    model.add_reactions(missing_rxns)\n",
    "    return model\n",
    "\n",
    "# add ATP demand reactions, lost exchange reactions to all models\n",
    "for k_i in k:\n",
    "    models[k_i].add_reactions([mod.reactions.get_by_id('MAR03964').copy()])\n",
    "    models[k_i] = add_all_EX_rxns(mod,models[k_i])\n",
    "    for r in [r for r in models[k_i].reactions if len(r.products)==0]: r.bounds = (0,1000)     # close lower bound for all exchange reactions (metabolites can leave the system but not enter)"
   ]
  },
  {
   "cell_type": "code",
   "execution_count": 23,
   "id": "d42ff335-9c43-4b91-9537-970d9fe6d391",
   "metadata": {},
   "outputs": [
    {
     "name": "stdout",
     "output_type": "stream",
     "text": [
      "Read LP format model from file C:\\Users\\prins\\AppData\\Local\\Temp\\tmpjn45sna_.lp\n",
      "Reading time = 0.05 seconds\n",
      ": 8369 rows, 26140 columns, 111668 nonzeros\n",
      "Read LP format model from file C:\\Users\\prins\\AppData\\Local\\Temp\\tmpa4ahf55u.lp\n",
      "Reading time = 0.03 seconds\n",
      ": 5517 rows, 14194 columns, 54382 nonzeros\n",
      "Read LP format model from file C:\\Users\\prins\\AppData\\Local\\Temp\\tmp03refj30.lp\n",
      "Reading time = 0.02 seconds\n",
      ": 5013 rows, 12490 columns, 46478 nonzeros\n"
     ]
    },
    {
     "name": "stderr",
     "output_type": "stream",
     "text": [
      "C:\\Users\\prins\\miniconda3\\envs\\RPE-PR\\lib\\site-packages\\cobra\\core\\group.py:147: UserWarning: need to pass in a list\n",
      "  warn(\"need to pass in a list\")\n"
     ]
    }
   ],
   "source": [
    "# make RPE_PR model\n",
    "\n",
    "# copy RPE, PR, and full Human1 models\n",
    "mod = models['Human-GEM.xml'].copy()\n",
    "mod_RPE = models['model_06_MeanExpression_RPE__VoigtEtAl2019_.xml'].copy()\n",
    "mod_PR = models['model_13_MeanExpression_RodPhotoreceptors__LiangEtAl_2019_.xml'].copy()\n",
    "\n",
    "def remove_compartment(model, compartment):\n",
    "# remove compartment from model\n",
    "    rxns_n = [r.id for r in model.reactions if compartment in r.compartments]\n",
    "    mets_n = [m for m in model.metabolites if compartment in m.compartment]\n",
    "    model.remove_reactions(rxns_n)\n",
    "    model.remove_metabolites(mets_n)\n",
    "    return model\n",
    "\n",
    "# remove nucleus from PR model\n",
    "mod_PR = remove_compartment(mod_PR, 'n')\n",
    "\n",
    "def add_id_suffix(model, suffix):\n",
    "    for r in model.reactions:\n",
    "        r.id = r.id + suffix\n",
    "    for m in model.metabolites:\n",
    "        m.id = m.id + suffix\n",
    "        m.compartment = m.compartment + suffix\n",
    "    return model\n",
    "# add '_PR' to PR model IDs and '_RPE' to RPE model IDs\n",
    "mod_PR = add_id_suffix(mod_PR, '_PR')\n",
    "mod_RPE = add_id_suffix(mod_RPE, '_RPE')"
   ]
  },
  {
   "cell_type": "code",
   "execution_count": 24,
   "id": "0124ed39-e043-4428-8b3e-f6fe21da353b",
   "metadata": {},
   "outputs": [],
   "source": [
    "# add RPE_PR interface reactions to RPE model (rxn_RPE_PR = RPE <--> RPE_PR interface)\n",
    "for rxns in  [r for r in mod_RPE.reactions if 'e_RPE' in r.reaction]:     \n",
    "    rxn = rxns.copy()\n",
    "    rxn.id = rxn.id.replace('_RPE','_RPE_PR')\n",
    "    for p in rxn.products:\n",
    "        if 'e_RPE' in p.id:\n",
    "            p.id = p.id.replace('e_RPE','e_RPE_PR')\n",
    "            p.compartment = 'e_RPE_PR'\n",
    "    for r in rxn.reactants:\n",
    "        if 'e_RPE' in r.id:\n",
    "            r.id = r.id.replace('e_RPE','e_RPE_PR')\n",
    "            r.compartment = 'e_RPE_PR'\n",
    "    mod_RPE.add_reactions([rxn])\n",
    "    \n",
    "# add RPE_PR interface reactions to PR model (rxn_PR-RPE = PR <--> RPE_PR interface)\n",
    "for rxn in [r for r in mod_PR.reactions if 'e_PR' in r.reaction]:\n",
    "    rxn.id = rxn.id.replace('_PR','_PR_RPE')\n",
    "    for p in rxn.products:\n",
    "        if 'e_PR' in p.id:\n",
    "            p.id = p.id.replace('e_PR','e_RPE_PR')\n",
    "            p.compartment = 'e_RPE_PR'\n",
    "    for r in rxn.reactants:\n",
    "        if 'e_PR' in r.id:\n",
    "            r.id = r.id.replace('e_PR','e_RPE_PR')\n",
    "            r.compartment = 'e_RPE_PR'"
   ]
  },
  {
   "cell_type": "code",
   "execution_count": 32,
   "id": "0c5fe8ce-8004-4ff6-8122-1c83b091b4db",
   "metadata": {},
   "outputs": [
    {
     "name": "stdout",
     "output_type": "stream",
     "text": [
      "Read LP format model from file C:\\Users\\prins\\AppData\\Local\\Temp\\tmpv9w47k54.lp\n",
      "Reading time = 0.10 seconds\n",
      ": 7182 rows, 19688 columns, 65842 nonzeros\n"
     ]
    }
   ],
   "source": [
    "# fuse RPE and PR model\n",
    "from cobra import Model\n",
    "# mod_RPE_PR = Model('RPE_PR model')\n",
    "mod_RPE_PR = mod_RPE.copy()\n",
    "mod_RPE_PR.id = 'RPE_PR'\n",
    "mod_RPE_PR.add_reactions(mod_PR.reactions)"
   ]
  },
  {
   "cell_type": "code",
   "execution_count": 33,
   "id": "94ef5f5e-3f68-462c-aa43-d6599716b12c",
   "metadata": {},
   "outputs": [
    {
     "name": "stderr",
     "output_type": "stream",
     "text": [
      "C:\\Users\\prins\\miniconda3\\envs\\RPE-PR\\lib\\site-packages\\cobra\\core\\model.py:778: UserWarning: need to pass in a list\n",
      "  warn(\"need to pass in a list\")\n"
     ]
    }
   ],
   "source": [
    "# list reaction IDs to be deleted (because their reactions are duplicated)\n",
    "import pandas as pd\n",
    "df = pd.DataFrame([[r.id, r.reaction] for r in mod_RPE_PR.reactions \\\n",
    "                   if r.compartments == {'e_RPE_PR'}], columns=['id','reaction'])\n",
    "l  = list(df['id'][df['reaction'].duplicated()])\n",
    "\n",
    "# delete duplicated reactions and change reaction IDs (suffix: _eRPE_PR) \n",
    "# of the reactions that only involve the e_RPE_PR compartment (interface)\n",
    "for r in [r for r in mod_RPE_PR.reactions if r.compartments=={'e_RPE_PR'}]: \n",
    "    if r.id in l:\n",
    "        mod_RPE_PR.remove_reactions(r.id)\n",
    "    elif '_RPE_PR' in r.id:\n",
    "        r.id = r.id.replace('_RPE_PR','_eRPE_PR')\n",
    "    elif '_PR-RPE' in r.id:\n",
    "        r.id = r.id.replace('_PR_RPE','_eRPE_PR')\n",
    "        ,\n",
    "def fix_compartment_dict(model):\n",
    "    new_compartment_dict = model.compartments.copy()\n",
    "    for k in list(new_compartment_dict.keys()):\n",
    "        new_compartment_dict[k] = k \n",
    "    model.compartments = new_compartment_dict\n",
    "    return model\n",
    "fix_compartment_dict(mod_RPE_PR)\n",
    "\n",
    "# close lower bounds of exchange reactions into RPE_PR interface space (nothing allowed in from outside)\n",
    "rxns = [r for r in mod_RPE_PR.reactions if len(r.products)==0 if r.lower_bound<0 if 'eRPE_PR' in r.id]\n",
    "for rxn in rxns: rxn.lower_bound = 0\n",
    "\n",
    "# set objective function\n",
    "mod_RPE_PR.objective = 'MAR03964_PR'"
   ]
  },
  {
   "cell_type": "code",
   "execution_count": 34,
   "id": "5c76f964-4199-4f34-8267-e4977002ff72",
   "metadata": {},
   "outputs": [],
   "source": [
    "# set objective function\n",
    "mod_RPE_PR.objective = 'MAR03964_PR'"
   ]
  },
  {
   "cell_type": "code",
   "execution_count": 35,
   "id": "1d4e2e09-4d85-41fd-ad48-13ab5ab12e95",
   "metadata": {},
   "outputs": [
    {
     "data": {
      "text/html": [
       "\n",
       "        <table>\n",
       "            <tr>\n",
       "                <td><strong>Name</strong></td>\n",
       "                <td>RPE_PR</td>\n",
       "            </tr><tr>\n",
       "                <td><strong>Memory address</strong></td>\n",
       "                <td>198de490670</td>\n",
       "            </tr><tr>\n",
       "                <td><strong>Number of metabolites</strong></td>\n",
       "                <td>10436</td>\n",
       "            </tr><tr>\n",
       "                <td><strong>Number of reactions</strong></td>\n",
       "                <td>14282</td>\n",
       "            </tr><tr>\n",
       "                <td><strong>Number of genes</strong></td>\n",
       "                <td>2268</td>\n",
       "            </tr><tr>\n",
       "                <td><strong>Number of groups</strong></td>\n",
       "                <td>142</td>\n",
       "            </tr><tr>\n",
       "                <td><strong>Objective expression</strong></td>\n",
       "                <td>1.0*MAR03964_PR - 1.0*MAR03964_PR_reverse_e8402</td>\n",
       "            </tr><tr>\n",
       "                <td><strong>Compartments</strong></td>\n",
       "                <td>c_RPE, r_RPE, e_RPE, m_RPE, x_RPE, g_RPE, l_RPE, n_RPE, i_RPE, e_RPE_PR, c_PR, x_PR, m_PR, g_PR, r_PR, l_PR, i_PR</td>\n",
       "            </tr>\n",
       "          </table>"
      ],
      "text/plain": [
       "<Model RPE_PR at 0x198de490670>"
      ]
     },
     "execution_count": 35,
     "metadata": {},
     "output_type": "execute_result"
    }
   ],
   "source": [
    "mod_RPE_PR "
   ]
  },
  {
   "cell_type": "code",
   "execution_count": 36,
   "id": "b94a3288-c063-4044-98e1-8cfef2ef0010",
   "metadata": {},
   "outputs": [
    {
     "data": {
      "text/html": [
       "\n",
       "        <table>\n",
       "            <tr>\n",
       "                <td><strong>Name</strong></td>\n",
       "                <td>RPE_PR</td>\n",
       "            </tr><tr>\n",
       "                <td><strong>Memory address</strong></td>\n",
       "                <td>19b60590640</td>\n",
       "            </tr><tr>\n",
       "                <td><strong>Number of metabolites</strong></td>\n",
       "                <td>10436</td>\n",
       "            </tr><tr>\n",
       "                <td><strong>Number of reactions</strong></td>\n",
       "                <td>14282</td>\n",
       "            </tr><tr>\n",
       "                <td><strong>Number of genes</strong></td>\n",
       "                <td>2268</td>\n",
       "            </tr><tr>\n",
       "                <td><strong>Number of groups</strong></td>\n",
       "                <td>142</td>\n",
       "            </tr><tr>\n",
       "                <td><strong>Objective expression</strong></td>\n",
       "                <td>1.0*MAR03964_PR - 1.0*MAR03964_PR_reverse_e8402</td>\n",
       "            </tr><tr>\n",
       "                <td><strong>Compartments</strong></td>\n",
       "                <td>c_RPE, r_RPE, e_RPE, m_RPE, x_RPE, g_RPE, l_RPE, n_RPE, i_RPE, e_RPE_PR, c_PR, x_PR, m_PR, g_PR, r_PR, l_PR, i_PR</td>\n",
       "            </tr>\n",
       "          </table>"
      ],
      "text/plain": [
       "<Model RPE_PR at 0x19b60590640>"
      ]
     },
     "execution_count": 36,
     "metadata": {},
     "output_type": "execute_result"
    }
   ],
   "source": [
    "from cobra.io import write_sbml_model, read_sbml_model\n",
    "write_sbml_model(mod_RPE_PR, \"mod_RPE_PR.xml\")\n",
    "read_sbml_model('C:/Users/prins/GitHub/Human1_RPE-PR/mod_RPE_PR.xml')"
   ]
  },
  {
   "cell_type": "code",
   "execution_count": 30,
   "id": "d954cb4c-483f-4f45-8747-4476f1e9be00",
   "metadata": {},
   "outputs": [
    {
     "data": {
      "text/plain": [
       "(<Model RPE at 0x19a91369840>,\n",
       " {'SBML_FATAL': [],\n",
       "  'SBML_ERROR': [],\n",
       "  'SBML_SCHEMA_ERROR': [],\n",
       "  'SBML_WARNING': [],\n",
       "  'COBRA_FATAL': [],\n",
       "  'COBRA_ERROR': [],\n",
       "  'COBRA_WARNING': [],\n",
       "  'COBRA_CHECK': []})"
      ]
     },
     "execution_count": 30,
     "metadata": {},
     "output_type": "execute_result"
    }
   ],
   "source": [
    "cobra.io.sbml.validate_sbml_model('C:/Users/prins/GitHub/Human1_RPE-PR/mod_RPE_PR.xml')"
   ]
  },
  {
   "cell_type": "code",
   "execution_count": null,
   "id": "8073455d-e7b9-4a40-bc77-f7f51d1f0aa6",
   "metadata": {},
   "outputs": [],
   "source": []
  },
  {
   "cell_type": "code",
   "execution_count": null,
   "id": "03cf95f8-286f-4638-9cf9-3a908675a4f7",
   "metadata": {},
   "outputs": [],
   "source": [
    "\n",
    "# check compartment info M_MAM02040e_RPE__45__PR\n",
    "\n",
    "mod_RPE_PR.metabolites.get_by_id('MAM02040e_RPE_PR').compartment\n",
    "\n"
   ]
  },
  {
   "cell_type": "code",
   "execution_count": null,
   "id": "3d204b5a-84ea-46d2-9302-de59ea0aa5d4",
   "metadata": {},
   "outputs": [],
   "source": [
    "# set bounds Exchange reactions (lower bounds -1000, upper bounds based on file info)  \n",
    "\n",
    "# import excel file with info on exchange upper bounds \n",
    "# file contains 'id' col with IDs and an 'upper_bound' col with upper bounds to modify\n",
    "bounds = pd.read_excel(folder / 'rxn_bounds' / 'R3D301_EX_rxns.xlsx')\n",
    "bounds = bounds[bounds['upper_bound']>0] # select entries with non-zero upper bounds\n",
    "\n",
    "for i in range(len(bounds)): \n",
    "    models[k_i].reactions.get_by_id(bounds['id'][i]).bounds = (-bounds['upper_bound'][i],1000)   "
   ]
  },
  {
   "cell_type": "code",
   "execution_count": null,
   "id": "9201811b-7d19-4d60-890f-bb8ddb1dcb3a",
   "metadata": {},
   "outputs": [],
   "source": [
    "# open RPE exchange reactions\n",
    "for i in range(len(bounds)): \n",
    "    mod_RPE_PR.reactions.get_by_id(bounds['id'][i]+'_RPE').bounds = (-bounds['upper_bound'][i],1000)   "
   ]
  },
  {
   "cell_type": "code",
   "execution_count": null,
   "id": "f805383b-b3e5-408d-bc85-ddf4f2b160e5",
   "metadata": {},
   "outputs": [],
   "source": [
    "# ATP demand reactions RPE\n",
    "mod_RPE_PR.reactions.get_by_id('MAR03964_RPE')"
   ]
  },
  {
   "cell_type": "code",
   "execution_count": null,
   "id": "5612ab73-d7c8-49f8-bb52-757997f078b6",
   "metadata": {},
   "outputs": [],
   "source": [
    "# ATP demand reactions PR\n",
    "mod_RPE_PR.reactions.get_by_id('MAR03964_PR')"
   ]
  },
  {
   "cell_type": "code",
   "execution_count": null,
   "id": "44473869-5c12-4868-8950-061d5c6ec948",
   "metadata": {},
   "outputs": [],
   "source": [
    "# glucose exchange reaction RPE\n",
    "mod_RPE_PR.reactions.get_by_id('MAR09034_RPE')"
   ]
  },
  {
   "cell_type": "code",
   "execution_count": null,
   "id": "a7af209f-c38b-4231-b90b-53ed1892c59a",
   "metadata": {},
   "outputs": [],
   "source": [
    "# OBJECTIVE \n",
    "# set maximizing the ATP demand in PR as objective\n",
    "mod_RPE_PR.objective = mod_RPE_PR.reactions.get_by_id('MAR03964_PR').flux_expression\n",
    "solution = mod_RPE_PR.optimize()\n",
    "print(solution)"
   ]
  },
  {
   "cell_type": "code",
   "execution_count": null,
   "id": "fc3519a1-a010-4019-9039-2c57ed1e06fd",
   "metadata": {},
   "outputs": [],
   "source": [
    "def get_vmh_id(reaction):\n",
    "    vmh_id = ''\n",
    "    if 'vmhreaction' in reaction.annotation.keys(): \n",
    "        vmh_id = reaction.annotation['vmhreaction']\n",
    "    return  vmh_id\n",
    "    \n",
    "df= pd.DataFrame([[get_vmh_id(r),r.name,r.subsystem,r.reaction,r.build_reaction_string(use_metabolite_names = True)] \\\n",
    "              for r in mod_RPE_PR.reactions],\\\n",
    "                 index = [r.id  for r in mod_RPE_PR.reactions],\n",
    "             columns=['vmh id', 'name', 'subsystem', 'reaction (id)', 'reaction (name)'])"
   ]
  },
  {
   "cell_type": "code",
   "execution_count": null,
   "id": "59455fb8-b8bb-43d9-9a08-9aae65e40ad3",
   "metadata": {},
   "outputs": [],
   "source": [
    "objectives = {mod_RPE_PR.reactions.get_by_id('MAR03964_PR'): 2, mod_RPE_PR.reactions.get_by_id('MAR03964_RPE'): 1}\n",
    "\n",
    "from cobra.flux_analysis import flux_variability_analysis\n",
    "mod_RPE_PR.objective = 'MAR03964_PR'\n",
    "mod_RPE_PR.objective.expression\n",
    "fva = flux_variability_analysis(mod_RPE_PR, loopless=True)"
   ]
  },
  {
   "cell_type": "code",
   "execution_count": null,
   "id": "f5c4373a-5a90-4cbe-9593-f317a24b44a8",
   "metadata": {},
   "outputs": [],
   "source": [
    "pd.merge(df, solution.to_frame(), left_index=True, right_index=True)"
   ]
  },
  {
   "cell_type": "code",
   "execution_count": null,
   "id": "1c2fc469-c33d-426d-b066-e0ff4c82b5eb",
   "metadata": {},
   "outputs": [],
   "source": [
    "solution.to_frame()"
   ]
  },
  {
   "cell_type": "code",
   "execution_count": null,
   "id": "b0305bac-1d9f-4b54-8ddf-fd61ddc851dd",
   "metadata": {},
   "outputs": [],
   "source": []
  },
  {
   "cell_type": "code",
   "execution_count": null,
   "id": "a9a7de74-e532-432d-b65c-8495f77867e2",
   "metadata": {},
   "outputs": [],
   "source": [
    "from cobra.flux_analysis.loopless import add_loopless, loopless_solution\n",
    "solution_loopless = loopless_solution(mod_RPE_PR)\n",
    "\n",
    "import pandas\n",
    "df = pandas.DataFrame(dict(loopless=solution_loopless.fluxes, nominal=solution.fluxes))"
   ]
  },
  {
   "cell_type": "code",
   "execution_count": null,
   "id": "58e3a087-9320-4148-8a61-328e37972159",
   "metadata": {},
   "outputs": [],
   "source": [
    "solution_loopless"
   ]
  },
  {
   "cell_type": "code",
   "execution_count": null,
   "id": "0bc871e7-e690-42ec-aae9-1afe036000e6",
   "metadata": {},
   "outputs": [],
   "source": [
    "df"
   ]
  },
  {
   "cell_type": "code",
   "execution_count": null,
   "id": "17795084-c7bb-49c7-90db-d5656b399705",
   "metadata": {},
   "outputs": [],
   "source": [
    "# \n",
    "#with mod_RPE_PR:\n",
    "#    add_loopless(mod_RPE_PR)\n",
    "#    solution_add_loopless = mod_RPE_PR.optimize()\n",
    "#print(\"loopless solution: status = \" + solution_add_loopless.status)\n",
    "#print(\"loopless solution flux: v3 = %.1f\" % solution_add_loopless.fluxes[\"v3\"])\n",
    "# solution_add_loopless.fluxes"
   ]
  },
  {
   "cell_type": "code",
   "execution_count": null,
   "id": "dc407176-484f-4aa9-b03f-acf5c659a28d",
   "metadata": {},
   "outputs": [],
   "source": [
    "mod_RPE_PR.summary()"
   ]
  },
  {
   "cell_type": "code",
   "execution_count": null,
   "id": "aacef1c8-124b-474a-afc3-678bbb75c2d9",
   "metadata": {},
   "outputs": [],
   "source": [
    "solution_loopless"
   ]
  },
  {
   "cell_type": "code",
   "execution_count": null,
   "id": "76ffedbd-695d-4f58-a3fc-86fea47f11f1",
   "metadata": {},
   "outputs": [],
   "source": [
    "from cobra.flux_analysis import pfba\n",
    "solution_pfba = pfba(mod_RPE_PR)\n",
    "print(\"parsimonious solution: status = \" + solution_pfba.status)"
   ]
  },
  {
   "cell_type": "code",
   "execution_count": null,
   "id": "15bb8b85-5a07-406e-96e9-1edc68c987fa",
   "metadata": {},
   "outputs": [],
   "source": [
    "solution_pfba"
   ]
  },
  {
   "cell_type": "code",
   "execution_count": null,
   "id": "e6d0e169-27d0-44d0-889f-9834616dfe5a",
   "metadata": {},
   "outputs": [],
   "source": [
    "solution_pfba.fluxes"
   ]
  },
  {
   "cell_type": "code",
   "execution_count": null,
   "id": "3ccc9901-a3f5-4568-8cf8-93732e6b4665",
   "metadata": {},
   "outputs": [],
   "source": [
    "solution_pfba.to_frame()"
   ]
  },
  {
   "cell_type": "code",
   "execution_count": null,
   "id": "bd50d7f9-c453-49d5-a8e5-4a4fe350d60e",
   "metadata": {},
   "outputs": [],
   "source": [
    "s = mod_RPE_PR.summary(fva=0.95)"
   ]
  },
  {
   "cell_type": "code",
   "execution_count": null,
   "id": "00cb5336-e665-4757-b092-e91ff1de51a8",
   "metadata": {},
   "outputs": [],
   "source": [
    "solution.to_frame()"
   ]
  },
  {
   "cell_type": "code",
   "execution_count": null,
   "id": "d069ca5e-01df-44c7-9499-d91a89c55b4e",
   "metadata": {},
   "outputs": [],
   "source": [
    "s.to_frame()"
   ]
  },
  {
   "cell_type": "code",
   "execution_count": null,
   "id": "6671d7fd-e3bf-4e59-9e1c-4266fbc0e488",
   "metadata": {},
   "outputs": [],
   "source": [
    "mod_RPE_PR.reactions.get_by_id('MAR09034_RPE')"
   ]
  },
  {
   "cell_type": "code",
   "execution_count": null,
   "id": "2babb7d0-f927-4b44-b605-3ae69b3b2f96",
   "metadata": {},
   "outputs": [],
   "source": [
    "# with mod_RPE_PR:\n",
    "#    add_loopless(mod_RPE_PR)\n",
    "#    try: solution = mod_RPE_PR.optimize()\n",
    "#    except: print('model is infeasible')"
   ]
  },
  {
   "cell_type": "code",
   "execution_count": null,
   "id": "c2d096d9-a085-4864-b08d-8278d4033756",
   "metadata": {},
   "outputs": [],
   "source": [
    "# FVA\n",
    "#from cobra.flux_analysis import flux_variability_analysis\n",
    "#flux_variability_analysis(mod_RPE_PR,loopless=True)"
   ]
  },
  {
   "cell_type": "code",
   "execution_count": null,
   "id": "54d00424-6ea8-4313-ac8b-6df0f1b79280",
   "metadata": {},
   "outputs": [],
   "source": [
    "# list all exchange and demand reactions matching Human1 and VMH IDs\n",
    "def get_vmh_id(reaction):\n",
    "    if 'vmhreaction' in reaction.annotation.keys(): vmh_id = reaction.annotation['vmhreaction']\n",
    "    else: vmh_id = ''\n",
    "    return vmh_id\n",
    "df_EX_rxns = pd.DataFrame([[r.id,get_vmh_id(r),r.name,r.reaction,r.build_reaction_string(use_metabolite_names = True)] \\\n",
    "              for r in mod.reactions if len(r.products) == 0],columns=['id','vmh id','name','reaction','reaction (names)'])\n",
    "df_EX_rxns"
   ]
  },
  {
   "cell_type": "code",
   "execution_count": null,
   "id": "2d7ad835-e518-420a-8ee9-3eabbc30bf3f",
   "metadata": {},
   "outputs": [],
   "source": [
    "# ATP metabolites\n",
    "ATP_mets = [[met.id,met.name] for met in mod_RPE_PR.metabolites if met.name=='ATP']\n",
    "pd.DataFrame(ATP_mets,columns=['ID','name'])\n",
    "\n",
    "# ATP reactions\n",
    "ATP_rxns = [[r.id,get_vmh_id(r),r.name,r.subsystem,r.reaction,r.build_reaction_string(use_metabolite_names = True)] \\\n",
    "            for r in mod_RPE_PR.reactions if 'MAM01371' in r.reaction]\n",
    "\n",
    "pd.DataFrame(ATP_rxns,columns=['id','vmh id', 'name', 'subsystem', 'reaction (id)', 'reaction (name)'])"
   ]
  },
  {
   "cell_type": "code",
   "execution_count": null,
   "id": "1baf6e4c-a8ef-471e-8e03-b7cc80794ab5",
   "metadata": {},
   "outputs": [],
   "source": [
    "# list all exchange and demand reactions\n",
    "df_EX_rxns_human1 = pd.DataFrame([[r.id,get_vmh_id(r),r.name,r.reaction,r.build_reaction_string(use_metabolite_names = True)] \\\n",
    "              for r in mod.reactions if len(r.products)==0],columns=['id','vmh id','name','reaction','reaction (names)'])\n",
    "df_EX_rxns.to_clipboard(excel=True, sep=None)\n",
    "df_EX_rxns"
   ]
  },
  {
   "cell_type": "code",
   "execution_count": null,
   "id": "c9d2f846-4f69-42bb-9c5c-4d1cd9333af5",
   "metadata": {},
   "outputs": [],
   "source": [
    "# match VMH_IDs from bounds file to Human1 IDs to create 'R3D301_EX_rxns_RPE_PR.xlsx'\n",
    "\n",
    "# import excel file with info on bounds\n",
    "bounds = pd.read_excel(folder / 'rxn_bounds' / 'files PL' / 'R3D301_EX_rxns.xlsx')\n",
    "\n",
    "# vmh_id lookup table + look up RPE rxn\n",
    "df_vmh_id = pd.DataFrame([[get_vmh_id(r),r.id,r.id+'_RPE'] for r in mod.reactions if 'EX_' in get_vmh_id(r)],columns=['vmh_id','human1_id','id'])\n",
    "merged_df = df_vmh_id.merge(bounds, how = 'right', on = ['vmh_id'])\n",
    "merged_df.to_clipboard(excel=True, sep=None)\n",
    "merged_df"
   ]
  },
  {
   "cell_type": "code",
   "execution_count": null,
   "id": "7e42afc3-f9b1-4f5e-a0d7-f18087903fa9",
   "metadata": {},
   "outputs": [],
   "source": [
    "# biomass reaction\n",
    "mod.reactions.get_by_id('MAR04413') \n",
    "\n",
    "pd.DataFrame([[r.id,r.name,r.reaction,r.reaction,r.build_reaction_string(use_metabolite_names = True)]\\\n",
    "              for r in mod_RPE_PR.reactions if 'biomass' in r.name])"
   ]
  },
  {
   "cell_type": "code",
   "execution_count": null,
   "id": "71fc53e0-f9e7-4956-94ef-0c8b4cbc8c0f",
   "metadata": {},
   "outputs": [],
   "source": [
    "mod.reactions.get_by_id('MAR13082') "
   ]
  }
 ],
 "metadata": {
  "kernelspec": {
   "display_name": "Python 3 (ipykernel)",
   "language": "python",
   "name": "python3"
  },
  "language_info": {
   "codemirror_mode": {
    "name": "ipython",
    "version": 3
   },
   "file_extension": ".py",
   "mimetype": "text/x-python",
   "name": "python",
   "nbconvert_exporter": "python",
   "pygments_lexer": "ipython3",
   "version": "3.10.9"
  }
 },
 "nbformat": 4,
 "nbformat_minor": 5
}
