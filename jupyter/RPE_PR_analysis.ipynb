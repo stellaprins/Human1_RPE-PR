{
 "cells": [
  {
   "cell_type": "code",
   "execution_count": 54,
   "id": "ef358771-71a1-485d-871e-d396b5f75a52",
   "metadata": {},
   "outputs": [],
   "source": [
    "# set cwd and solver\n",
    "import os\n",
    "import cobra\n",
    "cobra.Configuration().solver = \"gurobi\"\n",
    "os.chdir('C:/Users/prins/GitHub/Human1_RPE-PR') "
   ]
  },
  {
   "cell_type": "code",
   "execution_count": 2,
   "id": "e997c4d1-31c9-455b-83e4-ce6c5718f4ca",
   "metadata": {},
   "outputs": [
    {
     "name": "stdout",
     "output_type": "stream",
     "text": [
      "Set parameter Username\n",
      "Academic license - for non-commercial use only - expires 2024-02-03\n"
     ]
    }
   ],
   "source": [
    "# load combined RPE_PR models\n",
    "from pathlib import Path\n",
    "from cobra.io import read_sbml_model\n",
    "\n",
    "mod_RPE_PR = read_sbml_model(Path().cwd() /  \"mod_RPE_PR.xml\")\n",
    "mod_Human1_Human1 = read_sbml_model(Path().cwd() /  \"mod_Human1_Human1.xml\")\n",
    "mod_Recon3D_Recon3D = read_sbml_model(Path().cwd() /  \"mod_Recon3D_Recon3D.xml\")\n",
    "mitocore = read_sbml_model(Path().cwd() /  \"mitocore_12918_2017_500_MOESM4_ESM.xml\")"
   ]
  },
  {
   "cell_type": "code",
   "execution_count": 3,
   "id": "35853197-8470-4ccd-bc14-81f01c4a6d76",
   "metadata": {},
   "outputs": [],
   "source": [
    "# modify models\n",
    "\n",
    "# set objective function (PR ATP DM)\n",
    "mod_RPE_PR.objective = 'MAR03964_PR'\n",
    "mod_Human1_Human1.objective = 'MAR03964_PR'\n",
    "mod_Recon3D_Recon3D.objective = 'DM_atp_c__PR'\n",
    "\n",
    "\n",
    "# close PR exchange reactions, open RPE exchange upper boundaries\n",
    "from src.modify_model import close_PR_EX, open_RPE_EX_ub, close_EX\n",
    "models = [mod_RPE_PR, mod_Human1_Human1, mod_Recon3D_Recon3D]\n",
    "for m in models:\n",
    "    m = close_PR_EX(m)\n",
    "    m = open_RPE_EX_ub(m)\n",
    "    \n",
    "# mitocore = close_EX(mitocore)"
   ]
  },
  {
   "cell_type": "code",
   "execution_count": null,
   "id": "345957ab-c76d-483e-816a-11af83bb270a",
   "metadata": {},
   "outputs": [],
   "source": [
    "# set simulation parameters\n",
    "from src.analysis import create_permutation_dicts\n",
    "\n",
    "# experimental values in dicts with rxn ID as key and bounds (lb,ub) as values\n",
    "Human1_dict = {'MAR09048_RPE':[(-10,1000)],'MAR09034_RPE':[(-30, 1000)],'MAR03964_RPE':[(0,0),(40,40),(80,80)]}\n",
    "Recon3D_dict = {'EX_o2s[e]_RPE':[(-10,1000)],'EX_glc_D[e]_RPE':[(-30,1000)],'DM_atp_c__RPE':[(0,0),(40,40),(80,80)]}\n",
    "mitocore_dict = {'EX_o2_e':[(-1000,1000)],'EX_glc_D_e':[(-300,1000)]}\n",
    "\n",
    "\n",
    "Human1_dict_p = create_permutation_dicts(Human1_dict)\n",
    "Recon3D_dict_p = create_permutation_dicts(Recon3D_dict)\n",
    "mitocore_dict_p = create_permutation_dicts(mitocore_dict)"
   ]
  },
  {
   "cell_type": "code",
   "execution_count": null,
   "id": "0e99cd83-aa34-431b-85e0-6c86e88d4807",
   "metadata": {},
   "outputs": [],
   "source": [
    "mitocore_dict_p"
   ]
  },
  {
   "cell_type": "code",
   "execution_count": null,
   "id": "65aff2d4-b656-4ee0-a84d-169434dbc497",
   "metadata": {},
   "outputs": [],
   "source": [
    "mitocore.reactions.get_by_id('EX_glc_D_e')"
   ]
  },
  {
   "cell_type": "code",
   "execution_count": null,
   "id": "9af1ffc7-bfb7-4ea7-b836-d4bf2b346a57",
   "metadata": {},
   "outputs": [],
   "source": [
    "\n",
    "    for d in mitocore_dict_p:\n",
    "        for k in d:\n",
    "            mitocore.reactions.get_by_id(k).bounds = d[k] # set bounds defined in dict\n",
    "            print(model.reactions.get_by_id(k).bounds)\n",
    "        print(d)\n",
    "        fba = mitocore.optimize()        \n",
    "        print(fba.objective_value)\n",
    "        fba_results = fba.to_frame() # df FBA results\n",
    "        fba_results.columns = fba_results.columns + '_' + str(d) # add RPE_ATP to FBA column names\n"
   ]
  },
  {
   "cell_type": "code",
   "execution_count": null,
   "id": "d7f1fd41-bb3f-4d81-81b8-5acf8b459595",
   "metadata": {},
   "outputs": [],
   "source": [
    "import time\n",
    "\n",
    "start = time.time()\n",
    "with mod_RPE_PR as model:\n",
    "    for d in Human1_dict_p:\n",
    "        for k in d:\n",
    "            model.reactions.get_by_id(k).bounds = d[k] # set bounds defined in dict\n",
    "        print(d)\n",
    "        fba = model.optimize()\n",
    "        fba_results = fba.to_frame() # df FBA results\n",
    "        fba_results.columns = fba_results.columns + '_' + str(d) # add RPE_ATP to FBA column names\n",
    "end = time.time()\n",
    "print(end - start)"
   ]
  },
  {
   "cell_type": "code",
   "execution_count": null,
   "id": "8d266697-48eb-43a7-897b-77a69fa4bd5a",
   "metadata": {},
   "outputs": [],
   "source": [
    "import time\n",
    "from cobra.flux_analysis import flux_variability_analysis\n",
    "\n",
    "start = time.time()\n",
    "with mod_RPE_PR as model:\n",
    "    for d in Human1_dict_p:\n",
    "        for k in d:\n",
    "            model.reactions.get_by_id(k).bounds = d[k] # set bounds defined in dict\n",
    "        print(d)\n",
    "        fba = model.optimize()\n",
    "        fba_results = fba.to_frame() # df FBA results\n",
    "        fba_results.columns = fba_results.columns + '_' + str(d) # add RPE_ATP to FBA column names\n",
    "        fva_full = flux_variability_analysis(model, loopless=False)\n",
    "end = time.time()\n",
    "print(end - start)"
   ]
  },
  {
   "cell_type": "code",
   "execution_count": null,
   "id": "fcc659d7-094a-434e-8692-84db96a15056",
   "metadata": {},
   "outputs": [],
   "source": [
    "2.1230275630950928 / 3"
   ]
  },
  {
   "cell_type": "code",
   "execution_count": null,
   "id": "aee9dfef-9e18-4b32-ac70-c4a31668c477",
   "metadata": {},
   "outputs": [],
   "source": [
    "1693.1312663555145 / 2.1230275630950928 / 3 / 60"
   ]
  },
  {
   "cell_type": "code",
   "execution_count": null,
   "id": "3d03184b-8974-4656-96bd-5515f529ecdc",
   "metadata": {},
   "outputs": [],
   "source": [
    "import pandas as pd\n",
    "import numpy as np\n",
    "df = pd.DataFrame(d).T\n",
    "df.columns = pd.MultiIndex.from_product([[\"new_label\"], df.columns])\n",
    "df"
   ]
  },
  {
   "cell_type": "code",
   "execution_count": null,
   "id": "03a65018-bc08-49b7-8a40-d86f942d267a",
   "metadata": {},
   "outputs": [],
   "source": [
    "with mod_RPE_PR as model:\n",
    "    for d in Human1_dict_p:\n",
    "        for k in d:\n",
    "            model.reactions.get_by_id(k).bounds = d[k] # set bounds defined in dict\n",
    "        print(d)\n",
    "        fba = model.optimize()\n",
    "        fba_results = fba.to_frame() # df FBA results\n",
    "        fba_results.columns = fba_results.columns + '_' + str(d) # add RPE_ATP to FBA column names\n",
    "        print(fba.objective_value)"
   ]
  },
  {
   "cell_type": "code",
   "execution_count": null,
   "id": "3580b0c7-c26f-4ed4-9def-6e3e9962ea3f",
   "metadata": {},
   "outputs": [],
   "source": [
    "with mod_Human1_Human1 as model:\n",
    "    for d in Human1_dict_p:\n",
    "        for k in d:\n",
    "            model.reactions.get_by_id(k).bounds = d[k] # set bounds defined in dict\n",
    "        print(d)\n",
    "        fba = model.optimize()\n",
    "        fba_results = fba.to_frame() # df FBA results\n",
    "        fba_results.columns = fba_results.columns + '_' + str(d) # add RPE_ATP to FBA column names\n",
    "        print(fba.objective_value)"
   ]
  },
  {
   "cell_type": "code",
   "execution_count": null,
   "id": "b717c432-714d-409a-8a6d-37e142ad8776",
   "metadata": {},
   "outputs": [],
   "source": [
    "with mod_Recon3D_Recon3D as model:\n",
    "    for d in Recon3D_dict_p:\n",
    "        for k in d:\n",
    "            model.reactions.get_by_id(k).bounds = d[k] # set bounds defined in dict\n",
    "        print(d)\n",
    "        fba = model.optimize()\n",
    "        fba_results = fba.to_frame() # df FBA results\n",
    "        fba_results.columns = fba_results.columns + '_' + str(d) # add RPE_ATP to FBA column names\n",
    "        print(fba.objective_value)"
   ]
  },
  {
   "cell_type": "code",
   "execution_count": null,
   "id": "0f88db03-a4ff-4bf0-908c-c1c302863b4d",
   "metadata": {},
   "outputs": [],
   "source": [
    "    for x in RPE_ATP:\n",
    "        model.reactions.get_by_id(DM_atp_c__PR_rxn_id).bounds=(x,x) # set bounds\n",
    "        try:\n",
    "            fba_results = model.optimize() # traditional FBA\n",
    "            fba = fba_results.to_frame() # df FBA results\n",
    "            fba.columns = fba.columns + '_' + str(x) # add RPE_ATP to FBA column names\n",
    "            df_FBA_fluxes = pd.concat([df_FBA_fluxes, fba.iloc[:,0]], axis=1) # fill df flux results\n",
    "            df_FBA_costs = pd.concat([df_FBA_costs, fba.iloc[:,1]], axis=1) # fill df reduced costs\n",
    "        except:\n",
    "            pass\n",
    "        \n",
    "        #try:\n",
    "            #fva_full = flux_variability_analysis(model, loopless=False) # FVA \n",
    "            #fva_full.columns = fva_full.columns + '_' + str(x) # add RPE_ATP to FVA column names\n",
    "            #df_FVA_full = pd.concat([df_FVA_full, fva_full], axis=1) # fill df FVA results\n",
    "        #except:\n",
    "           # pass\n",
    "        df_l = [df_FVA_full, df_FBA_fluxes]\n",
    "        # df_l = [df_FVA_full, df_FBA_fluxes, df_FBA_costs]\n",
    "        #df_results = rxns\n",
    "        df_results = pd.DataFrame()\n",
    "        df_results = pd.concat(df_l, axis=1) \n",
    "    # fix column order\n",
    "    min_max_flux = [i for i in list(df_results.columns) if 'min' in i] + \\\n",
    "                [i for i in list(df_results.columns) if 'max' in i] + \\\n",
    "                [i for i in list(df_results.columns) if 'flux' in i] \n",
    "\n",
    "    df_results = df_results.reindex([i for i in list(df_results.columns) if i not in min_max_flux] + min_max_flux, axis = 1)"
   ]
  },
  {
   "cell_type": "code",
   "execution_count": null,
   "id": "5aed80af-dc78-4e54-b51a-0453ce442224",
   "metadata": {},
   "outputs": [],
   "source": [
    "with mod_Human1_Human1 as model:\n",
    "    for d in Human1_dict_p:\n",
    "        for k in d:\n",
    "            model.reactions.get_by_id(k).bounds = d[k] \n",
    "        print(d)\n",
    "        fba = model.optimize()\n",
    "        print(fba.objective_value)"
   ]
  },
  {
   "cell_type": "code",
   "execution_count": null,
   "id": "ed83f342-ab75-4b34-b43a-e950e50fbc58",
   "metadata": {},
   "outputs": [],
   "source": [
    "with mod_RPE_PR_old as model:\n",
    "    for d in Human1_dict_p:\n",
    "        for k in d:\n",
    "            model.reactions.get_by_id(k).bounds = d[k] \n",
    "        print(d)\n",
    "        fba = model.optimize()\n",
    "        print(fba.objective_value)"
   ]
  },
  {
   "cell_type": "code",
   "execution_count": null,
   "id": "d3b7d648-1b47-4dbf-9404-30b7b23a40ba",
   "metadata": {},
   "outputs": [],
   "source": [
    "stop"
   ]
  },
  {
   "cell_type": "code",
   "execution_count": null,
   "id": "153ed0d4-49e2-46a9-a7c5-51fd05546afe",
   "metadata": {},
   "outputs": [],
   "source": [
    "from src.analysis import FVA_FBA_analysis\n",
    "from datetime import datetime\n",
    "from src.get_info import make_rxn_df\n",
    "import pandas as pd \n",
    "\n",
    "\n",
    "def analysis(model, o2_ID, EX_o2_e, glc_ID, EX_glc_D,ATP_RPE_ID):\n",
    "    df_collated = pd.DataFrame()\n",
    "    model.reactions.get_by_id(o2_ID).lower_bound = EX_o2_e\n",
    "    model.reactions.get_by_id(glc_ID).lower_bound = EX_glc_D\n",
    "    df_results = FVA_FBA_analysis(model,ATP_RPE_ID)\n",
    "    df_collated = pd.concat([df_collated, df_results], axis=1) \n",
    "    return df_collated"
   ]
  },
  {
   "cell_type": "code",
   "execution_count": null,
   "id": "7daec21f-a2cd-4581-a980-24856592d0bd",
   "metadata": {},
   "outputs": [],
   "source": [
    "rxns = make_rxn_df(mod_RPE_PR)\n",
    "dfa = analysis(mod_RPE_PR, 'MAR09048_RPE', 0 ,'MAR09034_RPE', -10,'MAR03964_RPE')\n",
    "dfb = analysis(mod_RPE_PR, 'MAR09048_RPE', -10 ,'MAR09034_RPE', -10,'MAR03964_RPE')\n",
    "dfc = analysis(mod_RPE_PR, 'MAR09048_RPE', 0 ,'MAR09034_RPE', -40,'MAR03964_RPE')\n",
    "dfd = analysis(mod_RPE_PR, 'MAR09048_RPE', -10 ,'MAR09034_RPE', -40,'MAR03964_RPE')\n",
    "df_collated = pd.concat([dfa, dfb, dfc, dfd], axis=1) \n",
    "\n",
    "df = pd.merge(rxns, df_collated, left_index=True, right_index=True)\n",
    "l = [c for c in df.columns if 'flux' in c]\n",
    "df = df[~(df[l] == 0).all(axis=1)]\n",
    "df.to_clipboard()"
   ]
  },
  {
   "cell_type": "code",
   "execution_count": null,
   "id": "9f514bab-9d23-4679-9812-85e93f100e88",
   "metadata": {},
   "outputs": [],
   "source": [
    "df.to_clipboard()"
   ]
  },
  {
   "cell_type": "code",
   "execution_count": null,
   "id": "a2079cdf-94a3-41ef-b997-86ad95102232",
   "metadata": {},
   "outputs": [],
   "source": [
    "rxns = make_rxn_df(mod_Human1_Human1)\n",
    "dfa = analysis(mod_Human1_Human1, 'MAR09048_RPE', 0 ,'MAR09034_RPE', -10,'MAR03964_RPE')\n",
    "dfb = analysis(mod_Human1_Human1, 'MAR09048_RPE', -10 ,'MAR09034_RPE', -10,'MAR03964_RPE')\n",
    "dfc = analysis(mod_Human1_Human1, 'MAR09048_RPE', 0 ,'MAR09034_RPE', -40,'MAR03964_RPE')\n",
    "dfd = analysis(mod_Human1_Human1, 'MAR09048_RPE', -10 ,'MAR09034_RPE', -40,'MAR03964_RPE')\n",
    "df_collated = pd.concat([dfa, dfb, dfc, dfd], axis=1) \n",
    "\n",
    "df = pd.merge(rxns, df_collated, left_index=True, right_index=True)\n",
    "l = [c for c in df.columns if 'flux' in c]\n",
    "df = df[~(df[l] == 0).all(axis=1)]\n",
    "df.to_clipboard()"
   ]
  },
  {
   "cell_type": "code",
   "execution_count": null,
   "id": "b0b5ba4e-0546-4f9a-ac48-368025a14702",
   "metadata": {},
   "outputs": [],
   "source": [
    "mod_Recon3D_Recon3D.reactions[1]"
   ]
  },
  {
   "cell_type": "code",
   "execution_count": null,
   "id": "2808edc0-203e-4628-b3a8-ef73175a9359",
   "metadata": {},
   "outputs": [],
   "source": [
    "rxns = make_rxn_df(mod_Recon3D_Recon3D)\n",
    "dfa = analysis(mod_Recon3D_Recon3D, 'EX_o2s[e]_RPE', 0 ,'EX_glc_D[e]_RPE', -10,'DM_atp_c__RPE')\n",
    "dfb = analysis(mod_Recon3D_Recon3D, 'EX_o2s[e]_RPE', -10,'EX_glc_D[e]_RPE', -10,'DM_atp_c__RPE')\n",
    "dfc = analysis(mod_Recon3D_Recon3D, 'EX_o2s[e]_RPE', 0 ,'EX_glc_D[e]_RPE', -40,'DM_atp_c__RPE')\n",
    "dfd = analysis(mod_Recon3D_Recon3D, 'EX_o2s[e]_RPE', -10 ,'EX_glc_D[e]_RPE', -40,'DM_atp_c__RPE')\n",
    "df_collated = pd.concat([dfa, dfb, dfc, dfd], axis=1) \n",
    "\n",
    "df = pd.merge(rxns, df_collated, left_index=True, right_index=True)\n",
    "l = [c for c in df.columns if 'flux' in c]\n",
    "df = df[~(df[l] == 0).all(axis=1)]\n",
    "df.to_clipboard()"
   ]
  },
  {
   "cell_type": "code",
   "execution_count": null,
   "id": "6323526d-d0d4-42f7-971b-40586b28c95e",
   "metadata": {},
   "outputs": [],
   "source": [
    "# opem PR exchange reactions in Recon3D model\n",
    "from src.modify_model import open_PR_EX\n",
    "mod_Recon3D_Recon3D_open = open_PR_EX(mod_Recon3D_Recon3D.copy(),-.00001,.00001)"
   ]
  },
  {
   "cell_type": "code",
   "execution_count": null,
   "id": "41b8c711-f698-4303-8955-586ccd1218c0",
   "metadata": {},
   "outputs": [],
   "source": [
    "mod_Recon3D_Recon3D_open"
   ]
  },
  {
   "cell_type": "code",
   "execution_count": null,
   "id": "21cad2c2-ca29-4f8d-a4da-1ca0a5b64a84",
   "metadata": {},
   "outputs": [],
   "source": [
    "rxns.to_clipboard()"
   ]
  },
  {
   "cell_type": "code",
   "execution_count": null,
   "id": "40573185-f5c6-4a89-a5ad-484fd2a6610d",
   "metadata": {},
   "outputs": [],
   "source": [
    "rxns = make_rxn_df(mod_Recon3D_Recon3D_open)\n",
    "dfa = analysis(mod_Recon3D_Recon3D_open, 'EX_o2s[e]_RPE', 0 ,'EX_glc_D[e]_RPE', -10,'DM_atp_c__RPE')\n",
    "dfb = analysis(mod_Recon3D_Recon3D_open, 'EX_o2s[e]_RPE', -10,'EX_glc_D[e]_RPE', -10,'DM_atp_c__RPE')\n",
    "dfc = analysis(mod_Recon3D_Recon3D_open, 'EX_o2s[e]_RPE', 0 ,'EX_glc_D[e]_RPE', -40,'DM_atp_c__RPE')\n",
    "dfd = analysis(mod_Recon3D_Recon3D_open, 'EX_o2s[e]_RPE', -10 ,'EX_glc_D[e]_RPE', -40,'DM_atp_c__RPE')\n",
    "df_collated = pd.concat([dfa, dfb, dfc, dfd], axis=1) \n",
    "\n",
    "df = pd.merge(rxns, df_collated, left_index=True, right_index=True)\n",
    "l = [c for c in df.columns if 'flux' in c]\n",
    "df = df[~(df[l] == 0).all(axis=1)]\n",
    "df.to_clipboard()"
   ]
  },
  {
   "cell_type": "code",
   "execution_count": null,
   "id": "eeee5200-b5d1-4630-92a2-e249cc43a50a",
   "metadata": {},
   "outputs": [],
   "source": [
    "from src.analysis import FVA_FBA_analysis\n",
    "from datetime import datetime\n",
    "from src.get_info import make_rxn_df\n",
    "import pandas as pd \n",
    "\n",
    "# make df with rxns in model\n",
    "datestr = datetime.strftime(datetime.now(), '%H%M_%d-%m-%Y')    \n",
    "results = dict()\n",
    "for model in models:\n",
    "    df_collated = pd.DataFrame()\n",
    "    i = 0\n",
    "    rxns = make_rxn_df(model)\n",
    "    for EX_o2_e_i in EX_o2_e:\n",
    "        model.reactions.get_by_id(o2_ID[i]).lower_bound = EX_o2_e_i\n",
    "        for EX_glc_D_i in EX_glc_D:\n",
    "            model.reactions.get_by_id(glc_ID[i]).lower_bound = EX_glc_D_i\n",
    "            df_results = FVA_FBA_analysis(model,ATP_RPE_ID[i])\n",
    "            df_results.columns = df_results.columns + '_O2_' + str(EX_o2_e_i) + '_GLC_' + str(EX_glc_D_i)\n",
    "            df_collated = pd.concat([df_collated, df_results], axis=1)           \n",
    "        df_collated = pd.merge(rxns, df_collated, left_index=True, right_index=True)   \n",
    "        sheetname = model.id\n",
    "    with pd.ExcelWriter('results_' + datestr + '.xlsx') as writer:  \n",
    "            df_collated.to_excel(writer, sheet_name = sheetname) \n",
    "        results[i] = df_collated\n",
    "    i = i + 1"
   ]
  },
  {
   "cell_type": "code",
   "execution_count": null,
   "id": "9d4e01ac-4752-4fab-8eb3-b940d8262e43",
   "metadata": {},
   "outputs": [],
   "source": [
    "[r.id for r in mod_RPE_PR.reactions if 'e_RPE_PR' in r.compartments]"
   ]
  },
  {
   "cell_type": "code",
   "execution_count": null,
   "id": "5fda571c-7a3c-4ec9-8b6b-a7ac83c5394e",
   "metadata": {},
   "outputs": [],
   "source": [
    "l=[c for c in results[0].columns if 'flux' in c]\n",
    "df[~(df[l] == 0).all(axis=1)]\n",
    "\n",
    "EX_rxns = [r.id for r in mod_RPE_PR.reactions if len(r.products) == 0] + \\\n",
    "            [r for r in mod_RPE_PR.reactions if len(r.reactants) == 0]\n",
    "\n",
    "interface_rxns = [r.id for r in mod_RPE_PR.reactions if len(r.products) == 0] + \\\n",
    "            [r for r in mod_RPE_PR.reactions if len(r.reactants) == 0]\n",
    "\n",
    "EX_rxns"
   ]
  },
  {
   "cell_type": "code",
   "execution_count": null,
   "id": "72e55eed-f528-4d30-a538-e25064333a4b",
   "metadata": {},
   "outputs": [],
   "source": [
    "len([r for r in mod_RPE_PR.reactions if len(r.reactants) == 0])"
   ]
  },
  {
   "cell_type": "code",
   "execution_count": null,
   "id": "2d91fdf3-6f11-4cfc-bf9f-237a7eddb027",
   "metadata": {},
   "outputs": [],
   "source": [
    "from src.analysis import FVA_FBA_analysis\n",
    "from datetime import datetime\n",
    "import pandas as pd\n",
    "\n",
    "for m in models:\n",
    "    df_collated = pd.DataFrame()\n",
    "    with m as model:\n",
    "        i = 0\n",
    "        filename = m.id + '.xlsx'\n",
    "        for EX_o2_e_i in EX_o2_e:\n",
    "            model.reactions.get_by_id(o2_ID[i]).lower_bound = EX_o2_e_i\n",
    "            for EX_glc_D_i in EX_glc_D:\n",
    "                model.reactions.get_by_id(glc_ID[i]).lower_bound = EX_glc_D_i\n",
    "                df_results = FVA_FBA_analysis(model,ATP_RPE_ID[i])\n",
    "                df_results.columns = df_results.columns + '_O2_' + str(EX_o2_e_i) + '_GLC_' + str(EX_glc_D_i)\n",
    "                df_collated = pd.merge(df_collated, df_results, left_index=True, right_index=True)       \n",
    "        sheetname = model.id\n",
    "        datestr = datetime.strftime(datetime.now(), '%H%M_%d-%m-%Y')\n",
    "        with pd.ExcelWriter('results_' + datestr + '.xlsx') as writer:  \n",
    "            df_collated.to_excel(writer, sheet_name = sheetname)\n",
    "                \n",
    "        i = i + 1"
   ]
  },
  {
   "cell_type": "code",
   "execution_count": null,
   "id": "1ce14832-b8dc-4dd6-b3a0-9702fba1d7a9",
   "metadata": {},
   "outputs": [],
   "source": [
    "    from src.analysis import FVA_FBA_analysis\n",
    "    import pandas as pd\n",
    "\n",
    "    with mod_RPE_PR as model:\n",
    "        i = 0\n",
    "        filename = m.id + '.xlsx'\n",
    "        for EX_o2_e_i in EX_o2_e:\n",
    "            model.reactions.get_by_id(o2_ID[i]).lower_bound = EX_o2_e_i\n",
    "            for EX_glc_D_i in EX_glc_D:\n",
    "                model.reactions.get_by_id(glc_ID[i]).lower_bound = EX_glc_D_i\n",
    "                df_results = FVA_FBA_analysis(model,ATP_RPE_ID[i])\n",
    "                sheetname = 'O2_' + str(EX_o2_e_i) + '_GLC_' + str(EX_glc_D_i)\n",
    "                with pd.ExcelWriter(filename) as writer:  \n",
    "                    df_results.to_excel(writer, sheet_name = sheetname)\n",
    "        i = i + 1\n",
    "\n",
    "    df_results"
   ]
  },
  {
   "cell_type": "code",
   "execution_count": null,
   "id": "4e3d9539-d517-4ec1-8a64-395a3f3300a8",
   "metadata": {},
   "outputs": [],
   "source": [
    "from src.analysis import FVA_FBA_analysis\n",
    "\n",
    "for m in models:\n",
    "    with m as model:\n",
    "        i = 0\n",
    "        filename = m.id + '.xlsx'\n",
    "        for EX_o2_e_i in EX_o2_e:\n",
    "            model.reactions.get_by_id(o2_ID[i]).lower_bound = EX_o2_e_i\n",
    "            for EX_glc_D_i in EX_glc_D:\n",
    "                model.reactions.get_by_id(glc_ID[i]).lower_bound = EX_glc_D_i\n",
    "                df_results = FVA_FBA_analysis(model,ATP_RPE_ID[i])\n",
    "                sheetname = 'O2_' str(EX_o2_e_i) + '_GLC_' + str(EX_glc_D_i)\n",
    "                with pd.ExcelWriter(filename) as writer:  \n",
    "                    df_results.to_excel(writer, sheet_name = sheetname)\n",
    "        i = i + 1"
   ]
  },
  {
   "cell_type": "code",
   "execution_count": null,
   "id": "087b2a3a-4e4e-4c26-9d71-5ace24a581f1",
   "metadata": {},
   "outputs": [],
   "source": [
    "# SET EXCHANGE BOUNDS\n",
    "# 'id' col with IDs and an 'upper_bound' col with bounds\n",
    "def set_bounds(model,bounds):\n",
    "    \n",
    "    # open RPE exchange reactions\n",
    "    for i in range(len(bounds)): \n",
    "        try:\n",
    "            model.reactions.get_by_id(bounds['id'][i]+'_RPE').bounds = (-bounds['upper_bound'][i],1000)\n",
    "        except KeyError:\n",
    "            model.reactions.get_by_id(bounds['vmh_id'][i]+'_RPE').bounds = (-bounds['upper_bound'][i],1000)\n",
    "    \n",
    "    # close PR exchange reactions  \n",
    "    rxns = [r for r in model.reactions if '_PR' in r.id if len(r.products) == 0]\n",
    "    for r in rxns:\n",
    "        r.bounds=(0,0)\n",
    "    return model\n",
    "\n",
    "import pandas as pd  \n",
    "bounds = pd.read_excel(Path().cwd() / 'rxn_bounds' / 'R3D301_EX_rxns.xlsx')\n",
    "bounds = bounds[bounds['upper_bound']>0] # select entries with non-zero upper bounds\n",
    "\n",
    "mod_RPE_PR = set_bounds(mod_RPE_PR,bounds)\n",
    "mod_Human1_Human1 = set_bounds(mod_Human1_Human1,bounds)\n",
    "mod_Recon3D_Recon3D  = set_bounds(mod_Recon3D_Recon3D,bounds)"
   ]
  },
  {
   "cell_type": "code",
   "execution_count": null,
   "id": "89c55620-78cf-4e72-b471-6221b3bc628e",
   "metadata": {},
   "outputs": [],
   "source": [
    "mod_Recon3D_Recon3D.optimize()"
   ]
  },
  {
   "cell_type": "code",
   "execution_count": null,
   "id": "671d2d17-9c06-435b-b344-3c011ec932a4",
   "metadata": {},
   "outputs": [],
   "source": [
    "# perform FVA and FBA on a model setting RPE_ATP demand to fixed values\n",
    "\n",
    "def FVA_FBA_analysis(model,DM_atp_c__PR_rxn_id):\n",
    "    from cobra.flux_analysis import flux_variability_analysis\n",
    "    import pandas as pd\n",
    "        \n",
    "    # make df with rxns in model\n",
    "    rxns = make_rxn_df(model)\n",
    "    \n",
    "    df_FVA_full = pd.DataFrame()\n",
    "    df_FBA_fluxes = pd.DataFrame()\n",
    "    df_FBA_costs = pd.DataFrame()\n",
    "    df_pFBA_fluxes = pd.DataFrame()\n",
    "    df_pFBA_costs = pd.DataFrame()\n",
    "    RPE_ATP = [0]\n",
    "\n",
    "    for x in RPE_ATP:\n",
    "        model.reactions.get_by_id(DM_atp_c__PR_rxn_id).bounds=(x,x) # set bounds\n",
    "\n",
    "        fba_results = model.optimize() # traditional FBA\n",
    "        fba = fba_results.to_frame() # df FBA results\n",
    "        fba.columns = fba.columns + '_' + str(x) # add RPE_ATP to FBA column names\n",
    "        df_FBA_fluxes = pd.concat([df_FBA_fluxes, fba.iloc[:,0]], axis=1) # fill df flux results\n",
    "        df_FBA_costs = pd.concat([df_FBA_costs, fba.iloc[:,1]], axis=1) # fill df reduced costs\n",
    "\n",
    "        fva_full = flux_variability_analysis(model, loopless=False) # FVA \n",
    "        fva_full.columns = fva_full.columns + '_' + str(x) # add RPE_ATP to FVA column names\n",
    "        df_FVA_full = pd.concat([df_FVA_full, fva_full], axis=1) # fill df FVA results\n",
    "\n",
    "        df_l = [df_FVA_full, df_FBA_fluxes, df_FBA_costs]\n",
    "        df_results = rxns\n",
    "    for df in df_l:\n",
    "        df_results = pd.merge(df_results, df, left_index=True, right_index=True) \n",
    "    # fix column order\n",
    "    min_max_flux = [i for i in list(df_results.columns) if 'min' in i] + \\\n",
    "                [i for i in list(df_results.columns) if 'max' in i] + \\\n",
    "                [i for i in list(df_results.columns) if 'flux' in i] \n",
    "\n",
    "    df_results = df_results.reindex([i for i in list(df_results.columns) if i not in min_max_flux] + min_max_flux, axis = 1)\n",
    "    return df_results\n",
    "\n",
    "mod_RPE_PR_results = FVA_FBA_analysis(mod_RPE_PR,'MAR03964_RPE')\n",
    "#mod_Human1_Human1_results = FVA_FBA_analysis(mod_Human1_Human1,'MAR03964_RPE')\n",
    "#mod_Recon3D_Recon3D_results = FVA_FBA_analysis(mod_Recon3D_Recon3D,'DM_atp_c__RPE')"
   ]
  },
  {
   "cell_type": "code",
   "execution_count": null,
   "id": "42ee260f-741e-474d-9d21-cbe37059b812",
   "metadata": {},
   "outputs": [],
   "source": [
    "df_compact = df[['rxn_ID','subsystem','name','reaction','lb','ub'] + \\\n",
    "                [i for i in list(df.columns) if 'min' in i] + \\\n",
    "                [i for i in list(df.columns) if 'max' in i] + \\\n",
    "                [i for i in list(df.columns) if 'flux' in i] ]\n",
    "\n",
    "m1 = [(df_compact['lb']==0) & (df_compact['ub']==0)] # lb=0 & ub=0 mask\n",
    "zero_FBA = df[[i for i in list(df.columns) if 'flux' in i]]<10**-12\n",
    "m2 = zero_FBA.all(axis=1) # lb=0 & ub=0 mask"
   ]
  },
  {
   "cell_type": "code",
   "execution_count": null,
   "id": "12e15906-4a08-4f7c-9ebb-b22c62e04718",
   "metadata": {},
   "outputs": [],
   "source": [
    "zero_FBA = df[[i for i in list(df.columns) if 'flux' in i]]<10**-12\n",
    "df_compact[zero_FBA.all(axis=1)].to_clipboard()"
   ]
  },
  {
   "cell_type": "code",
   "execution_count": null,
   "id": "b71670e0-dcf4-4ff1-8eda-08d9498e4ebe",
   "metadata": {},
   "outputs": [],
   "source": [
    "df[df['subsystem'] == 'Exchange/demand reactions']"
   ]
  },
  {
   "cell_type": "code",
   "execution_count": null,
   "id": "9fd669cb-0bb6-461d-b225-dc5bbadf0d6c",
   "metadata": {},
   "outputs": [],
   "source": [
    "# post-processing (sorting) and saving of the results\n",
    "\n",
    "def results_to_excel(df, path):\n",
    "    # Write to Multiple Sheets\n",
    "    with pd.ExcelWriter(path) as writer:\n",
    "        df.to_excel(writer, sheet_name='full')\n",
    "        df[df['subsystem'] == 'Exchange/demand reactions'].to_excel(writer, sheet_name='Exchange/demand reactions')\n",
    "        \n",
    "from datetime import datetime\n",
    "datestr = datetime.strftime(datetime.now(), '%H%M_%d-%m-%Y')\n",
    "filename = '' + datestr + '.xlsx'\n",
    "results_to_excel(mod_RPE_PR_results,Path().cwd() / 'results' / filename)"
   ]
  },
  {
   "cell_type": "code",
   "execution_count": null,
   "id": "d2e3a68e-c627-43d9-be6d-1842ea903866",
   "metadata": {},
   "outputs": [],
   "source": [
    "def add_compartment2rxns(mod):\n",
    "    rxn_list = []\n",
    "    met_list = [m.id for m in mod.metabolites]\n",
    "    for r in mod.reactions:\n",
    "        rxn = \" \".join([mod.metabolites.get_by_id(x).name+'['+mod.metabolites.get_by_id(x).compartment+']'\\\n",
    "         if x in met_list else x for x in r.reaction.split()])\n",
    "        rxn_list.append(rxn)\n",
    "    return rxn_list\n",
    "\n",
    "rxn_list_mod_RPE_PR = add_compartment2rxns(mod_RPE_PR)\n",
    "rxn_list_mod_RPE_PR_no_CORDA = add_compartment2rxns(mod_RPE_PR_no_CORDA)"
   ]
  },
  {
   "cell_type": "code",
   "execution_count": null,
   "id": "ff6a571b-6d52-4949-ab17-8a446db30d0f",
   "metadata": {},
   "outputs": [],
   "source": [
    "mod_RPE_PR_results2[mod_RPE_PR_results2['subsystem'] == 'Exchange/demand reactions'].to_clipboard()"
   ]
  },
  {
   "cell_type": "code",
   "execution_count": null,
   "id": "58d0c38e-4696-4195-8919-65f625ebc972",
   "metadata": {},
   "outputs": [],
   "source": [
    "mod_RPE_PR_results2[mod_RPE_PR_results2['cell'] =='RPE_PR_interface'].to_clipboard()"
   ]
  },
  {
   "cell_type": "code",
   "execution_count": null,
   "id": "d8906bce-afb8-4115-b494-0fcfc9ac631e",
   "metadata": {},
   "outputs": [],
   "source": [
    "# interface reactions\n",
    "df1 = mod_RPE_PR_no_CORDA_results2.loc[[l for l in list(mod_RPE_PR_no_CORDA_results2.index) if 'RPE_PR' in l]]\n",
    "df2 =  mod_RPE_PR_no_CORDA_results2.loc[[l for l in list(mod_RPE_PR_no_CORDA_results2.index) if 'PR_RPE' in l]]\n",
    "df12 = pd.concat([df1,df2], axis=0)\n",
    "df12.to_clipboard()"
   ]
  },
  {
   "cell_type": "code",
   "execution_count": null,
   "id": "e0aeff14-20f0-41d7-b367-2031579cdac4",
   "metadata": {},
   "outputs": [],
   "source": [
    "from cobra.flux_analysis.loopless import add_loopless\n",
    "mod_RPE_PR_ll = mod_RPE_PR.copy()\n",
    "add_loopless(mod_RPE_PR_ll)"
   ]
  },
  {
   "cell_type": "code",
   "execution_count": null,
   "id": "f7e8fbdf-5d86-4da5-96e0-58be8006c72a",
   "metadata": {},
   "outputs": [],
   "source": [
    "# select non-zero FBA fluxes\n",
    "s_flux = s.loc[:,[c for c in list(s.columns) if 'fluxes' in c]]\n",
    "s_flux = s_flux.loc[(s_flux!=0).any(axis=1)]\n",
    "s_flux.to_clipboard(excel=True, sep=None)\n",
    "\n",
    "# RXNS\n",
    "rxns = pd.DataFrame([[r.id,r.id.split('_')[1].replace('eRPE','RPE_PR_interface'),r.lower_bound,r.upper_bound, r.name,r.subsystem,\\\n",
    "                      r.reaction,r.build_reaction_string(use_metabolite_names = True),r.gpr]\\\n",
    "                      for r in mod_RPE_PR.reactions],index=[r.id for r in mod_RPE_PR.reactions],\\\n",
    "                    columns=['Human1.reaction','cell','lb','ub','name','subsystem',\\\n",
    "                             'reaction (IDs)','reaction (names)','GPR'])\n",
    "\n",
    "fluxes_fba = pd.merge(rxns.copy(),s_flux,left_index=True, right_index=True) \n",
    "fluxes_fba.to_clipboard(excel=True, sep=None)\n",
    "fluxes_fba"
   ]
  }
 ],
 "metadata": {
  "kernelspec": {
   "display_name": "Python 3 (ipykernel)",
   "language": "python",
   "name": "python3"
  },
  "language_info": {
   "codemirror_mode": {
    "name": "ipython",
    "version": 3
   },
   "file_extension": ".py",
   "mimetype": "text/x-python",
   "name": "python",
   "nbconvert_exporter": "python",
   "pygments_lexer": "ipython3",
   "version": "3.10.9"
  }
 },
 "nbformat": 4,
 "nbformat_minor": 5
}
