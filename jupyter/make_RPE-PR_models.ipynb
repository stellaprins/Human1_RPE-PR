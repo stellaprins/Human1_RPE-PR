{
 "cells": [
  {
   "cell_type": "markdown",
   "id": "0e4cb4ab",
   "metadata": {},
   "source": [
    "## Creation of combined RPE-PR and single cell models \n",
    "using different CS-models (Lukowski & Voight datasets) and the current Human1 model\n",
    "\n"
   ]
  },
  {
   "cell_type": "code",
   "execution_count": null,
   "id": "204deaba-3164-490b-b6f5-dc70546cdce9",
   "metadata": {
    "tags": []
   },
   "outputs": [],
   "source": [
    "# set cwd and solver\n",
    "import os\n",
    "import cobra\n",
    "cobra.Configuration().solver = \"gurobi\"\n",
    "os.chdir('C:/Users/prins/GitHub/Human1_RPE-PR') "
   ]
  },
  {
   "cell_type": "code",
   "execution_count": null,
   "id": "9ebe77bb",
   "metadata": {},
   "outputs": [],
   "source": [
    "# create folder for models\n",
    "from pathlib import Path\n",
    "from datetime import datetime\n",
    "\n",
    "monthyear = datetime.now().strftime(\"%B%Y\")\n",
    "folder_new_models = Path().cwd() / \"models\" / 'cs_mods' / 'models_outer_retina' /monthyear\n",
    "folder_new_models.mkdir(parents=True, exist_ok=True)"
   ]
  },
  {
   "cell_type": "code",
   "execution_count": null,
   "id": "121617c9-d65c-45c5-b02c-df9df83cc95b",
   "metadata": {},
   "outputs": [],
   "source": [
    "# load RPE, PR, Recon3D, and basis Human1 models from cs mods folder\n",
    "from cobra.io import read_sbml_model\n",
    "mod = read_sbml_model(Path().cwd() / \"models\" / 'template' / 'Human-GEM_28062023.xml' )\n",
    "mod_RPE = read_sbml_model(Path().cwd() / \"models\"/  'cs_mods' / 'model_1_RPE__VoigtEtAl2019_.xml')\n",
    "mod_PRrod = read_sbml_model(Path().cwd() / \"models\"/  'cs_mods' / 'model_2_RodPhotoreceptors__LiangEtAl_2019_.xml' )\n",
    "mod_PRcone = read_sbml_model(Path().cwd() / \"models\"/  'cs_mods' / 'model_3_ConePhotoreceptors__LiangEtAl_2019_.xml' )\n",
    "mod_PRrod_Lukowski = read_sbml_model(Path().cwd() / \"models\"/  'cs_mods' / 'model_1_AverageRodPRC0,C1,C2,C3,C4,C7(%).xml' )\n",
    "mod_PRrod_Lukowski.jname = 'AverageRodPR_Lukowski' \n",
    "mod_PRrod_Lukowski.id = 'AverageRodPR_Lukowski' \n",
    "mod_PRcone_Lukowski = read_sbml_model(Path().cwd() /  'cs_mods' / 'model_6_C10ConePR(%).xml' )\n",
    "mod_PRcone_Lukowski.name = 'C10ConePR_Lukowski' \n",
    "mod_PRcone_Lukowski.id = 'C10ConePR_Lukowski' "
   ]
  },
  {
   "cell_type": "code",
   "execution_count": null,
   "id": "7b3504eb-9213-49f9-8694-59f4a53a364d",
   "metadata": {},
   "outputs": [],
   "source": [
    "# modify context specific models\n",
    "from src.modify_model import add_all_EX_rxns, remove_compartment\n",
    "\n",
    "for m in [mod_RPE, mod_PRcone, mod_PRrod, mod_PRrod_Lukowski, mod_PRcone_Lukowski]: # add ATP DM hydrolysis and lost EX rxns to context specific models\n",
    "    m.add_reactions([mod.reactions.get_by_id('MAR03964').copy()]) # make sure it contains ATP hydrolysis rxn\n",
    "    m = add_all_EX_rxns(mod,m) # add lost EX rxns\n",
    "    for r in [r for r in m.reactions if len(r.products)==0]: \n",
    "        r.bounds = (0,1000) # close lb for exchange reactions"
   ]
  },
  {
   "cell_type": "code",
   "execution_count": null,
   "id": "44151234",
   "metadata": {},
   "outputs": [],
   "source": [
    "# remove nucleus ('n') from photoreceptor models    \n",
    "\n",
    "# INSTEAD OF REMOVING NUCLEUS KEEP NUCLEUS IN PR (AFTER OPENING UP INNER RETINA SUPPLY)\n",
    "\n",
    "# mod_PRcontrol = remove_compartment(mod.copy(), 'n')  # remove nucleus ('n') from PR model\n",
    "# mod_PRcone = remove_compartment(mod_PRcone.copy(), 'n')  # remove nucleus ('n') from PR model\n",
    "# mod_PRrod = remove_compartment(mod_PRrod.copy(), 'n')  # remove nucleus ('n') from PR model\n",
    "# mod_PRrod_Lukowski = remove_compartment(mod_PRrod_Lukowski.copy(), 'n')  # remove nucleus ('n') from PR model\n",
    "# mod_PRcone_Lukowski = remove_compartment(mod_PRcone_Lukowski.copy(), 'n')  # remove nucleus ('n') from PR model\n",
    "\n",
    "mod_PRcontrol = mod.copy()\n",
    "mod_PRcone = mod_PRcone.copy()\n",
    "mod_PRrod = mod_PRrod.copy()\n",
    "mod_PRrod_Lukowski = mod_PRrod_Lukowski.copy()\n",
    "mod_PRcone_Lukowski = mod_PRcone_Lukowski.copy()"
   ]
  },
  {
   "cell_type": "code",
   "execution_count": null,
   "id": "50274f82-4913-4f09-9603-6d1127df79e1",
   "metadata": {},
   "outputs": [],
   "source": [
    "    from src.modify_model import  add_id_suffix\n",
    "\n",
    "    # add suffix to all ids in RPE and PR models\n",
    "\n",
    "    # Human1\n",
    "    mod_PRcontrol = add_id_suffix(mod_PRcontrol, '_PR')\n",
    "    mod_RPEcontrol = add_id_suffix(mod.copy(), '_RPE')  \n",
    "\n",
    "    # CS models\n",
    "    mod_PRrod = add_id_suffix(mod_PRrod, '_PR')\n",
    "    mod_PRcone = add_id_suffix(mod_PRcone, '_PR')\n",
    "    mod_PRcone_Lukowski = add_id_suffix(mod_PRcone_Lukowski, '_PR')\n",
    "    mod_PRrod_Lukowski = add_id_suffix(mod_PRrod_Lukowski, '_PR')\n",
    "    mod_RPE = add_id_suffix(mod_RPE, '_RPE')"
   ]
  },
  {
   "cell_type": "code",
   "execution_count": null,
   "id": "f48e3599-2769-47b3-83a3-9d6bbf51f396",
   "metadata": {},
   "outputs": [],
   "source": [
    "    # add RPE-PR interface reactions and metabolites to RPE and PR models\n",
    "\n",
    "    from src.combine_RPE_PR import add_interface_RPE, add_interface_PR\n",
    "    # Human1\n",
    "    mod_PRcontrol = add_interface_PR(mod_PRcontrol, 'e_PR')\n",
    "    mod_RPEcontrol = add_interface_RPE(mod_RPEcontrol, 'e_RPE')\n",
    "\n",
    "    # CS models\n",
    "    mod_RPE = add_interface_RPE(mod_RPE, 'e_RPE')\n",
    "    mod_PRrod = add_interface_PR(mod_PRrod, 'e_PR')\n",
    "    mod_PRcone = add_interface_PR(mod_PRcone, 'e_PR')\n",
    "    mod_PRrod_Lukowski = add_interface_PR(mod_PRrod_Lukowski, 'e_PR')\n",
    "    mod_PRcone_Lukowski = add_interface_PR(mod_PRcone_Lukowski, 'e_PR')"
   ]
  },
  {
   "cell_type": "code",
   "execution_count": null,
   "id": "88e6283e",
   "metadata": {},
   "outputs": [],
   "source": [
    "    # fuse RPE and PR models   \n",
    "    from src.modify_model import fix_compartment_dict, add_rxns2groups\n",
    "    from src.combine_RPE_PR import fuse_RPE_PR\n",
    "\n",
    "    # Human1\n",
    "    mod_RPE_PRcontrol = fuse_RPE_PR(mod_RPEcontrol.copy(),mod_PRcontrol)\n",
    "\n",
    "    # CS models\n",
    "    mod_RPE_PRrod = fuse_RPE_PR(mod_RPE.copy(),mod_PRrod)\n",
    "    mod_RPE_PRcone = fuse_RPE_PR(mod_RPE.copy(),mod_PRcone)\n",
    "    mod_RPE_PRrod_Lukowski = fuse_RPE_PR(mod_RPE.copy(),mod_PRrod_Lukowski)\n",
    "    mod_RPE_PRcone_Lukowski = fuse_RPE_PR(mod_RPE.copy(),mod_PRcone_Lukowski)"
   ]
  },
  {
   "cell_type": "code",
   "execution_count": null,
   "id": "13176308",
   "metadata": {},
   "outputs": [],
   "source": [
    "from src.combine_RPE_PR import del_RPE_PR_dupl_rxns\n",
    "\n",
    "# delete duplicate reactions in RPE-PR models\n",
    "\n",
    "mod_RPE_PRcontrol = fix_compartment_dict(mod_RPE_PRcontrol)\n",
    "\n",
    "mod_RPE_PRrod = fix_compartment_dict(mod_RPE_PRrod)\n",
    "mod_RPE_PRrod = add_rxns2groups(mod_RPE_PRrod)\n",
    "mod_RPE_PRrod = del_RPE_PR_dupl_rxns(mod_RPE_PRrod)\n",
    "\n",
    "mod_RPE_PRcone = fix_compartment_dict(mod_RPE_PRcone)\n",
    "mod_RPE_PRcone = add_rxns2groups(mod_RPE_PRcone)    \n",
    "mod_RPE_PRcone = del_RPE_PR_dupl_rxns(mod_RPE_PRcone)\n",
    "\n",
    "mod_RPE_PRrod_Lukowski = fix_compartment_dict(mod_RPE_PRrod_Lukowski)\n",
    "mod_RPE_PRrod_Lukowski = add_rxns2groups(mod_RPE_PRrod_Lukowski)\n",
    "mod_RPE_PRrod_Lukowski = del_RPE_PR_dupl_rxns(mod_RPE_PRrod_Lukowski)\n",
    "\n",
    "mod_RPE_PRcone_Lukowski = fix_compartment_dict(mod_RPE_PRcone_Lukowski)\n",
    "mod_RPE_PRcone_Lukowski = add_rxns2groups(mod_RPE_PRcone_Lukowski)\n",
    "mod_RPE_PRcone_Lukowski = del_RPE_PR_dupl_rxns(mod_RPE_PRcone_Lukowski)"
   ]
  },
  {
   "cell_type": "code",
   "execution_count": null,
   "id": "7ec467bf",
   "metadata": {},
   "outputs": [],
   "source": [
    "# remove PR exchange reactions from RPE-PR models (KEEP PR EXCHANGE REACTIONS IN FOR SINGLE MODELS)\n",
    "# for m in [mod_RPE_PRrod, mod_RPE_PRcone, mod_RPE_PRrod_Lukowski, mod_RPE_PRcone_Lukowski, mod_RPE_PRcontrol]:\n",
    "#    m.remove_reactions([r.id for r in  m.reactions if len(r.products)==0 if 'PR' in r.id]) # remove PR exchange reactions\n",
    "#    m.remove_metabolites([m for m in m.metabolites if len(m.reactions) == 0])              # prune metabolites that are unused\n",
    "    \n",
    "for m in [mod_RPE_PRrod, mod_RPE_PRcone, mod_RPE_PRrod_Lukowski, mod_RPE_PRcone_Lukowski, mod_RPE_PRcontrol]:  \n",
    "    for r in [r for r in m.reactions if len(r.products) == 0 ]:           # close all exchange reactions\n",
    "        r.bounds=(0,0)\n",
    "    for r in [r for r in m.reactions if len(r.products) == 0 if '_RPE' in r.id]:           # open efflux for RPE exchange reactions\n",
    "        r.bounds=(0,1000) "
   ]
  },
  {
   "cell_type": "code",
   "execution_count": null,
   "id": "6a1aa4a6",
   "metadata": {},
   "outputs": [],
   "source": [
    "from cobra.io import write_sbml_model\n",
    "\n",
    "write_sbml_model(mod_RPE_PRcontrol, folder_new_models / 'mod_RPE_PRcontrol.xml')\n",
    "write_sbml_model(mod_RPE_PRrod, folder_new_models / 'mod_RPE_PRrod_Liang.xml')\n",
    "write_sbml_model(mod_RPE_PRcone, folder_new_models / 'mod_RPE_PRcone_Liang.xml')\n",
    "write_sbml_model(mod_RPE_PRrod_Lukowski, folder_new_models / 'mod_RPE_PRrod_Lukowski.xml')\n",
    "write_sbml_model(mod_RPE_PRcone_Lukowski, folder_new_models / 'mod_RPE_PRcone_Lukowski.xml')"
   ]
  },
  {
   "cell_type": "code",
   "execution_count": null,
   "id": "2dc4c64e",
   "metadata": {},
   "outputs": [],
   "source": [
    "def create_single_model(model, to_keep):\n",
    "    \"\"\"\n",
    "    Create single model from RPE-PR model\n",
    "\n",
    "    Parameters\n",
    "    ----------\n",
    "    m : cobra.Model\n",
    "        RPE-PR model\n",
    "    to_keep : str\n",
    "        cell to keep in RPE-PR model\n",
    "    \n",
    "    Returns\n",
    "    -------\n",
    "    cobra.Model\n",
    "        RPE model\n",
    "    \n",
    "    \"\"\"\n",
    "    m = model.copy()\n",
    "    reactions_to_remove = []\n",
    "    compartments = [c for c in list(mod_RPE_PRcone_Lukowski.compartments) if to_keep in c]\n",
    "    for r in m.reactions:\n",
    "        # list of compartments in reaction that are not in the RPE compartment list\n",
    "        l = [x for x in list(r.compartments) if x not in compartments]\n",
    "        # remove reaction if it contains a compartment that is not in the RPE compartment list\n",
    "        if len(l) > 0:\n",
    "            reactions_to_remove.append(r.id)\n",
    "\n",
    "    m.remove_reactions(reactions_to_remove)\n",
    "    m.remove_metabolites([m for m in m.metabolites if len(m.reactions) == 0])              # prune metabolites that are unused\n",
    "    return m   "
   ]
  },
  {
   "cell_type": "code",
   "execution_count": null,
   "id": "69802498",
   "metadata": {},
   "outputs": [],
   "source": [
    "# create single cell models from RPE-PR models\n",
    "mod_RPE_PRcontrol_singleRPE = create_single_model(mod_RPE_PRcontrol, 'RPE')  \n",
    "mod_RPE_PRcontrol_singlePR = create_single_model(mod_RPE_PRcontrol, 'PR')\n",
    "\n",
    "mod_RPE_PRrod_singleRPE = create_single_model(mod_RPE_PRrod, 'RPE')\n",
    "mod_RPE_PRcone_singleRPE = create_single_model(mod_RPE_PRcone, 'RPE')\n",
    "mod_RPE_PRrod_singlePR = create_single_model(mod_RPE_PRrod, 'PR')\n",
    "mod_RPE_PRcone_singlePR = create_single_model(mod_RPE_PRcone, 'PR')\n",
    "\n",
    "mod_RPE_PRrod_Lukowski_singleRPE = create_single_model(mod_RPE_PRrod_Lukowski, 'RPE')\n",
    "mod_RPE_PRcone_Lukowski_singleRPE = create_single_model(mod_RPE_PRcone_Lukowski, 'RPE')\n",
    "mod_RPE_PRrod_Lukowski_singlePR = create_single_model(mod_RPE_PRrod_Lukowski, 'PR')\n",
    "mod_RPE_PRcone_Lukowski_singlePR = create_single_model(mod_RPE_PRcone_Lukowski, 'PR')"
   ]
  },
  {
   "cell_type": "code",
   "execution_count": null,
   "id": "743c9e89",
   "metadata": {},
   "outputs": [],
   "source": [
    "#  save single RPE-PR models\n",
    "write_sbml_model(mod_RPE_PRrod_singleRPE, folder_new_models / 'mod_RPE_PRrod_singleRPE_Liang.xml')\n",
    "write_sbml_model(mod_RPE_PRcone_singleRPE, folder_new_models / 'mod_RPE_PRcone_singleRPE_Liang.xml')\n",
    "write_sbml_model(mod_RPE_PRrod_singlePR, folder_new_models / 'mod_RPE_PRrod_singlePR_Liang.xml')\n",
    "write_sbml_model(mod_RPE_PRcone_singlePR, folder_new_models / 'mod_RPE_PRcone_singlePR_Liang.xml')\n",
    "\n",
    "write_sbml_model(mod_RPE_PRrod_Lukowski_singleRPE, folder_new_models / 'mod_RPE_PRrod_Lukowski_singleRPE.xml')\n",
    "write_sbml_model(mod_RPE_PRcone_Lukowski_singleRPE, folder_new_models / 'mod_RPE_PRcone_Lukowski_singleRPE.xml')\n",
    "write_sbml_model(mod_RPE_PRrod_Lukowski_singlePR, folder_new_models / 'mod_RPE_PRrod_Lukowski_singlePR.xml')\n",
    "write_sbml_model(mod_RPE_PRcone_Lukowski_singlePR, folder_new_models / 'mod_RPE_PRcone_Lukowski_singlePR.xml')"
   ]
  }
 ],
 "metadata": {
  "kernelspec": {
   "display_name": "Python 3 (ipykernel)",
   "language": "python",
   "name": "python3"
  },
  "language_info": {
   "codemirror_mode": {
    "name": "ipython",
    "version": 3
   },
   "file_extension": ".py",
   "mimetype": "text/x-python",
   "name": "python",
   "nbconvert_exporter": "python",
   "pygments_lexer": "ipython3",
   "version": "3.10.9"
  }
 },
 "nbformat": 4,
 "nbformat_minor": 5
}
