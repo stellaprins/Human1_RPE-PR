{
 "cells": [
  {
   "cell_type": "code",
   "execution_count": 3,
   "id": "ef358771-71a1-485d-871e-d396b5f75a52",
   "metadata": {},
   "outputs": [],
   "source": [
    "# set cwd and solver\n",
    "import os\n",
    "import cobra\n",
    "cobra.Configuration().solver = \"gurobi\"\n",
    "os.chdir('C:/Users/prins/GitHub/Human1_RPE-PR') "
   ]
  },
  {
   "cell_type": "code",
   "execution_count": 4,
   "id": "e997c4d1-31c9-455b-83e4-ce6c5718f4ca",
   "metadata": {},
   "outputs": [],
   "source": [
    "# load combined RPE_PR models\n",
    "from pathlib import Path\n",
    "from cobra.io import read_sbml_model\n",
    "\n",
    "mod_RPE_PR = read_sbml_model(Path().cwd() / \"models\" / \"mod_RPE_PR.xml\")\n",
    "mod_RPE_PR.id='RPE_PR'\n",
    "mod_Human1_Human1 = read_sbml_model(Path().cwd() / \"models\" /  \"mod_Human1_Human1.xml\")\n",
    "mod = read_sbml_model(Path().cwd() / 'models/Human-GEM.xml')"
   ]
  },
  {
   "cell_type": "code",
   "execution_count": 5,
   "id": "35853197-8470-4ccd-bc14-81f01c4a6d76",
   "metadata": {},
   "outputs": [],
   "source": [
    "# modify models\n",
    "\n",
    "# load blood exchange bounds\n",
    "import pandas as pd\n",
    "df = pd.read_excel(Path().cwd() / 'rxn_bounds/blood_selection.xlsx') # with col names 'id' 'lb' 'ub'\n",
    "\n",
    "# set objective function (PR ATP DM)\n",
    "mod_RPE_PR.objective = 'MAR03964_PR'\n",
    "mod_Human1_Human1.objective = 'MAR03964_PR'\n",
    "mod.objective = 'MAR03964'\n",
    "\n",
    "# close PR exchange reactions, open RPE exchange upper boundaries\n",
    "from src.modify_model import close_PR_EX, open_RPE_EX_ub, close_EX\n",
    "models = [mod_RPE_PR, mod_Human1_Human1]\n",
    "for m in models:\n",
    "    # m = close_PR_EX(m)\n",
    "    m = close_EX(m)\n",
    "    m = open_RPE_EX_ub(m)\n",
    "    for index, row in df.iterrows():  \n",
    "        if row.id in [r.id for r in m.reactions]:\n",
    "            m.reactions.get_by_id(row['id']).bounds = (row['lb'],row['ub'])"
   ]
  },
  {
   "cell_type": "code",
   "execution_count": 6,
   "id": "64bdfc21-c6ac-4b8b-a361-f3b7f4a53686",
   "metadata": {},
   "outputs": [
    {
     "name": "stdout",
     "output_type": "stream",
     "text": [
      "FBA RPE_PR: 2.125  seconds\n",
      "FBA Human1_Human1: 5.296875  seconds\n",
      "FBA Human1: 0.3125  seconds\n"
     ]
    }
   ],
   "source": [
    "# Python program to show time by process_time() \n",
    "from time import process_time\n",
    "  \n",
    "t1_start = process_time() \n",
    "mod_RPE_PR.optimize()\n",
    "t1_stop = process_time()\n",
    "\n",
    "t2_start = process_time() \n",
    "mod_Human1_Human1.optimize()\n",
    "t2_stop = process_time()\n",
    "\n",
    "t3_start = process_time() \n",
    "mod.optimize()\n",
    "t3_stop = process_time()\n",
    "\n",
    "print(\"FBA RPE_PR:\", t1_stop-t1_start,\" seconds\") \n",
    "print(\"FBA Human1_Human1:\", t2_stop-t2_start,\" seconds\") \n",
    "print(\"FBA Human1:\", t3_stop-t3_start,\" seconds\") "
   ]
  },
  {
   "cell_type": "code",
   "execution_count": 8,
   "id": "101b6aff-a2c1-47b3-9760-e26ab37fc5c0",
   "metadata": {},
   "outputs": [
    {
     "name": "stdout",
     "output_type": "stream",
     "text": [
      "FBA RPE_PR: 0.32646529999328777  seconds\n",
      "FBA Human1_Human1: 0.6038658000179566  seconds\n",
      "FBA Human1: 0.266054300009273  seconds\n"
     ]
    }
   ],
   "source": [
    "# Python program to show time by process_time() \n",
    "from time import perf_counter\n",
    "  \n",
    "t1_start = perf_counter() \n",
    "mod_RPE_PR.optimize()\n",
    "t1_stop = perf_counter()\n",
    "\n",
    "t2_start = perf_counter() \n",
    "mod_Human1_Human1.optimize()\n",
    "t2_stop = perf_counter()\n",
    "\n",
    "t3_start = perf_counter() \n",
    "mod.optimize()\n",
    "t3_stop = perf_counter()\n",
    "\n",
    "print(\"FBA RPE_PR:\", t1_stop-t1_start,\" seconds\") \n",
    "print(\"FBA Human1_Human1:\", t2_stop-t2_start,\" seconds\") \n",
    "print(\"FBA Human1:\", t3_stop-t3_start,\" seconds\") "
   ]
  },
  {
   "cell_type": "code",
   "execution_count": 9,
   "id": "e44acf9f-01e1-4fbd-9883-673c7f7a7804",
   "metadata": {},
   "outputs": [
    {
     "ename": "KeyboardInterrupt",
     "evalue": "",
     "output_type": "error",
     "traceback": [
      "\u001b[1;31m---------------------------------------------------------------------------\u001b[0m",
      "\u001b[1;31mIndexError\u001b[0m                                Traceback (most recent call last)",
      "File \u001b[1;32m~\\miniconda3\\envs\\RPE-PR_pytest\\lib\\multiprocessing\\pool.py:856\u001b[0m, in \u001b[0;36mIMapIterator.next\u001b[1;34m(self, timeout)\u001b[0m\n\u001b[0;32m    855\u001b[0m \u001b[38;5;28;01mtry\u001b[39;00m:\n\u001b[1;32m--> 856\u001b[0m     item \u001b[38;5;241m=\u001b[39m \u001b[38;5;28;43mself\u001b[39;49m\u001b[38;5;241;43m.\u001b[39;49m\u001b[43m_items\u001b[49m\u001b[38;5;241;43m.\u001b[39;49m\u001b[43mpopleft\u001b[49m\u001b[43m(\u001b[49m\u001b[43m)\u001b[49m\n\u001b[0;32m    857\u001b[0m \u001b[38;5;28;01mexcept\u001b[39;00m \u001b[38;5;167;01mIndexError\u001b[39;00m:\n",
      "\u001b[1;31mIndexError\u001b[0m: pop from an empty deque",
      "\nDuring handling of the above exception, another exception occurred:\n",
      "\u001b[1;31mKeyboardInterrupt\u001b[0m                         Traceback (most recent call last)",
      "Cell \u001b[1;32mIn[9], line 4\u001b[0m\n\u001b[0;32m      1\u001b[0m \u001b[38;5;28;01mfrom\u001b[39;00m \u001b[38;5;21;01mcobra\u001b[39;00m\u001b[38;5;21;01m.\u001b[39;00m\u001b[38;5;21;01mflux_analysis\u001b[39;00m \u001b[38;5;28;01mimport\u001b[39;00m flux_variability_analysis\n\u001b[0;32m      3\u001b[0m t1_start \u001b[38;5;241m=\u001b[39m process_time() \n\u001b[1;32m----> 4\u001b[0m fva_full \u001b[38;5;241m=\u001b[39m \u001b[43mflux_variability_analysis\u001b[49m\u001b[43m(\u001b[49m\u001b[43mmod_RPE_PR\u001b[49m\u001b[43m,\u001b[49m\u001b[43m \u001b[49m\u001b[43mloopless\u001b[49m\u001b[38;5;241;43m=\u001b[39;49m\u001b[38;5;28;43;01mFalse\u001b[39;49;00m\u001b[43m)\u001b[49m\n\u001b[0;32m      5\u001b[0m t1_stop \u001b[38;5;241m=\u001b[39m process_time()\n\u001b[0;32m      7\u001b[0m t2_start \u001b[38;5;241m=\u001b[39m process_time() \n",
      "File \u001b[1;32m~\\miniconda3\\envs\\RPE-PR_pytest\\lib\\site-packages\\cobra\\flux_analysis\\variability.py:244\u001b[0m, in \u001b[0;36mflux_variability_analysis\u001b[1;34m(model, reaction_list, loopless, fraction_of_optimum, pfba_factor, processes)\u001b[0m\n\u001b[0;32m    238\u001b[0m     chunk_size \u001b[38;5;241m=\u001b[39m \u001b[38;5;28mlen\u001b[39m(reaction_ids) \u001b[38;5;241m/\u001b[39m\u001b[38;5;241m/\u001b[39m processes\n\u001b[0;32m    239\u001b[0m     \u001b[38;5;28;01mwith\u001b[39;00m ProcessPool(\n\u001b[0;32m    240\u001b[0m         processes,\n\u001b[0;32m    241\u001b[0m         initializer\u001b[38;5;241m=\u001b[39m_init_worker,\n\u001b[0;32m    242\u001b[0m         initargs\u001b[38;5;241m=\u001b[39m(model, loopless, what[:\u001b[38;5;241m3\u001b[39m]),\n\u001b[0;32m    243\u001b[0m     ) \u001b[38;5;28;01mas\u001b[39;00m pool:\n\u001b[1;32m--> 244\u001b[0m         \u001b[38;5;28;01mfor\u001b[39;00m rxn_id, value \u001b[38;5;129;01min\u001b[39;00m pool\u001b[38;5;241m.\u001b[39mimap_unordered(\n\u001b[0;32m    245\u001b[0m             _fva_step, reaction_ids, chunksize\u001b[38;5;241m=\u001b[39mchunk_size\n\u001b[0;32m    246\u001b[0m         ):\n\u001b[0;32m    247\u001b[0m             fva_result\u001b[38;5;241m.\u001b[39mat[rxn_id, what] \u001b[38;5;241m=\u001b[39m value\n\u001b[0;32m    248\u001b[0m \u001b[38;5;28;01melse\u001b[39;00m:\n",
      "File \u001b[1;32m~\\miniconda3\\envs\\RPE-PR_pytest\\lib\\multiprocessing\\pool.py:451\u001b[0m, in \u001b[0;36m<genexpr>\u001b[1;34m(.0)\u001b[0m\n\u001b[0;32m    443\u001b[0m result \u001b[38;5;241m=\u001b[39m IMapUnorderedIterator(\u001b[38;5;28mself\u001b[39m)\n\u001b[0;32m    444\u001b[0m \u001b[38;5;28mself\u001b[39m\u001b[38;5;241m.\u001b[39m_taskqueue\u001b[38;5;241m.\u001b[39mput(\n\u001b[0;32m    445\u001b[0m     (\n\u001b[0;32m    446\u001b[0m         \u001b[38;5;28mself\u001b[39m\u001b[38;5;241m.\u001b[39m_guarded_task_generation(result\u001b[38;5;241m.\u001b[39m_job,\n\u001b[1;32m   (...)\u001b[0m\n\u001b[0;32m    449\u001b[0m         result\u001b[38;5;241m.\u001b[39m_set_length\n\u001b[0;32m    450\u001b[0m     ))\n\u001b[1;32m--> 451\u001b[0m \u001b[38;5;28;01mreturn\u001b[39;00m (item \u001b[38;5;28;01mfor\u001b[39;00m chunk \u001b[38;5;129;01min\u001b[39;00m result \u001b[38;5;28;01mfor\u001b[39;00m item \u001b[38;5;129;01min\u001b[39;00m chunk)\n",
      "File \u001b[1;32m~\\miniconda3\\envs\\RPE-PR_pytest\\lib\\multiprocessing\\pool.py:861\u001b[0m, in \u001b[0;36mIMapIterator.next\u001b[1;34m(self, timeout)\u001b[0m\n\u001b[0;32m    859\u001b[0m     \u001b[38;5;28mself\u001b[39m\u001b[38;5;241m.\u001b[39m_pool \u001b[38;5;241m=\u001b[39m \u001b[38;5;28;01mNone\u001b[39;00m\n\u001b[0;32m    860\u001b[0m     \u001b[38;5;28;01mraise\u001b[39;00m \u001b[38;5;167;01mStopIteration\u001b[39;00m \u001b[38;5;28;01mfrom\u001b[39;00m \u001b[38;5;28mNone\u001b[39m\n\u001b[1;32m--> 861\u001b[0m \u001b[38;5;28;43mself\u001b[39;49m\u001b[38;5;241;43m.\u001b[39;49m\u001b[43m_cond\u001b[49m\u001b[38;5;241;43m.\u001b[39;49m\u001b[43mwait\u001b[49m\u001b[43m(\u001b[49m\u001b[43mtimeout\u001b[49m\u001b[43m)\u001b[49m\n\u001b[0;32m    862\u001b[0m \u001b[38;5;28;01mtry\u001b[39;00m:\n\u001b[0;32m    863\u001b[0m     item \u001b[38;5;241m=\u001b[39m \u001b[38;5;28mself\u001b[39m\u001b[38;5;241m.\u001b[39m_items\u001b[38;5;241m.\u001b[39mpopleft()\n",
      "File \u001b[1;32m~\\miniconda3\\envs\\RPE-PR_pytest\\lib\\threading.py:320\u001b[0m, in \u001b[0;36mCondition.wait\u001b[1;34m(self, timeout)\u001b[0m\n\u001b[0;32m    318\u001b[0m \u001b[38;5;28;01mtry\u001b[39;00m:    \u001b[38;5;66;03m# restore state no matter what (e.g., KeyboardInterrupt)\u001b[39;00m\n\u001b[0;32m    319\u001b[0m     \u001b[38;5;28;01mif\u001b[39;00m timeout \u001b[38;5;129;01mis\u001b[39;00m \u001b[38;5;28;01mNone\u001b[39;00m:\n\u001b[1;32m--> 320\u001b[0m         \u001b[43mwaiter\u001b[49m\u001b[38;5;241;43m.\u001b[39;49m\u001b[43macquire\u001b[49m\u001b[43m(\u001b[49m\u001b[43m)\u001b[49m\n\u001b[0;32m    321\u001b[0m         gotit \u001b[38;5;241m=\u001b[39m \u001b[38;5;28;01mTrue\u001b[39;00m\n\u001b[0;32m    322\u001b[0m     \u001b[38;5;28;01melse\u001b[39;00m:\n",
      "\u001b[1;31mKeyboardInterrupt\u001b[0m: "
     ]
    }
   ],
   "source": [
    "from cobra.flux_analysis import flux_variability_analysis\n",
    "\n",
    "t1_start = process_time() \n",
    "fva_full = flux_variability_analysis(mod_RPE_PR, loopless=False)\n",
    "t1_stop = process_time()\n",
    "\n",
    "t2_start = process_time() \n",
    "fva_full = flux_variability_analysis(mod_Human1_Human1, loopless=False)\n",
    "t2_stop = process_time()\n",
    "\n",
    "t3_start = process_time() \n",
    "fva_full = flux_variability_analysis(mod, loopless=False)\n",
    "t3_stop = process_time()\n",
    "\n",
    "print(\"FVA RPE_PR:\", t1_stop-t1_start,\" seconds\") \n",
    "print(\"FVA Human1_Human1:\", t2_stop-t2_start,\" seconds\") \n",
    "print(\"FVA Human1:\", t3_stop-t3_start,\" seconds\") "
   ]
  },
  {
   "cell_type": "code",
   "execution_count": null,
   "id": "b3ffd987-0d9b-487c-942e-e2d9eb065e30",
   "metadata": {},
   "outputs": [],
   "source": [
    "# Python program to show time  \n",
    "from time import monotonic\n",
    "  \n",
    "t1_start = monotonic() \n",
    "mod_RPE_PR.optimize()\n",
    "t1_stop = monotonic()\n",
    "print(\"FBA RPE_PR:\", t1_stop-t1_start,\" seconds\") \n",
    "\n",
    "t2_start = monotonic() \n",
    "mod_Human1_Human1.optimize()\n",
    "t2_stop = monotonic()\n",
    "print(\"FBA Human1_Human1:\", t2_stop-t2_start,\" seconds\") \n",
    "\n",
    "t3_start = monotonic() \n",
    "mod.optimize()\n",
    "t3_stop = monotonic()\n",
    "print(\"FBA Human1:\", t3_stop-t3_start,\" seconds\") "
   ]
  },
  {
   "cell_type": "code",
   "execution_count": 22,
   "id": "65418d76-902a-46db-8883-1b30abf49afe",
   "metadata": {},
   "outputs": [
    {
     "name": "stdout",
     "output_type": "stream",
     "text": [
      "FBA Human1: 223.0470000000205  seconds\n"
     ]
    }
   ],
   "source": [
    "t3_start = monotonic() \n",
    "flux_variability_analysis(mod)\n",
    "t3_stop = monotonic()\n",
    "print(\"FBA Human1:\", t3_stop-t3_start,\" seconds\")"
   ]
  },
  {
   "cell_type": "code",
   "execution_count": 23,
   "id": "75c87966-7f47-49fd-83d4-3ae527bb94e0",
   "metadata": {},
   "outputs": [
    {
     "name": "stdout",
     "output_type": "stream",
     "text": [
      "FBA RPE_PR: 363.26600000000326  seconds\n"
     ]
    }
   ],
   "source": [
    "t1_start = monotonic() \n",
    "flux_variability_analysis(mod_RPE_PR)\n",
    "t1_stop = monotonic()\n",
    "print(\"FBA RPE_PR:\", t1_stop-t1_start,\" seconds\") "
   ]
  },
  {
   "cell_type": "code",
   "execution_count": 24,
   "id": "f4bf6764-7181-450c-a092-06e5da504e3b",
   "metadata": {},
   "outputs": [
    {
     "name": "stdout",
     "output_type": "stream",
     "text": [
      "FBA Human1: 201.0779999999795  seconds\n"
     ]
    }
   ],
   "source": [
    "t3_start = monotonic() \n",
    "flux_variability_analysis(mod)\n",
    "t3_stop = monotonic()\n",
    "print(\"FBA Human1:\", t3_stop-t3_start,\" seconds\") "
   ]
  },
  {
   "cell_type": "code",
   "execution_count": 26,
   "id": "8d3f922a-f636-4aec-814b-f4c4972c9fc1",
   "metadata": {},
   "outputs": [
    {
     "name": "stdout",
     "output_type": "stream",
     "text": [
      "FBA Human1_Human1: 231668.51499999996  seconds\n"
     ]
    }
   ],
   "source": [
    "t2_start = monotonic() \n",
    "flux_variability_analysis(mod_Human1_Human1)\n",
    "t2_stop = monotonic()\n",
    "print(\"FBA Human1_Human1:\", t2_stop-t2_start,\" seconds\") "
   ]
  },
  {
   "cell_type": "code",
   "execution_count": null,
   "id": "bffee76d-e2e6-4748-b9e0-8a56caf67268",
   "metadata": {},
   "outputs": [],
   "source": [
    "# Python program to show time  \n",
    "from time import monotonic\n",
    "  \n",
    "t1_start = monotonic() \n",
    "flux_variability_analysis(mod_RPE_PR)\n",
    "print(\"FBA RPE_PR:\", t1_stop-t1_start,\" seconds\") \n",
    "\n",
    "t2_start = monotonic() \n",
    "flux_variability_analysis(mod_Human1_Human1)\n",
    "t2_stop = monotonic()\n",
    "print(\"FBA Human1_Human1:\", t2_stop-t2_start,\" seconds\") \n",
    "\n",
    "t3_start = monotonic() \n",
    "flux_variability_analysis(mod)\n",
    "t3_stop = monotonic()\n",
    "print(\"FBA Human1:\", t3_stop-t3_start,\" seconds\") "
   ]
  }
 ],
 "metadata": {
  "kernelspec": {
   "display_name": "Python 3 (ipykernel)",
   "language": "python",
   "name": "python3"
  },
  "language_info": {
   "codemirror_mode": {
    "name": "ipython",
    "version": 3
   },
   "file_extension": ".py",
   "mimetype": "text/x-python",
   "name": "python",
   "nbconvert_exporter": "python",
   "pygments_lexer": "ipython3",
   "version": "3.10.9"
  }
 },
 "nbformat": 4,
 "nbformat_minor": 5
}
