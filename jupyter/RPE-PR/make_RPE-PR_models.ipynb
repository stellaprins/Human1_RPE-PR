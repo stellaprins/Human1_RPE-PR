{
 "cells": [
  {
   "cell_type": "code",
   "execution_count": 1,
   "id": "204deaba-3164-490b-b6f5-dc70546cdce9",
   "metadata": {
    "tags": []
   },
   "outputs": [],
   "source": [
    "# set cwd and solver\n",
    "import os\n",
    "import cobra\n",
    "cobra.Configuration().solver = \"gurobi\"\n",
    "os.chdir('C:/Users/prins/GitHub/Human1_RPE-PR') "
   ]
  },
  {
   "cell_type": "markdown",
   "id": "e52a8845-340f-4e72-b40d-ac409da7673c",
   "metadata": {},
   "source": [
    "LOAD MODELS\n",
    "\n",
    "loading the Recon3D model will give an error because the compartments have not been expressed in the right format for COBRApy"
   ]
  },
  {
   "cell_type": "code",
   "execution_count": 2,
   "id": "121617c9-d65c-45c5-b02c-df9df83cc95b",
   "metadata": {},
   "outputs": [
    {
     "name": "stdout",
     "output_type": "stream",
     "text": [
      "Set parameter Username\n",
      "Academic license - for non-commercial use only - expires 2024-02-03\n"
     ]
    },
    {
     "name": "stderr",
     "output_type": "stream",
     "text": [
      "No defined compartments in model model2. Compartments will be deduced heuristically using regular expressions.\n",
      "Using regular expression found the following compartments:c, e, g, i, l, m, n, r, x\n"
     ]
    }
   ],
   "source": [
    "# load RPE, PR, Recon3D, and basis Human1 models from cs mods folder\n",
    "from pathlib import Path\n",
    "from cobra.io import read_sbml_model, load_matlab_model\n",
    "mod = read_sbml_model(Path().cwd() / 'models' / 'Human-GEM.xml' )\n",
    "mod_RPE = read_sbml_model(Path().cwd() / 'models/cs_mods' / 'model_06_MeanExpression_RPE__VoigtEtAl2019_.xml')\n",
    "mod_PR = read_sbml_model(Path().cwd() / 'models/cs_mods' / 'model_13_MeanExpression_RodPhotoreceptors__LiangEtAl_2019_.xml' )\n",
    "mod_Recon3D = load_matlab_model(Path().cwd() / 'models' / 'Recon3D_model2_corrected_subsystems.mat' )"
   ]
  },
  {
   "cell_type": "markdown",
   "id": "fa8a79c8-0653-413e-b8f6-81d6a3a86079",
   "metadata": {},
   "source": [
    "MODIFY MODELS\n",
    "\n",
    "add back lost exchange reactions and ATP demand reaction."
   ]
  },
  {
   "cell_type": "code",
   "execution_count": 3,
   "id": "7b3504eb-9213-49f9-8694-59f4a53a364d",
   "metadata": {},
   "outputs": [],
   "source": [
    "# modify context specific models\n",
    "from src.modify_model import add_all_EX_rxns, remove_compartment\n",
    "\n",
    "for m in [mod_RPE, mod_PR]: # add ATP DM rxn and lost EX rxns to context specific models\n",
    "    m.add_reactions([mod.reactions.get_by_id('MAR03964').copy()]) # make sure it contains ATP DM rxn\n",
    "    m = add_all_EX_rxns(mod,m) # add lost EX rxns\n",
    "    for r in [r for r in m.reactions if len(r.products)==0]: \n",
    "        r.bounds = (0,1000) # close lb for exchange reactions"
   ]
  },
  {
   "cell_type": "markdown",
   "id": "9bd2f8c7-5c17-4f72-a59c-601de346c597",
   "metadata": {},
   "source": [
    "Remove nucleus from PR models (and control equivalent)"
   ]
  },
  {
   "cell_type": "code",
   "execution_count": 4,
   "id": "63ac0aaa-f6a0-444f-9440-589e4328a7a4",
   "metadata": {},
   "outputs": [
    {
     "name": "stdout",
     "output_type": "stream",
     "text": [
      "Read LP format model from file C:\\Users\\prins\\AppData\\Local\\Temp\\tmpeot_89jx.lp\n",
      "Reading time = 0.02 seconds\n",
      ": 5013 rows, 12490 columns, 46478 nonzeros\n"
     ]
    },
    {
     "name": "stderr",
     "output_type": "stream",
     "text": [
      "C:\\Users\\prins\\miniconda3\\envs\\RPE-PR_pytest\\lib\\site-packages\\cobra\\core\\group.py:147: UserWarning: need to pass in a list\n",
      "  warn(\"need to pass in a list\")\n"
     ]
    },
    {
     "name": "stdout",
     "output_type": "stream",
     "text": [
      "Read LP format model from file C:\\Users\\prins\\AppData\\Local\\Temp\\tmpfm_aftf1.lp\n",
      "Reading time = 0.04 seconds\n",
      ": 8369 rows, 26140 columns, 111668 nonzeros\n",
      "Read LP format model from file C:\\Users\\prins\\AppData\\Local\\Temp\\tmpn01096jz.lp\n",
      "Reading time = 0.04 seconds\n",
      ": 5835 rows, 21200 columns, 80850 nonzeros\n"
     ]
    }
   ],
   "source": [
    "mod_PR = remove_compartment(mod_PR.copy(), 'n')  # remove nucleus ('n') from PR model\n",
    "mod_no_nucleus = remove_compartment(mod.copy(), 'n')  # remove nucleus ('n') from Human1 model\n",
    "mod_Recon3D_no_nucleus = remove_compartment(mod_Recon3D.copy(), 'n')  # remove nucleus ('n') from Human1 model"
   ]
  },
  {
   "cell_type": "code",
   "execution_count": null,
   "id": "50274f82-4913-4f09-9603-6d1127df79e1",
   "metadata": {},
   "outputs": [],
   "source": [
    "    from src.modify_model import fix_compartment_dict, add_rxns2groups, add_id_suffix\n",
    "    from src.combine_RPE_PR import add_interface_RPE, add_interface_PR, fuse_RPE_PR, del_RPE_PR_dupl_rxns\n",
    "    mod_PR = add_id_suffix(mod_PR, '_PR')\n",
    "    mod_RPE = add_id_suffix(mod_RPE, '_RPE')\n",
    "    mod_RPE = add_interface_RPE(mod_RPE, 'e_RPE')\n",
    "    mod_PR = add_interface_PR(mod_PR, 'e_PR')\n",
    "    mod_RPE_PR = fuse_RPE_PR(mod_RPE,mod_PR)"
   ]
  },
  {
   "cell_type": "code",
   "execution_count": null,
   "id": "f48e3599-2769-47b3-83a3-9d6bbf51f396",
   "metadata": {},
   "outputs": [],
   "source": [
    "    mod_RPE_PR = fix_compartment_dict(mod_RPE_PR)\n",
    "    mod_RPE_PR = add_rxns2groups(mod_RPE_PR)\n",
    "    mod_RPE_PR = del_RPE_PR_dupl_rxns(mod_RPE_PR)"
   ]
  },
  {
   "cell_type": "code",
   "execution_count": null,
   "id": "73b94ca3-203d-436e-bb2f-7235b5068ccf",
   "metadata": {},
   "outputs": [],
   "source": [
    "# make combined RPE_PR models\n",
    "from src.combine_RPE_PR import make_RPE_PR_model, make_RPE_PR_model_Recon3D\n",
    "mod_RPE_PR = make_RPE_PR_model(mod_RPE.copy(), mod_PR.copy())\n",
    "mod_Human1_Human1 = make_RPE_PR_model(mod.copy(), mod_no_nucleus.copy())\n",
    "mod_Recon3D_Recon3D = make_RPE_PR_model_Recon3D(mod_Recon3D.copy(), mod_Recon3D_no_nucleus.copy())"
   ]
  },
  {
   "cell_type": "code",
   "execution_count": null,
   "id": "422d1b97-663e-429e-b4e2-bd24dd6c7b63",
   "metadata": {},
   "outputs": [],
   "source": [
    "from cobra.io import write_sbml_model\n",
    "# save combined RPE_PR models\n",
    "write_sbml_model(mod_RPE_PR, \"mod_RPE_PR.xml\")\n",
    "write_sbml_model(mod_Human1_Human1, \"mod_Human1_Human1.xml\")\n",
    "write_sbml_model(mod_Recon3D_Recon3D, \"mod_Recon3D_Recon3D.xml\")"
   ]
  }
 ],
 "metadata": {
  "kernelspec": {
   "display_name": "Python 3 (ipykernel)",
   "language": "python",
   "name": "python3"
  },
  "language_info": {
   "codemirror_mode": {
    "name": "ipython",
    "version": 3
   },
   "file_extension": ".py",
   "mimetype": "text/x-python",
   "name": "python",
   "nbconvert_exporter": "python",
   "pygments_lexer": "ipython3",
   "version": "3.10.9"
  }
 },
 "nbformat": 4,
 "nbformat_minor": 5
}
