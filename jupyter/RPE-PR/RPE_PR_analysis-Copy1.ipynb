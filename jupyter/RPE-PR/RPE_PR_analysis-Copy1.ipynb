{
 "cells": [
  {
   "cell_type": "code",
   "execution_count": 1,
   "id": "ef358771-71a1-485d-871e-d396b5f75a52",
   "metadata": {},
   "outputs": [],
   "source": [
    "# set cwd and solver\n",
    "import os\n",
    "import cobra\n",
    "cobra.Configuration().solver = \"gurobi\"\n",
    "os.chdir('C:/Users/prins/GitHub/Human1_RPE-PR') "
   ]
  },
  {
   "cell_type": "code",
   "execution_count": 2,
   "id": "e997c4d1-31c9-455b-83e4-ce6c5718f4ca",
   "metadata": {},
   "outputs": [
    {
     "name": "stdout",
     "output_type": "stream",
     "text": [
      "Set parameter Username\n",
      "Academic license - for non-commercial use only - expires 2024-02-03\n"
     ]
    },
    {
     "ename": "KeyboardInterrupt",
     "evalue": "",
     "output_type": "error",
     "traceback": [
      "\u001b[1;31m---------------------------------------------------------------------------\u001b[0m",
      "\u001b[1;31mKeyboardInterrupt\u001b[0m                         Traceback (most recent call last)",
      "Cell \u001b[1;32mIn[2], line 6\u001b[0m\n\u001b[0;32m      3\u001b[0m \u001b[38;5;28;01mfrom\u001b[39;00m \u001b[38;5;21;01mcobra\u001b[39;00m\u001b[38;5;21;01m.\u001b[39;00m\u001b[38;5;21;01mio\u001b[39;00m \u001b[38;5;28;01mimport\u001b[39;00m read_sbml_model\n\u001b[0;32m      5\u001b[0m mod_RPE_PR \u001b[38;5;241m=\u001b[39m read_sbml_model(Path()\u001b[38;5;241m.\u001b[39mcwd() \u001b[38;5;241m/\u001b[39m \u001b[38;5;124m\"\u001b[39m\u001b[38;5;124mmodels\u001b[39m\u001b[38;5;124m\"\u001b[39m \u001b[38;5;241m/\u001b[39m \u001b[38;5;124m\"\u001b[39m\u001b[38;5;124mmod_RPE_PR_old.xml\u001b[39m\u001b[38;5;124m\"\u001b[39m)\n\u001b[1;32m----> 6\u001b[0m mod_Human1_Human1 \u001b[38;5;241m=\u001b[39m \u001b[43mread_sbml_model\u001b[49m\u001b[43m(\u001b[49m\u001b[43mPath\u001b[49m\u001b[43m(\u001b[49m\u001b[43m)\u001b[49m\u001b[38;5;241;43m.\u001b[39;49m\u001b[43mcwd\u001b[49m\u001b[43m(\u001b[49m\u001b[43m)\u001b[49m\u001b[43m  \u001b[49m\u001b[38;5;241;43m/\u001b[39;49m\u001b[43m \u001b[49m\u001b[38;5;124;43m\"\u001b[39;49m\u001b[38;5;124;43mmodels\u001b[39;49m\u001b[38;5;124;43m\"\u001b[39;49m\u001b[43m \u001b[49m\u001b[38;5;241;43m/\u001b[39;49m\u001b[43m \u001b[49m\u001b[38;5;124;43m\"\u001b[39;49m\u001b[38;5;124;43mmod_Human1_Human1.xml\u001b[39;49m\u001b[38;5;124;43m\"\u001b[39;49m\u001b[43m)\u001b[49m\n\u001b[0;32m      7\u001b[0m mod_Recon3D_Recon3D \u001b[38;5;241m=\u001b[39m read_sbml_model(Path()\u001b[38;5;241m.\u001b[39mcwd()  \u001b[38;5;241m/\u001b[39m \u001b[38;5;124m\"\u001b[39m\u001b[38;5;124mmodels\u001b[39m\u001b[38;5;124m\"\u001b[39m \u001b[38;5;241m/\u001b[39m \u001b[38;5;124m\"\u001b[39m\u001b[38;5;124mmod_Recon3D_Recon3D.xml\u001b[39m\u001b[38;5;124m\"\u001b[39m)\n\u001b[0;32m      8\u001b[0m mitocore \u001b[38;5;241m=\u001b[39m read_sbml_model(Path()\u001b[38;5;241m.\u001b[39mcwd() \u001b[38;5;241m/\u001b[39m \u001b[38;5;124m\"\u001b[39m\u001b[38;5;124mmodels\u001b[39m\u001b[38;5;124m\"\u001b[39m \u001b[38;5;241m/\u001b[39m  \u001b[38;5;124m\"\u001b[39m\u001b[38;5;124mmitocore_12918_2017_500_MOESM4_ESM.xml\u001b[39m\u001b[38;5;124m\"\u001b[39m)\n",
      "File \u001b[1;32m~\\miniconda3\\envs\\RPE-PR_pytest\\lib\\site-packages\\cobra\\io\\sbml.py:458\u001b[0m, in \u001b[0;36mread_sbml_model\u001b[1;34m(filename, number, f_replace, **kwargs)\u001b[0m\n\u001b[0;32m    456\u001b[0m \u001b[38;5;28;01mtry\u001b[39;00m:\n\u001b[0;32m    457\u001b[0m     doc \u001b[38;5;241m=\u001b[39m _get_doc_from_filename(filename)\n\u001b[1;32m--> 458\u001b[0m     \u001b[38;5;28;01mreturn\u001b[39;00m _sbml_to_model(doc, number\u001b[38;5;241m=\u001b[39mnumber, f_replace\u001b[38;5;241m=\u001b[39mf_replace, \u001b[38;5;241m*\u001b[39m\u001b[38;5;241m*\u001b[39mkwargs)\n\u001b[0;32m    459\u001b[0m \u001b[38;5;28;01mexcept\u001b[39;00m \u001b[38;5;167;01mIOError\u001b[39;00m \u001b[38;5;28;01mas\u001b[39;00m e:\n\u001b[0;32m    460\u001b[0m     \u001b[38;5;28;01mraise\u001b[39;00m e\n",
      "File \u001b[1;32m~\\miniconda3\\envs\\RPE-PR_pytest\\lib\\site-packages\\cobra\\io\\sbml.py:958\u001b[0m, in \u001b[0;36m_sbml_to_model\u001b[1;34m(doc, number, f_replace, set_missing_bounds, **kwargs)\u001b[0m\n\u001b[0;32m    955\u001b[0m                 gpr \u001b[38;5;241m=\u001b[39m \u001b[38;5;124m\"\u001b[39m\u001b[38;5;124m \u001b[39m\u001b[38;5;124m\"\u001b[39m\u001b[38;5;241m.\u001b[39mjoin(f_replace[F_GENE](t) \u001b[38;5;28;01mfor\u001b[39;00m t \u001b[38;5;129;01min\u001b[39;00m gpr\u001b[38;5;241m.\u001b[39msplit(\u001b[38;5;124m\"\u001b[39m\u001b[38;5;124m \u001b[39m\u001b[38;5;124m\"\u001b[39m))\n\u001b[0;32m    956\u001b[0m         cobra_reaction\u001b[38;5;241m.\u001b[39mgpr \u001b[38;5;241m=\u001b[39m GPR\u001b[38;5;241m.\u001b[39mfrom_string(gpr)\n\u001b[1;32m--> 958\u001b[0m \u001b[43mcobra_model\u001b[49m\u001b[38;5;241;43m.\u001b[39;49m\u001b[43madd_reactions\u001b[49m\u001b[43m(\u001b[49m\u001b[43mreactions\u001b[49m\u001b[43m)\u001b[49m\n\u001b[0;32m    960\u001b[0m \u001b[38;5;66;03m# Objective\u001b[39;00m\n\u001b[0;32m    961\u001b[0m obj_direction \u001b[38;5;241m=\u001b[39m \u001b[38;5;124m\"\u001b[39m\u001b[38;5;124mmax\u001b[39m\u001b[38;5;124m\"\u001b[39m\n",
      "File \u001b[1;32m~\\miniconda3\\envs\\RPE-PR_pytest\\lib\\site-packages\\cobra\\core\\model.py:756\u001b[0m, in \u001b[0;36mModel.add_reactions\u001b[1;34m(self, reaction_list)\u001b[0m\n\u001b[0;32m    753\u001b[0m     context(partial(\u001b[38;5;28mself\u001b[39m\u001b[38;5;241m.\u001b[39mreactions\u001b[38;5;241m.\u001b[39m\u001b[38;5;21m__isub__\u001b[39m, pruned))\n\u001b[0;32m    755\u001b[0m \u001b[38;5;66;03m# from cameo ...\u001b[39;00m\n\u001b[1;32m--> 756\u001b[0m \u001b[38;5;28;43mself\u001b[39;49m\u001b[38;5;241;43m.\u001b[39;49m\u001b[43m_populate_solver\u001b[49m\u001b[43m(\u001b[49m\u001b[43mpruned\u001b[49m\u001b[43m)\u001b[49m\n",
      "File \u001b[1;32m~\\miniconda3\\envs\\RPE-PR_pytest\\lib\\site-packages\\cobra\\core\\model.py:1155\u001b[0m, in \u001b[0;36mModel._populate_solver\u001b[1;34m(self, reaction_list, metabolite_list)\u001b[0m\n\u001b[0;32m   1153\u001b[0m \u001b[38;5;28;01mfor\u001b[39;00m reaction \u001b[38;5;129;01min\u001b[39;00m reaction_list:\n\u001b[0;32m   1154\u001b[0m     reaction \u001b[38;5;241m=\u001b[39m \u001b[38;5;28mself\u001b[39m\u001b[38;5;241m.\u001b[39mreactions\u001b[38;5;241m.\u001b[39mget_by_id(reaction\u001b[38;5;241m.\u001b[39mid)\n\u001b[1;32m-> 1155\u001b[0m     \u001b[43mreaction\u001b[49m\u001b[38;5;241;43m.\u001b[39;49m\u001b[43mupdate_variable_bounds\u001b[49m\u001b[43m(\u001b[49m\u001b[43m)\u001b[49m\n\u001b[0;32m   1156\u001b[0m \u001b[38;5;28;01mfor\u001b[39;00m constraint, terms \u001b[38;5;129;01min\u001b[39;00m constraint_terms\u001b[38;5;241m.\u001b[39mitems():\n\u001b[0;32m   1157\u001b[0m     constraint\u001b[38;5;241m.\u001b[39mset_linear_coefficients(terms)\n",
      "File \u001b[1;32m~\\miniconda3\\envs\\RPE-PR_pytest\\lib\\site-packages\\cobra\\core\\reaction.py:329\u001b[0m, in \u001b[0;36mReaction.update_variable_bounds\u001b[1;34m(self)\u001b[0m\n\u001b[0;32m    325\u001b[0m \u001b[38;5;28;01melse\u001b[39;00m:\n\u001b[0;32m    326\u001b[0m     \u001b[38;5;28mself\u001b[39m\u001b[38;5;241m.\u001b[39mforward_variable\u001b[38;5;241m.\u001b[39mset_bounds(\n\u001b[0;32m    327\u001b[0m         lb\u001b[38;5;241m=\u001b[39m\u001b[38;5;241m0\u001b[39m, ub\u001b[38;5;241m=\u001b[39m\u001b[38;5;28;01mNone\u001b[39;00m \u001b[38;5;28;01mif\u001b[39;00m isinf(\u001b[38;5;28mself\u001b[39m\u001b[38;5;241m.\u001b[39m_upper_bound) \u001b[38;5;28;01melse\u001b[39;00m \u001b[38;5;28mself\u001b[39m\u001b[38;5;241m.\u001b[39m_upper_bound\n\u001b[0;32m    328\u001b[0m     )\n\u001b[1;32m--> 329\u001b[0m     \u001b[38;5;28;43mself\u001b[39;49m\u001b[38;5;241;43m.\u001b[39;49m\u001b[43mreverse_variable\u001b[49m\u001b[38;5;241m.\u001b[39mset_bounds(\n\u001b[0;32m    330\u001b[0m         lb\u001b[38;5;241m=\u001b[39m\u001b[38;5;241m0\u001b[39m, ub\u001b[38;5;241m=\u001b[39m\u001b[38;5;28;01mNone\u001b[39;00m \u001b[38;5;28;01mif\u001b[39;00m isinf(\u001b[38;5;28mself\u001b[39m\u001b[38;5;241m.\u001b[39m_lower_bound) \u001b[38;5;28;01melse\u001b[39;00m \u001b[38;5;241m-\u001b[39m\u001b[38;5;28mself\u001b[39m\u001b[38;5;241m.\u001b[39m_lower_bound\n\u001b[0;32m    331\u001b[0m     )\n",
      "File \u001b[1;32m~\\miniconda3\\envs\\RPE-PR_pytest\\lib\\site-packages\\cobra\\core\\reaction.py:205\u001b[0m, in \u001b[0;36mReaction.reverse_variable\u001b[1;34m(self)\u001b[0m\n\u001b[0;32m    196\u001b[0m \u001b[38;5;124;03m\"\"\"Get an optlang variable representing the reverse flux.\u001b[39;00m\n\u001b[0;32m    197\u001b[0m \n\u001b[0;32m    198\u001b[0m \u001b[38;5;124;03mReturns\u001b[39;00m\n\u001b[1;32m   (...)\u001b[0m\n\u001b[0;32m    202\u001b[0m \u001b[38;5;124;03m    not associated with a model.\u001b[39;00m\n\u001b[0;32m    203\u001b[0m \u001b[38;5;124;03m\"\"\"\u001b[39;00m\n\u001b[0;32m    204\u001b[0m \u001b[38;5;28;01mif\u001b[39;00m \u001b[38;5;28mself\u001b[39m\u001b[38;5;241m.\u001b[39mmodel \u001b[38;5;129;01mis\u001b[39;00m \u001b[38;5;129;01mnot\u001b[39;00m \u001b[38;5;28;01mNone\u001b[39;00m:\n\u001b[1;32m--> 205\u001b[0m     \u001b[38;5;28;01mreturn\u001b[39;00m \u001b[38;5;28;43mself\u001b[39;49m\u001b[38;5;241;43m.\u001b[39;49m\u001b[43mmodel\u001b[49m\u001b[38;5;241;43m.\u001b[39;49m\u001b[43mvariables\u001b[49m[\u001b[38;5;28mself\u001b[39m\u001b[38;5;241m.\u001b[39mreverse_id]\n\u001b[0;32m    206\u001b[0m \u001b[38;5;28;01melse\u001b[39;00m:\n\u001b[0;32m    207\u001b[0m     \u001b[38;5;28;01mreturn\u001b[39;00m \u001b[38;5;28;01mNone\u001b[39;00m\n",
      "File \u001b[1;32m~\\miniconda3\\envs\\RPE-PR_pytest\\lib\\site-packages\\cobra\\core\\model.py:1018\u001b[0m, in \u001b[0;36mModel.variables\u001b[1;34m(self)\u001b[0m\n\u001b[0;32m   1004\u001b[0m \u001b[38;5;129m@property\u001b[39m\n\u001b[0;32m   1005\u001b[0m \u001b[38;5;28;01mdef\u001b[39;00m \u001b[38;5;21mvariables\u001b[39m(\u001b[38;5;28mself\u001b[39m) \u001b[38;5;241m-\u001b[39m\u001b[38;5;241m>\u001b[39m \u001b[38;5;124m\"\u001b[39m\u001b[38;5;124mContainer\u001b[39m\u001b[38;5;124m\"\u001b[39m:\n\u001b[0;32m   1006\u001b[0m     \u001b[38;5;124;03m\"\"\"Get the mathematical variables in the cobra model.\u001b[39;00m\n\u001b[0;32m   1007\u001b[0m \n\u001b[0;32m   1008\u001b[0m \u001b[38;5;124;03m    In a cobra model, most variables are reactions. However,\u001b[39;00m\n\u001b[1;32m   (...)\u001b[0m\n\u001b[0;32m   1016\u001b[0m \u001b[38;5;124;03m        A container with all associated variables.\u001b[39;00m\n\u001b[0;32m   1017\u001b[0m \u001b[38;5;124;03m    \"\"\"\u001b[39;00m\n\u001b[1;32m-> 1018\u001b[0m     \u001b[38;5;28;01mreturn\u001b[39;00m \u001b[38;5;28;43mself\u001b[39;49m\u001b[38;5;241;43m.\u001b[39;49m\u001b[43msolver\u001b[49m\u001b[38;5;241;43m.\u001b[39;49m\u001b[43mvariables\u001b[49m\n",
      "File \u001b[1;32m~\\miniconda3\\envs\\RPE-PR_pytest\\lib\\site-packages\\optlang\\interface.py:1249\u001b[0m, in \u001b[0;36mModel.variables\u001b[1;34m(self)\u001b[0m\n\u001b[0;32m   1246\u001b[0m \u001b[38;5;129m@property\u001b[39m\n\u001b[0;32m   1247\u001b[0m \u001b[38;5;28;01mdef\u001b[39;00m \u001b[38;5;21mvariables\u001b[39m(\u001b[38;5;28mself\u001b[39m):\n\u001b[0;32m   1248\u001b[0m     \u001b[38;5;124;03m\"\"\"The model variables.\"\"\"\u001b[39;00m\n\u001b[1;32m-> 1249\u001b[0m     \u001b[38;5;28;43mself\u001b[39;49m\u001b[38;5;241;43m.\u001b[39;49m\u001b[43mupdate\u001b[49m\u001b[43m(\u001b[49m\u001b[43m)\u001b[49m\n\u001b[0;32m   1250\u001b[0m     \u001b[38;5;28;01mreturn\u001b[39;00m \u001b[38;5;28mself\u001b[39m\u001b[38;5;241m.\u001b[39m_variables\n",
      "File \u001b[1;32m~\\miniconda3\\envs\\RPE-PR_pytest\\lib\\site-packages\\optlang\\gurobi_interface.py:671\u001b[0m, in \u001b[0;36mModel.update\u001b[1;34m(self)\u001b[0m\n\u001b[0;32m    670\u001b[0m \u001b[38;5;28;01mdef\u001b[39;00m \u001b[38;5;21mupdate\u001b[39m(\u001b[38;5;28mself\u001b[39m):\n\u001b[1;32m--> 671\u001b[0m     \u001b[38;5;28;43msuper\u001b[39;49m\u001b[43m(\u001b[49m\u001b[43mModel\u001b[49m\u001b[43m,\u001b[49m\u001b[43m \u001b[49m\u001b[38;5;28;43mself\u001b[39;49m\u001b[43m)\u001b[49m\u001b[38;5;241;43m.\u001b[39;49m\u001b[43mupdate\u001b[49m\u001b[43m(\u001b[49m\u001b[43mcallback\u001b[49m\u001b[38;5;241;43m=\u001b[39;49m\u001b[38;5;28;43mself\u001b[39;49m\u001b[38;5;241;43m.\u001b[39;49m\u001b[43mproblem\u001b[49m\u001b[38;5;241;43m.\u001b[39;49m\u001b[43mupdate\u001b[49m\u001b[43m)\u001b[49m\n",
      "File \u001b[1;32m~\\miniconda3\\envs\\RPE-PR_pytest\\lib\\site-packages\\optlang\\interface.py:1473\u001b[0m, in \u001b[0;36mModel.update\u001b[1;34m(self, callback)\u001b[0m\n\u001b[0;32m   1470\u001b[0m callback()\n\u001b[0;32m   1472\u001b[0m add_constr \u001b[38;5;241m=\u001b[39m \u001b[38;5;28mself\u001b[39m\u001b[38;5;241m.\u001b[39m_pending_modifications\u001b[38;5;241m.\u001b[39madd_constr\n\u001b[1;32m-> 1473\u001b[0m \u001b[38;5;28;01mif\u001b[39;00m \u001b[38;5;28;43mlen\u001b[39;49m\u001b[43m(\u001b[49m\u001b[43madd_constr\u001b[49m\u001b[43m)\u001b[49m \u001b[38;5;241m>\u001b[39m \u001b[38;5;241m0\u001b[39m:\n\u001b[0;32m   1474\u001b[0m     \u001b[38;5;28mself\u001b[39m\u001b[38;5;241m.\u001b[39m_add_constraints(add_constr)\n\u001b[0;32m   1475\u001b[0m     \u001b[38;5;28mself\u001b[39m\u001b[38;5;241m.\u001b[39m_pending_modifications\u001b[38;5;241m.\u001b[39madd_constr \u001b[38;5;241m=\u001b[39m []\n",
      "\u001b[1;31mKeyboardInterrupt\u001b[0m: "
     ]
    }
   ],
   "source": [
    "# load combined RPE_PR models\n",
    "from pathlib import Path\n",
    "from cobra.io import read_sbml_model\n",
    "\n",
    "mod_RPE_PR = read_sbml_model(Path().cwd() / \"models\" / \"mod_RPE_PR_old.xml\")\n",
    "mod_Human1_Human1 = read_sbml_model(Path().cwd()  / \"models\" / \"mod_Human1_Human1.xml\")\n",
    "mod_Recon3D_Recon3D = read_sbml_model(Path().cwd()  / \"models\" / \"mod_Recon3D_Recon3D.xml\")"
   ]
  },
  {
   "cell_type": "code",
   "execution_count": null,
   "id": "35853197-8470-4ccd-bc14-81f01c4a6d76",
   "metadata": {},
   "outputs": [],
   "source": [
    "# modify models\n",
    "\n",
    "# set objective function (PR ATP DM)\n",
    "mod_RPE_PR.objective = 'MAR03964_PR'\n",
    "mod_Human1_Human1.objective = 'MAR03964_PR'\n",
    "mod_Recon3D_Recon3D.objective = 'DM_atp_c__PR'\n",
    "mitocore.objective = 'OF_ATP_MitoCore'\n",
    "\n",
    "\n",
    "# close PR exchange reactions, open RPE exchange upper boundaries\n",
    "from src.modify_model import close_PR_EX, open_RPE_EX_ub\n",
    "models = [mod_RPE_PR, mod_Human1_Human1, mod_Recon3D_Recon3D]\n",
    "for m in models:\n",
    "    m = close_PR_EX(m)\n",
    "    m = open_RPE_EX_ub(m)"
   ]
  },
  {
   "cell_type": "code",
   "execution_count": 4,
   "id": "9e44a962-4d8a-4b25-b5f8-cb088cd5a652",
   "metadata": {},
   "outputs": [
    {
     "data": {
      "text/html": [
       "\n",
       "        <table>\n",
       "            <tr>\n",
       "                <td><strong>Name</strong></td>\n",
       "                <td>HumanGEM_HumanGEM</td>\n",
       "            </tr><tr>\n",
       "                <td><strong>Memory address</strong></td>\n",
       "                <td>21c8689b100</td>\n",
       "            </tr><tr>\n",
       "                <td><strong>Number of metabolites</strong></td>\n",
       "                <td>10436</td>\n",
       "            </tr><tr>\n",
       "                <td><strong>Number of reactions</strong></td>\n",
       "                <td>14282</td>\n",
       "            </tr><tr>\n",
       "                <td><strong>Number of genes</strong></td>\n",
       "                <td>2268</td>\n",
       "            </tr><tr>\n",
       "                <td><strong>Number of groups</strong></td>\n",
       "                <td>142</td>\n",
       "            </tr><tr>\n",
       "                <td><strong>Objective expression</strong></td>\n",
       "                <td>1.0*MAR03964_PR - 1.0*MAR03964_PR_reverse_e8402</td>\n",
       "            </tr><tr>\n",
       "                <td><strong>Compartments</strong></td>\n",
       "                <td>c_RPE, r_RPE, e_RPE, m_RPE, x_RPE, g_RPE, l_RPE, n_RPE, i_RPE, e_RPE_PR, c_PR, x_PR, m_PR, g_PR, r_PR, l_PR, i_PR</td>\n",
       "            </tr>\n",
       "          </table>"
      ],
      "text/plain": [
       "<Model HumanGEM_HumanGEM at 0x21c8689b100>"
      ]
     },
     "execution_count": 4,
     "metadata": {},
     "output_type": "execute_result"
    }
   ],
   "source": [
    "mod_RPE_PR"
   ]
  },
  {
   "cell_type": "code",
   "execution_count": null,
   "id": "345957ab-c76d-483e-816a-11af83bb270a",
   "metadata": {},
   "outputs": [],
   "source": [
    "# set simulation parameters\n",
    "\n",
    "# exchange lower bounds (max flux into the model from outside world)\n",
    "EX_o2_e = [-10] # oxygen\n",
    "EX_glc_D = [-10] # glucose\n",
    "\n",
    "# rxn IDs for Human1 models and Recon3Dmodel\n",
    "o2_ID = ['MAR09048_RPE','MAR09048_RPE','EX_o2s[e]_RPE']\n",
    "glc_ID = ['MAR09034_RPE','MAR09034_RPE','EX_glc_D[e]_RPE']\n",
    "ATP_RPE_ID = ['MAR03964_RPE','MAR03964_RPE','DM_atp_c__RPE']"
   ]
  },
  {
   "cell_type": "code",
   "execution_count": null,
   "id": "4a3482f9-ab74-4dd9-b360-9ead521fb13f",
   "metadata": {},
   "outputs": [],
   "source": [
    "models[0]"
   ]
  },
  {
   "cell_type": "code",
   "execution_count": null,
   "id": "eeee5200-b5d1-4630-92a2-e249cc43a50a",
   "metadata": {},
   "outputs": [],
   "source": [
    "from src.analysis import FVA_FBA_analysis\n",
    "from datetime import datetime\n",
    "from src.get_info import make_rxn_df\n",
    "import pandas as pd \n",
    "\n",
    "# make df with rxns in model\n",
    "datestr = datetime.strftime(datetime.now(), '%H%M_%d-%m-%Y')    \n",
    "results = dict()\n",
    "for m in models:\n",
    "    df_collated = pd.DataFrame()\n",
    "    i = 0\n",
    "    with m as model:\n",
    "        rxns = make_rxn_df(model)\n",
    "        for EX_o2_e_i in EX_o2_e:\n",
    "            model.reactions.get_by_id(o2_ID[i]).lower_bound = EX_o2_e_i\n",
    "            for EX_glc_D_i in EX_glc_D:\n",
    "                model.reactions.get_by_id(glc_ID[i]).lower_bound = EX_glc_D_i\n",
    "                df_results = FVA_FBA_analysis(model,ATP_RPE_ID[i])\n",
    "                df_results.columns = df_results.columns + '_O2_' + str(EX_o2_e_i) + '_GLC_' + str(EX_glc_D_i)\n",
    "                df_collated = pd.concat([df_collated, df_results], axis=1)           \n",
    "        df_collated = pd.merge(rxns, df_collated, left_index=True, right_index=True)   \n",
    "        sheetname = model.id\n",
    "        with pd.ExcelWriter('results_' + datestr + '.xlsx') as writer:  \n",
    "            df_collated.to_excel(writer, sheet_name = sheetname) \n",
    "        results[i] = df_collated\n",
    "    i = i + 1"
   ]
  },
  {
   "cell_type": "code",
   "execution_count": null,
   "id": "d479e5c0-4872-4276-b7e8-e370ddb0ce55",
   "metadata": {},
   "outputs": [],
   "source": [
    "models[0]"
   ]
  },
  {
   "cell_type": "code",
   "execution_count": null,
   "id": "229b2978-1883-4ee2-ae85-1ad1b10ed1b0",
   "metadata": {},
   "outputs": [],
   "source": [
    "models[1].reactions.get_by_id('MAR09048_RPE')"
   ]
  },
  {
   "cell_type": "code",
   "execution_count": null,
   "id": "a176332d-bd31-4030-8149-191979e342c9",
   "metadata": {},
   "outputs": [],
   "source": [
    "stop"
   ]
  },
  {
   "cell_type": "code",
   "execution_count": null,
   "id": "2d91fdf3-6f11-4cfc-bf9f-237a7eddb027",
   "metadata": {},
   "outputs": [],
   "source": [
    "from src.analysis import FVA_FBA_analysis\n",
    "from datetime import datetime\n",
    "import pandas as pd\n",
    "\n",
    "for m in models:\n",
    "    df_collated = pd.DataFrame()\n",
    "    with m as model:\n",
    "        i = 0\n",
    "        filename = m.id + '.xlsx'\n",
    "        for EX_o2_e_i in EX_o2_e:\n",
    "            model.reactions.get_by_id(o2_ID[i]).lower_bound = EX_o2_e_i\n",
    "            for EX_glc_D_i in EX_glc_D:\n",
    "                model.reactions.get_by_id(glc_ID[i]).lower_bound = EX_glc_D_i\n",
    "                df_results = FVA_FBA_analysis(model,ATP_RPE_ID[i])\n",
    "                df_results.columns = df_results.columns + '_O2_' + str(EX_o2_e_i) + '_GLC_' + str(EX_glc_D_i)\n",
    "                df_collated = pd.merge(df_collated, df_results, left_index=True, right_index=True)       \n",
    "        sheetname = model.id\n",
    "        datestr = datetime.strftime(datetime.now(), '%H%M_%d-%m-%Y')\n",
    "        with pd.ExcelWriter('results_' + datestr + '.xlsx') as writer:  \n",
    "            df_collated.to_excel(writer, sheet_name = sheetname)\n",
    "                \n",
    "        i = i + 1"
   ]
  },
  {
   "cell_type": "code",
   "execution_count": null,
   "id": "1ce14832-b8dc-4dd6-b3a0-9702fba1d7a9",
   "metadata": {},
   "outputs": [],
   "source": [
    "    from src.analysis import FVA_FBA_analysis\n",
    "    import pandas as pd\n",
    "\n",
    "    with mod_RPE_PR as model:\n",
    "        i = 0\n",
    "        filename = m.id + '.xlsx'\n",
    "        for EX_o2_e_i in EX_o2_e:\n",
    "            model.reactions.get_by_id(o2_ID[i]).lower_bound = EX_o2_e_i\n",
    "            for EX_glc_D_i in EX_glc_D:\n",
    "                model.reactions.get_by_id(glc_ID[i]).lower_bound = EX_glc_D_i\n",
    "                df_results = FVA_FBA_analysis(model,ATP_RPE_ID[i])\n",
    "                sheetname = 'O2_' + str(EX_o2_e_i) + '_GLC_' + str(EX_glc_D_i)\n",
    "                with pd.ExcelWriter(filename) as writer:  \n",
    "                    df_results.to_excel(writer, sheet_name = sheetname)\n",
    "        i = i + 1\n",
    "\n",
    "    df_results"
   ]
  },
  {
   "cell_type": "code",
   "execution_count": null,
   "id": "4e3d9539-d517-4ec1-8a64-395a3f3300a8",
   "metadata": {},
   "outputs": [],
   "source": [
    "from src.analysis import FVA_FBA_analysis\n",
    "\n",
    "for m in models:\n",
    "    with m as model:\n",
    "        i = 0\n",
    "        filename = m.id + '.xlsx'\n",
    "        for EX_o2_e_i in EX_o2_e:\n",
    "            model.reactions.get_by_id(o2_ID[i]).lower_bound = EX_o2_e_i\n",
    "            for EX_glc_D_i in EX_glc_D:\n",
    "                model.reactions.get_by_id(glc_ID[i]).lower_bound = EX_glc_D_i\n",
    "                df_results = FVA_FBA_analysis(model,ATP_RPE_ID[i])\n",
    "                sheetname = 'O2_' str(EX_o2_e_i) + '_GLC_' + str(EX_glc_D_i)\n",
    "                with pd.ExcelWriter(filename) as writer:  \n",
    "                    df_results.to_excel(writer, sheet_name = sheetname)\n",
    "        i = i + 1"
   ]
  },
  {
   "cell_type": "code",
   "execution_count": null,
   "id": "087b2a3a-4e4e-4c26-9d71-5ace24a581f1",
   "metadata": {},
   "outputs": [],
   "source": [
    "# SET EXCHANGE BOUNDS\n",
    "# 'id' col with IDs and an 'upper_bound' col with bounds\n",
    "def set_bounds(model,bounds):\n",
    "    \n",
    "    # open RPE exchange reactions\n",
    "    for i in range(len(bounds)): \n",
    "        try:\n",
    "            model.reactions.get_by_id(bounds['id'][i]+'_RPE').bounds = (-bounds['upper_bound'][i],1000)\n",
    "        except KeyError:\n",
    "            model.reactions.get_by_id(bounds['vmh_id'][i]+'_RPE').bounds = (-bounds['upper_bound'][i],1000)\n",
    "    \n",
    "    # close PR exchange reactions  \n",
    "    rxns = [r for r in model.reactions if '_PR' in r.id if len(r.products) == 0]\n",
    "    for r in rxns:\n",
    "        r.bounds=(0,0)\n",
    "    return model\n",
    "\n",
    "import pandas as pd  \n",
    "bounds = pd.read_excel(Path().cwd() / 'rxn_bounds' / 'R3D301_EX_rxns.xlsx')\n",
    "bounds = bounds[bounds['upper_bound']>0] # select entries with non-zero upper bounds\n",
    "\n",
    "mod_RPE_PR = set_bounds(mod_RPE_PR,bounds)\n",
    "mod_Human1_Human1 = set_bounds(mod_Human1_Human1,bounds)\n",
    "mod_Recon3D_Recon3D  = set_bounds(mod_Recon3D_Recon3D,bounds)"
   ]
  },
  {
   "cell_type": "code",
   "execution_count": null,
   "id": "671d2d17-9c06-435b-b344-3c011ec932a4",
   "metadata": {},
   "outputs": [],
   "source": [
    "# perform FVA and FBA on a model setting RPE_ATP demand to fixed values\n",
    "\n",
    "def FVA_FBA_analysis(model,DM_atp_c__PR_rxn_id):\n",
    "    from cobra.flux_analysis import flux_variability_analysis\n",
    "    import pandas as pd\n",
    "        \n",
    "    # make df with rxns in model\n",
    "    rxns = make_rxn_df(model)\n",
    "    \n",
    "    df_FVA_full = pd.DataFrame()\n",
    "    df_FBA_fluxes = pd.DataFrame()\n",
    "    df_FBA_costs = pd.DataFrame()\n",
    "    df_pFBA_fluxes = pd.DataFrame()\n",
    "    df_pFBA_costs = pd.DataFrame()\n",
    "    RPE_ATP = [0]\n",
    "\n",
    "    for x in RPE_ATP:\n",
    "        model.reactions.get_by_id(DM_atp_c__PR_rxn_id).bounds=(x,x) # set bounds\n",
    "\n",
    "        fba_results = model.optimize() # traditional FBA\n",
    "        fba = fba_results.to_frame() # df FBA results\n",
    "        fba.columns = fba.columns + '_' + str(x) # add RPE_ATP to FBA column names\n",
    "        df_FBA_fluxes = pd.concat([df_FBA_fluxes, fba.iloc[:,0]], axis=1) # fill df flux results\n",
    "        df_FBA_costs = pd.concat([df_FBA_costs, fba.iloc[:,1]], axis=1) # fill df reduced costs\n",
    "\n",
    "        fva_full = flux_variability_analysis(model, loopless=False) # FVA \n",
    "        fva_full.columns = fva_full.columns + '_' + str(x) # add RPE_ATP to FVA column names\n",
    "        df_FVA_full = pd.concat([df_FVA_full, fva_full], axis=1) # fill df FVA results\n",
    "\n",
    "        df_l = [df_FVA_full, df_FBA_fluxes, df_FBA_costs]\n",
    "        df_results = rxns\n",
    "    for df in df_l:\n",
    "        df_results = pd.merge(df_results, df, left_index=True, right_index=True) \n",
    "    # fix column order\n",
    "    min_max_flux = [i for i in list(df_results.columns) if 'min' in i] + \\\n",
    "                [i for i in list(df_results.columns) if 'max' in i] + \\\n",
    "                [i for i in list(df_results.columns) if 'flux' in i] \n",
    "\n",
    "    df_results = df_results.reindex([i for i in list(df_results.columns) if i not in min_max_flux] + min_max_flux, axis = 1)\n",
    "    return df_results\n",
    "\n",
    "mod_RPE_PR_results = FVA_FBA_analysis(mod_RPE_PR,'MAR03964_RPE')\n",
    "#mod_Human1_Human1_results = FVA_FBA_analysis(mod_Human1_Human1,'MAR03964_RPE')\n",
    "#mod_Recon3D_Recon3D_results = FVA_FBA_analysis(mod_Recon3D_Recon3D,'DM_atp_c__RPE')"
   ]
  },
  {
   "cell_type": "code",
   "execution_count": null,
   "id": "42ee260f-741e-474d-9d21-cbe37059b812",
   "metadata": {},
   "outputs": [],
   "source": [
    "df_compact = df[['rxn_ID','subsystem','name','reaction','lb','ub'] + \\\n",
    "                [i for i in list(df.columns) if 'min' in i] + \\\n",
    "                [i for i in list(df.columns) if 'max' in i] + \\\n",
    "                [i for i in list(df.columns) if 'flux' in i] ]\n",
    "\n",
    "m1 = [(df_compact['lb']==0) & (df_compact['ub']==0)] # lb=0 & ub=0 mask\n",
    "zero_FBA = df[[i for i in list(df.columns) if 'flux' in i]]<10**-12\n",
    "m2 = zero_FBA.all(axis=1) # lb=0 & ub=0 mask"
   ]
  },
  {
   "cell_type": "code",
   "execution_count": null,
   "id": "12e15906-4a08-4f7c-9ebb-b22c62e04718",
   "metadata": {},
   "outputs": [],
   "source": [
    "zero_FBA = df[[i for i in list(df.columns) if 'flux' in i]]<10**-12\n",
    "df_compact[zero_FBA.all(axis=1)].to_clipboard()"
   ]
  },
  {
   "cell_type": "code",
   "execution_count": null,
   "id": "b71670e0-dcf4-4ff1-8eda-08d9498e4ebe",
   "metadata": {},
   "outputs": [],
   "source": [
    "df[df['subsystem'] == 'Exchange/demand reactions']"
   ]
  },
  {
   "cell_type": "code",
   "execution_count": null,
   "id": "9fd669cb-0bb6-461d-b225-dc5bbadf0d6c",
   "metadata": {},
   "outputs": [],
   "source": [
    "# post-processing (sorting) and saving of the results\n",
    "\n",
    "def results_to_excel(df, path):\n",
    "    # Write to Multiple Sheets\n",
    "    with pd.ExcelWriter(path) as writer:\n",
    "        df.to_excel(writer, sheet_name='full')\n",
    "        df[df['subsystem'] == 'Exchange/demand reactions'].to_excel(writer, sheet_name='Exchange/demand reactions')\n",
    "        \n",
    "from datetime import datetime\n",
    "datestr = datetime.strftime(datetime.now(), '%H%M_%d-%m-%Y')\n",
    "filename = '' + datestr + '.xlsx'\n",
    "results_to_excel(mod_RPE_PR_results,Path().cwd() / 'results' / filename)"
   ]
  },
  {
   "cell_type": "code",
   "execution_count": null,
   "id": "d2e3a68e-c627-43d9-be6d-1842ea903866",
   "metadata": {},
   "outputs": [],
   "source": [
    "def add_compartment2rxns(mod):\n",
    "    rxn_list = []\n",
    "    met_list = [m.id for m in mod.metabolites]\n",
    "    for r in mod.reactions:\n",
    "        rxn = \" \".join([mod.metabolites.get_by_id(x).name+'['+mod.metabolites.get_by_id(x).compartment+']'\\\n",
    "         if x in met_list else x for x in r.reaction.split()])\n",
    "        rxn_list.append(rxn)\n",
    "    return rxn_list\n",
    "\n",
    "rxn_list_mod_RPE_PR = add_compartment2rxns(mod_RPE_PR)\n",
    "rxn_list_mod_RPE_PR_no_CORDA = add_compartment2rxns(mod_RPE_PR_no_CORDA)"
   ]
  },
  {
   "cell_type": "code",
   "execution_count": null,
   "id": "ff6a571b-6d52-4949-ab17-8a446db30d0f",
   "metadata": {},
   "outputs": [],
   "source": [
    "mod_RPE_PR_results2[mod_RPE_PR_results2['subsystem'] == 'Exchange/demand reactions'].to_clipboard()"
   ]
  },
  {
   "cell_type": "code",
   "execution_count": null,
   "id": "58d0c38e-4696-4195-8919-65f625ebc972",
   "metadata": {},
   "outputs": [],
   "source": [
    "mod_RPE_PR_results2[mod_RPE_PR_results2['cell'] =='RPE_PR_interface'].to_clipboard()"
   ]
  },
  {
   "cell_type": "code",
   "execution_count": null,
   "id": "d8906bce-afb8-4115-b494-0fcfc9ac631e",
   "metadata": {},
   "outputs": [],
   "source": [
    "# interface reactions\n",
    "df1 = mod_RPE_PR_no_CORDA_results2.loc[[l for l in list(mod_RPE_PR_no_CORDA_results2.index) if 'RPE_PR' in l]]\n",
    "df2 =  mod_RPE_PR_no_CORDA_results2.loc[[l for l in list(mod_RPE_PR_no_CORDA_results2.index) if 'PR_RPE' in l]]\n",
    "df12 = pd.concat([df1,df2], axis=0)\n",
    "df12.to_clipboard()"
   ]
  },
  {
   "cell_type": "code",
   "execution_count": null,
   "id": "e0aeff14-20f0-41d7-b367-2031579cdac4",
   "metadata": {},
   "outputs": [],
   "source": [
    "from cobra.flux_analysis.loopless import add_loopless\n",
    "mod_RPE_PR_ll = mod_RPE_PR.copy()\n",
    "add_loopless(mod_RPE_PR_ll)"
   ]
  },
  {
   "cell_type": "code",
   "execution_count": null,
   "id": "f7e8fbdf-5d86-4da5-96e0-58be8006c72a",
   "metadata": {},
   "outputs": [],
   "source": [
    "# select non-zero FBA fluxes\n",
    "s_flux = s.loc[:,[c for c in list(s.columns) if 'fluxes' in c]]\n",
    "s_flux = s_flux.loc[(s_flux!=0).any(axis=1)]\n",
    "s_flux.to_clipboard(excel=True, sep=None)\n",
    "\n",
    "# RXNS\n",
    "rxns = pd.DataFrame([[r.id,r.id.split('_')[1].replace('eRPE','RPE_PR_interface'),r.lower_bound,r.upper_bound, r.name,r.subsystem,\\\n",
    "                      r.reaction,r.build_reaction_string(use_metabolite_names = True),r.gpr]\\\n",
    "                      for r in mod_RPE_PR.reactions],index=[r.id for r in mod_RPE_PR.reactions],\\\n",
    "                    columns=['Human1.reaction','cell','lb','ub','name','subsystem',\\\n",
    "                             'reaction (IDs)','reaction (names)','GPR'])\n",
    "\n",
    "fluxes_fba = pd.merge(rxns.copy(),s_flux,left_index=True, right_index=True) \n",
    "fluxes_fba.to_clipboard(excel=True, sep=None)\n",
    "fluxes_fba"
   ]
  }
 ],
 "metadata": {
  "kernelspec": {
   "display_name": "Python 3 (ipykernel)",
   "language": "python",
   "name": "python3"
  },
  "language_info": {
   "codemirror_mode": {
    "name": "ipython",
    "version": 3
   },
   "file_extension": ".py",
   "mimetype": "text/x-python",
   "name": "python",
   "nbconvert_exporter": "python",
   "pygments_lexer": "ipython3",
   "version": "3.10.9"
  }
 },
 "nbformat": 4,
 "nbformat_minor": 5
}
