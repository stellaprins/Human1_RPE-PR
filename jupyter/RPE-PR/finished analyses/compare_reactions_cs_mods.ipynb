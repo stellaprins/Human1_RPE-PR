{
 "cells": [
  {
   "cell_type": "code",
   "execution_count": 1,
   "id": "ef358771-71a1-485d-871e-d396b5f75a52",
   "metadata": {},
   "outputs": [],
   "source": [
    "# set cwd and solver\n",
    "import os\n",
    "import cobra\n",
    "cobra.Configuration().solver = \"gurobi\"\n",
    "os.chdir('C:/Users/prins/GitHub/Human1_RPE-PR') "
   ]
  },
  {
   "cell_type": "code",
   "execution_count": 2,
   "id": "29020a6c",
   "metadata": {},
   "outputs": [
    {
     "name": "stdout",
     "output_type": "stream",
     "text": [
      "Set parameter Username\n",
      "Academic license - for non-commercial use only - expires 2024-02-03\n"
     ]
    },
    {
     "name": "stderr",
     "output_type": "stream",
     "text": [
      "No objective coefficients in model. Unclear what should be optimized\n",
      "No objective coefficients in model. Unclear what should be optimized\n",
      "No objective coefficients in model. Unclear what should be optimized\n",
      "No objective coefficients in model. Unclear what should be optimized\n"
     ]
    }
   ],
   "source": [
    "# load all models in \\cs_mods\\July2023 folder by cycling through names\n",
    "from cobra.io import read_sbml_model    \n",
    "from pathlib import Path\n",
    "import pandas as pd\n",
    "\n",
    "# do not change directory but still go to the folder with the models\n",
    "folder = Path().cwd() / \"cs_mods\" / \"July2023\"\n",
    "model_list = []\n",
    "for file in folder.glob(\"*.xml\"):  \n",
    "    model = read_sbml_model(file)\n",
    "    model.id = file.stem # remove .xml \n",
    "    model.name = file.stem # remove .xml\n",
    "    model_list.append(model)"
   ]
  },
  {
   "cell_type": "code",
   "execution_count": 3,
   "id": "16086819",
   "metadata": {},
   "outputs": [
    {
     "data": {
      "text/plain": [
       "[<Model Human-GEM_28062023 at 0x2015a6c54e0>,\n",
       " <Model mod_RPE_PRcone_Liang at 0x20163276650>,\n",
       " <Model mod_RPE_PRcone_Liang_singlePR at 0x2012b529690>,\n",
       " <Model mod_RPE_PRcone_Liang_singleRPE at 0x2012f8d7a30>,\n",
       " <Model mod_RPE_PRcone_Lukowski at 0x2013e05a500>,\n",
       " <Model mod_RPE_PRcone_Lukowski_singlePR at 0x201454c8970>,\n",
       " <Model mod_RPE_PRcone_Lukowski_singleRPE at 0x20149825750>,\n",
       " <Model mod_RPE_PRcontrol at 0x20183125f60>,\n",
       " <Model mod_RPE_PRrod_Liang at 0x201991ae7a0>,\n",
       " <Model mod_RPE_PRrod_Liang_singlePR at 0x201e03fe590>,\n",
       " <Model mod_RPE_PRrod_Liang_singleRPE at 0x201e26ba770>,\n",
       " <Model mod_RPE_PRrod_Lukowski at 0x201e769fd60>,\n",
       " <Model mod_RPE_PRrod_Lukowski_singlePR at 0x201dfe37670>,\n",
       " <Model mod_RPE_PRrod_Lukowski_singleRPE at 0x201f2146b00>,\n",
       " <Model Human1_old at 0x2020e1796f0>,\n",
       " <Model RPE_PR_old at 0x201524b7a30>]"
      ]
     },
     "execution_count": 3,
     "metadata": {},
     "output_type": "execute_result"
    }
   ],
   "source": [
    "# load old combined RPE_PR models\n",
    "mod_RPE_PR = read_sbml_model(Path().cwd() / \"models\" / \"mod_RPE_PR.xml\")\n",
    "mod_RPE_PR.id = 'RPE_PR_old'\n",
    "mod_RPE_PR.name = 'RPE_PR_old'\n",
    "mod_Human1_Human1 = read_sbml_model(Path().cwd() / \"models\" /  \"mod_Human1_Human1.xml\")\n",
    "mod_Human1_Human1.id = 'RPE_PR_control_old'\n",
    "mod_Human1_Human1.name = 'RPE_PR_control_old'\n",
    "mod = read_sbml_model(Path().cwd() / 'models/Human-GEM.xml')\n",
    "mod.id = 'Human1_old'\n",
    "mod.name = 'Human1_old'\n",
    "\n",
    "# add old models to model_list\n",
    "model_list = model_list + [mod,mod_RPE_PR]\n",
    "\n",
    "# check out model_list\n",
    "model_list"
   ]
  },
  {
   "cell_type": "code",
   "execution_count": 8,
   "id": "72187749",
   "metadata": {},
   "outputs": [],
   "source": [
    "### COMPARE REACTIONS IN ROD MODELS\n",
    "\n",
    "# get rod models\n",
    "rod_Liang = [model for model in model_list if model.id == 'mod_RPE_PRrod_Liang_singlePR'][0]\n",
    "rod_Lukowski = [model for model in model_list if model.id == 'mod_RPE_PRrod_Lukowski_singlePR'][0]\n",
    "Human1 = [model for model in model_list if model.id == 'Human-GEM_28062023'][0]\n",
    "\n",
    "# get reaction ids that are present in rod_Liang but not in rod_Lukowski and vice versa# get sets of reaction IDs for each model\n",
    "liang_rxns = set(rxn.id for rxn in rod_Liang.reactions)\n",
    "lukowski_rxns = set(rxn.id for rxn in rod_Lukowski.reactions)\n",
    "\n",
    "# find reaction IDs that are present in Liang but not in Lukowski\n",
    "liang_not_lukowski = liang_rxns - lukowski_rxns\n",
    "\n",
    "# find reaction IDs that are present in Lukowski but not in Liang\n",
    "lukowski_not_liang = lukowski_rxns - liang_rxns\n",
    "\n",
    "# find reactions common to both models\n",
    "common_rxns = liang_rxns.intersection(lukowski_rxns)\n",
    "\n",
    "human1_rxns = set(rxn.id for rxn in Human1.reactions)"
   ]
  },
  {
   "cell_type": "code",
   "execution_count": 9,
   "id": "03b950ee",
   "metadata": {},
   "outputs": [
    {
     "name": "stdout",
     "output_type": "stream",
     "text": [
      "number of reactions in Human1: 13085\n",
      "number of reactions in Liang rod AND in Lukowski rod: 5599\n",
      "number of reactions in Liang rod but not in Lukowski rod: 655\n",
      "number of reactions in Lukowski rod but not in Liang rod: 861\n"
     ]
    }
   ],
   "source": [
    "print('number of reactions in Human1: ' + str(len(human1_rxns)))\n",
    "print('number of reactions in Liang rod AND in Lukowski rod: ' + str(len(common_rxns)))\n",
    "print('number of reactions in Liang rod but not in Lukowski rod: ' + str(len(liang_not_lukowski)))\n",
    "print('number of reactions in Lukowski rod but not in Liang rod: '+ str(len(lukowski_not_liang)))"
   ]
  },
  {
   "cell_type": "code",
   "execution_count": 5,
   "id": "c348585f",
   "metadata": {},
   "outputs": [],
   "source": [
    "# remove everyting after the first underscore in cell specific reaction IDs\n",
    "liang_rxns_short = [rxn.split('_')[0] for rxn in liang_rxns]    \n",
    "lukowski_rxns_short = [rxn.split('_')[0] for rxn in lukowski_rxns]"
   ]
  },
  {
   "cell_type": "code",
   "execution_count": 6,
   "id": "aae88635",
   "metadata": {},
   "outputs": [],
   "source": [
    "from src.get_info import make_rxn_df\n",
    "\n",
    "# convert sets to lists\n",
    "liang_not_lukowski_list = list(liang_not_lukowski)\n",
    "lukowski_not_liang_list = list(lukowski_not_liang)\n",
    "common_rxns_list = list(common_rxns)\n",
    "\n",
    "# make rxn df of reactions liang_not_lukowski and lukowski_not_liang\n",
    "liang_not_lukowski_rxns = make_rxn_df(rod_Liang).loc[liang_not_lukowski_list]\n",
    "lukowski_not_liang_rxns = make_rxn_df(rod_Lukowski).loc[lukowski_not_liang_list]\n",
    "common_rxns_rxns = make_rxn_df(rod_Liang).loc[common_rxns_list]\n",
    "\n",
    "# write dfs to spreadsheet in results folder (results/compare_rod_models/), each df on different sheet (make folder if not exist)\n",
    "from pathlib import Path\n",
    "\n",
    "Path(Path().cwd() / 'results' / 'compare_rod_models').mkdir(parents=True, exist_ok=True)\n",
    "with pd.ExcelWriter(Path().cwd() / 'results' / 'compare_rod_models' / 'compare_rod_models.xlsx') as writer:\n",
    "    liang_not_lukowski_rxns.to_excel(writer, sheet_name = 'liang_not_lukowski')\n",
    "    lukowski_not_liang_rxns.to_excel(writer, sheet_name = 'lukowski_not_liang')\n",
    "    common_rxns_rxns.to_excel(writer, sheet_name = 'common_rxns')\n",
    "    make_rxn_df(Human1).to_excel(writer, sheet_name = 'Human1')     # add Human1 df to spreadsheet"
   ]
  },
  {
   "cell_type": "code",
   "execution_count": 10,
   "id": "19a27fd0",
   "metadata": {},
   "outputs": [],
   "source": [
    "# modify models\n",
    "# load blood exchange bounds\n",
    "\n",
    "# for all models in the list set objective function (ATP hydrolysis, in PR for combined models)\n",
    "for m in model_list:\n",
    "    if 'MAR03964_PR' in [r.id for r in m.reactions]:\n",
    "        m.objective = 'MAR03964_PR'\n",
    "    elif 'MAR03964_RPE' in [r.id for r in m.reactions]:\n",
    "        m.objective = 'MAR03964_RPE'\n",
    "    elif 'MAR03964' in [r.id for r in m.reactions]:\n",
    "        m.objective = 'MAR03964'\n",
    "    else:\n",
    "        print('no ATP hydrolysis reaction (MAR03964) in model: ' + m.id)\n",
    "\n",
    "# list combined and single models\n",
    "combined_models = [m for m in model_list if 'single' not in m.id and 'Human' not in m.id]\n",
    "single_models = [m for m in model_list if 'single' in m.id]\n",
    "Human1_models = [m for m in model_list if 'Human' in m.id]\n",
    "\n",
    "# close PR exchange in combined models and open RPE exchange (efflux)\n",
    "for m in combined_models:\n",
    "    for r in [r for r in m.reactions if len(r.products) == 0 ]:           # close all exchange reactions\n",
    "        r.bounds=(0,0)\n",
    "    for r in [r for r in m.reactions if len(r.products) == 0 if '_RPE' in r.id]:           # open efflux for RPE exchange reactions\n",
    "        r.bounds=(0,1000) \n",
    "\n",
    "# only allow efflux exchange in single models\n",
    "for m in single_models:\n",
    "    for r in [r for r in m.reactions if len(r.products) == 0 ]:           # close all exchange reactions\n",
    "        r.bounds=(0,1000)\n",
    "\n",
    "# for Human1 models, open efflux\n",
    "for m in [m for m in model_list if 'Human' in m.id]:\n",
    "    for r in [r for r in m.reactions if len(r.products) == 0]:           # open efflux for RPE exchange reactions\n",
    "        r.bounds=(0,1000)\n",
    "\n"
   ]
  },
  {
   "cell_type": "code",
   "execution_count": 11,
   "id": "853b366d",
   "metadata": {},
   "outputs": [
    {
     "data": {
      "text/html": [
       "<div>\n",
       "<style scoped>\n",
       "    .dataframe tbody tr th:only-of-type {\n",
       "        vertical-align: middle;\n",
       "    }\n",
       "\n",
       "    .dataframe tbody tr th {\n",
       "        vertical-align: top;\n",
       "    }\n",
       "\n",
       "    .dataframe thead th {\n",
       "        text-align: right;\n",
       "    }\n",
       "</style>\n",
       "<table border=\"1\" class=\"dataframe\">\n",
       "  <thead>\n",
       "    <tr style=\"text-align: right;\">\n",
       "      <th></th>\n",
       "      <th>max ATP hydrolysis (pmol/s/mm^2)</th>\n",
       "    </tr>\n",
       "  </thead>\n",
       "  <tbody>\n",
       "    <tr>\n",
       "      <th>Human-GEM_28062023</th>\n",
       "      <td>24.7325</td>\n",
       "    </tr>\n",
       "    <tr>\n",
       "      <th>mod_RPE_PRcone_Liang</th>\n",
       "      <td>23.9000</td>\n",
       "    </tr>\n",
       "    <tr>\n",
       "      <th>mod_RPE_PRcone_Liang_singlePR</th>\n",
       "      <td>11.1350</td>\n",
       "    </tr>\n",
       "    <tr>\n",
       "      <th>mod_RPE_PRcone_Liang_singleRPE</th>\n",
       "      <td>23.9000</td>\n",
       "    </tr>\n",
       "    <tr>\n",
       "      <th>mod_RPE_PRcone_Lukowski</th>\n",
       "      <td>24.7325</td>\n",
       "    </tr>\n",
       "    <tr>\n",
       "      <th>mod_RPE_PRcone_Lukowski_singlePR</th>\n",
       "      <td>22.2350</td>\n",
       "    </tr>\n",
       "    <tr>\n",
       "      <th>mod_RPE_PRcone_Lukowski_singleRPE</th>\n",
       "      <td>23.9000</td>\n",
       "    </tr>\n",
       "    <tr>\n",
       "      <th>mod_RPE_PRcontrol</th>\n",
       "      <td>24.7325</td>\n",
       "    </tr>\n",
       "    <tr>\n",
       "      <th>mod_RPE_PRrod_Liang</th>\n",
       "      <td>23.9000</td>\n",
       "    </tr>\n",
       "    <tr>\n",
       "      <th>mod_RPE_PRrod_Liang_singlePR</th>\n",
       "      <td>13.9100</td>\n",
       "    </tr>\n",
       "    <tr>\n",
       "      <th>mod_RPE_PRrod_Liang_singleRPE</th>\n",
       "      <td>23.9000</td>\n",
       "    </tr>\n",
       "    <tr>\n",
       "      <th>mod_RPE_PRrod_Lukowski</th>\n",
       "      <td>24.7325</td>\n",
       "    </tr>\n",
       "    <tr>\n",
       "      <th>mod_RPE_PRrod_Lukowski_singlePR</th>\n",
       "      <td>23.9000</td>\n",
       "    </tr>\n",
       "    <tr>\n",
       "      <th>mod_RPE_PRrod_Lukowski_singleRPE</th>\n",
       "      <td>23.9000</td>\n",
       "    </tr>\n",
       "    <tr>\n",
       "      <th>Human1_old</th>\n",
       "      <td>24.7325</td>\n",
       "    </tr>\n",
       "    <tr>\n",
       "      <th>RPE_PR_old</th>\n",
       "      <td>24.7325</td>\n",
       "    </tr>\n",
       "  </tbody>\n",
       "</table>\n",
       "</div>"
      ],
      "text/plain": [
       "                                   max ATP hydrolysis (pmol/s/mm^2)\n",
       "Human-GEM_28062023                                          24.7325\n",
       "mod_RPE_PRcone_Liang                                        23.9000\n",
       "mod_RPE_PRcone_Liang_singlePR                               11.1350\n",
       "mod_RPE_PRcone_Liang_singleRPE                              23.9000\n",
       "mod_RPE_PRcone_Lukowski                                     24.7325\n",
       "mod_RPE_PRcone_Lukowski_singlePR                            22.2350\n",
       "mod_RPE_PRcone_Lukowski_singleRPE                           23.9000\n",
       "mod_RPE_PRcontrol                                           24.7325\n",
       "mod_RPE_PRrod_Liang                                         23.9000\n",
       "mod_RPE_PRrod_Liang_singlePR                                13.9100\n",
       "mod_RPE_PRrod_Liang_singleRPE                               23.9000\n",
       "mod_RPE_PRrod_Lukowski                                      24.7325\n",
       "mod_RPE_PRrod_Lukowski_singlePR                             23.9000\n",
       "mod_RPE_PRrod_Lukowski_singleRPE                            23.9000\n",
       "Human1_old                                                  24.7325\n",
       "RPE_PR_old                                                  24.7325"
      ]
     },
     "execution_count": 11,
     "metadata": {},
     "output_type": "execute_result"
    }
   ],
   "source": [
    "# set exchange bounds for blood\n",
    "from src.modify_model import set_exchange_bounds\n",
    "ex_bounds = {'MAR09048':(-3.51,1000),'MAR09034':(-4.18,1000),'MAR09135':(7.25,1000)}\n",
    "# MAR09048: oxygen\n",
    "# MAR09034: glucose\n",
    "# MAR09135: lactate\n",
    "\n",
    "results_dict = {}\n",
    "for m in model_list:\n",
    "    set_exchange_bounds(m, ex_bounds)\n",
    "    m.optimize()\n",
    "    results_dict[m.id] = m.objective.value\n",
    "df1 = pd.DataFrame(results_dict, index = ['max ATP hydrolysis (pmol/s/mm^2)']).T\n",
    "df1"
   ]
  },
  {
   "cell_type": "code",
   "execution_count": 13,
   "id": "d16926e8",
   "metadata": {},
   "outputs": [],
   "source": [
    "# FLUX VARIABILITY ANALYSIS\n",
    "\n",
    "from cobra.flux_analysis import flux_variability_analysis\n",
    "\n",
    "fba = {}\n",
    "fva = {}\n",
    "fva_loopless = {}\n",
    "\n",
    "for m in [model_list[1]]:\n",
    "    set_exchange_bounds(m, ex_bounds)\n",
    "    m.optimize()\n",
    "    fba[m.id] = m.objective.value\n",
    "    fva[m.id] = flux_variability_analysis(m, loopless=False)\n",
    "    fva_loopless[m.id] = flux_variability_analysis(m, loopless=True)"
   ]
  },
  {
   "cell_type": "code",
   "execution_count": null,
   "id": "75821722",
   "metadata": {},
   "outputs": [],
   "source": [
    "# turn dicts into one df (add vertically)\n",
    "df1 = pd.DataFrame(fba, index = ['FBA']).T\n",
    "df2 = pd.DataFrame(fva).T\n",
    "df3 = pd.DataFrame(fva_loopless).T\n",
    "\n",
    "df2"
   ]
  }
 ],
 "metadata": {
  "kernelspec": {
   "display_name": "Python 3 (ipykernel)",
   "language": "python",
   "name": "python3"
  },
  "language_info": {
   "codemirror_mode": {
    "name": "ipython",
    "version": 3
   },
   "file_extension": ".py",
   "mimetype": "text/x-python",
   "name": "python",
   "nbconvert_exporter": "python",
   "pygments_lexer": "ipython3",
   "version": "3.10.9"
  }
 },
 "nbformat": 4,
 "nbformat_minor": 5
}
