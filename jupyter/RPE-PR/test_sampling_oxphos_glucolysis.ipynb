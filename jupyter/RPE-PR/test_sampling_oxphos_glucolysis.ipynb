{
 "cells": [
  {
   "cell_type": "code",
   "execution_count": 3,
   "id": "32825faa-0108-4c6b-9819-bdc49c98c589",
   "metadata": {},
   "outputs": [],
   "source": [
    "# set cwd and solver\n",
    "import os\n",
    "import cobra\n",
    "cobra.Configuration().solver = \"gurobi\"\n",
    "os.chdir('C:/Users/prins/GitHub/Human1_RPE-PR') "
   ]
  },
  {
   "cell_type": "code",
   "execution_count": 8,
   "id": "60f3f961-91d8-4872-89f7-32ded3b7104a",
   "metadata": {},
   "outputs": [],
   "source": [
    "# load combined RPE_PR models\n",
    "from pathlib import Path\n",
    "from cobra.io import read_sbml_model\n",
    "\n",
    "mod_RPE_PR = read_sbml_model(Path().cwd() / \"models\" / \"mod_RPE_PR.xml\")\n",
    "mod_RPE_PR.id = 'RPE_PR'\n",
    "mod_Human1_Human1 = read_sbml_model(Path().cwd() / \"models\" /  \"mod_Human1_Human1.xml\")\n",
    "mod = read_sbml_model(Path().cwd() / 'models/Human-GEM.xml')\n",
    "mod_PR = read_sbml_model(Path().cwd() / 'models/cs_mods/model_13_MeanExpression_RodPhotoreceptors__LiangEtAl_2019_.xml')\n",
    "mod_RPE = read_sbml_model(Path().cwd() / 'models/cs_mods/model_6_MeanExpression_RPE__VoigtEtAl2019_.xml')"
   ]
  },
  {
   "cell_type": "code",
   "execution_count": 9,
   "id": "1ded7cf2-7eb7-4c25-801e-ae2cd2fdf677",
   "metadata": {},
   "outputs": [
    {
     "ename": "ValueError",
     "evalue": "invalid objective",
     "output_type": "error",
     "traceback": [
      "\u001b[1;31m---------------------------------------------------------------------------\u001b[0m",
      "\u001b[1;31mKeyError\u001b[0m                                  Traceback (most recent call last)",
      "File \u001b[1;32m~\\miniconda3\\envs\\RPE-PR_pytest\\lib\\site-packages\\cobra\\core\\model.py:1315\u001b[0m, in \u001b[0;36mModel.objective\u001b[1;34m(self, value)\u001b[0m\n\u001b[0;32m   1314\u001b[0m \u001b[38;5;28;01mtry\u001b[39;00m:\n\u001b[1;32m-> 1315\u001b[0m     reactions \u001b[38;5;241m=\u001b[39m \u001b[38;5;28;43mself\u001b[39;49m\u001b[38;5;241;43m.\u001b[39;49m\u001b[43mreactions\u001b[49m\u001b[38;5;241;43m.\u001b[39;49m\u001b[43mget_by_any\u001b[49m\u001b[43m(\u001b[49m\u001b[43mvalue\u001b[49m\u001b[43m)\u001b[49m\n\u001b[0;32m   1316\u001b[0m \u001b[38;5;28;01mexcept\u001b[39;00m \u001b[38;5;167;01mKeyError\u001b[39;00m:\n",
      "File \u001b[1;32m~\\miniconda3\\envs\\RPE-PR_pytest\\lib\\site-packages\\cobra\\core\\dictlist.py:109\u001b[0m, in \u001b[0;36mDictList.get_by_any\u001b[1;34m(self, iterable)\u001b[0m\n\u001b[0;32m    108\u001b[0m     iterable \u001b[38;5;241m=\u001b[39m [iterable]\n\u001b[1;32m--> 109\u001b[0m \u001b[38;5;28;01mreturn\u001b[39;00m [get_item(item) \u001b[38;5;28;01mfor\u001b[39;00m item \u001b[38;5;129;01min\u001b[39;00m iterable]\n",
      "File \u001b[1;32m~\\miniconda3\\envs\\RPE-PR_pytest\\lib\\site-packages\\cobra\\core\\dictlist.py:109\u001b[0m, in \u001b[0;36m<listcomp>\u001b[1;34m(.0)\u001b[0m\n\u001b[0;32m    108\u001b[0m     iterable \u001b[38;5;241m=\u001b[39m [iterable]\n\u001b[1;32m--> 109\u001b[0m \u001b[38;5;28;01mreturn\u001b[39;00m [\u001b[43mget_item\u001b[49m\u001b[43m(\u001b[49m\u001b[43mitem\u001b[49m\u001b[43m)\u001b[49m \u001b[38;5;28;01mfor\u001b[39;00m item \u001b[38;5;129;01min\u001b[39;00m iterable]\n",
      "File \u001b[1;32m~\\miniconda3\\envs\\RPE-PR_pytest\\lib\\site-packages\\cobra\\core\\dictlist.py:101\u001b[0m, in \u001b[0;36mDictList.get_by_any.<locals>.get_item\u001b[1;34m(item)\u001b[0m\n\u001b[0;32m    100\u001b[0m \u001b[38;5;28;01melif\u001b[39;00m \u001b[38;5;28misinstance\u001b[39m(item, \u001b[38;5;28mstr\u001b[39m):\n\u001b[1;32m--> 101\u001b[0m     \u001b[38;5;28;01mreturn\u001b[39;00m \u001b[38;5;28;43mself\u001b[39;49m\u001b[38;5;241;43m.\u001b[39;49m\u001b[43mget_by_id\u001b[49m\u001b[43m(\u001b[49m\u001b[43mitem\u001b[49m\u001b[43m)\u001b[49m\n\u001b[0;32m    102\u001b[0m \u001b[38;5;28;01melif\u001b[39;00m item \u001b[38;5;129;01min\u001b[39;00m \u001b[38;5;28mself\u001b[39m:\n",
      "File \u001b[1;32m~\\miniconda3\\envs\\RPE-PR_pytest\\lib\\site-packages\\cobra\\core\\dictlist.py:75\u001b[0m, in \u001b[0;36mDictList.get_by_id\u001b[1;34m(self, id)\u001b[0m\n\u001b[0;32m     74\u001b[0m \u001b[38;5;124;03m\"\"\"Return the element with a matching id.\"\"\"\u001b[39;00m\n\u001b[1;32m---> 75\u001b[0m \u001b[38;5;28;01mreturn\u001b[39;00m \u001b[38;5;28mlist\u001b[39m\u001b[38;5;241m.\u001b[39m\u001b[38;5;21m__getitem__\u001b[39m(\u001b[38;5;28mself\u001b[39m, \u001b[38;5;28;43mself\u001b[39;49m\u001b[38;5;241;43m.\u001b[39;49m\u001b[43m_dict\u001b[49m\u001b[43m[\u001b[49m\u001b[38;5;28;43mid\u001b[39;49m\u001b[43m]\u001b[49m)\n",
      "\u001b[1;31mKeyError\u001b[0m: 'MAR03964'",
      "\nDuring handling of the above exception, another exception occurred:\n",
      "\u001b[1;31mValueError\u001b[0m                                Traceback (most recent call last)",
      "Cell \u001b[1;32mIn[9], line 10\u001b[0m\n\u001b[0;32m      8\u001b[0m mod_Human1_Human1\u001b[38;5;241m.\u001b[39mobjective \u001b[38;5;241m=\u001b[39m \u001b[38;5;124m'\u001b[39m\u001b[38;5;124mMAR03964_PR\u001b[39m\u001b[38;5;124m'\u001b[39m\n\u001b[0;32m      9\u001b[0m mod\u001b[38;5;241m.\u001b[39mobjective \u001b[38;5;241m=\u001b[39m \u001b[38;5;124m'\u001b[39m\u001b[38;5;124mMAR03964\u001b[39m\u001b[38;5;124m'\u001b[39m\n\u001b[1;32m---> 10\u001b[0m mod_PR\u001b[38;5;241m.\u001b[39mobjective \u001b[38;5;241m=\u001b[39m \u001b[38;5;124m'\u001b[39m\u001b[38;5;124mMAR03964\u001b[39m\u001b[38;5;124m'\u001b[39m\n\u001b[0;32m     11\u001b[0m mod_RPE\u001b[38;5;241m.\u001b[39mobjective \u001b[38;5;241m=\u001b[39m \u001b[38;5;124m'\u001b[39m\u001b[38;5;124mMAR03964\u001b[39m\u001b[38;5;124m'\u001b[39m\n",
      "File \u001b[1;32m~\\miniconda3\\envs\\RPE-PR_pytest\\lib\\site-packages\\cobra\\core\\model.py:1317\u001b[0m, in \u001b[0;36mModel.objective\u001b[1;34m(self, value)\u001b[0m\n\u001b[0;32m   1315\u001b[0m     reactions \u001b[38;5;241m=\u001b[39m \u001b[38;5;28mself\u001b[39m\u001b[38;5;241m.\u001b[39mreactions\u001b[38;5;241m.\u001b[39mget_by_any(value)\n\u001b[0;32m   1316\u001b[0m \u001b[38;5;28;01mexcept\u001b[39;00m \u001b[38;5;167;01mKeyError\u001b[39;00m:\n\u001b[1;32m-> 1317\u001b[0m     \u001b[38;5;28;01mraise\u001b[39;00m \u001b[38;5;167;01mValueError\u001b[39;00m(\u001b[38;5;124m\"\u001b[39m\u001b[38;5;124minvalid objective\u001b[39m\u001b[38;5;124m\"\u001b[39m)\n\u001b[0;32m   1318\u001b[0m value \u001b[38;5;241m=\u001b[39m {rxn: \u001b[38;5;241m1\u001b[39m \u001b[38;5;28;01mfor\u001b[39;00m rxn \u001b[38;5;129;01min\u001b[39;00m reactions}\n\u001b[0;32m   1319\u001b[0m \u001b[38;5;66;03m# TODO - check that it is reset with context.\u001b[39;00m\n",
      "\u001b[1;31mValueError\u001b[0m: invalid objective"
     ]
    }
   ],
   "source": [
    "# modify models\n",
    "# load blood exchange bounds\n",
    "import pandas as pd\n",
    "df = pd.read_excel(Path().cwd() / 'rxn_bounds/blood_selection.xlsx') # with col names 'id' 'lb' 'ub'\n",
    "\n",
    "# set objective function (PR ATP DM)\n",
    "mod_RPE_PR.objective = 'MAR03964_PR'\n",
    "mod_Human1_Human1.objective = 'MAR03964_PR'\n",
    "mod.objective = 'MAR03964'\n",
    "mod_PR.objective = 'MAR03964'\n",
    "mod_RPE.objective = 'MAR03964'"
   ]
  },
  {
   "cell_type": "code",
   "execution_count": null,
   "id": "a4bbb4c7-40c5-4015-aca0-58691bb51b03",
   "metadata": {},
   "outputs": [],
   "source": [
    "def open_blood_exchange(mod,br, glucose_level):  \n",
    "    br_updated = br.copy()\n",
    "    br_updated.update((x, y * glucose_level) for x, y in br_updated.items())\n",
    "    for key in br:\n",
    "        mod.reactions.get_by_id(key).bounds = (br_updated[key],1000)# allow influx for RPE exchange reactions (blood exchange)\n",
    "        \n",
    "def close_blood_exchange(mod,br):  \n",
    "    for key in br:\n",
    "        mod.reactions.get_by_id(key).bounds = (0,1000)# allow influx for RPE exchange reactions (blood exchange)"
   ]
  },
  {
   "cell_type": "code",
   "execution_count": null,
   "id": "a6b4b3cf-62fe-464a-b2f5-6c0144592631",
   "metadata": {},
   "outputs": [],
   "source": [
    "blood_ratio = {df['id'][i]:df['ratio [glucose]/[x]'] [i] for i in range(len(df['id']))}\n",
    "glucose_level = -2.622342019\n",
    "# blood_ratio.update((x, y*glucose_level) for x, y in blood_ratio.items())\n",
    "blood_ratio"
   ]
  },
  {
   "cell_type": "code",
   "execution_count": null,
   "id": "fd35f5f8-ff2c-4854-b0e7-783189e1e543",
   "metadata": {},
   "outputs": [],
   "source": [
    "# modify combined models (blood exchange)\n",
    "for m in [mod_RPE_PR, mod_Human1_Human1]:\n",
    "    m.objective = 'MAR03964_PR' # ATP demand in PR\n",
    "    m.remove_reactions([r.id for r in  m.reactions if len(r.products)==0 if 'PR' in r.id]) # remove PR exchange reactions\n",
    "    m.remove_metabolites([m for m in m.metabolites if len(m.reactions) == 0])              # prune metabolites that are unused\n",
    "    for r in [r for r in m.reactions if len(r.products) == 0 if '_RPE' in r.id]:           # open efflux for RPE exchange reactions\n",
    "        r.bounds=(0,1000) # close all exchange reactions\n",
    "    open_blood_exchange(m,blood_ratio,glucose_level)# allow influx for RPE exchange reactions (blood exchange)"
   ]
  },
  {
   "cell_type": "code",
   "execution_count": null,
   "id": "d99f68fd-a69d-473f-b078-d32c5875e65b",
   "metadata": {},
   "outputs": [],
   "source": [
    "df['id'][i]"
   ]
  },
  {
   "cell_type": "code",
   "execution_count": null,
   "id": "c334daf5-c144-46e8-ac6e-35611ee92e4c",
   "metadata": {},
   "outputs": [],
   "source": [
    "# modify single models (blood exchange)\n",
    "for m in [mod_RPE_PR, mod_Human1_Human1]:\n",
    "    m.objective = 'MAR03964' # ATP demand in PR\n",
    "    open_blood_exchange(m,blood_ratio,glucose_level)# allow influx for RPE exchange reactions (blood exchange)"
   ]
  },
  {
   "cell_type": "code",
   "execution_count": 6,
   "id": "6788ea8e-4aa5-4b49-8f87-dd466defdfbc",
   "metadata": {},
   "outputs": [],
   "source": [
    "from src.analysis import create_permutation_dicts\n",
    "# MAR09048_RPE = oxygen exchange\n",
    "# MAR09034_RPE = glucose exchange\n",
    "# MAR09135_RPE = lactate exchange\n",
    "# MAR04896_PR_RPE =  O2[c_PR] <=> O2[e_RPE_PR]\n",
    "\n",
    "dark_old_labels = create_permutation_dicts({'oxygen':['limited oxygen (2.2)'],\\\n",
    "                      'glucose':['limited glucose (2.6)'],\\\n",
    "                      'lactate':['lactate efflux > 4.53'],\\\n",
    "                      'oxygen RPE -> PR':['fixed (1.9)','unlimited']})\n",
    "dark_old_estimates = create_permutation_dicts({'MAR09048_RPE':[(-2.2,1000)],\\\n",
    "                      'MAR09034_RPE':[(-2.62,1000)],\\\n",
    "                      'MAR09135_RPE':[(4.53,1000)],\\\n",
    "                      'MAR04896_PR_RPE':[(-1.9,-1.9),(-1000,1000)]})\n",
    "\n",
    "dark_new_labels = create_permutation_dicts({'oxygen':['limited oxygen (3.51)'],\\\n",
    "                      'glucose':['limited glucose (4.18)'],\\\n",
    "                      'lactate':[ 'lactate efflux > 7.25'],\\\n",
    "                      'oxygen RPE -> PR':['fixed (3.21)','unlimited']})\n",
    "dark_new_estimates = create_permutation_dicts({'MAR09048_RPE':[(-3.51,1000)],\\\n",
    "                      'MAR09034_RPE':[(-4.18,1000)],\\\n",
    "                      'MAR09135_RPE':[(7.25,1000)],\\\n",
    "                      'MAR04896_PR_RPE':[(-3.21,-3.21),(-1000,1000)]})\n",
    "\n",
    "light_old_labels = create_permutation_dicts({'oxygen':['limited oxygen (1.84)'],\\\n",
    "                      'glucose':['limited glucose (1.37)'],\\\n",
    "                      'lactate':['lactate efflux > 2.81'],\\\n",
    "                      'oxygen RPE -> PR':['fixed (1.59)','unlimited']})\n",
    "light_old_estimates = create_permutation_dicts({'MAR09048_RPE':[(-1.84,1000)],\\\n",
    "                      'MAR09034_RPE':[ (-1.37,1000)],\\\n",
    "                      'MAR09135_RPE':[ (2.81,1000)],\\\n",
    "                      'MAR04896_PR_RPE':[(-1.59,-1.59),(-1000,1000)]})\n",
    "\n",
    "light_new_labels = create_permutation_dicts({'oxygen':['limited oxygen (2.61)'],\\\n",
    "                      'glucose':['limited glucose (1.93)'],\\\n",
    "                      'lactate':['lactate efflux > 2.95'],\\\n",
    "                      'oxygen RPE -> PR':['fixed (2.31)','unlimited']})\n",
    "light_new_estimates = create_permutation_dicts({'MAR09048_RPE':[(-2.61,1000)],\\\n",
    "                      'MAR09034_RPE':[ (-1.93,1000)],\\\n",
    "                      'MAR09135_RPE':[ (2.95,1000)],\\\n",
    "                      'MAR04896_PR_RPE':[(-2.31,-2.31),(-1000,1000)]})"
   ]
  },
  {
   "cell_type": "code",
   "execution_count": null,
   "id": "234eeadf-2975-4f29-8bfa-a7d33cccfe39",
   "metadata": {},
   "outputs": [],
   "source": [
    "# FVA\n",
    "\n"
   ]
  },
  {
   "cell_type": "code",
   "execution_count": null,
   "id": "a06483f4-a6b2-485f-b659-57cfc13a52fa",
   "metadata": {},
   "outputs": [],
   "source": [
    "# SAMPLE"
   ]
  }
 ],
 "metadata": {
  "kernelspec": {
   "display_name": "Python 3 (ipykernel)",
   "language": "python",
   "name": "python3"
  },
  "language_info": {
   "codemirror_mode": {
    "name": "ipython",
    "version": 3
   },
   "file_extension": ".py",
   "mimetype": "text/x-python",
   "name": "python",
   "nbconvert_exporter": "python",
   "pygments_lexer": "ipython3",
   "version": "3.10.9"
  }
 },
 "nbformat": 4,
 "nbformat_minor": 5
}
