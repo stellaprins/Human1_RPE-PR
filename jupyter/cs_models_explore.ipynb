{
 "cells": [
  {
   "cell_type": "code",
   "execution_count": 2,
   "id": "8871b969-413b-49c3-8dfa-4b2b0d6e6b6e",
   "metadata": {},
   "outputs": [
    {
     "name": "stdout",
     "output_type": "stream",
     "text": [
      "Set parameter Username\n",
      "Academic license - for non-commercial use only - expires 2024-02-03\n",
      "Read LP format model from file C:\\Users\\prins\\AppData\\Local\\Temp\\tmp7a81zf2g.lp\n",
      "Reading time = 0.03 seconds\n",
      ": 4348 rows, 10790 columns, 44678 nonzeros\n"
     ]
    }
   ],
   "source": [
    "from cobra.io import read_sbml_model\n",
    "from pathlib import Path\n",
    "import os\n",
    "\n",
    "# change working directory to context_specific_models folder\n",
    "os.chdir('C:/Users/prins/GitHub/Human1_RPE-PR') \n",
    "\n",
    "# create a dictionary with the filenames (keys) and models (values)\n",
    "folder = Path().cwd()\n",
    "files = [f for f in os.listdir(folder / 'models/cs_mods') if '.xml'in f]\n",
    "models = {f:read_sbml_model(folder / 'models/cs_mods' / f ) for f in files}\n",
    "k = list(models.keys())\n",
    "\n",
    "# add model names as IDs\n",
    "models_names = ['Human1', 'Schwan (1)', 'Schwan (2)', 'Melanocytes', 'Endothelial','Muscle','Fibroblasts',\\\n",
    "                'RPE','B cells','T + NK cells', 'Monocytes + Macrophages','Mast','Retina','RPE + Choroid',\\\n",
    "                'PR rod','Amacrine','Bipolar','PR cone', 'Horizontal', 'Müller','Ganglion']\n",
    "\n",
    "for i in range(len(models)):\n",
    "    models[k[i]].id = models_names[i]\n",
    "    \n",
    "mod = models[k[0]].copy()"
   ]
  },
  {
   "cell_type": "code",
   "execution_count": 3,
   "id": "78388bb0-22b4-4b8c-9246-82b54d527acc",
   "metadata": {},
   "outputs": [
    {
     "data": {
      "text/html": [
       "\n",
       "        <table>\n",
       "            <tr>\n",
       "                <td><strong>Name</strong></td>\n",
       "                <td>Human1</td>\n",
       "            </tr><tr>\n",
       "                <td><strong>Memory address</strong></td>\n",
       "                <td>1e44e9061a0</td>\n",
       "            </tr><tr>\n",
       "                <td><strong>Number of metabolites</strong></td>\n",
       "                <td>4348</td>\n",
       "            </tr><tr>\n",
       "                <td><strong>Number of reactions</strong></td>\n",
       "                <td>5395</td>\n",
       "            </tr><tr>\n",
       "                <td><strong>Number of genes</strong></td>\n",
       "                <td>2065</td>\n",
       "            </tr><tr>\n",
       "                <td><strong>Number of groups</strong></td>\n",
       "                <td>142</td>\n",
       "            </tr><tr>\n",
       "                <td><strong>Objective expression</strong></td>\n",
       "                <td>1.0*MAR13082 - 1.0*MAR13082_reverse_11d67</td>\n",
       "            </tr><tr>\n",
       "                <td><strong>Compartments</strong></td>\n",
       "                <td>Cytosol, Endoplasmic reticulum, Extracellular, Mitochondria, Peroxisome, Golgi apparatus, Lysosome, Nucleus, Inner mitochondria</td>\n",
       "            </tr>\n",
       "          </table>"
      ],
      "text/plain": [
       "<Model Human1 at 0x1e44e9061a0>"
      ]
     },
     "execution_count": 3,
     "metadata": {},
     "output_type": "execute_result"
    }
   ],
   "source": [
    "mod"
   ]
  },
  {
   "cell_type": "code",
   "execution_count": 3,
   "id": "f8407690-6be7-4a87-b46e-b60ce37ded00",
   "metadata": {},
   "outputs": [
    {
     "data": {
      "text/plain": [
       "'45.0 ATP + 0.0267 DNA + 45.0 H2O + 0.1124 RNA + 0.4062 glycogen + 0.0012 cofactor_pool_biomass + 5.3375 protein_pool_biomass + 0.2212 lipid_pool_biomass + 0.4835 metabolite_pool_biomass --> 45.0 ADP + 45.0 H+ + 45.0 Pi + biomass'"
      ]
     },
     "execution_count": 3,
     "metadata": {},
     "output_type": "execute_result"
    }
   ],
   "source": [
    "mod.reactions.get_by_id('MAR13082').build_reaction_string(use_metabolite_names = True)"
   ]
  },
  {
   "cell_type": "code",
   "execution_count": 4,
   "id": "8ef33d7b-c7c3-4b42-ac78-6c5186983c7a",
   "metadata": {},
   "outputs": [
    {
     "data": {
      "text/plain": [
       "'45.0 MAM01371c + 0.0267 MAM01721n + 45.0 MAM02040c + 0.1124 MAM02847c + 0.4062 MAM03161c + 0.0012 MAM10012c + 5.3375 MAM10013c + 0.2212 MAM10014c + 0.4835 MAM10015c --> 45.0 MAM01285c + 45.0 MAM02039c + 45.0 MAM02751c + MAM03970c'"
      ]
     },
     "execution_count": 4,
     "metadata": {},
     "output_type": "execute_result"
    }
   ],
   "source": [
    "mod.reactions.get_by_id('MAR13082').reaction"
   ]
  },
  {
   "cell_type": "code",
   "execution_count": 5,
   "id": "47796962-5604-42ad-8986-28e647c44a26",
   "metadata": {},
   "outputs": [],
   "source": [
    "mod_RPE = models['model_06_MeanExpression_RPE__VoigtEtAl2019_.xml'].copy()\n",
    "mod_PR = models['model_13_MeanExpression_RodPhotoreceptors__LiangEtAl_2019_.xml'].copy()"
   ]
  },
  {
   "cell_type": "code",
   "execution_count": 6,
   "id": "add58e99-ac89-406c-8be3-293daf90bf9d",
   "metadata": {},
   "outputs": [
    {
     "name": "stderr",
     "output_type": "stream",
     "text": [
      "C:\\Users\\prins\\miniconda3\\envs\\RPE-PR\\lib\\site-packages\\cobra\\core\\group.py:147: UserWarning: need to pass in a list\n",
      "  warn(\"need to pass in a list\")\n"
     ]
    }
   ],
   "source": [
    "def remove_compartment(model, compartment):\n",
    "# remove compartment from model\n",
    "    rxns_n = [r.id for r in model.reactions if compartment in r.compartments]\n",
    "    mets_n = [m for m in model.metabolites if compartment in m.compartment]\n",
    "    model.remove_reactions(rxns_n)\n",
    "    model.remove_metabolites(mets_n)\n",
    "    return model\n",
    "\n",
    "# remove nucleus from PR model\n",
    "mod_PR = remove_compartment(mod_PR, 'n')"
   ]
  },
  {
   "cell_type": "code",
   "execution_count": 7,
   "id": "dd0c6c00-9484-4c3d-b07f-51be7e5b770c",
   "metadata": {},
   "outputs": [],
   "source": [
    "def add_id_suffix(model, suffix):\n",
    "    for r in model.reactions:\n",
    "        r.id = r.id + suffix\n",
    "    for m in model.metabolites:\n",
    "        m.id = m.id + suffix\n",
    "        m.compartment = m.compartment + suffix\n",
    "    return model\n",
    "\n",
    "# add '_PR' to PR model IDs and '_RPE' to RPE model IDs\n",
    "mod_PR = add_id_suffix(mod_PR, '_PR')\n",
    "mod_RPE = add_id_suffix(mod_RPE, '_RPE')"
   ]
  },
  {
   "cell_type": "code",
   "execution_count": 8,
   "id": "13569f34-9185-4c3b-b3dc-a7a15dd9d479",
   "metadata": {},
   "outputs": [],
   "source": [
    "# add RPE-PR interface reactions to RPE model (rxn_RPE-PR = RPE <--> RPE-PR interface)\n",
    "for rxns in  [r for r in mod_RPE.reactions if 'e_RPE' in r.reaction]:     \n",
    "    rxn = rxns.copy()\n",
    "    rxn.id = rxn.id.replace('_RPE','_RPE-PR')\n",
    "    for p in rxn.products:\n",
    "        if 'e_RPE' in p.id:\n",
    "            p.id = p.id.replace('e_RPE','e_RPE-PR')\n",
    "            p.compartment = 'e_RPE-PR'\n",
    "    for r in rxn.reactants:\n",
    "        if 'e_RPE' in r.id:\n",
    "            r.id = r.id.replace('e_RPE','e_RPE-PR')\n",
    "            r.compartment = 'e_RPE-PR'\n",
    "    mod_RPE.add_reactions([rxn])"
   ]
  },
  {
   "cell_type": "code",
   "execution_count": 9,
   "id": "39a4fb7c-b293-498a-ab24-979952df070c",
   "metadata": {},
   "outputs": [],
   "source": [
    "# add RPE-PR interface reactions to PR model (rxn_PR-RPE = PR <--> RPE-PR interface)\n",
    "for rxn in [r for r in mod_PR.reactions if 'e_PR' in r.reaction]:\n",
    "    rxn.id = rxn.id.replace('_PR','_PR-RPE')\n",
    "    for p in rxn.products:\n",
    "        if 'e_PR' in p.id:\n",
    "            p.id = p.id.replace('e_PR','e_RPE-PR')\n",
    "            p.compartment = 'e_RPE-PR'\n",
    "    for r in rxn.reactants:\n",
    "        if 'e_PR' in r.id:\n",
    "            r.id = r.id.replace('e_PR','e_RPE-PR')\n",
    "            r.compartment = 'e_RPE-PR'"
   ]
  },
  {
   "cell_type": "code",
   "execution_count": 10,
   "id": "677d5952-0bfa-43c1-a07e-219013959795",
   "metadata": {},
   "outputs": [],
   "source": [
    "# fuse RPE and PR model\n",
    "from cobra import Model\n",
    "mod_RPE_PR = Model('RPE-PR model')\n",
    "mod_RPE_PR.add_reactions(mod_RPE.reactions)\n",
    "mod_RPE_PR.add_reactions(mod_PR.reactions)"
   ]
  },
  {
   "cell_type": "code",
   "execution_count": 11,
   "id": "5481a22e-1f4c-4105-8b55-f43b3ed31a6f",
   "metadata": {},
   "outputs": [
    {
     "name": "stderr",
     "output_type": "stream",
     "text": [
      "C:\\Users\\prins\\miniconda3\\envs\\RPE-PR\\lib\\site-packages\\cobra\\core\\model.py:778: UserWarning: need to pass in a list\n",
      "  warn(\"need to pass in a list\")\n"
     ]
    }
   ],
   "source": [
    "# list reaction IDs to be deleted (because their reactions are duplicated)\n",
    "import pandas as pd\n",
    "df = pd.DataFrame([[r.id, r.reaction] for r in mod_RPE_PR.reactions \\\n",
    "                   if r.compartments == {'e_RPE-PR'}], columns=['id','reaction'])\n",
    "l  = list(df['id'][df['reaction'].duplicated()])\n",
    "\n",
    "# delete duplicated reactions and change reaction IDs (suffix: _eRPE-PR) \n",
    "# of the reactions that only involve the e_RPE-PR compartment (interface)\n",
    "for r in [r for r in mod_RPE_PR.reactions if r.compartments=={'e_RPE-PR'}]: \n",
    "    if r.id in l:\n",
    "        mod_RPE_PR.remove_reactions(r.id)\n",
    "    elif '_RPE-PR' in r.id:\n",
    "        r.id = r.id.replace('_RPE-PR','_eRPE-PR')\n",
    "    elif '_PR-RPE' in r.id:\n",
    "        r.id = r.id.replace('_PR-RPE','_eRPE-PR')"
   ]
  },
  {
   "cell_type": "code",
   "execution_count": 12,
   "id": "bc7b9507-3b93-4296-b6ab-e21e773b5bb3",
   "metadata": {},
   "outputs": [
    {
     "data": {
      "text/plain": [
       "'ALCD2if'"
      ]
     },
     "execution_count": 12,
     "metadata": {},
     "output_type": "execute_result"
    }
   ],
   "source": [
    "def get_vmh_id(reaction):\n",
    "    if 'vmhreaction' in reaction.annotation.keys(): \n",
    "        return reaction.annotation['vmhreaction']\n",
    "get_vmh_id(mod_RPE_PR.reactions[0])"
   ]
  },
  {
   "cell_type": "code",
   "execution_count": 13,
   "id": "af09c5bf-80ae-4ce1-8a43-a7c20d3ac851",
   "metadata": {},
   "outputs": [
    {
     "data": {
      "text/html": [
       "<div>\n",
       "<style scoped>\n",
       "    .dataframe tbody tr th:only-of-type {\n",
       "        vertical-align: middle;\n",
       "    }\n",
       "\n",
       "    .dataframe tbody tr th {\n",
       "        vertical-align: top;\n",
       "    }\n",
       "\n",
       "    .dataframe thead th {\n",
       "        text-align: right;\n",
       "    }\n",
       "</style>\n",
       "<table border=\"1\" class=\"dataframe\">\n",
       "  <thead>\n",
       "    <tr style=\"text-align: right;\">\n",
       "      <th></th>\n",
       "      <th>id</th>\n",
       "      <th>vmh id</th>\n",
       "      <th>name</th>\n",
       "      <th>subsystem</th>\n",
       "      <th>reaction (id)</th>\n",
       "      <th>reaction (name)</th>\n",
       "    </tr>\n",
       "  </thead>\n",
       "  <tbody>\n",
       "    <tr>\n",
       "      <th>0</th>\n",
       "      <td>MAR03905</td>\n",
       "      <td>ALCD2if</td>\n",
       "      <td>ethanol:NAD+ oxidoreductase</td>\n",
       "      <td>Glycolysis / Gluconeogenesis</td>\n",
       "      <td>MAM01796c + MAM02552c --&gt; MAM01249c + MAM02039...</td>\n",
       "      <td>ethanol + NAD+ --&gt; acetaldehyde + H+ + NADH</td>\n",
       "    </tr>\n",
       "    <tr>\n",
       "      <th>1</th>\n",
       "      <td>MAR03907</td>\n",
       "      <td>ALCD2yf</td>\n",
       "      <td>Ethanol:NADP+ oxidoreductase</td>\n",
       "      <td>Glycolysis / Gluconeogenesis</td>\n",
       "      <td>MAM01796c + MAM02554c --&gt; MAM01249c + MAM02039...</td>\n",
       "      <td>ethanol + NADP+ --&gt; acetaldehyde + H+ + NADPH</td>\n",
       "    </tr>\n",
       "    <tr>\n",
       "      <th>2</th>\n",
       "      <td>MAR04097</td>\n",
       "      <td>ACS</td>\n",
       "      <td>Acetate:CoA ligase (AMP-forming)</td>\n",
       "      <td>Glycolysis / Gluconeogenesis</td>\n",
       "      <td>MAM01252c + MAM01371c + MAM01597c --&gt; MAM01261...</td>\n",
       "      <td>acetate + ATP + CoA --&gt; acetyl-CoA + AMP + PPi</td>\n",
       "    </tr>\n",
       "    <tr>\n",
       "      <th>3</th>\n",
       "      <td>MAR04099</td>\n",
       "      <td>ACSm</td>\n",
       "      <td>Acetate:CoA ligase (AMP-forming)</td>\n",
       "      <td>Glycolysis / Gluconeogenesis</td>\n",
       "      <td>MAM01252m + MAM01371m + MAM01597m --&gt; MAM01261...</td>\n",
       "      <td>acetate + ATP + CoA --&gt; acetyl-CoA + AMP + PPi</td>\n",
       "    </tr>\n",
       "    <tr>\n",
       "      <th>4</th>\n",
       "      <td>MAR04108</td>\n",
       "      <td>r0068</td>\n",
       "      <td>acetyl adenylate:CoA acetyltransferase</td>\n",
       "      <td>Glycolysis / Gluconeogenesis</td>\n",
       "      <td>MAM01257c + MAM01597c --&gt; MAM01261c + MAM01334...</td>\n",
       "      <td>acetyl adenylate + CoA --&gt; acetyl-CoA + AMP + H+</td>\n",
       "    </tr>\n",
       "    <tr>\n",
       "      <th>...</th>\n",
       "      <td>...</td>\n",
       "      <td>...</td>\n",
       "      <td>...</td>\n",
       "      <td>...</td>\n",
       "      <td>...</td>\n",
       "      <td>...</td>\n",
       "    </tr>\n",
       "    <tr>\n",
       "      <th>13065</th>\n",
       "      <td>MAR10132</td>\n",
       "      <td>None</td>\n",
       "      <td></td>\n",
       "      <td>Exchange/demand reactions</td>\n",
       "      <td>MAM10041e &lt;=&gt;</td>\n",
       "      <td>tauro-hyodeoxycholic acid &lt;=&gt;</td>\n",
       "    </tr>\n",
       "    <tr>\n",
       "      <th>13066</th>\n",
       "      <td>MAR13083</td>\n",
       "      <td>None</td>\n",
       "      <td></td>\n",
       "      <td>Metabolism of other amino acids</td>\n",
       "      <td>MAM02039c + MAM02157c + MAM02553c + MAM02630c ...</td>\n",
       "      <td>H+ + hypotaurine + NADH + O2 --&gt; H2O + NAD+ + ...</td>\n",
       "    </tr>\n",
       "    <tr>\n",
       "      <th>13067</th>\n",
       "      <td>MAR13084</td>\n",
       "      <td>None</td>\n",
       "      <td></td>\n",
       "      <td>Transport reactions</td>\n",
       "      <td>MAM01639c &lt;=&gt; MAM01639n</td>\n",
       "      <td>dAMP &lt;=&gt; dAMP</td>\n",
       "    </tr>\n",
       "    <tr>\n",
       "      <th>13068</th>\n",
       "      <td>MAR13085</td>\n",
       "      <td>None</td>\n",
       "      <td></td>\n",
       "      <td>Transport reactions</td>\n",
       "      <td>MAM01686c &lt;=&gt; MAM01686n</td>\n",
       "      <td>dGMP &lt;=&gt; dGMP</td>\n",
       "    </tr>\n",
       "    <tr>\n",
       "      <th>13069</th>\n",
       "      <td>MAR13086</td>\n",
       "      <td>None</td>\n",
       "      <td></td>\n",
       "      <td>Transport reactions</td>\n",
       "      <td>MAM02847n --&gt; MAM02847c</td>\n",
       "      <td>RNA --&gt; RNA</td>\n",
       "    </tr>\n",
       "  </tbody>\n",
       "</table>\n",
       "<p>13070 rows × 6 columns</p>\n",
       "</div>"
      ],
      "text/plain": [
       "             id   vmh id                                    name  \\\n",
       "0      MAR03905  ALCD2if             ethanol:NAD+ oxidoreductase   \n",
       "1      MAR03907  ALCD2yf            Ethanol:NADP+ oxidoreductase   \n",
       "2      MAR04097      ACS        Acetate:CoA ligase (AMP-forming)   \n",
       "3      MAR04099     ACSm        Acetate:CoA ligase (AMP-forming)   \n",
       "4      MAR04108    r0068  acetyl adenylate:CoA acetyltransferase   \n",
       "...         ...      ...                                     ...   \n",
       "13065  MAR10132     None                                           \n",
       "13066  MAR13083     None                                           \n",
       "13067  MAR13084     None                                           \n",
       "13068  MAR13085     None                                           \n",
       "13069  MAR13086     None                                           \n",
       "\n",
       "                             subsystem  \\\n",
       "0         Glycolysis / Gluconeogenesis   \n",
       "1         Glycolysis / Gluconeogenesis   \n",
       "2         Glycolysis / Gluconeogenesis   \n",
       "3         Glycolysis / Gluconeogenesis   \n",
       "4         Glycolysis / Gluconeogenesis   \n",
       "...                                ...   \n",
       "13065        Exchange/demand reactions   \n",
       "13066  Metabolism of other amino acids   \n",
       "13067              Transport reactions   \n",
       "13068              Transport reactions   \n",
       "13069              Transport reactions   \n",
       "\n",
       "                                           reaction (id)  \\\n",
       "0      MAM01796c + MAM02552c --> MAM01249c + MAM02039...   \n",
       "1      MAM01796c + MAM02554c --> MAM01249c + MAM02039...   \n",
       "2      MAM01252c + MAM01371c + MAM01597c --> MAM01261...   \n",
       "3      MAM01252m + MAM01371m + MAM01597m --> MAM01261...   \n",
       "4      MAM01257c + MAM01597c --> MAM01261c + MAM01334...   \n",
       "...                                                  ...   \n",
       "13065                                     MAM10041e <=>    \n",
       "13066  MAM02039c + MAM02157c + MAM02553c + MAM02630c ...   \n",
       "13067                            MAM01639c <=> MAM01639n   \n",
       "13068                            MAM01686c <=> MAM01686n   \n",
       "13069                            MAM02847n --> MAM02847c   \n",
       "\n",
       "                                         reaction (name)  \n",
       "0            ethanol + NAD+ --> acetaldehyde + H+ + NADH  \n",
       "1          ethanol + NADP+ --> acetaldehyde + H+ + NADPH  \n",
       "2         acetate + ATP + CoA --> acetyl-CoA + AMP + PPi  \n",
       "3         acetate + ATP + CoA --> acetyl-CoA + AMP + PPi  \n",
       "4       acetyl adenylate + CoA --> acetyl-CoA + AMP + H+  \n",
       "...                                                  ...  \n",
       "13065                     tauro-hyodeoxycholic acid <=>   \n",
       "13066  H+ + hypotaurine + NADH + O2 --> H2O + NAD+ + ...  \n",
       "13067                                      dAMP <=> dAMP  \n",
       "13068                                      dGMP <=> dGMP  \n",
       "13069                                        RNA --> RNA  \n",
       "\n",
       "[13070 rows x 6 columns]"
      ]
     },
     "execution_count": 13,
     "metadata": {},
     "output_type": "execute_result"
    }
   ],
   "source": [
    "df= pd.DataFrame([[r.id,get_vmh_id(r),r.name,r.subsystem,r.reaction,r.build_reaction_string(use_metabolite_names = True)] \\\n",
    "              for r in mod.reactions],\\\n",
    "             columns=['id','vmh id', 'name', 'subsystem', 'reaction (id)', 'reaction (name)'])\n",
    "df.to_clipboard(excel=True, sep=None)\n",
    "df"
   ]
  },
  {
   "cell_type": "code",
   "execution_count": 14,
   "id": "c31add2d-5b60-4e79-875a-31470aec89a8",
   "metadata": {},
   "outputs": [],
   "source": [
    "import pandas as pd\n",
    "df = pd.DataFrame([[r.id, get_vmh_id(r), r.name, r.reaction,r.build_reaction_string(use_metabolite_names = True)]\\\n",
    "                   for r in mod_RPE_PR.reactions if r.compartments == {'e_RPE-PR'}], \\\n",
    "                   columns=['id','vmh id', 'name', 'reaction (id)', 'reaction (name)'])\n",
    "df[~df['reaction (id)'].duplicated(keep=False)].to_clipboard(excel=True, sep=None)"
   ]
  },
  {
   "cell_type": "code",
   "execution_count": 15,
   "id": "a09cf3fc-e4a9-4387-aa1c-2e504674173e",
   "metadata": {},
   "outputs": [],
   "source": [
    "df = pd.DataFrame([[r.id, get_vmh_id(r), r.name, r.reaction,r.build_reaction_string(use_metabolite_names = True)]\\\n",
    "                   for r in mod_RPE_PR.reactions], \\\n",
    "                   columns=['id','vmh id', 'name', 'reaction (id)', 'reaction (name)'])\n",
    "df_dup = pd.DataFrame([r.reaction for r in mod_RPE_PR.reactions]).duplicated(keep='first')"
   ]
  },
  {
   "cell_type": "code",
   "execution_count": 16,
   "id": "e5844817-4ab6-4bf8-8eb9-48969945149c",
   "metadata": {},
   "outputs": [
    {
     "data": {
      "text/html": [
       "\n",
       "        <table>\n",
       "            <tr>\n",
       "                <td><strong>Reaction identifier</strong></td><td>MAR01862</td>\n",
       "            </tr><tr>\n",
       "                <td><strong>Name</strong></td><td></td>\n",
       "            </tr><tr>\n",
       "                <td><strong>Memory address</strong></td>\n",
       "                <td>0x25037c68d90</td>\n",
       "            </tr><tr>\n",
       "                <td><strong>Stoichiometry</strong></td>\n",
       "                <td>\n",
       "                    <p style='text-align:right'>MAM01988e + MAM02519e --> MAM01988c + MAM02519c</p>\n",
       "                    <p style='text-align:right'>glycocholate + Na+ --> glycocholate + Na+</p>\n",
       "                </td>\n",
       "            </tr><tr>\n",
       "                <td><strong>GPR</strong></td><td>ENSG00000100652 or ENSG00000125255</td>\n",
       "            </tr><tr>\n",
       "                <td><strong>Lower bound</strong></td><td>0.0</td>\n",
       "            </tr><tr>\n",
       "                <td><strong>Upper bound</strong></td><td>1000.0</td>\n",
       "            </tr>\n",
       "        </table>\n",
       "        "
      ],
      "text/plain": [
       "<Reaction MAR01862 at 0x25037c68d90>"
      ]
     },
     "execution_count": 16,
     "metadata": {},
     "output_type": "execute_result"
    }
   ],
   "source": [
    "mod.reactions.get_by_id('MAR01862')"
   ]
  },
  {
   "cell_type": "code",
   "execution_count": 17,
   "id": "ef974940-c809-4fa9-bc52-69927db50a72",
   "metadata": {},
   "outputs": [
    {
     "ename": "NameError",
     "evalue": "name 'model_n2' is not defined",
     "output_type": "error",
     "traceback": [
      "\u001b[1;31m---------------------------------------------------------------------------\u001b[0m",
      "\u001b[1;31mNameError\u001b[0m                                 Traceback (most recent call last)",
      "Cell \u001b[1;32mIn[17], line 6\u001b[0m\n\u001b[0;32m      4\u001b[0m \u001b[38;5;28;01mfor\u001b[39;00m i \u001b[38;5;129;01min\u001b[39;00m \u001b[38;5;28mrange\u001b[39m(\u001b[38;5;28mlen\u001b[39m(files)):\n\u001b[0;32m      5\u001b[0m     count \u001b[38;5;241m=\u001b[39m [[rxn\u001b[38;5;241m.\u001b[39msubsystem \u001b[38;5;28;01mfor\u001b[39;00m rxn \u001b[38;5;129;01min\u001b[39;00m models[files[i]]\u001b[38;5;241m.\u001b[39mreactions]\u001b[38;5;241m.\u001b[39mcount(s) \u001b[38;5;28;01mfor\u001b[39;00m s \u001b[38;5;129;01min\u001b[39;00m subsystems]\n\u001b[1;32m----> 6\u001b[0m     df[\u001b[43mmodel_n2\u001b[49m[i]] \u001b[38;5;241m=\u001b[39m count \n\u001b[0;32m      7\u001b[0m df\n",
      "\u001b[1;31mNameError\u001b[0m: name 'model_n2' is not defined"
     ]
    }
   ],
   "source": [
    "import pandas as pd\n",
    "subsystems = list(set([r.subsystem for r in mod.reactions]))\n",
    "df = pd.DataFrame(index=subsystems)\n",
    "for i in range(len(files)):\n",
    "    count = [[rxn.subsystem for rxn in models[files[i]].reactions].count(s) for s in subsystems]\n",
    "    df[model_n2[i]] = count \n",
    "df"
   ]
  },
  {
   "cell_type": "code",
   "execution_count": null,
   "id": "ffaba148-c9f7-4c77-9b6e-70fed41df3d9",
   "metadata": {},
   "outputs": [],
   "source": [
    "atp_rxns = [list(m.reactions) for m in mod.metabolites if 'ATP' == m.name] \n",
    "atp_rxns = list(set([i for atp_rxns_i in atp_rxns for i in atp_rxns_i])) # unique \n",
    "df_atp_rxns = pd.DataFrame([[r.id,\\\n",
    "              get_vmh_id(r), \\\n",
    "              r.name, \\\n",
    "              r.build_reaction_string(use_metabolite_names = True)]\\\n",
    "              for r in atp_rxns])\n",
    "df_atp_rxns"
   ]
  },
  {
   "cell_type": "code",
   "execution_count": null,
   "id": "88c95f8b-6b5f-4d8a-a9ed-7950eb6abfee",
   "metadata": {},
   "outputs": [],
   "source": [
    "len(atp_rxns)"
   ]
  },
  {
   "cell_type": "code",
   "execution_count": null,
   "id": "4e4c6a1c-7479-46da-8421-4b192ddeb3d9",
   "metadata": {},
   "outputs": [],
   "source": [
    "import pandas as pd\n",
    "subsystems = list(set([r.subsystem for r in mod.reactions]))\n",
    "df_h1 = pd.DataFrame(index=subsystems)\n",
    "count = [[rxn.subsystem for rxn in mod.reactions].count(s) for s in subsystems]\n",
    "df_h1['Human1'] = count \n",
    "df['Human1']=df_h1\n",
    "df"
   ]
  },
  {
   "cell_type": "code",
   "execution_count": null,
   "id": "16f31a46-9ca2-45ec-a915-d37de1290f50",
   "metadata": {},
   "outputs": [],
   "source": [
    "df['Human1']=df_h1\n",
    "\n",
    "df2=df[(df == 0).any(axis=1)] # select rows and columns containing zeros\n",
    "idx_row = df2[df2==0].count(axis=1).sort_values(ascending=False).index.to_list()\n",
    "idx_col = df2[df2==0].count(axis=0).sort_values(ascending=False).index.to_list()\n",
    "df2 = df2.reindex(idx_col, axis=1).reindex(idx_row,axis=0)\n",
    "\n",
    "def style_negative(v, props=''):\n",
    "    return props if v == 0 else None\n",
    "df2 = df2[(df == 0).any(axis=1)].style.applymap(style_negative, props='background-color:gray;').\\\n",
    "set_table_styles([dict(selector=\"th\", props=[('width', '10px')]),\n",
    "              dict(selector=\"th.col_heading\",\n",
    "                   props=[(\"writing-mode\", \"vertical-rl\"),\n",
    "                          ('transform', 'rotateZ(180deg)'), \n",
    "                          ('height', '170px'),\n",
    "                          ('vertical-align', 'top')]),\n",
    "              dict(selector=\"th.row_heading\",\n",
    "                   props=[('width', '450px'),])])\n",
    "df2"
   ]
  },
  {
   "cell_type": "code",
   "execution_count": null,
   "id": "f0aefc24-6f6a-49f1-8083-d0b8d83da9cd",
   "metadata": {},
   "outputs": [],
   "source": [
    "df_norm = df.drop(['Human1'], axis=1).divide(df['Human1'].values, axis='rows')\n",
    "idx = df_norm.mean(axis=1).sort_values(ascending=False).index.to_list()\n",
    "df_norm['Human1 (number of reactions)']=df['Human1']\n",
    "df_norm=df_norm.reindex(idx,axis=0)\n",
    "df_norm.to_clipboard(excel=True, sep=None)\n",
    "df_norm"
   ]
  },
  {
   "cell_type": "code",
   "execution_count": null,
   "id": "0135266b-37df-44d6-bc39-8f112dec3977",
   "metadata": {},
   "outputs": [],
   "source": [
    "[r.id for r in mod.reactions if r.subsystem == 'Glycolysis / Gluconeogenesis']\n",
    "pd.DataFrame([[r.id, get_vmh_id(r), r.name,r.reaction,r.build_reaction_string(use_metabolite_names = True)]\\\n",
    "              for r in mod.reactions if r.subsystem == 'Glycolysis / Gluconeogenesis'],\\\n",
    "             columns=['id','vhr id','name','reaction','reaction (names)']).to_clipboard(excel=True, sep=None)"
   ]
  },
  {
   "cell_type": "code",
   "execution_count": null,
   "id": "f6ade162-ec81-49ad-a868-53c417bc5f79",
   "metadata": {},
   "outputs": [],
   "source": [
    "rxns_mod = [r.id for r in mod.reactions if r.subsystem == 'Glycolysis / Gluconeogenesis']\n",
    "l_bin_gly_rxns = [[1 if r in rxns_i else 0 for r in rxns_mod]\\\n",
    "                  for rxns_i in [[r.id for r in models[f].reactions\\\n",
    "                  if r.subsystem == 'Glycolysis / Gluconeogenesis'] for f in files]]\n",
    "df_gly_rxns = pd.DataFrame([[r.id,r.name] for r in mod.reactions if r.subsystem == 'Glycolysis / Gluconeogenesis'], columns=['id','name'])\n",
    "for i in range(len(model_n2)):\n",
    "    df_gly_rxns[model_n2[i]]=l_bin_gly_rxns[i]\n",
    "\n",
    "idx_row = df_gly_rxns[df_gly_rxns==0].count(axis=1).sort_values(ascending=True).index.to_list()\n",
    "idx_col = df_gly_rxns[df_gly_rxns==0].count(axis=0).sort_values(ascending=True).index.to_list()\n",
    "df_gly_rxns = df_gly_rxns.reindex(idx_col, axis=1).reindex(idx_row,axis=0)\n",
    "df_gly_rxns.to_clipboard(excel=True, sep=None)\n",
    "df_gly_rxns"
   ]
  },
  {
   "cell_type": "code",
   "execution_count": null,
   "id": "961989fe-f6c7-48d4-8689-c362856d4678",
   "metadata": {},
   "outputs": [],
   "source": [
    "rxns_mod = [r.id for r in list(set([r for r in list(mod.metabolites.get_by_id('MAM01371c').reactions)]))]\n",
    "l_bin_atp_rxns = [[1 if r in rxns_i else 0 for r in rxns_mod]\\\n",
    "                  for rxns_i in [[r.id for r in models[f].reactions] for f in files]]\n",
    "df_atp_rxns = pd.DataFrame([[r.id,r.name] for r in mod.reactions], columns=['id','name'])\n",
    "                            \n",
    "for i in range(len(model_n2)):\n",
    "    df_atp_rxns[model_n2[i]]=l_bin_atp_rxns[i]\n",
    "\n",
    "idx_row = df_atp_rxns[df_atp_rxns==0].count(axis=1).sort_values(ascending=True).index.to_list()\n",
    "idx_col = df_atp_rxns[df_atp_rxns==0].count(axis=0).sort_values(ascending=True).index.to_list()\n",
    "df_atp_rxns = df_atp_rxns.reindex(idx_col, axis=1).reindex(idx_row,axis=0)\n",
    "df_atp_rxns.to_clipboard(excel=True, sep=None)\n",
    "df_atp_rxns"
   ]
  }
 ],
 "metadata": {
  "kernelspec": {
   "display_name": "Python 3 (ipykernel)",
   "language": "python",
   "name": "python3"
  },
  "language_info": {
   "codemirror_mode": {
    "name": "ipython",
    "version": 3
   },
   "file_extension": ".py",
   "mimetype": "text/x-python",
   "name": "python",
   "nbconvert_exporter": "python",
   "pygments_lexer": "ipython3",
   "version": "3.10.9"
  }
 },
 "nbformat": 4,
 "nbformat_minor": 5
}
