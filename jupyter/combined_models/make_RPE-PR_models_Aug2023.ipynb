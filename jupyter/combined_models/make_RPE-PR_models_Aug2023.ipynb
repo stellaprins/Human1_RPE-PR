{
 "cells": [
  {
   "cell_type": "markdown",
   "id": "0e4cb4ab",
   "metadata": {},
   "source": [
    "Date: 10/07/2023\n",
    "\n",
    "Creation of combined RPE-PR and single cell models using different CS-models (Lukowski & Voight datasets) and the current Human1 model\n",
    "\n",
    "The models are saved in the folder: combined_models\\combined_models_June2023\n"
   ]
  },
  {
   "cell_type": "code",
   "execution_count": 1,
   "id": "204deaba-3164-490b-b6f5-dc70546cdce9",
   "metadata": {
    "tags": []
   },
   "outputs": [],
   "source": [
    "# set cwd and solver\n",
    "import os\n",
    "import cobra\n",
    "cobra.Configuration().solver = \"gurobi\"\n",
    "os.chdir('C:/Users/prins/GitHub/Human1_RPE-PR') "
   ]
  },
  {
   "cell_type": "code",
   "execution_count": 2,
   "id": "121617c9-d65c-45c5-b02c-df9df83cc95b",
   "metadata": {},
   "outputs": [
    {
     "name": "stdout",
     "output_type": "stream",
     "text": [
      "Set parameter Username\n",
      "Academic license - for non-commercial use only - expires 2024-02-03\n"
     ]
    },
    {
     "name": "stderr",
     "output_type": "stream",
     "text": [
      "'' is not a valid SBML 'SId'.\n",
      "'' is not a valid SBML 'SId'.\n"
     ]
    }
   ],
   "source": [
    "# load RPE, PR, Recon3D, and basis Human1 models from cs mods folder\n",
    "from pathlib import Path\n",
    "from cobra.io import read_sbml_model\n",
    "mod = read_sbml_model(Path().cwd() / 'cs_mods' / 'Human-GEM_28062023.xml' )\n",
    "mod_RPE = read_sbml_model(Path().cwd() /  'cs_mods' / 'model_1_RPE__VoigtEtAl2019_.xml')\n",
    "mod_PRrod = read_sbml_model(Path().cwd() /  'cs_mods' / 'model_2_RodPhotoreceptors__LiangEtAl_2019_.xml' )\n",
    "mod_PRcone = read_sbml_model(Path().cwd() /  'cs_mods' / 'model_3_ConePhotoreceptors__LiangEtAl_2019_.xml' )\n",
    "mod_PRrod_Lukowski = read_sbml_model(Path().cwd() /  'cs_mods' / 'model_1_AverageRodPRC0,C1,C2,C3,C4,C7(%).xml' )\n",
    "mod_PRrod_Lukowski.jname = 'AverageRodPR_Lukowski' \n",
    "mod_PRrod_Lukowski.id = 'AverageRodPR_Lukowski' \n",
    "mod_PRcone_Lukowski = read_sbml_model(Path().cwd() /  'cs_mods' / 'model_6_C10ConePR(%).xml' )\n",
    "mod_PRcone_Lukowski.name = 'C10ConePR_Lukowski' \n",
    "mod_PRcone_Lukowski.id = 'C10ConePR_Lukowski' "
   ]
  },
  {
   "cell_type": "code",
   "execution_count": 3,
   "id": "7b3504eb-9213-49f9-8694-59f4a53a364d",
   "metadata": {},
   "outputs": [],
   "source": [
    "# modify context specific models\n",
    "from src.modify_model import add_all_EX_rxns, remove_compartment\n",
    "\n",
    "for m in [mod_RPE, mod_PRcone, mod_PRrod, mod_PRrod_Lukowski, mod_PRcone_Lukowski]: # add ATP DM hydrolysis and lost EX rxns to context specific models\n",
    "    m.add_reactions([mod.reactions.get_by_id('MAR03964').copy()]) # make sure it contains ATP hydrolysis rxn\n",
    "    m = add_all_EX_rxns(mod,m) # add lost EX rxns\n",
    "    for r in [r for r in m.reactions if len(r.products)==0]: \n",
    "        r.bounds = (0,1000) # close lb for exchange reactions"
   ]
  },
  {
   "cell_type": "code",
   "execution_count": 4,
   "id": "44151234",
   "metadata": {},
   "outputs": [
    {
     "name": "stdout",
     "output_type": "stream",
     "text": [
      "Read LP format model from file C:\\Users\\prins\\AppData\\Local\\Temp\\tmpj8a4iosj.lp\n",
      "Reading time = 0.09 seconds\n",
      ": 8499 rows, 26170 columns, 112108 nonzeros\n"
     ]
    },
    {
     "name": "stderr",
     "output_type": "stream",
     "text": [
      "c:\\Users\\prins\\miniconda3\\envs\\RPE-PR_pytest\\lib\\site-packages\\cobra\\core\\group.py:147: UserWarning: need to pass in a list\n",
      "  warn(\"need to pass in a list\")\n"
     ]
    },
    {
     "name": "stdout",
     "output_type": "stream",
     "text": [
      "Read LP format model from file C:\\Users\\prins\\AppData\\Local\\Temp\\tmpk2avk5q_.lp\n",
      "Reading time = 0.04 seconds\n",
      ": 5149 rows, 13072 columns, 49224 nonzeros\n",
      "Read LP format model from file C:\\Users\\prins\\AppData\\Local\\Temp\\tmpo9k5oc5q.lp\n",
      "Reading time = 0.04 seconds\n",
      ": 5075 rows, 12756 columns, 47716 nonzeros\n",
      "Read LP format model from file C:\\Users\\prins\\AppData\\Local\\Temp\\tmpc2mcyf4l.lp\n",
      "Reading time = 0.04 seconds\n",
      ": 5267 rows, 13206 columns, 49254 nonzeros\n",
      "Read LP format model from file C:\\Users\\prins\\AppData\\Local\\Temp\\tmpq_uy_gvh.lp\n",
      "Reading time = 0.04 seconds\n",
      ": 5287 rows, 12948 columns, 47916 nonzeros\n"
     ]
    }
   ],
   "source": [
    "# remove nucleus ('n') from photoreceptor models     \n",
    "\n",
    "mod_PRcontrol = remove_compartment(mod.copy(), 'n')  # remove nucleus ('n') from PR model\n",
    "mod_PRcone = remove_compartment(mod_PRcone.copy(), 'n')  # remove nucleus ('n') from PR model\n",
    "mod_PRrod = remove_compartment(mod_PRrod.copy(), 'n')  # remove nucleus ('n') from PR model\n",
    "mod_PRrod_Lukowski = remove_compartment(mod_PRrod_Lukowski.copy(), 'n')  # remove nucleus ('n') from PR model\n",
    "mod_PRcone_Lukowski = remove_compartment(mod_PRcone_Lukowski.copy(), 'n')  # remove nucleus ('n') from PR model"
   ]
  },
  {
   "cell_type": "code",
   "execution_count": 5,
   "id": "50274f82-4913-4f09-9603-6d1127df79e1",
   "metadata": {},
   "outputs": [
    {
     "name": "stdout",
     "output_type": "stream",
     "text": [
      "Read LP format model from file C:\\Users\\prins\\AppData\\Local\\Temp\\tmp0kiukqkw.lp\n",
      "Reading time = 0.10 seconds\n",
      ": 8499 rows, 26170 columns, 112108 nonzeros\n"
     ]
    }
   ],
   "source": [
    "    from src.modify_model import  add_id_suffix\n",
    "\n",
    "    # add suffix to all ids in RPE and PR models\n",
    "\n",
    "    # Human1\n",
    "    mod_PRcontrol = add_id_suffix(mod_PRcontrol, '_PR')\n",
    "    mod_RPEcontrol = add_id_suffix(mod.copy(), '_RPE')  \n",
    "\n",
    "    # CS models\n",
    "    mod_PRrod = add_id_suffix(mod_PRrod, '_PR')\n",
    "    mod_PRcone = add_id_suffix(mod_PRcone, '_PR')\n",
    "    mod_PRcone_Lukowski = add_id_suffix(mod_PRcone_Lukowski, '_PR')\n",
    "    mod_PRrod_Lukowski = add_id_suffix(mod_PRrod_Lukowski, '_PR')\n",
    "    mod_RPE = add_id_suffix(mod_RPE, '_RPE')"
   ]
  },
  {
   "cell_type": "code",
   "execution_count": 6,
   "id": "f48e3599-2769-47b3-83a3-9d6bbf51f396",
   "metadata": {},
   "outputs": [],
   "source": [
    "    # add RPE-PR interface reactions and metabolites to RPE and PR models\n",
    "\n",
    "    from src.combine_RPE_PR import add_interface_RPE, add_interface_PR\n",
    "    # Human1\n",
    "    mod_PRcontrol = add_interface_PR(mod_PRcontrol, 'e_PR')\n",
    "    mod_RPEcontrol = add_interface_RPE(mod_RPEcontrol, 'e_RPE')\n",
    "\n",
    "    # CS models\n",
    "    mod_RPE = add_interface_RPE(mod_RPE, 'e_RPE')\n",
    "    mod_PRrod = add_interface_PR(mod_PRrod, 'e_PR')\n",
    "    mod_PRcone = add_interface_PR(mod_PRcone, 'e_PR')\n",
    "    mod_PRrod_Lukowski = add_interface_PR(mod_PRrod_Lukowski, 'e_PR')\n",
    "    mod_PRcone_Lukowski = add_interface_PR(mod_PRcone_Lukowski, 'e_PR')"
   ]
  },
  {
   "cell_type": "code",
   "execution_count": 7,
   "id": "88e6283e",
   "metadata": {},
   "outputs": [
    {
     "name": "stdout",
     "output_type": "stream",
     "text": [
      "Read LP format model from file C:\\Users\\prins\\AppData\\Local\\Temp\\tmpov4mmy0h.lp\n",
      "Reading time = 0.14 seconds\n",
      ": 10163 rows, 36054 columns, 143768 nonzeros\n",
      "Read LP format model from file C:\\Users\\prins\\AppData\\Local\\Temp\\tmp2vt9mwnk.lp\n",
      "Reading time = 0.17 seconds\n",
      ": 10163 rows, 36054 columns, 143768 nonzeros\n",
      "Read LP format model from file C:\\Users\\prins\\AppData\\Local\\Temp\\tmpsh8945k3.lp\n",
      "Reading time = 0.12 seconds\n",
      ": 9946 rows, 35534 columns, 141188 nonzeros\n",
      "Read LP format model from file C:\\Users\\prins\\AppData\\Local\\Temp\\tmpb974943x.lp\n",
      "Reading time = 0.08 seconds\n",
      ": 7186 rows, 19642 columns, 65480 nonzeros\n",
      "Read LP format model from file C:\\Users\\prins\\AppData\\Local\\Temp\\tmpgvo34_ah.lp\n",
      "Reading time = 0.05 seconds\n",
      ": 7186 rows, 19642 columns, 65480 nonzeros\n",
      "Read LP format model from file C:\\Users\\prins\\AppData\\Local\\Temp\\tmpe8f_txdg.lp\n",
      "Reading time = 0.05 seconds\n",
      ": 6644 rows, 17802 columns, 57040 nonzeros\n",
      "Read LP format model from file C:\\Users\\prins\\AppData\\Local\\Temp\\tmpa017xc1q.lp\n",
      "Reading time = 0.06 seconds\n",
      ": 7186 rows, 19642 columns, 65480 nonzeros\n",
      "Read LP format model from file C:\\Users\\prins\\AppData\\Local\\Temp\\tmpa407qjul.lp\n",
      "Reading time = 0.05 seconds\n",
      ": 7186 rows, 19642 columns, 65480 nonzeros\n",
      "Read LP format model from file C:\\Users\\prins\\AppData\\Local\\Temp\\tmpki4p336d.lp\n",
      "Reading time = 0.03 seconds\n",
      ": 6719 rows, 18148 columns, 58546 nonzeros\n",
      "Read LP format model from file C:\\Users\\prins\\AppData\\Local\\Temp\\tmplc908tjp.lp\n",
      "Reading time = 0.04 seconds\n",
      ": 7186 rows, 19642 columns, 65480 nonzeros\n",
      "Read LP format model from file C:\\Users\\prins\\AppData\\Local\\Temp\\tmpf_031muq.lp\n",
      "Reading time = 0.03 seconds\n",
      ": 7186 rows, 19642 columns, 65480 nonzeros\n",
      "Read LP format model from file C:\\Users\\prins\\AppData\\Local\\Temp\\tmp_sjxgsvf.lp\n",
      "Reading time = 0.03 seconds\n",
      ": 6822 rows, 18184 columns, 58124 nonzeros\n",
      "Read LP format model from file C:\\Users\\prins\\AppData\\Local\\Temp\\tmp4ayvxhwd.lp\n",
      "Reading time = 0.04 seconds\n",
      ": 7186 rows, 19642 columns, 65480 nonzeros\n",
      "Read LP format model from file C:\\Users\\prins\\AppData\\Local\\Temp\\tmppmsq17es.lp\n",
      "Reading time = 0.04 seconds\n",
      ": 7186 rows, 19642 columns, 65480 nonzeros\n",
      "Read LP format model from file C:\\Users\\prins\\AppData\\Local\\Temp\\tmpsj2nsx9s.lp\n",
      "Reading time = 0.03 seconds\n",
      ": 6846 rows, 17582 columns, 55068 nonzeros\n"
     ]
    }
   ],
   "source": [
    "    # fuse RPE and PR models   \n",
    "    from src.modify_model import fix_compartment_dict, add_rxns2groups\n",
    "    from src.combine_RPE_PR import fuse_RPE_PR\n",
    "\n",
    "    # Human1\n",
    "    mod_RPE_PRcontrol = fuse_RPE_PR(mod_RPEcontrol.copy(),mod_PRcontrol)\n",
    "\n",
    "    # CS models\n",
    "    mod_RPE_PRrod = fuse_RPE_PR(mod_RPE.copy(),mod_PRrod)\n",
    "    mod_RPE_PRcone = fuse_RPE_PR(mod_RPE.copy(),mod_PRcone)\n",
    "    mod_RPE_PRrod_Lukowski = fuse_RPE_PR(mod_RPE.copy(),mod_PRrod_Lukowski)\n",
    "    mod_RPE_PRcone_Lukowski = fuse_RPE_PR(mod_RPE.copy(),mod_PRcone_Lukowski)"
   ]
  },
  {
   "cell_type": "code",
   "execution_count": 11,
   "id": "13176308",
   "metadata": {},
   "outputs": [
    {
     "name": "stderr",
     "output_type": "stream",
     "text": [
      "c:\\Users\\prins\\miniconda3\\envs\\RPE-PR_pytest\\lib\\site-packages\\cobra\\core\\group.py:147: UserWarning: need to pass in a list\n",
      "  warn(\"need to pass in a list\")\n",
      "c:\\Users\\prins\\miniconda3\\envs\\RPE-PR_pytest\\lib\\site-packages\\cobra\\core\\group.py:147: UserWarning: need to pass in a list\n",
      "  warn(\"need to pass in a list\")\n",
      "c:\\Users\\prins\\miniconda3\\envs\\RPE-PR_pytest\\lib\\site-packages\\cobra\\core\\group.py:147: UserWarning: need to pass in a list\n",
      "  warn(\"need to pass in a list\")\n",
      "c:\\Users\\prins\\miniconda3\\envs\\RPE-PR_pytest\\lib\\site-packages\\cobra\\core\\group.py:147: UserWarning: need to pass in a list\n",
      "  warn(\"need to pass in a list\")\n"
     ]
    }
   ],
   "source": [
    "from src.combine_RPE_PR import del_RPE_PR_dupl_rxns\n",
    "\n",
    "# delete duplicate reactions in RPE-PR models\n",
    "\n",
    "mod_RPE_PRcontrol = fix_compartment_dict(mod_RPE_PRcontrol)\n",
    "\n",
    "mod_RPE_PRrod = fix_compartment_dict(mod_RPE_PRrod)\n",
    "mod_RPE_PRrod = add_rxns2groups(mod_RPE_PRrod)\n",
    "mod_RPE_PRrod = del_RPE_PR_dupl_rxns(mod_RPE_PRrod)\n",
    "\n",
    "mod_RPE_PRcone = fix_compartment_dict(mod_RPE_PRcone)\n",
    "mod_RPE_PRcone = add_rxns2groups(mod_RPE_PRcone)    \n",
    "mod_RPE_PRcone = del_RPE_PR_dupl_rxns(mod_RPE_PRcone)\n",
    "\n",
    "mod_RPE_PRrod_Lukowski = fix_compartment_dict(mod_RPE_PRrod_Lukowski)\n",
    "mod_RPE_PRrod_Lukowski = add_rxns2groups(mod_RPE_PRrod_Lukowski)\n",
    "mod_RPE_PRrod_Lukowski = del_RPE_PR_dupl_rxns(mod_RPE_PRrod_Lukowski)\n",
    "\n",
    "mod_RPE_PRcone_Lukowski = fix_compartment_dict(mod_RPE_PRcone_Lukowski)\n",
    "mod_RPE_PRcone_Lukowski = add_rxns2groups(mod_RPE_PRcone_Lukowski)\n",
    "mod_RPE_PRcone_Lukowski = del_RPE_PR_dupl_rxns(mod_RPE_PRcone_Lukowski)"
   ]
  },
  {
   "cell_type": "code",
   "execution_count": 12,
   "id": "7ec467bf",
   "metadata": {},
   "outputs": [],
   "source": [
    "# remove PR exchange reactions from RPE-PR models (KEEP PR EXCHANGE REACTIONS IN FOR SINGLE MODELS)\n",
    "# for m in [mod_RPE_PRrod, mod_RPE_PRcone, mod_RPE_PRrod_Lukowski, mod_RPE_PRcone_Lukowski, mod_RPE_PRcontrol]:\n",
    "#    m.remove_reactions([r.id for r in  m.reactions if len(r.products)==0 if 'PR' in r.id]) # remove PR exchange reactions\n",
    "#    m.remove_metabolites([m for m in m.metabolites if len(m.reactions) == 0])              # prune metabolites that are unused\n",
    "    \n",
    "for m in [mod_RPE_PRrod, mod_RPE_PRcone, mod_RPE_PRrod_Lukowski, mod_RPE_PRcone_Lukowski, mod_RPE_PRcontrol]:  \n",
    "    for r in [r for r in m.reactions if len(r.products) == 0 ]:           # close all exchange reactions\n",
    "        r.bounds=(0,0)\n",
    "    for r in [r for r in m.reactions if len(r.products) == 0 if '_RPE' in r.id]:           # open efflux for RPE exchange reactions\n",
    "        r.bounds=(0,1000) "
   ]
  },
  {
   "cell_type": "code",
   "execution_count": 34,
   "id": "05f89ba9",
   "metadata": {},
   "outputs": [],
   "source": [
    "# save RPE-PR models\n",
    "from cobra.io import write_sbml_model\n",
    "# create Agust2023 folder if does not exist already\n",
    "folder = os.path.join(os.getcwd(), 'cs_mods', 'August2023')\n",
    "if not os.path.exists(folder):\n",
    "    os.makedirs(folder)\n",
    "\n",
    "write_sbml_model(mod_RPE_PRcontrol, 'cs_mods/August2023/mod_RPE_PRcontrol.xml')\n",
    "write_sbml_model(mod_RPE_PRrod, 'cs_mods/August2023/mod_RPE_PRrod_Liang.xml')\n",
    "write_sbml_model(mod_RPE_PRcone, 'cs_mods/August2023/mod_RPE_PRcone_Liang.xml')\n",
    "write_sbml_model(mod_RPE_PRrod_Lukowski, 'cs_mods/August2023/mod_RPE_PRrod_Lukowski.xml')\n",
    "write_sbml_model(mod_RPE_PRcone_Lukowski, 'cs_mods/August2023/mod_RPE_PRcone_Lukowski.xml')"
   ]
  },
  {
   "cell_type": "code",
   "execution_count": 14,
   "id": "2dc4c64e",
   "metadata": {},
   "outputs": [],
   "source": [
    "def create_single_model(model, to_keep):\n",
    "    \"\"\"\n",
    "    Create single model from RPE-PR model\n",
    "\n",
    "    Parameters\n",
    "    ----------\n",
    "    m : cobra.Model\n",
    "        RPE-PR model\n",
    "    to_keep : str\n",
    "        cell to keep in RPE-PR model\n",
    "    \n",
    "    Returns\n",
    "    -------\n",
    "    cobra.Model\n",
    "        RPE model\n",
    "    \n",
    "    \"\"\"\n",
    "    m = model.copy()\n",
    "    reactions_to_remove = []\n",
    "    compartments = [c for c in list(mod_RPE_PRcone_Lukowski.compartments) if to_keep in c]\n",
    "    for r in m.reactions:\n",
    "        # list of compartments in reaction that are not in the RPE compartment list\n",
    "        l = [x for x in list(r.compartments) if x not in compartments]\n",
    "        # remove reaction if it contains a compartment that is not in the RPE compartment list\n",
    "        if len(l) > 0:\n",
    "            reactions_to_remove.append(r.id)\n",
    "\n",
    "    m.remove_reactions(reactions_to_remove)\n",
    "    m.remove_metabolites([m for m in m.metabolites if len(m.reactions) == 0])              # prune metabolites that are unused\n",
    "    return m   "
   ]
  },
  {
   "cell_type": "code",
   "execution_count": 15,
   "id": "69802498",
   "metadata": {},
   "outputs": [
    {
     "name": "stdout",
     "output_type": "stream",
     "text": [
      "Read LP format model from file C:\\Users\\prins\\AppData\\Local\\Temp\\tmpvhkyewf3.lp\n",
      "Reading time = 0.17 seconds\n",
      ": 18445 rows, 71588 columns, 284956 nonzeros\n",
      "Read LP format model from file C:\\Users\\prins\\AppData\\Local\\Temp\\tmpzu641hho.lp\n",
      "Reading time = 0.14 seconds\n",
      ": 18445 rows, 71588 columns, 284956 nonzeros\n",
      "Read LP format model from file C:\\Users\\prins\\AppData\\Local\\Temp\\tmp6p_jb6bm.lp\n",
      "Reading time = 0.07 seconds\n",
      ": 12164 rows, 34090 columns, 119088 nonzeros\n",
      "Read LP format model from file C:\\Users\\prins\\AppData\\Local\\Temp\\tmpzqjev09z.lp\n",
      "Reading time = 0.07 seconds\n",
      ": 12239 rows, 34438 columns, 120602 nonzeros\n",
      "Read LP format model from file C:\\Users\\prins\\AppData\\Local\\Temp\\tmpr89su533.lp\n",
      "Reading time = 0.06 seconds\n",
      ": 12164 rows, 34090 columns, 119088 nonzeros\n",
      "Read LP format model from file C:\\Users\\prins\\AppData\\Local\\Temp\\tmp7epa11e4.lp\n",
      "Reading time = 0.07 seconds\n",
      ": 12239 rows, 34438 columns, 120602 nonzeros\n",
      "Read LP format model from file C:\\Users\\prins\\AppData\\Local\\Temp\\tmpqcoogs5x.lp\n",
      "Reading time = 0.07 seconds\n",
      ": 12342 rows, 34462 columns, 120132 nonzeros\n",
      "Read LP format model from file C:\\Users\\prins\\AppData\\Local\\Temp\\tmpjweffa51.lp\n",
      "Reading time = 0.06 seconds\n",
      ": 12366 rows, 33866 columns, 117100 nonzeros\n",
      "Read LP format model from file C:\\Users\\prins\\AppData\\Local\\Temp\\tmp4saele7x.lp\n",
      "Reading time = 0.07 seconds\n",
      ": 12342 rows, 34462 columns, 120132 nonzeros\n",
      "Read LP format model from file C:\\Users\\prins\\AppData\\Local\\Temp\\tmpzkwapuen.lp\n",
      "Reading time = 0.06 seconds\n",
      ": 12366 rows, 33866 columns, 117100 nonzeros\n"
     ]
    }
   ],
   "source": [
    "# create single cell models from RPE-PR models\n",
    "mod_RPE_PRcontrol_singleRPE = create_single_model(mod_RPE_PRcontrol, 'RPE')  \n",
    "mod_RPE_PRcontrol_singlePR = create_single_model(mod_RPE_PRcontrol, 'PR')\n",
    "\n",
    "mod_RPE_PRrod_singleRPE = create_single_model(mod_RPE_PRrod, 'RPE')\n",
    "mod_RPE_PRcone_singleRPE = create_single_model(mod_RPE_PRcone, 'RPE')\n",
    "mod_RPE_PRrod_singlePR = create_single_model(mod_RPE_PRrod, 'PR')\n",
    "mod_RPE_PRcone_singlePR = create_single_model(mod_RPE_PRcone, 'PR')\n",
    "\n",
    "mod_RPE_PRrod_Lukowski_singleRPE = create_single_model(mod_RPE_PRrod_Lukowski, 'RPE')\n",
    "mod_RPE_PRcone_Lukowski_singleRPE = create_single_model(mod_RPE_PRcone_Lukowski, 'RPE')\n",
    "mod_RPE_PRrod_Lukowski_singlePR = create_single_model(mod_RPE_PRrod_Lukowski, 'PR')\n",
    "mod_RPE_PRcone_Lukowski_singlePR = create_single_model(mod_RPE_PRcone_Lukowski, 'PR')"
   ]
  },
  {
   "cell_type": "code",
   "execution_count": null,
   "id": "dce2394d",
   "metadata": {},
   "outputs": [],
   "source": [
    "# save RPE-PR models\n",
    "from cobra.io import write_sbml_model\n",
    "write_sbml_model(mod_RPE_PRrod_singleRPE, 'cs_mods/August2023/mod_RPE_PRrod_Liang_singlePRE.xml')\n",
    "write_sbml_model(mod_RPE_PRcone_singleRPE, 'cs_mods/August2023/mod_RPE_PRcone_Liang_singleRPE.xml')\n",
    "write_sbml_model(mod_RPE_PRrod_singlePR, 'cs_mods/August2023/mod_RPE_PRrod_Liang_singlePR.xml')\n",
    "write_sbml_model(mod_RPE_PRcone_singlePR, 'cs_mods/August2023/mod_RPE_PRcone_Liang_singlePR.xml')\n",
    "\n",
    "write_sbml_model(mod_RPE_PRrod_Lukowski_singleRPE, 'cs_mods/August2023/mod_RPE_PRrod_Lukowski_singleRPE.xml')\n",
    "write_sbml_model(mod_RPE_PRcone_Lukowski_singleRPE, 'cs_mods/August2023/mod_RPE_PRcone_Lukowski_singleRPE.xml')\n",
    "write_sbml_model(mod_RPE_PRrod_Lukowski_singlePR, 'cs_mods/August2023/mod_RPE_PRrod_Lukowski_singlePR.xml')\n",
    "write_sbml_model(mod_RPE_PRcone_Lukowski_singlePR, 'cs_mods/August2023/mod_RPE_PRcone_Lukowski_singlePR.xml')"
   ]
  },
  {
   "cell_type": "code",
   "execution_count": 17,
   "id": "40b24287",
   "metadata": {},
   "outputs": [
    {
     "data": {
      "text/plain": [
       "{'c_RPE',\n",
       " 'e_RPE',\n",
       " 'e_RPE_PR',\n",
       " 'g_RPE',\n",
       " 'i_RPE',\n",
       " 'l_RPE',\n",
       " 'm_RPE',\n",
       " 'n_RPE',\n",
       " 'r_RPE',\n",
       " 'x_RPE'}"
      ]
     },
     "execution_count": 17,
     "metadata": {},
     "output_type": "execute_result"
    }
   ],
   "source": [
    "# function to create one long list from a list of lists\n",
    "def flatten_list(l):\n",
    "    return [item for sublist in l for item in sublist]\n",
    "\n",
    "# to check whether the right compartments have been removed from the single cell models\n",
    "set(flatten_list([list(r.compartments) for r in mod_RPE_PRrod_Lukowski_singleRPE.reactions]))"
   ]
  }
 ],
 "metadata": {
  "kernelspec": {
   "display_name": "Python 3 (ipykernel)",
   "language": "python",
   "name": "python3"
  },
  "language_info": {
   "codemirror_mode": {
    "name": "ipython",
    "version": 3
   },
   "file_extension": ".py",
   "mimetype": "text/x-python",
   "name": "python",
   "nbconvert_exporter": "python",
   "pygments_lexer": "ipython3",
   "version": "3.10.9"
  }
 },
 "nbformat": 4,
 "nbformat_minor": 5
}
