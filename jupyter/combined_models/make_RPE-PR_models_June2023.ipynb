{
 "cells": [
  {
   "cell_type": "code",
   "execution_count": 1,
   "id": "204deaba-3164-490b-b6f5-dc70546cdce9",
   "metadata": {
    "tags": []
   },
   "outputs": [],
   "source": [
    "# set cwd and solver\n",
    "import os\n",
    "import cobra\n",
    "cobra.Configuration().solver = \"gurobi\"\n",
    "os.chdir('C:/Users/prins/GitHub/Human1_RPE-PR') "
   ]
  },
  {
   "cell_type": "code",
   "execution_count": 2,
   "id": "121617c9-d65c-45c5-b02c-df9df83cc95b",
   "metadata": {},
   "outputs": [
    {
     "name": "stdout",
     "output_type": "stream",
     "text": [
      "Set parameter Username\n",
      "Academic license - for non-commercial use only - expires 2024-02-03\n"
     ]
    },
    {
     "name": "stderr",
     "output_type": "stream",
     "text": [
      "'' is not a valid SBML 'SId'.\n",
      "'' is not a valid SBML 'SId'.\n"
     ]
    }
   ],
   "source": [
    "# load RPE, PR, Recon3D, and basis Human1 models from cs mods folder\n",
    "from pathlib import Path\n",
    "from cobra.io import read_sbml_model, load_matlab_model\n",
    "mod = read_sbml_model(Path().cwd() / 'cs_mods/July2023' / 'Human-GEM_28062023.xml' )\n",
    "mod_RPE = read_sbml_model(Path().cwd() /  'cs_mods/July2023' / 'model_1_RPE__VoigtEtAl2019_.xml')\n",
    "mod_PRrod = read_sbml_model(Path().cwd() /  'cs_mods/July2023' / 'model_2_RodPhotoreceptors__LiangEtAl_2019_.xml' )\n",
    "mod_PRcone = read_sbml_model(Path().cwd() /  'cs_mods/July2023' / 'model_3_ConePhotoreceptors__LiangEtAl_2019_.xml' )\n",
    "mod_PRrod_Lukowski = read_sbml_model(Path().cwd() /  'cs_mods/July2023' / 'model_1_AverageRodPRC0,C1,C2,C3,C4,C7(%).xml' )\n",
    "mod_PRrod_Lukowski.name = 'AverageRodPR_Lukowski' \n",
    "mod_PRrod_Lukowski.id = 'AverageRodPR_Lukowski' \n",
    "mod_PRcone_Lukowski = read_sbml_model(Path().cwd() /  'cs_mods/July2023' / 'model_7_C10ConePR(%).xml' )\n",
    "mod_PRcone_Lukowski.name = 'C10ConePR_Lukowski' \n",
    "mod_PRcone_Lukowski.id = 'C10ConePR_Lukowski' "
   ]
  },
  {
   "cell_type": "code",
   "execution_count": 3,
   "id": "8a257cc6",
   "metadata": {},
   "outputs": [
    {
     "data": {
      "text/html": [
       "\n",
       "        <table>\n",
       "            <tr>\n",
       "                <td><strong>Name</strong></td>\n",
       "                <td>RodPhotoreceptors__LiangEtAl_2019_</td>\n",
       "            </tr><tr>\n",
       "                <td><strong>Memory address</strong></td>\n",
       "                <td>14989fa6740</td>\n",
       "            </tr><tr>\n",
       "                <td><strong>Number of metabolites</strong></td>\n",
       "                <td>3998</td>\n",
       "            </tr><tr>\n",
       "                <td><strong>Number of reactions</strong></td>\n",
       "                <td>5259</td>\n",
       "            </tr><tr>\n",
       "                <td><strong>Number of genes</strong></td>\n",
       "                <td>1969</td>\n",
       "            </tr><tr>\n",
       "                <td><strong>Number of groups</strong></td>\n",
       "                <td>149</td>\n",
       "            </tr><tr>\n",
       "                <td><strong>Objective expression</strong></td>\n",
       "                <td>1.0*MAR13082 - 1.0*MAR13082_reverse_11d67</td>\n",
       "            </tr><tr>\n",
       "                <td><strong>Compartments</strong></td>\n",
       "                <td>Cytosol, Endoplasmic reticulum, Extracellular, Mitochondria, Peroxisome, Golgi apparatus, Lysosome, Nucleus, Inner mitochondria</td>\n",
       "            </tr>\n",
       "          </table>"
      ],
      "text/plain": [
       "<Model RodPhotoreceptors__LiangEtAl_2019_ at 0x14989fa6740>"
      ]
     },
     "execution_count": 3,
     "metadata": {},
     "output_type": "execute_result"
    }
   ],
   "source": [
    "mod_PRrod"
   ]
  },
  {
   "cell_type": "markdown",
   "id": "02001323",
   "metadata": {},
   "source": [
    "import os\n",
    "import pickle\n",
    "\n",
    "def pickle_object(obj, path):\n",
    "    \"\"\"\n",
    "    Function to pickle an object and save it to a file\n",
    "    \n",
    "    Args:\n",
    "    obj: the object to be pickled\n",
    "    path: the path where the pickled object will be saved\n",
    "    \"\"\"\n",
    "    # check if directory exists, if not - create it\n",
    "    directory = os.path.dirname(path)\n",
    "    if not os.path.exists(directory):\n",
    "        os.makedirs(directory)\n",
    "    \n",
    "    try:\n",
    "        with open(path, 'wb') as f:\n",
    "            pickle.dump(obj, f)\n",
    "        print(f\"Object saved to {path}\")\n",
    "    except Exception as e:\n",
    "        print(f\"Failed to pickle object: {e}\")\n",
    "\n",
    "# Use the function\n",
    "pickle_object(mod_PRcone_Lukowski, 'cs_mods/July2023/mod_PRcone_Lukowski.pickle')"
   ]
  },
  {
   "cell_type": "code",
   "execution_count": 4,
   "id": "7b3504eb-9213-49f9-8694-59f4a53a364d",
   "metadata": {},
   "outputs": [],
   "source": [
    "# modify context specific models\n",
    "from src.modify_model import add_all_EX_rxns, remove_compartment\n",
    "\n",
    "for m in [mod_RPE, mod_PRcone, mod_PRrod, mod_PRrod_Lukowski, mod_PRcone_Lukowski]: # add ATP DM hydrolysis and lost EX rxns to context specific models\n",
    "    m.add_reactions([mod.reactions.get_by_id('MAR03964').copy()]) # make sure it contains ATP hydrolysis rxn\n",
    "    m = add_all_EX_rxns(mod,m) # add lost EX rxns\n",
    "    for r in [r for r in m.reactions if len(r.products)==0]: \n",
    "        r.bounds = (0,1000) # close lb for exchange reactions"
   ]
  },
  {
   "cell_type": "code",
   "execution_count": 5,
   "id": "44151234",
   "metadata": {},
   "outputs": [
    {
     "name": "stdout",
     "output_type": "stream",
     "text": [
      "Read LP format model from file C:\\Users\\prins\\AppData\\Local\\Temp\\tmpdvrv8290.lp\n",
      "Reading time = 0.02 seconds\n",
      ": 5149 rows, 13072 columns, 49224 nonzeros\n"
     ]
    },
    {
     "name": "stderr",
     "output_type": "stream",
     "text": [
      "c:\\Users\\prins\\miniconda3\\envs\\RPE-PR_pytest\\lib\\site-packages\\cobra\\core\\group.py:147: UserWarning: need to pass in a list\n",
      "  warn(\"need to pass in a list\")\n"
     ]
    },
    {
     "name": "stdout",
     "output_type": "stream",
     "text": [
      "Read LP format model from file C:\\Users\\prins\\AppData\\Local\\Temp\\tmp_72plaae.lp\n",
      "Reading time = 0.02 seconds\n",
      ": 5075 rows, 12756 columns, 47716 nonzeros\n",
      "Read LP format model from file C:\\Users\\prins\\AppData\\Local\\Temp\\tmpx_w5uv3f.lp\n",
      "Reading time = 0.02 seconds\n",
      ": 5267 rows, 13206 columns, 49254 nonzeros\n",
      "Read LP format model from file C:\\Users\\prins\\AppData\\Local\\Temp\\tmp00bmnxyn.lp\n",
      "Reading time = 0.03 seconds\n",
      ": 5287 rows, 12948 columns, 47916 nonzeros\n"
     ]
    }
   ],
   "source": [
    "# remove nucleus ('n') from photoreceptor models     \n",
    "mod_PRcone = remove_compartment(mod_PRcone.copy(), 'n')  # remove nucleus ('n') from PR model\n",
    "mod_PRrod = remove_compartment(mod_PRrod.copy(), 'n')  # remove nucleus ('n') from PR model\n",
    "mod_PRrod_Lukowski = remove_compartment(mod_PRrod_Lukowski.copy(), 'n')  # remove nucleus ('n') from PR model\n",
    "mod_PRcone_Lukowski = remove_compartment(mod_PRcone_Lukowski.copy(), 'n')  # remove nucleus ('n') from PR model"
   ]
  },
  {
   "cell_type": "code",
   "execution_count": 6,
   "id": "50274f82-4913-4f09-9603-6d1127df79e1",
   "metadata": {},
   "outputs": [],
   "source": [
    "    from src.modify_model import  add_id_suffix\n",
    "\n",
    "    # add suffix to all ids in RPE and PR models\n",
    "    mod_PRrod = add_id_suffix(mod_PRrod, '_PR')\n",
    "    mod_PRcone = add_id_suffix(mod_PRcone, '_PR')\n",
    "    mod_PRcone_Lukowski = add_id_suffix(mod_PRcone_Lukowski, '_PR')\n",
    "    mod_PRrod_Lukowski = add_id_suffix(mod_PRrod_Lukowski, '_PR')\n",
    "    mod_RPE = add_id_suffix(mod_RPE, '_RPE')"
   ]
  },
  {
   "cell_type": "code",
   "execution_count": 7,
   "id": "f48e3599-2769-47b3-83a3-9d6bbf51f396",
   "metadata": {},
   "outputs": [],
   "source": [
    "    # add RPE-PR interface reactions and metabolites to RPE and PR models\n",
    "    from src.combine_RPE_PR import add_interface_RPE, add_interface_PR\n",
    "    mod_RPE = add_interface_RPE(mod_RPE, 'e_RPE')\n",
    "    mod_PRrod = add_interface_PR(mod_PRrod, 'e_PR')\n",
    "    mod_PRcone = add_interface_PR(mod_PRcone, 'e_PR')\n",
    "    mod_PRrod_Lukowski = add_interface_PR(mod_PRrod_Lukowski, 'e_PR')\n",
    "    mod_PRcone_Lukowski = add_interface_PR(mod_PRcone_Lukowski, 'e_PR')"
   ]
  },
  {
   "cell_type": "code",
   "execution_count": 8,
   "id": "88e6283e",
   "metadata": {},
   "outputs": [
    {
     "name": "stdout",
     "output_type": "stream",
     "text": [
      "Read LP format model from file C:\\Users\\prins\\AppData\\Local\\Temp\\tmp7xeraim5.lp\n",
      "Reading time = 0.04 seconds\n",
      ": 7186 rows, 19642 columns, 65480 nonzeros\n",
      "Read LP format model from file C:\\Users\\prins\\AppData\\Local\\Temp\\tmp84d2b5a2.lp\n",
      "Reading time = 0.04 seconds\n",
      ": 7186 rows, 19642 columns, 65480 nonzeros\n",
      "Read LP format model from file C:\\Users\\prins\\AppData\\Local\\Temp\\tmpcs7fcy8k.lp\n",
      "Reading time = 0.02 seconds\n",
      ": 4980 rows, 12484 columns, 46510 nonzeros\n",
      "Read LP format model from file C:\\Users\\prins\\AppData\\Local\\Temp\\tmpe90pp0m7.lp\n",
      "Reading time = 0.03 seconds\n",
      ": 7186 rows, 19642 columns, 65480 nonzeros\n",
      "Read LP format model from file C:\\Users\\prins\\AppData\\Local\\Temp\\tmpg83bh0kx.lp\n",
      "Reading time = 0.03 seconds\n",
      ": 7186 rows, 19642 columns, 65480 nonzeros\n",
      "Read LP format model from file C:\\Users\\prins\\AppData\\Local\\Temp\\tmpv4lg5_7p.lp\n",
      "Reading time = 0.03 seconds\n",
      ": 5055 rows, 12802 columns, 48012 nonzeros\n",
      "Read LP format model from file C:\\Users\\prins\\AppData\\Local\\Temp\\tmp11q1bcms.lp\n",
      "Reading time = 0.04 seconds\n",
      ": 7186 rows, 19642 columns, 65480 nonzeros\n",
      "Read LP format model from file C:\\Users\\prins\\AppData\\Local\\Temp\\tmpya3xw_99.lp\n",
      "Reading time = 0.04 seconds\n",
      ": 7186 rows, 19642 columns, 65480 nonzeros\n",
      "Read LP format model from file C:\\Users\\prins\\AppData\\Local\\Temp\\tmp4qpc_98c.lp\n",
      "Reading time = 0.03 seconds\n",
      ": 5158 rows, 12906 columns, 47968 nonzeros\n",
      "Read LP format model from file C:\\Users\\prins\\AppData\\Local\\Temp\\tmpsj6ymmma.lp\n",
      "Reading time = 0.04 seconds\n",
      ": 7186 rows, 19642 columns, 65480 nonzeros\n",
      "Read LP format model from file C:\\Users\\prins\\AppData\\Local\\Temp\\tmp9ko_8mqf.lp\n",
      "Reading time = 0.04 seconds\n",
      ": 7186 rows, 19642 columns, 65480 nonzeros\n",
      "Read LP format model from file C:\\Users\\prins\\AppData\\Local\\Temp\\tmph31f1m64.lp\n",
      "Reading time = 0.03 seconds\n",
      ": 5182 rows, 12650 columns, 46610 nonzeros\n"
     ]
    }
   ],
   "source": [
    "    # fuse RPE and PR models   \n",
    "    from src.modify_model import fix_compartment_dict, add_rxns2groups\n",
    "    from src.combine_RPE_PR import fuse_RPE_PR, del_RPE_PR_dupl_rxns\n",
    "    mod_RPE_PRrod = fuse_RPE_PR(mod_RPE.copy(),mod_PRrod)\n",
    "    mod_RPE_PRcone = fuse_RPE_PR(mod_RPE.copy(),mod_PRcone)\n",
    "    mod_RPE_PRrod_Lukowski = fuse_RPE_PR(mod_RPE.copy(),mod_PRrod_Lukowski)\n",
    "    mod_RPE_PRcone_Lukowski = fuse_RPE_PR(mod_RPE.copy(),mod_PRcone_Lukowski)"
   ]
  },
  {
   "cell_type": "code",
   "execution_count": 9,
   "id": "13176308",
   "metadata": {},
   "outputs": [
    {
     "name": "stderr",
     "output_type": "stream",
     "text": [
      "c:\\Users\\prins\\miniconda3\\envs\\RPE-PR_pytest\\lib\\site-packages\\cobra\\core\\group.py:147: UserWarning: need to pass in a list\n",
      "  warn(\"need to pass in a list\")\n",
      "c:\\Users\\prins\\miniconda3\\envs\\RPE-PR_pytest\\lib\\site-packages\\cobra\\core\\group.py:147: UserWarning: need to pass in a list\n",
      "  warn(\"need to pass in a list\")\n",
      "c:\\Users\\prins\\miniconda3\\envs\\RPE-PR_pytest\\lib\\site-packages\\cobra\\core\\group.py:147: UserWarning: need to pass in a list\n",
      "  warn(\"need to pass in a list\")\n",
      "c:\\Users\\prins\\miniconda3\\envs\\RPE-PR_pytest\\lib\\site-packages\\cobra\\core\\group.py:147: UserWarning: need to pass in a list\n",
      "  warn(\"need to pass in a list\")\n"
     ]
    }
   ],
   "source": [
    "    # fix compartment dictionaries, add reactions to groups, and delete duplicate reactions\n",
    "    from src.modify_model import fix_compartment_dict, add_rxns2groups\n",
    "    from src.combine_RPE_PR import del_RPE_PR_dupl_rxns\n",
    "    mod_RPE_PRrod = fix_compartment_dict(mod_RPE_PRrod)\n",
    "    mod_RPE_PRrod = add_rxns2groups(mod_RPE_PRrod)\n",
    "    mod_RPE_PRrod = del_RPE_PR_dupl_rxns(mod_RPE_PRrod)\n",
    "\n",
    "    mod_RPE_PRcone = fix_compartment_dict(mod_RPE_PRcone)\n",
    "    mod_RPE_PRcone = add_rxns2groups(mod_RPE_PRcone)    \n",
    "    mod_RPE_PRcone = del_RPE_PR_dupl_rxns(mod_RPE_PRcone)\n",
    "\n",
    "    mod_RPE_PRrod_Lukowski = fix_compartment_dict(mod_RPE_PRrod_Lukowski)\n",
    "    mod_RPE_PRrod_Lukowski = add_rxns2groups(mod_RPE_PRrod_Lukowski)\n",
    "    mod_RPE_PRrod_Lukowski = del_RPE_PR_dupl_rxns(mod_RPE_PRrod_Lukowski)\n",
    "    \n",
    "    mod_RPE_PRcone_Lukowski = fix_compartment_dict(mod_RPE_PRcone_Lukowski)\n",
    "    mod_RPE_PRcone_Lukowski = add_rxns2groups(mod_RPE_PRcone_Lukowski)\n",
    "    mod_RPE_PRcone_Lukowski = del_RPE_PR_dupl_rxns(mod_RPE_PRcone_Lukowski)"
   ]
  },
  {
   "cell_type": "code",
   "execution_count": 10,
   "id": "7ec467bf",
   "metadata": {},
   "outputs": [],
   "source": [
    "# remove PR exchange reactions from RPE-PR models\n",
    "for m in [mod_RPE_PRrod, mod_RPE_PRcone, mod_RPE_PRrod_Lukowski, mod_RPE_PRcone_Lukowski]:\n",
    "    m.remove_reactions([r.id for r in  m.reactions if len(r.products)==0 if 'PR' in r.id]) # remove PR exchange reactions\n",
    "    m.remove_metabolites([m for m in m.metabolites if len(m.reactions) == 0])              # prune metabolites that are unused\n",
    "    for r in [r for r in m.reactions if len(r.products) == 0 if '_RPE' in r.id]:           # open efflux for RPE exchange reactions\n",
    "        r.bounds=(0,1000) "
   ]
  },
  {
   "cell_type": "code",
   "execution_count": 11,
   "id": "ac6d39ff",
   "metadata": {},
   "outputs": [
    {
     "data": {
      "text/html": [
       "\n",
       "        <table>\n",
       "            <tr>\n",
       "                <td><strong>Name</strong></td>\n",
       "                <td>RPE__VoigtEtAl2019__AverageRodPR_Lukowski</td>\n",
       "            </tr><tr>\n",
       "                <td><strong>Memory address</strong></td>\n",
       "                <td>14a12bacbe0</td>\n",
       "            </tr><tr>\n",
       "                <td><strong>Number of metabolites</strong></td>\n",
       "                <td>9738</td>\n",
       "            </tr><tr>\n",
       "                <td><strong>Number of reactions</strong></td>\n",
       "                <td>12928</td>\n",
       "            </tr><tr>\n",
       "                <td><strong>Number of genes</strong></td>\n",
       "                <td>2188</td>\n",
       "            </tr><tr>\n",
       "                <td><strong>Number of groups</strong></td>\n",
       "                <td>149</td>\n",
       "            </tr><tr>\n",
       "                <td><strong>Objective expression</strong></td>\n",
       "                <td>1.0*MAR13082_RPE - 1.0*MAR13082_RPE_reverse_4a4f4</td>\n",
       "            </tr><tr>\n",
       "                <td><strong>Compartments</strong></td>\n",
       "                <td>c_RPE, r_RPE, e_RPE, m_RPE, x_RPE, g_RPE, l_RPE, n_RPE, i_RPE, e_RPE_PR, c_PR, x_PR, m_PR, g_PR, r_PR, l_PR, i_PR</td>\n",
       "            </tr>\n",
       "          </table>"
      ],
      "text/plain": [
       "<Model RPE__VoigtEtAl2019__AverageRodPR_Lukowski at 0x14a12bacbe0>"
      ]
     },
     "execution_count": 11,
     "metadata": {},
     "output_type": "execute_result"
    }
   ],
   "source": [
    "mod_RPE_PRrod_Lukowski"
   ]
  },
  {
   "cell_type": "code",
   "execution_count": 12,
   "id": "05f89ba9",
   "metadata": {},
   "outputs": [],
   "source": [
    "# save RPE-PR models\n",
    "from cobra.io import write_sbml_model\n",
    "write_sbml_model(mod_RPE_PRrod, 'cs_mods/July2023/mod_RPE_PRrod_Liang.xml')\n",
    "write_sbml_model(mod_RPE_PRcone, 'cs_mods/July2023/mod_RPE_PRcone_Liang.xml')\n",
    "write_sbml_model(mod_RPE_PRrod_Lukowski, 'cs_mods/July2023/mod_RPE_PRrod_Lukowski.xml')\n",
    "write_sbml_model(mod_RPE_PRcone_Lukowski, 'cs_mods/July2023/mod_RPE_PRcone_Lukowski.xml')"
   ]
  },
  {
   "cell_type": "code",
   "execution_count": 13,
   "id": "fd772692",
   "metadata": {},
   "outputs": [
    {
     "ename": "SyntaxError",
     "evalue": "incomplete input (927882579.py, line 20)",
     "output_type": "error",
     "traceback": [
      "\u001b[1;36m  Cell \u001b[1;32mIn[13], line 20\u001b[1;36m\u001b[0m\n\u001b[1;33m    for r in [r for r in m_RPE.reactions if len(r.products) == 0 if '_RPE' in r\u001b[0m\n\u001b[1;37m                                                                               ^\u001b[0m\n\u001b[1;31mSyntaxError\u001b[0m\u001b[1;31m:\u001b[0m incomplete input\n"
     ]
    }
   ],
   "source": [
    "\n",
    "# create single RPE models with RPE-PR interface reactions\n",
    "def split_model_create_RPE(RPE_PR_mod):\n",
    "    \"\"\"    \n",
    "    A function to create a single RPE model with RPE-PR interface reactions.\n",
    "\n",
    "    Parameters\n",
    "    ----------\n",
    "    RPE_PR_mod : cobra.core.Model\n",
    "        RPE-PR model\n",
    "         \n",
    "    Returns\n",
    "    ------- \n",
    "    RPE_mod : cobra.core.Model\n",
    "        RPE model with RPE-PR interface reactions\n",
    "    \"\"\"\n",
    "\n",
    "    m_RPE = RPE_PR_mod.copy()\n",
    "    m_RPE.remove_reactions([r.id for r in  m_RPE.reactions if len(r.products)==0 if 'PR' in r.id]) # remove PR exchange reactions\n",
    "    m_RPE.remove_metabolites([m for m in m_RPE.metabolites if len(m.reactions) == 0])              # prune metabolites that are unused\n",
    "    for r in [r for r in m_RPE.reactions if len(r.products) == 0 if '_RPE' in r"
   ]
  },
  {
   "cell_type": "code",
   "execution_count": null,
   "id": "12912433",
   "metadata": {},
   "outputs": [],
   "source": [
    "mod_RPE_PRrod_Lukowski"
   ]
  },
  {
   "cell_type": "code",
   "execution_count": null,
   "id": "f4b47247",
   "metadata": {},
   "outputs": [],
   "source": [
    "    \n",
    "# seperate RPE-PR models to create single models with a conserved RPE-PR interface    \n",
    "m.remove_reactions([r.id for r in  m.reactions if len(r.products)==0 if 'PR' in r.id]) # remove PR exchange reactions\n",
    "m.remove_metabolites([m for m in m.metabolites if len(m.reactions) == 0])              # prune metabolites that are unused"
   ]
  }
 ],
 "metadata": {
  "kernelspec": {
   "display_name": "Python 3 (ipykernel)",
   "language": "python",
   "name": "python3"
  },
  "language_info": {
   "codemirror_mode": {
    "name": "ipython",
    "version": 3
   },
   "file_extension": ".py",
   "mimetype": "text/x-python",
   "name": "python",
   "nbconvert_exporter": "python",
   "pygments_lexer": "ipython3",
   "version": "3.10.9"
  }
 },
 "nbformat": 4,
 "nbformat_minor": 5
}
