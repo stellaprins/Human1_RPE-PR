{
 "cells": [
  {
   "cell_type": "code",
   "execution_count": null,
   "id": "930c382e-7163-4b7f-a1ca-1da80f74a0b7",
   "metadata": {},
   "outputs": [],
   "source": [
    "# add ATP sink reaction (atp[c] -> )\n",
    "# met ID is MAM01371c\n",
    "def make_reaction(r_id,r_name,r_subsystem,r_lowerbound,r_upperbound):\n",
    "    from cobra import Reaction\n",
    "    r = Reaction(r_id)\n",
    "    r.name = r_name\n",
    "    r.subsystem = r_subsystem\n",
    "    r.lower_bound = r_lowerbound  \n",
    "    r.upper_bound = r_upperbound  \n",
    "    return r\n",
    "\n",
    "# make ATP demand reactions\n",
    "DM_atp_c = make_reaction('sink_atp_c', 'ATP sink', 'Sink', 0, 1000)\n",
    "DM_atp_c.add_metabolites({mod.metabolites.get_by_id('MAM01371c').copy(): -1.0,})"
   ]
  }
 ],
 "metadata": {
  "kernelspec": {
   "display_name": "Python 3 (ipykernel)",
   "language": "python",
   "name": "python3"
  },
  "language_info": {
   "codemirror_mode": {
    "name": "ipython",
    "version": 3
   },
   "file_extension": ".py",
   "mimetype": "text/x-python",
   "name": "python",
   "nbconvert_exporter": "python",
   "pygments_lexer": "ipython3",
   "version": "3.10.9"
  }
 },
 "nbformat": 4,
 "nbformat_minor": 5
}
