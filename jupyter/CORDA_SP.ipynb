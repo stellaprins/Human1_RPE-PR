{
 "cells": [
  {
   "cell_type": "code",
   "execution_count": 1,
   "id": "4dcde2b1-b83c-4b1d-8ca4-312d052bf4b7",
   "metadata": {},
   "outputs": [
    {
     "name": "stderr",
     "output_type": "stream",
     "text": [
      "C:\\Users\\prins\\AppData\\Local\\Temp\\ipykernel_19560\\1012222020.py:9: SettingWithCopyWarning: \n",
      "A value is trying to be set on a copy of a slice from a DataFrame\n",
      "\n",
      "See the caveats in the documentation: https://pandas.pydata.org/pandas-docs/stable/user_guide/indexing.html#returning-a-view-versus-a-copy\n",
      "  df_discretized[c][df_discretized[c]<0.00001] = -1 # negative confidence (NC)\n",
      "C:\\Users\\prins\\AppData\\Local\\Temp\\ipykernel_19560\\1012222020.py:10: SettingWithCopyWarning: \n",
      "A value is trying to be set on a copy of a slice from a DataFrame\n",
      "\n",
      "See the caveats in the documentation: https://pandas.pydata.org/pandas-docs/stable/user_guide/indexing.html#returning-a-view-versus-a-copy\n",
      "  df_discretized[c][(df_discretized[c]<=q25) & (df_discretized[c]>0)] = -10 # 1 'LC'\n",
      "C:\\Users\\prins\\AppData\\Local\\Temp\\ipykernel_19560\\1012222020.py:11: SettingWithCopyWarning: \n",
      "A value is trying to be set on a copy of a slice from a DataFrame\n",
      "\n",
      "See the caveats in the documentation: https://pandas.pydata.org/pandas-docs/stable/user_guide/indexing.html#returning-a-view-versus-a-copy\n",
      "  df_discretized[c][(df_discretized[c]<=q75) & (df_discretized[c]>q25)] = -20 #  2 'MC'\n",
      "C:\\Users\\prins\\AppData\\Local\\Temp\\ipykernel_19560\\1012222020.py:12: SettingWithCopyWarning: \n",
      "A value is trying to be set on a copy of a slice from a DataFrame\n",
      "\n",
      "See the caveats in the documentation: https://pandas.pydata.org/pandas-docs/stable/user_guide/indexing.html#returning-a-view-versus-a-copy\n",
      "  df_discretized[c][(df_discretized[c]>q75)] = -30 # 3'HC'\n",
      "C:\\Users\\prins\\AppData\\Local\\Temp\\ipykernel_19560\\1012222020.py:13: SettingWithCopyWarning: \n",
      "A value is trying to be set on a copy of a slice from a DataFrame\n",
      "\n",
      "See the caveats in the documentation: https://pandas.pydata.org/pandas-docs/stable/user_guide/indexing.html#returning-a-view-versus-a-copy\n",
      "  df_discretized[c][df_discretized[c]==-10]=1\n",
      "C:\\Users\\prins\\AppData\\Local\\Temp\\ipykernel_19560\\1012222020.py:14: SettingWithCopyWarning: \n",
      "A value is trying to be set on a copy of a slice from a DataFrame\n",
      "\n",
      "See the caveats in the documentation: https://pandas.pydata.org/pandas-docs/stable/user_guide/indexing.html#returning-a-view-versus-a-copy\n",
      "  df_discretized[c][df_discretized[c]==-20]=2\n",
      "C:\\Users\\prins\\AppData\\Local\\Temp\\ipykernel_19560\\1012222020.py:15: SettingWithCopyWarning: \n",
      "A value is trying to be set on a copy of a slice from a DataFrame\n",
      "\n",
      "See the caveats in the documentation: https://pandas.pydata.org/pandas-docs/stable/user_guide/indexing.html#returning-a-view-versus-a-copy\n",
      "  df_discretized[c][df_discretized[c]==-30]=3\n"
     ]
    }
   ],
   "source": [
    "import pandas as pd\n",
    "df = pd.read_excel(r'C:\\Users\\prins\\git\\Human1_RPE_PR\\RPE_PR data\\expression_data.xlsx')\n",
    "conditions = df.columns[2:]\n",
    "df_discretized = df.copy(deep=True)\n",
    "\n",
    "for c in conditions:\n",
    "    q25 = df_discretized[c].quantile([0.25]).values[0]\n",
    "    q75 = df_discretized[c].quantile([0.75]).values[0]\n",
    "    df_discretized[c][df_discretized[c]<0.00001] = -1 # negative confidence (NC)\n",
    "    df_discretized[c][(df_discretized[c]<=q25) & (df_discretized[c]>0)] = -10 # 1 'LC'\n",
    "    df_discretized[c][(df_discretized[c]<=q75) & (df_discretized[c]>q25)] = -20 #  2 'MC'\n",
    "    df_discretized[c][(df_discretized[c]>q75)] = -30 # 3'HC'\n",
    "    df_discretized[c][df_discretized[c]==-10]=1\n",
    "    df_discretized[c][df_discretized[c]==-20]=2\n",
    "    df_discretized[c][df_discretized[c]==-30]=3\n",
    "df_discretized = df_discretized.fillna(0)"
   ]
  },
  {
   "cell_type": "code",
   "execution_count": 2,
   "id": "4cf90e43-4ee9-4a60-ab36-7f7b8fe56dc2",
   "metadata": {},
   "outputs": [],
   "source": [
    "from cobra.io import load_matlab_model, save_matlab_model\n",
    "mod = load_matlab_model('C:/Users/prins/git/Human-GEM/model/Human-GEM.mat') # load HUMAN1 model (this takes really long!!)"
   ]
  },
  {
   "cell_type": "code",
   "execution_count": 3,
   "id": "1a4ada3b-ccae-4ab4-ac54-242f5a720a4e",
   "metadata": {},
   "outputs": [
    {
     "data": {
      "text/plain": [
       "Index(['MeanExpression_SchwannCells_1__VoigtEtAl2019_',\n",
       "       'MeanExpression_SchwannCells_2__VoigtEtAl2019_',\n",
       "       'MeanExpression_Melanocytes__VoigtEtAl2019_',\n",
       "       'MeanExpression_EndothelialCells__VoigtEtAl2019_',\n",
       "       'MeanExpression_SmoothMuscle__VoigtEtAl2019_',\n",
       "       'MeanExpression_Fibroblasts__VoigtEtAl2019_',\n",
       "       'MeanExpression_RPE__VoigtEtAl2019_',\n",
       "       'MeanExpression_BCells__VoigtEtAl2019_',\n",
       "       'MeanExpression_TCells_NKCells__VoigtEtAl2019_',\n",
       "       'MeanExpression_monocytesAnd_orMacrophages__VoigtEtAl2019_',\n",
       "       'MeanExpression_mastCells__VoigtEtAl2019_',\n",
       "       'MeanExpression_RETINA__WhitmoreEtAl_2014_',\n",
       "       'MeanExpression_RPE_CHOROID__WhitmoreEtAl_2014_',\n",
       "       'MeanExpression_RodPhotoreceptors__LiangEtAl_2019_',\n",
       "       'MeanExpression_AmacrineCells__LiangEtAl_2019_',\n",
       "       'MeanExpression_BipolarCells__LiangEtAl_2019_',\n",
       "       'MeanExpression_ConePhotoreceptors__LiangEtAl_2019_',\n",
       "       'MeanExpression_HorizontalCells__LiangEtAl_2019_',\n",
       "       'MeanExpression_M_llerGlialCells__LiangEtAl_2019_',\n",
       "       'MeanExpression_RetinalGanglionCells__LiangEtAl_2019_'],\n",
       "      dtype='object')"
      ]
     },
     "execution_count": 3,
     "metadata": {},
     "output_type": "execute_result"
    }
   ],
   "source": [
    "conditions"
   ]
  },
  {
   "cell_type": "code",
   "execution_count": null,
   "id": "912a0a9b-6594-4d06-a92d-9c62265237ad",
   "metadata": {},
   "outputs": [],
   "source": [
    "from corda import reaction_confidence\n",
    "from cobra import Configuration\n",
    "from corda import CORDA\n",
    "config = Configuration()\n",
    "config.solver = \"glpk\"\n",
    "\n",
    "def context_specific_model(mod, condition): \n",
    "    mod_c = mod.copy() # make deep copy of basis model 'mod' (Human1) for every condition\n",
    "    mod_c.id = c\n",
    "    gene_conf_dict = dict([(i,x) for i, x in zip(df_discretized.Ensembl, df_discretized[c])]) # gene confidences dictionary\n",
    "    rxn_conf_dict = {rxn.id:reaction_confidence(rxn, gene_conf_dict) for rxn in mod.reactions} # reaction confidence dictionary\n",
    "    mod_CORDA = CORDA(mod, rxn_conf_dict) \n",
    "    mod_CORDA.build()\n",
    "    print(c)\n",
    "    print(mod_CORDA)\n",
    "    mod_c = mod_CORDA.cobra_model()\n",
    "    return  mod_c\n",
    "\n",
    "c = 'MeanExpression_RodPhotoreceptors__LiangEtAl_2019_'\n",
    "mod_PRrod = context_specific_model(mod,c)\n",
    "save_matlab_model(mod_PRrod, \"C:/Users/prins/mod_PRrod.mat\")\n",
    "mod_PRrod = load_matlab_model(\"C:/Users/prins/mod_PRrod.mat\")"
   ]
  },
  {
   "cell_type": "code",
   "execution_count": null,
   "id": "59ab598d-f9a4-49e9-b811-ab01da6786ed",
   "metadata": {},
   "outputs": [],
   "source": []
  },
  {
   "cell_type": "code",
   "execution_count": null,
   "id": "94873e39-0589-4e15-8c96-5422dacbc481",
   "metadata": {},
   "outputs": [],
   "source": [
    "mod1"
   ]
  },
  {
   "cell_type": "code",
   "execution_count": null,
   "id": "fbdefe15-1acd-48e2-b5de-8b54858e6a9e",
   "metadata": {},
   "outputs": [],
   "source": [
    "from corda import reaction_confidence\n",
    "from cobra import Configuration\n",
    "from corda import CORDA\n",
    "config = Configuration()\n",
    "config.solver = \"glpk\"\n",
    "i=0\n",
    "models={} # empty dict\n",
    "for c in conditions:\n",
    "    mod_c = mod.copy() # make deep copy of basis model 'mod' (Human1) for every condition\n",
    "    mod_c.id = c\n",
    "    gene_conf_dict = dict([(i,x) for i, x in zip(df_discretized.Ensembl, df_discretized[c])]) # gene confidences dictionary\n",
    "    rxn_conf_dict = {rxn.id:reaction_confidence(rxn, gene_conf_dict) for rxn in mod.reactions} # reaction confidence dictionary\n",
    "    mod_CORDA = CORDA(mod, rxn_conf_dict) \n",
    "    mod_CORDA.build()\n",
    "    print(c)\n",
    "    print(mod_CORDA)\n",
    "    mod_c = mod_CORDA.cobra_model()\n",
    "    models[i]=mod_c\n",
    "    i = i + 1"
   ]
  },
  {
   "cell_type": "code",
   "execution_count": null,
   "id": "73401e1f-889e-4821-8dd4-8e83a1590660",
   "metadata": {},
   "outputs": [],
   "source": [
    "from corda import reaction_confidence\n",
    "c = conditions [0]\n",
    "gene_conf_dict = dict([(i,x) for i, x in zip(df_discretized.Ensembl, df_discretized[c])]) # gene confidences dictionary\n",
    "rxn_conf_dict = {rxn.id:reaction_confidence(rxn, gene_conf_dict) for rxn in mod.reactions} # reaction confidence dictionary"
   ]
  }
 ],
 "metadata": {
  "kernelspec": {
   "display_name": "Python 3 (ipykernel)",
   "language": "python",
   "name": "python3"
  },
  "language_info": {
   "codemirror_mode": {
    "name": "ipython",
    "version": 3
   },
   "file_extension": ".py",
   "mimetype": "text/x-python",
   "name": "python",
   "nbconvert_exporter": "python",
   "pygments_lexer": "ipython3",
   "version": "3.10.8"
  }
 },
 "nbformat": 4,
 "nbformat_minor": 5
}
