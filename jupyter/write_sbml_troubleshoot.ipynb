{
 "cells": [
  {
   "cell_type": "code",
   "execution_count": 47,
   "id": "204deaba-3164-490b-b6f5-dc70546cdce9",
   "metadata": {
    "tags": []
   },
   "outputs": [],
   "source": [
    "from cobra.io import read_sbml_model\n",
    "from pathlib import Path\n",
    "import os\n",
    "import cobra\n",
    "\n",
    "cobra.Configuration().solver = \"gurobi\"\n",
    "\n",
    "# change working directory to context_specific_models folder\n",
    "os.chdir('C:/Users/prins/GitHub/Human1_RPE-PR') \n",
    "\n",
    "# create a dictionary with the filenames (keys) and models (values)\n",
    "folder = Path().cwd()\n",
    "files = [f for f in os.listdir(folder / 'cs_mods') if '.xml'in f]\n",
    "mod = read_sbml_model(folder / 'cs_mods' / 'Human-GEM.xml')"
   ]
  },
  {
   "cell_type": "code",
   "execution_count": 50,
   "id": "522ab347-37d6-4017-8fe5-42a7c0736e58",
   "metadata": {},
   "outputs": [],
   "source": [
    "import pandas as pd\n",
    "\n",
    "# add back any lost exchange reactions\n",
    "def add_all_EX_rxns(basis_model,model):\n",
    "    EX_rxns = [r for r in basis_model.reactions if len(r.products)==0]\n",
    "    EX_rxns_model = [r.id for r in model.reactions if len(r.products)==0]\n",
    "    missing_rxns = [r.copy() for r in EX_rxns if r.id not in EX_rxns_model]\n",
    "    model.add_reactions(missing_rxns)\n",
    "    return model\n",
    "\n",
    "# import excel file with info on exchange upper bounds \n",
    "# file contains 'id' col with IDs and an 'upper_bound' col with upper bounds to modify\n",
    "bounds = pd.read_excel(folder / 'rxn_bounds' / 'R3D301_EX_rxns.xlsx')\n",
    "bounds = bounds[bounds['upper_bound']>0] # select entries with non-zero upper bounds\n",
    "\n",
    "# add ATP demand reactions, lost exchange reactions to all models\n",
    "for r in [r for r in mod.reactions if len(r.products)==0]: r.bounds = (0,1000)     # close lower bound for all exchange reactions (metabolites can leave the system but not enter)\n",
    "for i in range(len(bounds)): mod.reactions.get_by_id(bounds['id'][i]).bounds = (-bounds['upper_bound'][i],1000)     # set bounds Exchange reactions (lower bounds -1000, upper bounds based on file info)"
   ]
  },
  {
   "cell_type": "code",
   "execution_count": 51,
   "id": "eaef0eb4-71a4-4459-bcb4-ebe7c9f61c46",
   "metadata": {},
   "outputs": [],
   "source": [
    "from cobra.io import write_sbml_model\n",
    "#mod_test = read_sbml_model(folder / 'cs_mods' / files[0] )\n",
    "write_sbml_model(mod, \"mod_test.xml\")\n",
    "mod_test = read_sbml_model(folder / 'cs_mods' / 'Human-GEM.xml')"
   ]
  },
  {
   "cell_type": "code",
   "execution_count": 3,
   "id": "d42ff335-9c43-4b91-9537-970d9fe6d391",
   "metadata": {},
   "outputs": [
    {
     "name": "stdout",
     "output_type": "stream",
     "text": [
      "Read LP format model from file C:\\Users\\prins\\AppData\\Local\\Temp\\tmpz7c5ggz3.lp\n",
      "Reading time = 0.05 seconds\n",
      ": 8369 rows, 26140 columns, 111668 nonzeros\n",
      "Read LP format model from file C:\\Users\\prins\\AppData\\Local\\Temp\\tmp66ahi42_.lp\n",
      "Reading time = 0.03 seconds\n",
      ": 5517 rows, 14194 columns, 54382 nonzeros\n",
      "Read LP format model from file C:\\Users\\prins\\AppData\\Local\\Temp\\tmpotvxy2c4.lp\n",
      "Reading time = 0.02 seconds\n",
      ": 5013 rows, 12490 columns, 46478 nonzeros\n"
     ]
    },
    {
     "name": "stderr",
     "output_type": "stream",
     "text": [
      "C:\\Users\\prins\\miniconda3\\envs\\RPE-PR\\lib\\site-packages\\cobra\\core\\group.py:147: UserWarning: need to pass in a list\n",
      "  warn(\"need to pass in a list\")\n"
     ]
    }
   ],
   "source": [
    "# make RPE-PR model\n",
    "\n",
    "# copy RPE, PR, and full Human1 models\n",
    "mod = models['Human-GEM.xml'].copy()\n",
    "mod_RPE = models['model_06_MeanExpression_RPE__VoigtEtAl2019_.xml'].copy()\n",
    "mod_PR = models['model_13_MeanExpression_RodPhotoreceptors__LiangEtAl_2019_.xml'].copy()\n",
    "\n",
    "def remove_compartment(model, compartment):\n",
    "# remove compartment from model\n",
    "    rxns_n = [r.id for r in model.reactions if compartment in r.compartments]\n",
    "    mets_n = [m for m in model.metabolites if compartment in m.compartment]\n",
    "    model.remove_reactions(rxns_n)\n",
    "    model.remove_metabolites(mets_n)\n",
    "    return model\n",
    "\n",
    "# remove nucleus from PR model\n",
    "mod_PR = remove_compartment(mod_PR, 'n')\n",
    "\n",
    "def add_id_suffix(model, suffix):\n",
    "    for r in model.reactions:\n",
    "        r.id = r.id + suffix\n",
    "    for m in model.metabolites:\n",
    "        m.id = m.id + suffix\n",
    "        m.compartment = m.compartment + suffix\n",
    "    return model\n",
    "# add '_PR' to PR model IDs and '_RPE' to RPE model IDs\n",
    "mod_PR = add_id_suffix(mod_PR, '_PR')\n",
    "mod_RPE = add_id_suffix(mod_RPE, '_RPE')"
   ]
  },
  {
   "cell_type": "code",
   "execution_count": 4,
   "id": "0124ed39-e043-4428-8b3e-f6fe21da353b",
   "metadata": {},
   "outputs": [],
   "source": [
    "# add RPE-PR interface reactions to RPE model (rxn_RPE-PR = RPE <--> RPE-PR interface)\n",
    "for rxns in  [r for r in mod_RPE.reactions if 'e_RPE' in r.reaction]:     \n",
    "    rxn = rxns.copy()\n",
    "    rxn.id = rxn.id.replace('_RPE','_RPE-PR')\n",
    "    for p in rxn.products:\n",
    "        if 'e_RPE' in p.id:\n",
    "            p.id = p.id.replace('e_RPE','e_RPE-PR')\n",
    "            p.compartment = 'e_RPE-PR'\n",
    "    for r in rxn.reactants:\n",
    "        if 'e_RPE' in r.id:\n",
    "            r.id = r.id.replace('e_RPE','e_RPE-PR')\n",
    "            r.compartment = 'e_RPE-PR'\n",
    "    mod_RPE.add_reactions([rxn])\n",
    "    \n",
    "# add RPE-PR interface reactions to PR model (rxn_PR-RPE = PR <--> RPE-PR interface)\n",
    "for rxn in [r for r in mod_PR.reactions if 'e_PR' in r.reaction]:\n",
    "    rxn.id = rxn.id.replace('_PR','_PR-RPE')\n",
    "    for p in rxn.products:\n",
    "        if 'e_PR' in p.id:\n",
    "            p.id = p.id.replace('e_PR','e_RPE-PR')\n",
    "            p.compartment = 'e_RPE-PR'\n",
    "    for r in rxn.reactants:\n",
    "        if 'e_PR' in r.id:\n",
    "            r.id = r.id.replace('e_PR','e_RPE-PR')\n",
    "            r.compartment = 'e_RPE-PR'"
   ]
  },
  {
   "cell_type": "code",
   "execution_count": 5,
   "id": "0c5fe8ce-8004-4ff6-8122-1c83b091b4db",
   "metadata": {},
   "outputs": [],
   "source": [
    "# fuse RPE and PR model\n",
    "from cobra import Model\n",
    "mod_RPE_PR = Model('RPE-PR model')\n",
    "mod_RPE_PR.add_reactions(mod_RPE.reactions)\n",
    "mod_RPE_PR.add_reactions(mod_PR.reactions)"
   ]
  },
  {
   "cell_type": "code",
   "execution_count": 6,
   "id": "94ef5f5e-3f68-462c-aa43-d6599716b12c",
   "metadata": {},
   "outputs": [
    {
     "name": "stderr",
     "output_type": "stream",
     "text": [
      "C:\\Users\\prins\\miniconda3\\envs\\RPE-PR\\lib\\site-packages\\cobra\\core\\model.py:778: UserWarning: need to pass in a list\n",
      "  warn(\"need to pass in a list\")\n"
     ]
    },
    {
     "data": {
      "text/html": [
       "\n",
       "        <table>\n",
       "            <tr>\n",
       "                <td><strong>Name</strong></td>\n",
       "                <td>RPE-PR model</td>\n",
       "            </tr><tr>\n",
       "                <td><strong>Memory address</strong></td>\n",
       "                <td>1b7dccbf820</td>\n",
       "            </tr><tr>\n",
       "                <td><strong>Number of metabolites</strong></td>\n",
       "                <td>10436</td>\n",
       "            </tr><tr>\n",
       "                <td><strong>Number of reactions</strong></td>\n",
       "                <td>14282</td>\n",
       "            </tr><tr>\n",
       "                <td><strong>Number of genes</strong></td>\n",
       "                <td>2268</td>\n",
       "            </tr><tr>\n",
       "                <td><strong>Number of groups</strong></td>\n",
       "                <td>0</td>\n",
       "            </tr><tr>\n",
       "                <td><strong>Objective expression</strong></td>\n",
       "                <td>0</td>\n",
       "            </tr><tr>\n",
       "                <td><strong>Compartments</strong></td>\n",
       "                <td>c_RPE, x_RPE, m_RPE, e_RPE, l_RPE, g_RPE, r_RPE, n_RPE, i_RPE, e_RPE-PR, c_PR, x_PR, m_PR, g_PR, r_PR, l_PR, i_PR</td>\n",
       "            </tr>\n",
       "          </table>"
      ],
      "text/plain": [
       "<Model RPE-PR model at 0x1b7dccbf820>"
      ]
     },
     "execution_count": 6,
     "metadata": {},
     "output_type": "execute_result"
    }
   ],
   "source": [
    "# list reaction IDs to be deleted (because their reactions are duplicated)\n",
    "import pandas as pd\n",
    "df = pd.DataFrame([[r.id, r.reaction] for r in mod_RPE_PR.reactions \\\n",
    "                   if r.compartments == {'e_RPE-PR'}], columns=['id','reaction'])\n",
    "l  = list(df['id'][df['reaction'].duplicated()])\n",
    "\n",
    "# delete duplicated reactions and change reaction IDs (suffix: _eRPE-PR) \n",
    "# of the reactions that only involve the e_RPE-PR compartment (interface)\n",
    "for r in [r for r in mod_RPE_PR.reactions if r.compartments=={'e_RPE-PR'}]: \n",
    "    if r.id in l:\n",
    "        mod_RPE_PR.remove_reactions(r.id)\n",
    "    elif '_RPE-PR' in r.id:\n",
    "        r.id = r.id.replace('_RPE-PR','_eRPE-PR')\n",
    "    elif '_PR-RPE' in r.id:\n",
    "        r.id = r.id.replace('_PR-RPE','_eRPE-PR')\n",
    "        ,\n",
    "def fix_compartment_dict(model):\n",
    "    new_compartment_dict = model.compartments.copy()\n",
    "    for k in list(new_compartment_dict.keys()):\n",
    "        new_compartment_dict[k] = k \n",
    "    model.compartments = new_compartment_dict\n",
    "    return model\n",
    "fix_compartment_dict(mod_RPE_PR)\n",
    "\n",
    "# close lower bounds of exchange reactions into RPE-PR interface space (nothing allowed in from outside)\n",
    "rxns = [r for r in mod_RPE_PR.reactions if len(r.products)==0 if r.lower_bound<0 if 'eRPE-PR' in r.id]\n",
    "for rxn in rxns: rxn.lower_bound = 0"
   ]
  },
  {
   "cell_type": "code",
   "execution_count": 45,
   "id": "9b92adb8-84d9-421b-8e2d-7256028ca71e",
   "metadata": {},
   "outputs": [
    {
     "ename": "TypeError",
     "evalue": "in method 'Reaction_setReversible', argument 2 of type 'bool'",
     "output_type": "error",
     "traceback": [
      "\u001b[1;31m---------------------------------------------------------------------------\u001b[0m",
      "\u001b[1;31mTypeError\u001b[0m                                 Traceback (most recent call last)",
      "Cell \u001b[1;32mIn[45], line 3\u001b[0m\n\u001b[0;32m      1\u001b[0m \u001b[38;5;28;01mfrom\u001b[39;00m \u001b[38;5;21;01mcobra\u001b[39;00m\u001b[38;5;21;01m.\u001b[39;00m\u001b[38;5;21;01mio\u001b[39;00m \u001b[38;5;28;01mimport\u001b[39;00m write_sbml_model\n\u001b[0;32m      2\u001b[0m \u001b[38;5;66;03m#mod_test = read_sbml_model(folder / 'cs_mods' / files[0] )\u001b[39;00m\n\u001b[1;32m----> 3\u001b[0m \u001b[43mwrite_sbml_model\u001b[49m\u001b[43m(\u001b[49m\u001b[43mmodels\u001b[49m\u001b[43m[\u001b[49m\u001b[43mk\u001b[49m\u001b[43m[\u001b[49m\u001b[38;5;241;43m4\u001b[39;49m\u001b[43m]\u001b[49m\u001b[43m]\u001b[49m\u001b[43m,\u001b[49m\u001b[43m \u001b[49m\u001b[38;5;124;43m\"\u001b[39;49m\u001b[38;5;124;43mmod_test.xml\u001b[39;49m\u001b[38;5;124;43m\"\u001b[39;49m\u001b[43m)\u001b[49m\n",
      "File \u001b[1;32m~\\miniconda3\\envs\\RPE-PR\\lib\\site-packages\\cobra\\io\\sbml.py:1172\u001b[0m, in \u001b[0;36mwrite_sbml_model\u001b[1;34m(cobra_model, filename, f_replace, **kwargs)\u001b[0m\n\u001b[0;32m   1137\u001b[0m \u001b[38;5;28;01mdef\u001b[39;00m \u001b[38;5;21mwrite_sbml_model\u001b[39m(\n\u001b[0;32m   1138\u001b[0m     cobra_model: Model,\n\u001b[0;32m   1139\u001b[0m     filename: Union[\u001b[38;5;28mstr\u001b[39m, IO, Path],\n\u001b[0;32m   1140\u001b[0m     f_replace: \u001b[38;5;28mdict\u001b[39m \u001b[38;5;241m=\u001b[39m F_REPLACE,\n\u001b[0;32m   1141\u001b[0m     \u001b[38;5;241m*\u001b[39m\u001b[38;5;241m*\u001b[39mkwargs,\n\u001b[0;32m   1142\u001b[0m ) \u001b[38;5;241m-\u001b[39m\u001b[38;5;241m>\u001b[39m \u001b[38;5;28;01mNone\u001b[39;00m:\n\u001b[0;32m   1143\u001b[0m \u001b[38;5;250m    \u001b[39m\u001b[38;5;124;03m\"\"\"Write cobra model to filename.\u001b[39;00m\n\u001b[0;32m   1144\u001b[0m \n\u001b[0;32m   1145\u001b[0m \u001b[38;5;124;03m    The created model is SBML level 3 version 1 (L1V3) with\u001b[39;00m\n\u001b[1;32m   (...)\u001b[0m\n\u001b[0;32m   1170\u001b[0m \u001b[38;5;124;03m        Further keyword arguments are passed on.\u001b[39;00m\n\u001b[0;32m   1171\u001b[0m \u001b[38;5;124;03m    \"\"\"\u001b[39;00m\n\u001b[1;32m-> 1172\u001b[0m     doc \u001b[38;5;241m=\u001b[39m _model_to_sbml(cobra_model, f_replace\u001b[38;5;241m=\u001b[39mf_replace, \u001b[38;5;241m*\u001b[39m\u001b[38;5;241m*\u001b[39mkwargs)\n\u001b[0;32m   1174\u001b[0m     \u001b[38;5;28;01mif\u001b[39;00m \u001b[38;5;28misinstance\u001b[39m(filename, \u001b[38;5;28mstr\u001b[39m):\n\u001b[0;32m   1175\u001b[0m         \u001b[38;5;66;03m# write to path\u001b[39;00m\n\u001b[0;32m   1176\u001b[0m         libsbml\u001b[38;5;241m.\u001b[39mwriteSBMLToFile(doc, filename)\n",
      "File \u001b[1;32m~\\miniconda3\\envs\\RPE-PR\\lib\\site-packages\\cobra\\io\\sbml.py:1368\u001b[0m, in \u001b[0;36m_model_to_sbml\u001b[1;34m(cobra_model, f_replace, units)\u001b[0m\n\u001b[0;32m   1366\u001b[0m reaction\u001b[38;5;241m.\u001b[39msetName(cobra_reaction\u001b[38;5;241m.\u001b[39mname)\n\u001b[0;32m   1367\u001b[0m reaction\u001b[38;5;241m.\u001b[39msetFast(\u001b[38;5;28;01mFalse\u001b[39;00m)\n\u001b[1;32m-> 1368\u001b[0m \u001b[43mreaction\u001b[49m\u001b[38;5;241;43m.\u001b[39;49m\u001b[43msetReversible\u001b[49m\u001b[43m(\u001b[49m\u001b[43m(\u001b[49m\u001b[43mcobra_reaction\u001b[49m\u001b[38;5;241;43m.\u001b[39;49m\u001b[43mlower_bound\u001b[49m\u001b[43m \u001b[49m\u001b[38;5;241;43m<\u001b[39;49m\u001b[43m \u001b[49m\u001b[38;5;241;43m0\u001b[39;49m\u001b[43m)\u001b[49m\u001b[43m)\u001b[49m\n\u001b[0;32m   1369\u001b[0m _sbase_annotations(reaction, cobra_reaction\u001b[38;5;241m.\u001b[39mannotation)\n\u001b[0;32m   1370\u001b[0m _sbase_notes_dict(reaction, cobra_reaction\u001b[38;5;241m.\u001b[39mnotes)\n",
      "File \u001b[1;32m~\\miniconda3\\envs\\RPE-PR\\lib\\site-packages\\libsbml\\__init__.py:32211\u001b[0m, in \u001b[0;36mReaction.setReversible\u001b[1;34m(self, value)\u001b[0m\n\u001b[0;32m  32197\u001b[0m \u001b[38;5;28;01mdef\u001b[39;00m \u001b[38;5;21msetReversible\u001b[39m(\u001b[38;5;28mself\u001b[39m, value):\n\u001b[0;32m  32198\u001b[0m \u001b[38;5;250m    \u001b[39m\u001b[38;5;124mr\u001b[39m\u001b[38;5;124;03m\"\"\"\u001b[39;00m\n\u001b[0;32m  32199\u001b[0m \u001b[38;5;124;03m    setReversible(Reaction self, bool value) -> int\u001b[39;00m\n\u001b[0;32m  32200\u001b[0m \n\u001b[1;32m   (...)\u001b[0m\n\u001b[0;32m  32209\u001b[0m \n\u001b[0;32m  32210\u001b[0m \u001b[38;5;124;03m    \"\"\"\u001b[39;00m\n\u001b[1;32m> 32211\u001b[0m     \u001b[38;5;28;01mreturn\u001b[39;00m \u001b[43m_libsbml\u001b[49m\u001b[38;5;241;43m.\u001b[39;49m\u001b[43mReaction_setReversible\u001b[49m\u001b[43m(\u001b[49m\u001b[38;5;28;43mself\u001b[39;49m\u001b[43m,\u001b[49m\u001b[43m \u001b[49m\u001b[43mvalue\u001b[49m\u001b[43m)\u001b[49m\n",
      "\u001b[1;31mTypeError\u001b[0m: in method 'Reaction_setReversible', argument 2 of type 'bool'"
     ]
    }
   ],
   "source": [
    "from cobra.io import write_sbml_model\n",
    "#mod_test = read_sbml_model(folder / 'cs_mods' / files[0] )\n",
    "write_sbml_model(models[k[4]], \"mod_test.xml\")"
   ]
  },
  {
   "cell_type": "code",
   "execution_count": 8,
   "id": "5612ab73-d7c8-49f8-bb52-757997f078b6",
   "metadata": {},
   "outputs": [
    {
     "data": {
      "text/html": [
       "\n",
       "        <table>\n",
       "            <tr>\n",
       "                <td><strong>Reaction identifier</strong></td><td>MAR03964_PR</td>\n",
       "            </tr><tr>\n",
       "                <td><strong>Name</strong></td><td>ATP phosphohydrolase</td>\n",
       "            </tr><tr>\n",
       "                <td><strong>Memory address</strong></td>\n",
       "                <td>0x1b7dc6757b0</td>\n",
       "            </tr><tr>\n",
       "                <td><strong>Stoichiometry</strong></td>\n",
       "                <td>\n",
       "                    <p style='text-align:right'>MAM01371c_PR + MAM02040c_PR --> MAM01285c_PR + MAM02039c_PR + MAM02751c_PR</p>\n",
       "                    <p style='text-align:right'>ATP + H2O --> ADP + H+ + Pi</p>\n",
       "                </td>\n",
       "            </tr><tr>\n",
       "                <td><strong>GPR</strong></td><td></td>\n",
       "            </tr><tr>\n",
       "                <td><strong>Lower bound</strong></td><td>0.0</td>\n",
       "            </tr><tr>\n",
       "                <td><strong>Upper bound</strong></td><td>1000.0</td>\n",
       "            </tr>\n",
       "        </table>\n",
       "        "
      ],
      "text/plain": [
       "<Reaction MAR03964_PR at 0x1b7dc6757b0>"
      ]
     },
     "execution_count": 8,
     "metadata": {},
     "output_type": "execute_result"
    }
   ],
   "source": [
    "# open ATP demand reactions\n",
    "# mod_RPE_PR.reactions.get_by_id('MAR03964_RPE').bounds=(0,1000)\n",
    "# mod_RPE_PR.reactions.get_by_id('MAR03964_PR').bounds=(0,1000)\n",
    "mod_RPE_PR.reactions.get_by_id('MAR03964_PR')"
   ]
  },
  {
   "cell_type": "code",
   "execution_count": 9,
   "id": "98b6d8a7-1a88-44bd-9e2b-d89e41efbef6",
   "metadata": {},
   "outputs": [
    {
     "data": {
      "text/html": [
       "\n",
       "        <table>\n",
       "            <tr>\n",
       "                <td><strong>Reaction identifier</strong></td><td>MAR07108_RPE</td>\n",
       "            </tr><tr>\n",
       "                <td><strong>Name</strong></td><td></td>\n",
       "            </tr><tr>\n",
       "                <td><strong>Memory address</strong></td>\n",
       "                <td>0x1b7d7433670</td>\n",
       "            </tr><tr>\n",
       "                <td><strong>Stoichiometry</strong></td>\n",
       "                <td>\n",
       "                    <p style='text-align:right'>MAM01374e_RPE --></p>\n",
       "                    <p style='text-align:right'>benzo[a]pyrene --></p>\n",
       "                </td>\n",
       "            </tr><tr>\n",
       "                <td><strong>GPR</strong></td><td></td>\n",
       "            </tr><tr>\n",
       "                <td><strong>Lower bound</strong></td><td>0</td>\n",
       "            </tr><tr>\n",
       "                <td><strong>Upper bound</strong></td><td>1000</td>\n",
       "            </tr>\n",
       "        </table>\n",
       "        "
      ],
      "text/plain": [
       "<Reaction MAR07108_RPE at 0x1b7d7433670>"
      ]
     },
     "execution_count": 9,
     "metadata": {},
     "output_type": "execute_result"
    }
   ],
   "source": [
    "[r for r in mod_RPE_PR.reactions if len(r.products)==0][0]"
   ]
  },
  {
   "cell_type": "code",
   "execution_count": 25,
   "id": "d65a04f9-9aa4-4e9e-9bfe-f4a46e07d082",
   "metadata": {},
   "outputs": [
    {
     "data": {
      "text/html": [
       "\n",
       "        <table>\n",
       "            <tr>\n",
       "                <td><strong>Reaction identifier</strong></td><td>MAR03964_PR</td>\n",
       "            </tr><tr>\n",
       "                <td><strong>Name</strong></td><td>ATP phosphohydrolase</td>\n",
       "            </tr><tr>\n",
       "                <td><strong>Memory address</strong></td>\n",
       "                <td>0x1b7dc6757b0</td>\n",
       "            </tr><tr>\n",
       "                <td><strong>Stoichiometry</strong></td>\n",
       "                <td>\n",
       "                    <p style='text-align:right'>MAM01371c_PR + MAM02040c_PR --> MAM01285c_PR + MAM02039c_PR + MAM02751c_PR</p>\n",
       "                    <p style='text-align:right'>ATP + H2O --> ADP + H+ + Pi</p>\n",
       "                </td>\n",
       "            </tr><tr>\n",
       "                <td><strong>GPR</strong></td><td></td>\n",
       "            </tr><tr>\n",
       "                <td><strong>Lower bound</strong></td><td>0.0</td>\n",
       "            </tr><tr>\n",
       "                <td><strong>Upper bound</strong></td><td>1000.0</td>\n",
       "            </tr>\n",
       "        </table>\n",
       "        "
      ],
      "text/plain": [
       "<Reaction MAR03964_PR at 0x1b7dc6757b0>"
      ]
     },
     "execution_count": 25,
     "metadata": {},
     "output_type": "execute_result"
    }
   ],
   "source": [
    "mod_RPE_PR.reactions.get_by_id('MAR03964_PR')"
   ]
  },
  {
   "cell_type": "code",
   "execution_count": 26,
   "id": "728d0f73-410a-4f5b-967d-32765364d982",
   "metadata": {},
   "outputs": [
    {
     "data": {
      "text/html": [
       "\n",
       "        <table>\n",
       "            <tr>\n",
       "                <td><strong>Reaction identifier</strong></td><td>MAR09034_eRPE-PR</td>\n",
       "            </tr><tr>\n",
       "                <td><strong>Name</strong></td><td></td>\n",
       "            </tr><tr>\n",
       "                <td><strong>Memory address</strong></td>\n",
       "                <td>0x1b7e06e2f80</td>\n",
       "            </tr><tr>\n",
       "                <td><strong>Stoichiometry</strong></td>\n",
       "                <td>\n",
       "                    <p style='text-align:right'>MAM01965e_RPE-PR --></p>\n",
       "                    <p style='text-align:right'>glucose --></p>\n",
       "                </td>\n",
       "            </tr><tr>\n",
       "                <td><strong>GPR</strong></td><td></td>\n",
       "            </tr><tr>\n",
       "                <td><strong>Lower bound</strong></td><td>0</td>\n",
       "            </tr><tr>\n",
       "                <td><strong>Upper bound</strong></td><td>1000</td>\n",
       "            </tr>\n",
       "        </table>\n",
       "        "
      ],
      "text/plain": [
       "<Reaction MAR09034_eRPE-PR at 0x1b7e06e2f80>"
      ]
     },
     "execution_count": 26,
     "metadata": {},
     "output_type": "execute_result"
    }
   ],
   "source": [
    "mod_RPE_PR.reactions.get_by_id('MAR09034_eRPE-PR')"
   ]
  },
  {
   "cell_type": "code",
   "execution_count": 22,
   "id": "44473869-5c12-4868-8950-061d5c6ec948",
   "metadata": {},
   "outputs": [
    {
     "data": {
      "text/html": [
       "\n",
       "        <table>\n",
       "            <tr>\n",
       "                <td><strong>Reaction identifier</strong></td><td>MAR09034_RPE</td>\n",
       "            </tr><tr>\n",
       "                <td><strong>Name</strong></td><td></td>\n",
       "            </tr><tr>\n",
       "                <td><strong>Memory address</strong></td>\n",
       "                <td>0x1b7d74600d0</td>\n",
       "            </tr><tr>\n",
       "                <td><strong>Stoichiometry</strong></td>\n",
       "                <td>\n",
       "                    <p style='text-align:right'>MAM01965e_RPE <=></p>\n",
       "                    <p style='text-align:right'>glucose <=></p>\n",
       "                </td>\n",
       "            </tr><tr>\n",
       "                <td><strong>GPR</strong></td><td></td>\n",
       "            </tr><tr>\n",
       "                <td><strong>Lower bound</strong></td><td>-40.0</td>\n",
       "            </tr><tr>\n",
       "                <td><strong>Upper bound</strong></td><td>1000</td>\n",
       "            </tr>\n",
       "        </table>\n",
       "        "
      ],
      "text/plain": [
       "<Reaction MAR09034_RPE at 0x1b7d74600d0>"
      ]
     },
     "execution_count": 22,
     "metadata": {},
     "output_type": "execute_result"
    }
   ],
   "source": [
    "mod_RPE_PR.reactions.get_by_id('MAR09034_RPE')"
   ]
  },
  {
   "cell_type": "code",
   "execution_count": 23,
   "id": "ca7ae099-eb6f-4d08-9db9-26d8247a6698",
   "metadata": {},
   "outputs": [
    {
     "data": {
      "text/html": [
       "\n",
       "        <table>\n",
       "            <tr>\n",
       "                <td><strong>Reaction identifier</strong></td><td>MAR09034_eRPE-PR</td>\n",
       "            </tr><tr>\n",
       "                <td><strong>Name</strong></td><td></td>\n",
       "            </tr><tr>\n",
       "                <td><strong>Memory address</strong></td>\n",
       "                <td>0x1b7e06e2f80</td>\n",
       "            </tr><tr>\n",
       "                <td><strong>Stoichiometry</strong></td>\n",
       "                <td>\n",
       "                    <p style='text-align:right'>MAM01965e_RPE-PR --></p>\n",
       "                    <p style='text-align:right'>glucose --></p>\n",
       "                </td>\n",
       "            </tr><tr>\n",
       "                <td><strong>GPR</strong></td><td></td>\n",
       "            </tr><tr>\n",
       "                <td><strong>Lower bound</strong></td><td>0</td>\n",
       "            </tr><tr>\n",
       "                <td><strong>Upper bound</strong></td><td>1000</td>\n",
       "            </tr>\n",
       "        </table>\n",
       "        "
      ],
      "text/plain": [
       "<Reaction MAR09034_eRPE-PR at 0x1b7e06e2f80>"
      ]
     },
     "execution_count": 23,
     "metadata": {},
     "output_type": "execute_result"
    }
   ],
   "source": [
    "mod_RPE_PR.reactions.get_by_id('MAR09034_eRPE-PR')"
   ]
  },
  {
   "cell_type": "code",
   "execution_count": 29,
   "id": "78ee811c-3951-40d6-aa29-03841f5191ef",
   "metadata": {},
   "outputs": [
    {
     "name": "stdout",
     "output_type": "stream",
     "text": [
      "<Solution 83.215 at 0x1b7e4bcdde0>\n"
     ]
    },
    {
     "data": {
      "text/html": [
       "<h3>Objective</h3><p>1.0 MAR03964_PR = 83.21512820512817</p><h4>Uptake</h4><table border=\"1\" class=\"dataframe\">\n",
       "  <thead>\n",
       "    <tr style=\"text-align: right;\">\n",
       "      <th>Metabolite</th>\n",
       "      <th>Reaction</th>\n",
       "      <th>Flux</th>\n",
       "      <th>C-Number</th>\n",
       "      <th>C-Flux</th>\n",
       "    </tr>\n",
       "  </thead>\n",
       "  <tbody>\n",
       "    <tr>\n",
       "      <td>MAM01965e_RPE</td>\n",
       "      <td>MAR09034_RPE</td>\n",
       "      <td>40</td>\n",
       "      <td>6</td>\n",
       "      <td>83.05%</td>\n",
       "    </tr>\n",
       "    <tr>\n",
       "      <td>MAM02184e_RPE</td>\n",
       "      <td>MAR09039_RPE</td>\n",
       "      <td>0.5077</td>\n",
       "      <td>6</td>\n",
       "      <td>1.05%</td>\n",
       "    </tr>\n",
       "    <tr>\n",
       "      <td>MAM02360e_RPE</td>\n",
       "      <td>MAR09040_RPE</td>\n",
       "      <td>0.6538</td>\n",
       "      <td>6</td>\n",
       "      <td>1.36%</td>\n",
       "    </tr>\n",
       "    <tr>\n",
       "      <td>MAM03135e_RPE</td>\n",
       "      <td>MAR09046_RPE</td>\n",
       "      <td>1.179</td>\n",
       "      <td>5</td>\n",
       "      <td>2.04%</td>\n",
       "    </tr>\n",
       "    <tr>\n",
       "      <td>MAM01975e_RPE</td>\n",
       "      <td>MAR09063_RPE</td>\n",
       "      <td>2.651</td>\n",
       "      <td>5</td>\n",
       "      <td>4.59%</td>\n",
       "    </tr>\n",
       "    <tr>\n",
       "      <td>MAM01365e_RPE</td>\n",
       "      <td>MAR09066_RPE</td>\n",
       "      <td>0.2615</td>\n",
       "      <td>6</td>\n",
       "      <td>0.54%</td>\n",
       "    </tr>\n",
       "    <tr>\n",
       "      <td>MAM01986e_RPE</td>\n",
       "      <td>MAR09067_RPE</td>\n",
       "      <td>0.7031</td>\n",
       "      <td>2</td>\n",
       "      <td>0.49%</td>\n",
       "    </tr>\n",
       "    <tr>\n",
       "      <td>MAM01974e_RPE</td>\n",
       "      <td>MAR09071_RPE</td>\n",
       "      <td>1.338</td>\n",
       "      <td>5</td>\n",
       "      <td>2.32%</td>\n",
       "    </tr>\n",
       "    <tr>\n",
       "      <td>MAM02658e_RPE</td>\n",
       "      <td>MAR09087_RPE</td>\n",
       "      <td>0.9333</td>\n",
       "      <td>5</td>\n",
       "      <td>1.61%</td>\n",
       "    </tr>\n",
       "    <tr>\n",
       "      <td>MAM01587e_RPE</td>\n",
       "      <td>MAR09286_RPE</td>\n",
       "      <td>0.6564</td>\n",
       "      <td>6</td>\n",
       "      <td>1.36%</td>\n",
       "    </tr>\n",
       "    <tr>\n",
       "      <td>MAM02026e_RPE</td>\n",
       "      <td>MAR09351_RPE</td>\n",
       "      <td>0.4585</td>\n",
       "      <td>10</td>\n",
       "      <td>1.59%</td>\n",
       "    </tr>\n",
       "  </tbody>\n",
       "</table><h4>Secretion</h4><table border=\"1\" class=\"dataframe\">\n",
       "  <thead>\n",
       "    <tr style=\"text-align: right;\">\n",
       "      <th>Metabolite</th>\n",
       "      <th>Reaction</th>\n",
       "      <th>Flux</th>\n",
       "      <th>C-Number</th>\n",
       "      <th>C-Flux</th>\n",
       "    </tr>\n",
       "  </thead>\n",
       "  <tbody>\n",
       "    <tr>\n",
       "      <td>MAM00824e_RPE-PR</td>\n",
       "      <td>MAR09011_eRPE-PR</td>\n",
       "      <td>-1.179</td>\n",
       "      <td>5</td>\n",
       "      <td>2.04%</td>\n",
       "    </tr>\n",
       "    <tr>\n",
       "      <td>MAM01596e_RPE-PR</td>\n",
       "      <td>MAR09058_eRPE-PR</td>\n",
       "      <td>-0.2819</td>\n",
       "      <td>1</td>\n",
       "      <td>0.10%</td>\n",
       "    </tr>\n",
       "    <tr>\n",
       "      <td>MAM01628e_RPE</td>\n",
       "      <td>MAR09065_RPE</td>\n",
       "      <td>-0.4585</td>\n",
       "      <td>3</td>\n",
       "      <td>0.48%</td>\n",
       "    </tr>\n",
       "    <tr>\n",
       "      <td>MAM02770e_RPE</td>\n",
       "      <td>MAR09068_RPE</td>\n",
       "      <td>-6.299</td>\n",
       "      <td>5</td>\n",
       "      <td>10.90%</td>\n",
       "    </tr>\n",
       "    <tr>\n",
       "      <td>MAM02046e_RPE-PR</td>\n",
       "      <td>MAR09078_eRPE-PR</td>\n",
       "      <td>-3.431</td>\n",
       "      <td>1</td>\n",
       "      <td>1.19%</td>\n",
       "    </tr>\n",
       "    <tr>\n",
       "      <td>MAM02039e_RPE-PR</td>\n",
       "      <td>MAR09079_eRPE-PR</td>\n",
       "      <td>-77.04</td>\n",
       "      <td>0</td>\n",
       "      <td>0.00%</td>\n",
       "    </tr>\n",
       "    <tr>\n",
       "      <td>MAM02819e_RPE-PR</td>\n",
       "      <td>MAR09133_eRPE-PR</td>\n",
       "      <td>-2.916</td>\n",
       "      <td>3</td>\n",
       "      <td>3.03%</td>\n",
       "    </tr>\n",
       "    <tr>\n",
       "      <td>MAM02403e_RPE-PR</td>\n",
       "      <td>MAR09135_eRPE-PR</td>\n",
       "      <td>-75.19</td>\n",
       "      <td>3</td>\n",
       "      <td>78.06%</td>\n",
       "    </tr>\n",
       "    <tr>\n",
       "      <td>MAM03121e_RPE</td>\n",
       "      <td>MAR09438_RPE</td>\n",
       "      <td>-0.1141</td>\n",
       "      <td>1</td>\n",
       "      <td>0.04%</td>\n",
       "    </tr>\n",
       "    <tr>\n",
       "      <td>MAM03121e_RPE-PR</td>\n",
       "      <td>MAR09438_eRPE-PR</td>\n",
       "      <td>-0.1474</td>\n",
       "      <td>1</td>\n",
       "      <td>0.05%</td>\n",
       "    </tr>\n",
       "    <tr>\n",
       "      <td>MAM02579e_RPE</td>\n",
       "      <td>MAR11420_RPE</td>\n",
       "      <td>-0.2282</td>\n",
       "      <td>0</td>\n",
       "      <td>0.00%</td>\n",
       "    </tr>\n",
       "    <tr>\n",
       "      <td>MAM02579e_RPE-PR</td>\n",
       "      <td>MAR11420_eRPE-PR</td>\n",
       "      <td>-5.303</td>\n",
       "      <td>0</td>\n",
       "      <td>0.00%</td>\n",
       "    </tr>\n",
       "    <tr>\n",
       "      <td>MAM00664e_RPE</td>\n",
       "      <td>MAR11451_RPE</td>\n",
       "      <td>-0.5077</td>\n",
       "      <td>7</td>\n",
       "      <td>1.23%</td>\n",
       "    </tr>\n",
       "    <tr>\n",
       "      <td>MAM02190e_RPE</td>\n",
       "      <td>MAR11457_RPE</td>\n",
       "      <td>-0.6538</td>\n",
       "      <td>7</td>\n",
       "      <td>1.58%</td>\n",
       "    </tr>\n",
       "    <tr>\n",
       "      <td>MAM03212e_RPE-PR</td>\n",
       "      <td>MAR11494_eRPE-PR</td>\n",
       "      <td>-0.6318</td>\n",
       "      <td>6</td>\n",
       "      <td>1.31%</td>\n",
       "    </tr>\n",
       "  </tbody>\n",
       "</table>"
      ],
      "text/plain": [
       "<cobra.summary.model_summary.ModelSummary at 0x1b7dccb8610>"
      ]
     },
     "execution_count": 29,
     "metadata": {},
     "output_type": "execute_result"
    }
   ],
   "source": [
    "# OBJECTIVE \n",
    "# set maximizing the ATP demand in PR as objective\n",
    "mod_RPE_PR.objective = mod_RPE_PR.reactions.get_by_id('MAR03964_PR').flux_expression\n",
    "mod_RPE_PR.objective.expression\n",
    "solution = mod_RPE_PR.optimize()\n",
    "print(solution)\n",
    "mod_RPE_PR.summary()"
   ]
  },
  {
   "cell_type": "code",
   "execution_count": null,
   "id": "2babb7d0-f927-4b44-b605-3ae69b3b2f96",
   "metadata": {},
   "outputs": [],
   "source": [
    "# with mod_RPE_PR:\n",
    "#    add_loopless(mod_RPE_PR)\n",
    "#    try: solution = mod_RPE_PR.optimize()\n",
    "#    except: print('model is infeasible')\n",
    "mod_RPE_PR.summary()"
   ]
  },
  {
   "cell_type": "code",
   "execution_count": null,
   "id": "c2d096d9-a085-4864-b08d-8278d4033756",
   "metadata": {},
   "outputs": [],
   "source": [
    "# FVA\n",
    "#from cobra.flux_analysis import flux_variability_analysis\n",
    "#flux_variability_analysis(mod_RPE_PR,loopless=True)"
   ]
  },
  {
   "cell_type": "code",
   "execution_count": null,
   "id": "54d00424-6ea8-4313-ac8b-6df0f1b79280",
   "metadata": {},
   "outputs": [],
   "source": [
    "# list all exchange and demand reactions matching Human1 and VMH IDs\n",
    "def get_vmh_id(reaction):\n",
    "    if 'vmhreaction' in reaction.annotation.keys(): vmh_id = reaction.annotation['vmhreaction']\n",
    "    else: vmh_id = ''\n",
    "    return vmh_id\n",
    "df_EX_rxns = pd.DataFrame([[r.id,get_vmh_id(r),r.name,r.reaction,r.build_reaction_string(use_metabolite_names = True)] \\\n",
    "              for r in mod.reactions if len(r.products) == 0],columns=['id','vmh id','name','reaction','reaction (names)'])\n",
    "df_EX_rxns"
   ]
  },
  {
   "cell_type": "code",
   "execution_count": null,
   "id": "2d7ad835-e518-420a-8ee9-3eabbc30bf3f",
   "metadata": {},
   "outputs": [],
   "source": [
    "# ATP metabolites\n",
    "ATP_mets = [[met.id,met.name] for met in mod_RPE_PR.metabolites if met.name=='ATP']\n",
    "pd.DataFrame(ATP_mets,columns=['ID','name'])\n",
    "\n",
    "# ATP reactions\n",
    "ATP_rxns = [[r.id,get_vmh_id(r),r.name,r.subsystem,r.reaction,r.build_reaction_string(use_metabolite_names = True)] \\\n",
    "            for r in mod_RPE_PR.reactions if 'MAM01371' in r.reaction]\n",
    "\n",
    "pd.DataFrame(ATP_rxns,columns=['id','vmh id', 'name', 'subsystem', 'reaction (id)', 'reaction (name)'])"
   ]
  },
  {
   "cell_type": "code",
   "execution_count": null,
   "id": "1baf6e4c-a8ef-471e-8e03-b7cc80794ab5",
   "metadata": {},
   "outputs": [],
   "source": [
    "# list all exchange and demand reactions\n",
    "df_EX_rxns_human1 = pd.DataFrame([[r.id,get_vmh_id(r),r.name,r.reaction,r.build_reaction_string(use_metabolite_names = True)] \\\n",
    "              for r in mod.reactions if len(r.products)==0],columns=['id','vmh id','name','reaction','reaction (names)'])\n",
    "df_EX_rxns.to_clipboard(excel=True, sep=None)\n",
    "df_EX_rxns"
   ]
  },
  {
   "cell_type": "code",
   "execution_count": null,
   "id": "c9d2f846-4f69-42bb-9c5c-4d1cd9333af5",
   "metadata": {},
   "outputs": [],
   "source": [
    "# match VMH_IDs from bounds file to Human1 IDs to create 'R3D301_EX_rxns_RPE-PR.xlsx'\n",
    "\n",
    "# import excel file with info on bounds\n",
    "bounds = pd.read_excel(folder / 'rxn_bounds' / 'files PL' / 'R3D301_EX_rxns.xlsx')\n",
    "\n",
    "# vmh_id lookup table + look up RPE rxn\n",
    "df_vmh_id = pd.DataFrame([[get_vmh_id(r),r.id,r.id+'_RPE'] for r in mod.reactions if 'EX_' in get_vmh_id(r)],columns=['vmh_id','human1_id','id'])\n",
    "merged_df = df_vmh_id.merge(bounds, how = 'right', on = ['vmh_id'])\n",
    "merged_df.to_clipboard(excel=True, sep=None)\n",
    "merged_df"
   ]
  },
  {
   "cell_type": "code",
   "execution_count": null,
   "id": "7e42afc3-f9b1-4f5e-a0d7-f18087903fa9",
   "metadata": {},
   "outputs": [],
   "source": [
    "# biomass reaction\n",
    "mod.reactions.get_by_id('MAR04413') \n",
    "\n",
    "pd.DataFrame([[r.id,r.name,r.reaction,r.reaction,r.build_reaction_string(use_metabolite_names = True)]\\\n",
    "              for r in mod_RPE_PR.reactions if 'biomass' in r.name])"
   ]
  },
  {
   "cell_type": "code",
   "execution_count": null,
   "id": "71fc53e0-f9e7-4956-94ef-0c8b4cbc8c0f",
   "metadata": {},
   "outputs": [],
   "source": [
    "mod.reactions.get_by_id('MAR13082') "
   ]
  }
 ],
 "metadata": {
  "kernelspec": {
   "display_name": "Python 3 (ipykernel)",
   "language": "python",
   "name": "python3"
  },
  "language_info": {
   "codemirror_mode": {
    "name": "ipython",
    "version": 3
   },
   "file_extension": ".py",
   "mimetype": "text/x-python",
   "name": "python",
   "nbconvert_exporter": "python",
   "pygments_lexer": "ipython3",
   "version": "3.10.9"
  }
 },
 "nbformat": 4,
 "nbformat_minor": 5
}
