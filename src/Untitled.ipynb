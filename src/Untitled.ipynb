{
 "cells": [
  {
   "cell_type": "code",
   "execution_count": 1,
   "id": "0ffd8059-73e4-4dde-aac4-21a96af69be5",
   "metadata": {},
   "outputs": [
    {
     "name": "stdout",
     "output_type": "stream",
     "text": [
      "Set parameter Username\n",
      "Academic license - for non-commercial use only - expires 2024-02-03\n"
     ]
    },
    {
     "data": {
      "text/plain": [
       "{'c': 'Cytosol',\n",
       " 'r': 'Endoplasmic reticulum',\n",
       " 'e': 'Extracellular',\n",
       " 'm': 'Mitochondria',\n",
       " 'x': 'Peroxisome',\n",
       " 'g': 'Golgi apparatus',\n",
       " 'l': 'Lysosome',\n",
       " 'n': 'Nucleus',\n",
       " 'i': 'Inner mitochondria'}"
      ]
     },
     "execution_count": 1,
     "metadata": {},
     "output_type": "execute_result"
    }
   ],
   "source": [
    "import pytest\n",
    "import os\n",
    "from pathlib import Path\n",
    "import sys\n",
    "os.chdir('C:/Users/prins/GitHub/Human1_RPE-PR') \n",
    "sys.path.insert(0,'.')\n",
    "os.chdir('.') \n",
    "from src.modify_model import add_all_EX_rxns\n",
    "from cobra.io import read_sbml_model\n",
    "\n",
    "\n",
    "model = read_sbml_model(Path().cwd() / \"tests/data/model_06_MeanExpression_RPE__VoigtEtAl2019_.xml\")\n",
    "model.compartments"
   ]
  },
  {
   "cell_type": "code",
   "execution_count": 2,
   "id": "0e314303-cefc-4e1b-9869-192c58f63c1b",
   "metadata": {},
   "outputs": [],
   "source": [
    "# set cwd and solver\n",
    "import os\n",
    "import cobra\n",
    "cobra.Configuration().solver = \"gurobi\"\n",
    "os.chdir('C:/Users/prins/GitHub/Human1_RPE-PR') \n",
    "\n",
    "# load model\n",
    "from pathlib import Path\n",
    "from cobra.io import read_sbml_model\n",
    "mitocore = read_sbml_model(Path().cwd() /\"models\"/  \"mitocore_12918_2017_500_MOESM4_ESM.xml\")\n",
    "mod = read_sbml_model(Path().cwd() / 'cs_mods' / 'Human-GEM.xml' )"
   ]
  },
  {
   "cell_type": "code",
   "execution_count": 4,
   "id": "d2fefd91-1538-4359-aaa9-2e8736628f55",
   "metadata": {},
   "outputs": [
    {
     "data": {
      "text/html": [
       "\n",
       "        <table>\n",
       "            <tr>\n",
       "                <td><strong>Name</strong></td>\n",
       "                <td>HumanGEM</td>\n",
       "            </tr><tr>\n",
       "                <td><strong>Memory address</strong></td>\n",
       "                <td>2ce97b292a0</td>\n",
       "            </tr><tr>\n",
       "                <td><strong>Number of metabolites</strong></td>\n",
       "                <td>4496</td>\n",
       "            </tr><tr>\n",
       "                <td><strong>Number of reactions</strong></td>\n",
       "                <td>6039</td>\n",
       "            </tr><tr>\n",
       "                <td><strong>Number of genes</strong></td>\n",
       "                <td>2041</td>\n",
       "            </tr><tr>\n",
       "                <td><strong>Number of groups</strong></td>\n",
       "                <td>142</td>\n",
       "            </tr><tr>\n",
       "                <td><strong>Objective expression</strong></td>\n",
       "                <td>1.0*MAR13082 - 1.0*MAR13082_reverse_11d67</td>\n",
       "            </tr><tr>\n",
       "                <td><strong>Compartments</strong></td>\n",
       "                <td>Cytosol, Endoplasmic reticulum, Extracellular, Mitochondria, Peroxisome, Golgi apparatus, Lysosome, Nucleus, Inner mitochondria</td>\n",
       "            </tr>\n",
       "          </table>"
      ],
      "text/plain": [
       "<Model HumanGEM at 0x2ce97b292a0>"
      ]
     },
     "execution_count": 4,
     "metadata": {},
     "output_type": "execute_result"
    }
   ],
   "source": [
    "model"
   ]
  },
  {
   "cell_type": "code",
   "execution_count": 5,
   "id": "302d8d92-f122-4a28-8c7b-2ec026731e82",
   "metadata": {},
   "outputs": [],
   "source": [
    "        # open all reactions\n",
    "        for r in model.reactions:\n",
    "            r.bounds=(-1000,1000)\n",
    "        # close PR_EX reactions\n",
    "        model = close_PR_EX(model)\n",
    "        add_id_suffix(model,'_PR')\n",
    "        EX_PR_bounds_zero = set([r.bounds for r in model.reactions if '_PR' in r.id if len(r.products) == 0]) == {(0,0)}\n",
    "        EX_PR_bounds_nonexistent = set([r.bounds for r in model.reactions if '_PR' in r.id if len(r.products) == 0]) == set()"
   ]
  },
  {
   "cell_type": "code",
   "execution_count": 6,
   "id": "d6400442-e5a9-4341-a614-898081a54409",
   "metadata": {},
   "outputs": [
    {
     "data": {
      "text/plain": [
       "{(-1000, 1000)}"
      ]
     },
     "execution_count": 6,
     "metadata": {},
     "output_type": "execute_result"
    }
   ],
   "source": [
    "set([r.bounds for r in model.reactions if '_PR' in r.id if len(r.products) == 0])"
   ]
  },
  {
   "cell_type": "code",
   "execution_count": 7,
   "id": "eadbfea1-ffcb-456b-8c19-07e2dd3f9bc1",
   "metadata": {},
   "outputs": [
    {
     "data": {
      "text/plain": [
       "{(-1000, 1000)}"
      ]
     },
     "execution_count": 7,
     "metadata": {},
     "output_type": "execute_result"
    }
   ],
   "source": [
    "set([r.bounds for r in model.reactions if '_PR' in r.id if len(r.products) == 0])"
   ]
  },
  {
   "cell_type": "code",
   "execution_count": 3,
   "id": "60ac6db1-adbc-4604-b846-4c03e87a7fe4",
   "metadata": {},
   "outputs": [],
   "source": [
    "import pytest\n",
    "import os\n",
    "from pathlib import Path\n",
    "import sys\n",
    "sys.path.insert(0,'.')\n",
    "os.chdir('.') \n",
    "from src.modify_model import add_all_EX_rxns, remove_compartment, fix_compartment_dict, add_id_suffix, close_PR_EX, close_EX\n",
    "from cobra.io import read_sbml_model"
   ]
  },
  {
   "cell_type": "code",
   "execution_count": 26,
   "id": "8e19aeda-826f-4a2a-a46b-2e810f49732c",
   "metadata": {},
   "outputs": [
    {
     "data": {
      "text/plain": [
       "True"
      ]
     },
     "execution_count": 26,
     "metadata": {},
     "output_type": "execute_result"
    }
   ],
   "source": [
    "    # open all reactions\n",
    "    for r in model.reactions:\n",
    "        r.bounds=(-1000,1000)\n",
    "    # close PR_EX reactions\n",
    "    model = close_PR_EX(model)\n",
    "    set([r.bounds for r in model.reactions if '_PR' in r.id if len(r.products) == 0]) == {(0, 0)}"
   ]
  },
  {
   "cell_type": "code",
   "execution_count": 25,
   "id": "ba49855d-def1-4af4-870a-9c358c000dd2",
   "metadata": {},
   "outputs": [
    {
     "data": {
      "text/plain": [
       "{(0, 0)}"
      ]
     },
     "execution_count": 25,
     "metadata": {},
     "output_type": "execute_result"
    }
   ],
   "source": [
    "set([r.bounds for r in model.reactions if '_PR' in r.id if len(r.products) == 0])"
   ]
  },
  {
   "cell_type": "code",
   "execution_count": 29,
   "id": "61a0c8c3-5673-4081-9127-45b5915383d4",
   "metadata": {},
   "outputs": [],
   "source": [
    "mod = read_sbml_model(Path().cwd() / 'cs_mods' / 'Human-GEM.xml' )"
   ]
  },
  {
   "cell_type": "code",
   "execution_count": 30,
   "id": "d7a16a00-ff61-43bc-85f8-72ef40133b5e",
   "metadata": {},
   "outputs": [
    {
     "data": {
      "text/plain": [
       "{(0, 0)}"
      ]
     },
     "execution_count": 30,
     "metadata": {},
     "output_type": "execute_result"
    }
   ],
   "source": [
    "\n",
    "        # open all reactions\n",
    "        for r in mod.reactions:\n",
    "            r.bounds=(-1000,1000)\n",
    "        # close PR_EX reactions\n",
    "        mod = close_PR_EX(mod)\n",
    "        set([r.bounds for r in model.reactions if '_PR' in r.id if len(r.products) == 0]) "
   ]
  },
  {
   "cell_type": "code",
   "execution_count": 31,
   "id": "f27563ee-a95a-4e2c-8adf-619c3f40b2c2",
   "metadata": {},
   "outputs": [
    {
     "data": {
      "text/html": [
       "\n",
       "        <table>\n",
       "            <tr>\n",
       "                <td><strong>Name</strong></td>\n",
       "                <td>HumanGEM</td>\n",
       "            </tr><tr>\n",
       "                <td><strong>Memory address</strong></td>\n",
       "                <td>1f0a9206d10</td>\n",
       "            </tr><tr>\n",
       "                <td><strong>Number of metabolites</strong></td>\n",
       "                <td>8369</td>\n",
       "            </tr><tr>\n",
       "                <td><strong>Number of reactions</strong></td>\n",
       "                <td>13070</td>\n",
       "            </tr><tr>\n",
       "                <td><strong>Number of genes</strong></td>\n",
       "                <td>3067</td>\n",
       "            </tr><tr>\n",
       "                <td><strong>Number of groups</strong></td>\n",
       "                <td>142</td>\n",
       "            </tr><tr>\n",
       "                <td><strong>Objective expression</strong></td>\n",
       "                <td>1.0*MAR13082 - 1.0*MAR13082_reverse_11d67</td>\n",
       "            </tr><tr>\n",
       "                <td><strong>Compartments</strong></td>\n",
       "                <td>Cytosol, Extracellular, Lysosome, Endoplasmic reticulum, Mitochondria, Peroxisome, Golgi apparatus, Nucleus, Inner mitochondria</td>\n",
       "            </tr>\n",
       "          </table>"
      ],
      "text/plain": [
       "<Model HumanGEM at 0x1f0a9206d10>"
      ]
     },
     "execution_count": 31,
     "metadata": {},
     "output_type": "execute_result"
    }
   ],
   "source": [
    "mod"
   ]
  },
  {
   "cell_type": "code",
   "execution_count": 35,
   "id": "932af0fe-58e5-475f-b9f2-c14c3aeed523",
   "metadata": {},
   "outputs": [
    {
     "data": {
      "text/plain": [
       "set()"
      ]
     },
     "execution_count": 35,
     "metadata": {},
     "output_type": "execute_result"
    }
   ],
   "source": [
    "set([r.bounds for r in mod.reactions  if '_PR' in r.id if len(r.products) == 0]) "
   ]
  },
  {
   "cell_type": "code",
   "execution_count": 37,
   "id": "879a24b8-bf75-4859-b57c-8536478d390d",
   "metadata": {},
   "outputs": [
    {
     "data": {
      "text/plain": [
       "set()"
      ]
     },
     "execution_count": 37,
     "metadata": {},
     "output_type": "execute_result"
    }
   ],
   "source": [
    "\n",
    "        # open all reactions\n",
    "        for r in mod.reactions:\n",
    "            r.bounds=(-1000,1000)\n",
    "        # close PR_EX reactions\n",
    "        mod = close_PR_EX(mod)\n",
    "        set([r.bounds for r in mod.reactions if '_PR' in r.id if len(r.products) == 0]) "
   ]
  },
  {
   "cell_type": "code",
   "execution_count": 41,
   "id": "d844f459-b56b-40f5-ae31-f4d2cca49595",
   "metadata": {},
   "outputs": [
    {
     "data": {
      "text/plain": [
       "[False, False]"
      ]
     },
     "execution_count": 41,
     "metadata": {},
     "output_type": "execute_result"
    }
   ],
   "source": [
    "[set([r.bounds for r in mod.reactions if '_PR' in r.id if len(r.products) == 0]) == {(0,0)}, set([r.bounds for r in mod.reactions if '_PR' in r.id if len(r.products) == 0]) == {()}] "
   ]
  },
  {
   "cell_type": "code",
   "execution_count": 50,
   "id": "40bfd2d4-db55-4245-90da-5bc19498b8d4",
   "metadata": {},
   "outputs": [],
   "source": [
    "EX_PR_bounds_zero = set([r.bounds for r in mod.reactions if '_PR' in r.id if len(r.products) == 0]) == {(0,0)}\n",
    "EX_PR_bounds_nonexistent = set([r.bounds for r in mod.reactions if '_PR' in r.id if len(r.products) == 0]) == set()"
   ]
  },
  {
   "cell_type": "code",
   "execution_count": 53,
   "id": "f8f11009-a00b-427e-91ec-b9015adb84a0",
   "metadata": {},
   "outputs": [
    {
     "data": {
      "text/plain": [
       "True"
      ]
     },
     "execution_count": 53,
     "metadata": {},
     "output_type": "execute_result"
    }
   ],
   "source": [
    "EX_PR_bounds_zero or EX_PR_bounds_nonexistent == True"
   ]
  },
  {
   "cell_type": "code",
   "execution_count": 52,
   "id": "cd312b0a-931f-457f-b0de-8a8d4060386d",
   "metadata": {},
   "outputs": [
    {
     "data": {
      "text/plain": [
       "True"
      ]
     },
     "execution_count": 52,
     "metadata": {},
     "output_type": "execute_result"
    }
   ],
   "source": [
    "EX_PR_bounds_nonexistent"
   ]
  },
  {
   "cell_type": "code",
   "execution_count": 46,
   "id": "e8834ea4-b767-47e0-ab06-fd5ed08af432",
   "metadata": {},
   "outputs": [],
   "source": [
    "bool2 = set([r.bounds for r in mod.reactions if len(r.products) == 0]) == set()"
   ]
  },
  {
   "cell_type": "code",
   "execution_count": 48,
   "id": "359779a7-5b40-4344-9e54-cf0c8550134b",
   "metadata": {},
   "outputs": [
    {
     "data": {
      "text/plain": [
       "{(-1000, 1000)}"
      ]
     },
     "execution_count": 48,
     "metadata": {},
     "output_type": "execute_result"
    }
   ],
   "source": [
    "set([r.bounds for r in mod.reactions if len(r.products) == 0])"
   ]
  },
  {
   "cell_type": "code",
   "execution_count": null,
   "id": "6c8dfcf0-b175-43df-8bd1-b8ae779eaa57",
   "metadata": {},
   "outputs": [],
   "source": []
  }
 ],
 "metadata": {
  "kernelspec": {
   "display_name": "Python 3 (ipykernel)",
   "language": "python",
   "name": "python3"
  },
  "language_info": {
   "codemirror_mode": {
    "name": "ipython",
    "version": 3
   },
   "file_extension": ".py",
   "mimetype": "text/x-python",
   "name": "python",
   "nbconvert_exporter": "python",
   "pygments_lexer": "ipython3",
   "version": "3.10.9"
  }
 },
 "nbformat": 4,
 "nbformat_minor": 5
}
